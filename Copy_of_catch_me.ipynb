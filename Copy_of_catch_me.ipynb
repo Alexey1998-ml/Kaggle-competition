{
  "nbformat": 4,
  "nbformat_minor": 0,
  "metadata": {
    "accelerator": "GPU",
    "colab": {
      "name": "Copy of catch_me.ipynb",
      "provenance": [],
      "collapsed_sections": [],
      "include_colab_link": true
    },
    "kernelspec": {
      "display_name": "Python 3",
      "language": "python",
      "name": "python3"
    },
    "language_info": {
      "codemirror_mode": {
        "name": "ipython",
        "version": 3
      },
      "file_extension": ".py",
      "mimetype": "text/x-python",
      "name": "python",
      "nbconvert_exporter": "python",
      "pygments_lexer": "ipython3",
      "version": "3.7.4"
    }
  },
  "cells": [
    {
      "cell_type": "markdown",
      "metadata": {
        "id": "view-in-github",
        "colab_type": "text"
      },
      "source": [
        "<a href=\"https://colab.research.google.com/github/Alexey1998-ml/example/blob/master/Copy_of_catch_me.ipynb\" target=\"_parent\"><img src=\"https://colab.research.google.com/assets/colab-badge.svg\" alt=\"Open In Colab\"/></a>"
      ]
    },
    {
      "cell_type": "code",
      "metadata": {
        "colab_type": "code",
        "id": "APqRITJb9qDF",
        "outputId": "d4661f4d-3e3b-4432-ef7b-c5772fe92e69",
        "colab": {
          "base_uri": "https://localhost:8080/",
          "height": 124
        }
      },
      "source": [
        "from google.colab import drive\n",
        "drive.mount('/content/drive')"
      ],
      "execution_count": 1,
      "outputs": [
        {
          "output_type": "stream",
          "text": [
            "Go to this URL in a browser: https://accounts.google.com/o/oauth2/auth?client_id=947318989803-6bn6qk8qdgf4n4g3pfee6491hc0brc4i.apps.googleusercontent.com&redirect_uri=urn%3aietf%3awg%3aoauth%3a2.0%3aoob&response_type=code&scope=email%20https%3a%2f%2fwww.googleapis.com%2fauth%2fdocs.test%20https%3a%2f%2fwww.googleapis.com%2fauth%2fdrive%20https%3a%2f%2fwww.googleapis.com%2fauth%2fdrive.photos.readonly%20https%3a%2f%2fwww.googleapis.com%2fauth%2fpeopleapi.readonly\n",
            "\n",
            "Enter your authorization code:\n",
            "··········\n",
            "Mounted at /content/drive\n"
          ],
          "name": "stdout"
        }
      ]
    },
    {
      "cell_type": "code",
      "metadata": {
        "colab_type": "code",
        "id": "8HXtJ78p4Jka",
        "colab": {}
      },
      "source": [
        "import numpy as np\n",
        "import pandas as pd\n",
        "from tqdm import tqdm_notebook\n",
        "from sklearn.preprocessing import StandardScaler, MinMaxScaler, MaxAbsScaler \n",
        "from sklearn.metrics import roc_auc_score\n",
        "from sklearn.model_selection import train_test_split, cross_val_score,\\\n",
        "learning_curve, TimeSeriesSplit\n",
        "%matplotlib inline\n",
        "from matplotlib import pyplot as plt\n",
        "from sklearn.metrics import roc_auc_score\n",
        "import warnings\n",
        "warnings.filterwarnings('ignore')\n",
        "from collections import Counter\n",
        "import torch\n",
        "import torch.nn as nn\n",
        "from IPython.display import clear_output\n",
        "import re\n",
        "import pickle\n",
        "from gensim.models import FastText\n",
        "from gensim.test.utils import get_tmpfile\n",
        "from sklearn.manifold import TSNE\n",
        "from sklearn.cluster import KMeans, DBSCAN\n",
        "from sklearn.feature_extraction.text import TfidfVectorizer"
      ],
      "execution_count": 0,
      "outputs": []
    },
    {
      "cell_type": "code",
      "metadata": {
        "colab_type": "code",
        "id": "fixb8ixl5k00",
        "colab": {}
      },
      "source": [
        "colab = True\n",
        "if colab:\n",
        "    PATH_TO_TRAIN = 'drive/My Drive/catch_me_test_sessions.csv'\n",
        "    PATH_TO_TEST = 'drive/My Drive/catch_me_train_sessions.csv'\n",
        "    PATH_TO_PICKLE = 'drive/My Drive/site_dic.pkl'\n",
        "    PATH_TO_TF_IDF = 'drive/My Drive/tf_idf_embeddings.csv'\n",
        "else:\n",
        "    PATH_TO_TRAIN = 'catch_me_test_sessions.csv'\n",
        "    PATH_TO_TEST = 'catch_me_train_sessions.csv'\n",
        "    PATH_TO_PICKLE = '../site_dic.pkl'\n",
        "PREDICT_FILENAME = 'catch_me_preds.csv'\n",
        "test = pd.read_csv(PATH_TO_TRAIN)\n",
        "data = pd.read_csv(PATH_TO_TEST)\n",
        "times = ['time%s' % i for i in range(1, 11)]\n",
        "sites = ['site%s' % i for i in range(1, 11)]\n",
        "data = data.drop_duplicates(subset = sites)\n",
        "data = data.reset_index().drop(['session_id', 'index'], axis = 1)\n",
        "data['index'] = [i for i in data.index]\n",
        "data_tfidf = pd.read_csv(PATH_TO_TF_IDF)\n",
        "data_tfidf.columns = [f'tf_idf_{i}' for i in range(128)]\n",
        "data = pd.concat([data,data_tfidf], axis = 1)"
      ],
      "execution_count": 0,
      "outputs": []
    },
    {
      "cell_type": "code",
      "metadata": {
        "id": "UlXOXSQ_P4I-",
        "colab_type": "code",
        "colab": {}
      },
      "source": [
        "with open(PATH_TO_PICKLE, 'rb') as f:\n",
        "    sites_dict = pickle.load(f)"
      ],
      "execution_count": 0,
      "outputs": []
    },
    {
      "cell_type": "code",
      "metadata": {
        "id": "Nb9-tk5yP4JC",
        "colab_type": "code",
        "colab": {}
      },
      "source": [
        "sites_dict['padding'] = 0\n",
        "id_sites_dict = {sites_dict[site_name]:site_name for site_name in sites_dict}\n",
        "\n",
        "after_dot = Counter()\n",
        "for site_name in sites_dict:\n",
        "    after_dot.update({site_name.split('.')[-1]})\n",
        "\n",
        "after_dot = set(dict(after_dot.most_common(35)).keys())"
      ],
      "execution_count": 0,
      "outputs": []
    },
    {
      "cell_type": "code",
      "metadata": {
        "id": "mq7KJkjIP4JG",
        "colab_type": "code",
        "colab": {}
      },
      "source": [
        "corrected_site_name = []\n",
        "for id_site in id_sites_dict:\n",
        "    array_site_name = id_sites_dict[id_site].split('.')\n",
        "    if array_site_name[0] == 'www':\n",
        "        del array_site_name[0]\n",
        "    if array_site_name[-1] in after_dot:\n",
        "        del array_site_name[-1]\n",
        "    id_sites_dict[id_site] = '.'.join(array_site_name)"
      ],
      "execution_count": 0,
      "outputs": []
    },
    {
      "cell_type": "code",
      "metadata": {
        "id": "Ecyeyj4YP4JK",
        "colab_type": "code",
        "colab": {}
      },
      "source": [
        "data.fillna(0, inplace = True)\n",
        "test.fillna(0, inplace = True)\n",
        "data[sites] = data[sites].applymap(lambda id: id_sites_dict[id])\n",
        "test[sites] = test[sites].applymap(lambda id: id_sites_dict[id])"
      ],
      "execution_count": 0,
      "outputs": []
    },
    {
      "cell_type": "code",
      "metadata": {
        "id": "G_vR2LobV7x8",
        "colab_type": "code",
        "colab": {}
      },
      "source": [
        "model_ft = FastText.load('drive/My Drive/ft_model.model')\n",
        "clustering_model = {}"
      ],
      "execution_count": 0,
      "outputs": []
    },
    {
      "cell_type": "code",
      "metadata": {
        "id": "fPsZvJ71P4JP",
        "colab_type": "code",
        "colab": {}
      },
      "source": [
        "def roc_auc (model, data, predict = True, target = 'target', batch = None, prob = 1):\n",
        "    # data = data.sample(int(data.shape[0] * prob))\n",
        "    if not batch:\n",
        "      batch = trainer.make_batch(data, predict = predict)\n",
        "    roc_auc = roc_auc_score(data[target],\n",
        "                            model(torch.tensor(batch['cat']).float().cuda(),\n",
        "                                  torch.tensor(batch['cluster']).float().cuda()).cpu().data.numpy())\n",
        "    return roc_auc\n",
        "\n",
        "class MyAttention(nn.Module):\n",
        "    def __init__(self, hid_size):\n",
        "        \n",
        "        super(MyAttention, self).__init__()\n",
        "        self.hid_size = hid_size\n",
        "        self.relu = nn.ReLU()\n",
        "        att_weights = nn.Parameter(torch.Tensor(1, hid_size), requires_grad = True)\n",
        "        std = 1 / np.sqrt(hid_size)\n",
        "        self.att_weights = nn.init.uniform_(att_weights, -std, std)\n",
        "  \n",
        "    def forward (self, input):\n",
        "        batch_size = input.size(0)\n",
        "\n",
        "        weights = torch.bmm(input,\n",
        "                            self.att_weights            # 1, hid_size\n",
        "                            .permute(1,0)               # hid_size , 1\n",
        "                            .unsqueeze(0)               # 1, hid_size, 1\n",
        "                            .repeat(batch_size, 1,1)    # batch_size , hid_size, 1\n",
        "                            )    \n",
        "        attention = torch.softmax(self.relu(weights.squeeze()), dim = -1)\n",
        "        weights = torch.mul(input, attention.unsqueeze(-1))\n",
        "        representation = weights.sum(1)\n",
        "        return representation\n",
        "\n",
        "    "
      ],
      "execution_count": 0,
      "outputs": []
    },
    {
      "cell_type": "code",
      "metadata": {
        "colab_type": "code",
        "id": "fIk-VMGt6GyX",
        "colab": {}
      },
      "source": [
        "class Prepare:\n",
        "    def __init__(self, train, test, clustering_model, target_column : str = 'target', model_ft = model_ft, **kwargs):\n",
        "        self.train = train\n",
        "        self.test = test\n",
        "        self.target_column = target_column\n",
        "        self.target = train[target_column]\n",
        "        self.unknown_idx = -1\n",
        "        self.pad_idx = 0\n",
        "        self.test_size = 0.15\n",
        "        self.batch_size = 1024\n",
        "        self.dropout = 0.5\n",
        "        self.number_sites = 40000\n",
        "        self.clustering_mean = False\n",
        "        self.model_ft = model_ft\n",
        "        self.clustering_model = clustering_model\n",
        "        self.clustering_tf_idf = True\n",
        "        self.range_clustering = range(5, 10, 5)\n",
        "\n",
        "\n",
        "    def _get_vector(self, x):\n",
        "       return self.model_ft[x]\n",
        "\n",
        "\n",
        "    def prepare_df (self):\n",
        "        train = self.train\n",
        "        test = self.test\n",
        "        train[times] = train[times].apply(pd.to_datetime)\n",
        "        test[times] = test[times].apply(pd.to_datetime)\n",
        "        train = train.sort_values('time1')\n",
        "        train = self._create_cat_features(train)\n",
        "        test = self._create_cat_features(test)\n",
        "        if self.clustering_mean:\n",
        "          train, test = self._add_mean_embedding_column(train, test)\n",
        "        self.train = train\n",
        "        self.test = test\n",
        "        self.sites_to_id = False\n",
        "\n",
        "\n",
        "    def _create_cat_features(self, df):\n",
        "        cat = 'cat_'\n",
        "        df[f'{cat}hour'] = df['time1'].apply(lambda time: time.hour)\n",
        "        df[f'{cat}morning'] = ((df[f'{cat}hour'] >= 7) & (df[f'{cat}hour'] <= 11)).astype('int')\n",
        "        df[f'{cat}day'] = ((df[f'{cat}hour'] >= 12) & (df[f'{cat}hour'] <= 18)).astype('int')\n",
        "        df[f'{cat}evening'] = ((df[f'{cat}hour'] >= 19) & (df[f'{cat}hour'] <= 23)).astype('int')\n",
        "        df[f'{cat}day_of_week'] = df['time1'].apply(lambda t: t.weekday()).astype('int')\n",
        "        self.cat_feature_for_mean_target = [f'{cat}day_of_week', f'{cat}hour']\n",
        "        for cat_feature in self.cat_feature_for_mean_target:\n",
        "          df = pd.concat([df, pd.get_dummies(df[cat_feature], prefix = cat_feature)], axis = 1)\n",
        "          df.drop([cat_feature], axis = 1, inplace = True)\n",
        "        self.cat_columns = list(filter(lambda col: col[:4] == 'cat_', df.columns))\n",
        "        return df\n",
        "\n",
        "\n",
        "    def _add_mean_embedding_column(self, train, test):\n",
        "        self.mean_embedding_columns = [f'mean_embeding_{idx}' for idx in range(128)]\n",
        "      \n",
        "        mean_embeddings_train = np.array(list(map(self._get_vector,train[sites].values))).mean(axis = 1)\n",
        "        for idx, col in enumerate(self.mean_embedding_columns):\n",
        "          train[col] = mean_embeddings_train[:, idx]\n",
        "\n",
        "        mean_embeddings_test = np.array(list(map(self._get_vector,test[sites].values))).mean(axis = 1)\n",
        "        for idx, col in enumerate(self.mean_embedding_columns):\n",
        "          test[col] = mean_embeddings_test[:, idx]\n",
        "        return train, test\n",
        "\n",
        "\n",
        "    def _get_known_sites(self, train, number_sites = 5000):\n",
        "        counter = Counter()\n",
        "        alice_sites = Counter()\n",
        "        for site in sites:\n",
        "            for num_site in train[site]:\n",
        "                counter.update({num_site})\n",
        "        for site in sites:\n",
        "            for num_site in train[train['target'] == 1][site]:\n",
        "                alice_sites.update({num_site})\n",
        "        known_sites = [site for site, counts in dict(counter.most_common(self.number_sites)).items()]\n",
        "        known_sites += [site for site, counts in alice_sites.items()]\n",
        "        known_sites += [self.pad_idx, self.unknown_idx]\n",
        "        known_sites = set(known_sites)\n",
        "        sites_to_id = {site : inx for inx, site in enumerate(known_sites)}\n",
        "        self.id_unknown_idx = sites_to_id[self.unknown_idx]\n",
        "        self.sites_to_id = sites_to_id\n",
        "        return sites_to_id\n",
        "\n",
        "\n",
        "    def get_df_for_train(self):\n",
        "        train_df, valid_df, train_target, valid_target = train_test_split(self.train, self.target, random_state = 42,\n",
        "                                                                          shuffle = False, test_size = self.test_size)\n",
        "        if self.clustering_mean:\n",
        "          mode = 'mean'\n",
        "          columns_for_clustering = self.mean_embedding_columns + self.cat_columns\n",
        "          if mode not in list(map(lambda ext_mode: ext_mode.split('_')[0], self.clustering_model)):\n",
        "            self._make_clustering_model(train_df, columns_for_clustering, mode, DBSCAN)\n",
        "          train_df = self._add_clustering_features(train_df, columns_for_clustering, mode)\n",
        "          valid_df = self._add_clustering_features(valid_df, columns_for_clustering, mode)\n",
        "         \n",
        "        if self.clustering_tf_idf:\n",
        "          self.tf_idf_embedding = list(filter(lambda col: col[:6] == 'tf_idf', train_df.columns))\n",
        "          columns_for_clustering = self.tf_idf_embedding + self.cat_columns\n",
        "          mode = 'tfidf'\n",
        "          if mode not in list(map(lambda ext_mode: ext_mode.split('_')[0], self.clustering_model)):\n",
        "            self._make_clustering_model(train_df, columns_for_clustering, mode, DBSCAN)\n",
        "          train_df = self._add_clustering_features(train_df, columns_for_clustering, mode)\n",
        "          valid_df = self._add_clustering_features(valid_df, columns_for_clustering, mode)\n",
        "        \n",
        "        self.clustering_columns = list(filter(lambda col: col[:4] == 'clus', train_df.columns))\n",
        "\n",
        "        return train_df, valid_df, self.clustering_model\n",
        "    \n",
        "\n",
        "    def _mean_target_encoding (self, train_df, valid_df, column_name : str, alpha = 10):\n",
        "        global_mean = train_df[self.target_column].mean()\n",
        "        average = train_df[[self.target_column, column_name]].groupby(by = column_name).agg(['mean', 'count'])[self.target_column]\n",
        "        smoothly = (average['mean'] * average['count'] + alpha * train_df['target'].mean()) / (average['count'] + alpha)\n",
        "        train_df[column_name] = train_df[column_name].map(smoothly)\n",
        "        valid_df[column_name] = valid_df[column_name].map(smoothly)\n",
        "        scaler = StandardScaler().fit(train_df[column_name].values.reshape(-1,1))\n",
        "        train_df[column_name] = scaler.transform(train_df[column_name].values.reshape(-1,1))\n",
        "        valid_df[column_name] = scaler.transform(valid_df[column_name].values.reshape(-1,1))\n",
        "        return train_df, valid_df\n",
        "\n",
        "\n",
        "    def _make_clustering_model(self, train_df, columns_for_clustering, mode, cur_clustering_model):\n",
        "      if self.clustering_model is None:\n",
        "        self.clustering_model = {}\n",
        "      if clustering_model == KMeans:\n",
        "        for idx, num_clusters in enumerate(self.range_clustering):\n",
        "          self.clustering_model[f'{mode}_{idx}'] = cur_clustering_model(n_clusters = num_clusters, \n",
        "                                                          random_state = 10).fit(train_df[columns_for_clustering])\n",
        "      else:\n",
        "        idx = -1\n",
        "        self.clustering_model[f'{mode}_{idx}'] = cur_clustering_model().fit(train_df[columns_for_clustering])\n",
        "\n",
        "\n",
        "    def _add_clustering_features(self, df, columns_for_clustering,  mode):\n",
        "      for key in list(filter(lambda mode_model: mode_model.split('_')[0] == mode, self.clustering_model.keys())):\n",
        "        idx = key.split('_')[-1]\n",
        "        model = self.clustering_model[key]\n",
        "        df[f'clustering_{mode}_{idx}'] = model.predict(df[columns_for_clustering])\n",
        "        df = pd.concat([df, pd.get_dummies(df[f'clustering_{mode}_{idx}'],\n",
        "                                          prefix = f'clustering_{mode}_{idx}')], axis = 1)\n",
        "        df.drop(f'clustering_{mode}_{idx}', axis = 1, inplace = True)\n",
        "      return df\n",
        "\n",
        "    def _get_df_for_test(self):\n",
        "        test = self.test\n",
        "        sites_to_id = self.sites_to_id\n",
        "        test[sites] = test[sites].applymap(lambda num_site: sites_to_id[num_site] if num_site in sites_to_id \n",
        "                                           else sites_to_id[self.unknown_idx])\n",
        "        self.test = test\n",
        "        return test\n",
        "    \n",
        "    def get_train_df(self):\n",
        "        train = self.train\n",
        "        sites_to_id = self._get_known_sites(train)\n",
        "        self.sites_to_id = sites_to_id\n",
        "        train[sites] = train[sites].applymap(lambda num_site: sites_to_id[num_site] if num_site in sites_to_id \n",
        "                                           else sites_to_id[self.unknown_idx])\n",
        "        self.train = train\n",
        "        return train\n",
        "    "
      ],
      "execution_count": 0,
      "outputs": []
    },
    {
      "cell_type": "code",
      "metadata": {
        "colab_type": "code",
        "id": "7syXo7AsyFpM",
        "colab": {}
      },
      "source": [
        "class TrainNN(Prepare):\n",
        "    \n",
        "    def make_batch (self, df, dropout = 0, predict = False, **kwargs):\n",
        "        if 'is_test' in kwargs:\n",
        "            is_test = kwargs['is_test']\n",
        "        else:\n",
        "            is_test = False\n",
        "        if self.dropout:\n",
        "            dropout = self.dropout\n",
        "            \n",
        "        batch = {}\n",
        "        # major_matrix = np.array(list(map(get_vector,df[sites].values)))\n",
        "        # batch['sites'] = major_matrix\n",
        "        # if dropout > 0 and not predict:\n",
        "        #     batch['sites'] = self._apply_word_dropout(batch['sites'], dropout, self.id_unknown_idx)\n",
        "        batch['sites'] = 1\n",
        "        \n",
        "\n",
        "        if not is_test:\n",
        "            batch[self.target_column] = df[self.target_column].values\n",
        "            \n",
        "        batch['cat'] = df[self.cat_columns].values\n",
        "        batch['cluster'] = df[self.clustering_columns].values\n",
        "\n",
        "        return batch\n",
        "\n",
        "    def _apply_word_dropout (self, matrix, keep_prop, replace_with = -1, pad_ix = 0):\n",
        "        dropout_mask = np.random.choice(2, matrix.shape, p = [1 - keep_prop, keep_prop])\n",
        "        dropout_mask &= matrix !=  pad_ix\n",
        "        return np.choose (dropout_mask, [matrix, np.full_like(matrix, replace_with)])\n",
        "    \n",
        "    def iterable_minibatches (self, data, shuffle = True, **kwargs):\n",
        "        indecses = np.arange(len(data))\n",
        "        if shuffle:\n",
        "            indecses = np.random.permutation(indecses)\n",
        "        for start in range(0, len(indecses), self.batch_size):\n",
        "            batch = self.make_batch(data.iloc[indecses[start : start + self.batch_size]], **kwargs)\n",
        "            target = batch.pop(self.target_column)\n",
        "            yield batch, target\n",
        "    \n",
        "    def make_predictions_file (self, model):\n",
        "        test = self._get_df_for_test()\n",
        "        batch = self.make_batch(test, predict = True, is_test = True)\n",
        "        input_site = torch.tensor(batch['sites'], dtype=torch.long).cuda()\n",
        "        input_cat = torch.tensor(batch['cat'], dtype=torch.long).float().cuda()\n",
        "        predictions = model(input_site, input_cat).cpu().data.numpy()\n",
        "        series_preds = pd.Series(predictions[:,0], index = range (1,predictions[:,0].shape[0] + 1),\n",
        "                  name = 'target')\n",
        "        series_preds.to_csv(PREDICT_FILENAME, header = True, index_label = 'session_id')"
      ],
      "execution_count": 0,
      "outputs": []
    },
    {
      "cell_type": "code",
      "metadata": {
        "colab_type": "code",
        "id": "TjsxINZHufkH",
        "colab": {}
      },
      "source": [
        "trainer = TrainNN(data, test, clustering_model = clustering_model)"
      ],
      "execution_count": 0,
      "outputs": []
    },
    {
      "cell_type": "code",
      "metadata": {
        "colab_type": "code",
        "id": "F9dNFt6ay1aC",
        "colab": {}
      },
      "source": [
        "trainer.prepare_df()"
      ],
      "execution_count": 0,
      "outputs": []
    },
    {
      "cell_type": "code",
      "metadata": {
        "colab_type": "code",
        "id": "v7Snyg7szDVJ",
        "colab": {
          "base_uri": "https://localhost:8080/",
          "height": 311
        },
        "outputId": "bb920908-b327-479c-b8a1-d9487cd1cf6e"
      },
      "source": [
        "train_df, valid_df, clustering_model = trainer.get_df_for_train()"
      ],
      "execution_count": 36,
      "outputs": [
        {
          "output_type": "error",
          "ename": "AttributeError",
          "evalue": "ignored",
          "traceback": [
            "\u001b[0;31m---------------------------------------------------------------------------\u001b[0m",
            "\u001b[0;31mAttributeError\u001b[0m                            Traceback (most recent call last)",
            "\u001b[0;32m<ipython-input-36-efc2f426250f>\u001b[0m in \u001b[0;36m<module>\u001b[0;34m()\u001b[0m\n\u001b[0;32m----> 1\u001b[0;31m \u001b[0mtrain_df\u001b[0m\u001b[0;34m,\u001b[0m \u001b[0mvalid_df\u001b[0m\u001b[0;34m,\u001b[0m \u001b[0mclustering_model\u001b[0m \u001b[0;34m=\u001b[0m \u001b[0mtrainer\u001b[0m\u001b[0;34m.\u001b[0m\u001b[0mget_df_for_train\u001b[0m\u001b[0;34m(\u001b[0m\u001b[0;34m)\u001b[0m\u001b[0;34m\u001b[0m\u001b[0;34m\u001b[0m\u001b[0m\n\u001b[0m",
            "\u001b[0;32m<ipython-input-32-62b3d3bb2d6e>\u001b[0m in \u001b[0;36mget_df_for_train\u001b[0;34m(self)\u001b[0m\n\u001b[1;32m    101\u001b[0m           \u001b[0;32mif\u001b[0m \u001b[0mmode\u001b[0m \u001b[0;32mnot\u001b[0m \u001b[0;32min\u001b[0m \u001b[0mlist\u001b[0m\u001b[0;34m(\u001b[0m\u001b[0mmap\u001b[0m\u001b[0;34m(\u001b[0m\u001b[0;32mlambda\u001b[0m \u001b[0mext_mode\u001b[0m\u001b[0;34m:\u001b[0m \u001b[0mext_mode\u001b[0m\u001b[0;34m.\u001b[0m\u001b[0msplit\u001b[0m\u001b[0;34m(\u001b[0m\u001b[0;34m'_'\u001b[0m\u001b[0;34m)\u001b[0m\u001b[0;34m[\u001b[0m\u001b[0;36m0\u001b[0m\u001b[0;34m]\u001b[0m\u001b[0;34m,\u001b[0m \u001b[0mself\u001b[0m\u001b[0;34m.\u001b[0m\u001b[0mclustering_model\u001b[0m\u001b[0;34m)\u001b[0m\u001b[0;34m)\u001b[0m\u001b[0;34m:\u001b[0m\u001b[0;34m\u001b[0m\u001b[0;34m\u001b[0m\u001b[0m\n\u001b[1;32m    102\u001b[0m             \u001b[0mself\u001b[0m\u001b[0;34m.\u001b[0m\u001b[0m_make_clustering_model\u001b[0m\u001b[0;34m(\u001b[0m\u001b[0mtrain_df\u001b[0m\u001b[0;34m,\u001b[0m \u001b[0mcolumns_for_clustering\u001b[0m\u001b[0;34m,\u001b[0m \u001b[0mmode\u001b[0m\u001b[0;34m,\u001b[0m \u001b[0mDBSCAN\u001b[0m\u001b[0;34m)\u001b[0m\u001b[0;34m\u001b[0m\u001b[0;34m\u001b[0m\u001b[0m\n\u001b[0;32m--> 103\u001b[0;31m           \u001b[0mtrain_df\u001b[0m \u001b[0;34m=\u001b[0m \u001b[0mself\u001b[0m\u001b[0;34m.\u001b[0m\u001b[0m_add_clustering_features\u001b[0m\u001b[0;34m(\u001b[0m\u001b[0mtrain_df\u001b[0m\u001b[0;34m,\u001b[0m \u001b[0mcolumns_for_clustering\u001b[0m\u001b[0;34m,\u001b[0m \u001b[0mmode\u001b[0m\u001b[0;34m)\u001b[0m\u001b[0;34m\u001b[0m\u001b[0;34m\u001b[0m\u001b[0m\n\u001b[0m\u001b[1;32m    104\u001b[0m           \u001b[0mvalid_df\u001b[0m \u001b[0;34m=\u001b[0m \u001b[0mself\u001b[0m\u001b[0;34m.\u001b[0m\u001b[0m_add_clustering_features\u001b[0m\u001b[0;34m(\u001b[0m\u001b[0mvalid_df\u001b[0m\u001b[0;34m,\u001b[0m \u001b[0mcolumns_for_clustering\u001b[0m\u001b[0;34m,\u001b[0m \u001b[0mmode\u001b[0m\u001b[0;34m)\u001b[0m\u001b[0;34m\u001b[0m\u001b[0;34m\u001b[0m\u001b[0m\n\u001b[1;32m    105\u001b[0m \u001b[0;34m\u001b[0m\u001b[0m\n",
            "\u001b[0;32m<ipython-input-32-62b3d3bb2d6e>\u001b[0m in \u001b[0;36m_add_clustering_features\u001b[0;34m(self, df, columns_for_clustering, mode)\u001b[0m\n\u001b[1;32m    137\u001b[0m         \u001b[0midx\u001b[0m \u001b[0;34m=\u001b[0m \u001b[0mkey\u001b[0m\u001b[0;34m.\u001b[0m\u001b[0msplit\u001b[0m\u001b[0;34m(\u001b[0m\u001b[0;34m'_'\u001b[0m\u001b[0;34m)\u001b[0m\u001b[0;34m[\u001b[0m\u001b[0;34m-\u001b[0m\u001b[0;36m1\u001b[0m\u001b[0;34m]\u001b[0m\u001b[0;34m\u001b[0m\u001b[0;34m\u001b[0m\u001b[0m\n\u001b[1;32m    138\u001b[0m         \u001b[0mmodel\u001b[0m \u001b[0;34m=\u001b[0m \u001b[0mself\u001b[0m\u001b[0;34m.\u001b[0m\u001b[0mclustering_model\u001b[0m\u001b[0;34m[\u001b[0m\u001b[0mkey\u001b[0m\u001b[0;34m]\u001b[0m\u001b[0;34m\u001b[0m\u001b[0;34m\u001b[0m\u001b[0m\n\u001b[0;32m--> 139\u001b[0;31m         \u001b[0mdf\u001b[0m\u001b[0;34m[\u001b[0m\u001b[0;34mf'clustering_{mode}_{idx}'\u001b[0m\u001b[0;34m]\u001b[0m \u001b[0;34m=\u001b[0m \u001b[0mmodel\u001b[0m\u001b[0;34m.\u001b[0m\u001b[0mpredict\u001b[0m\u001b[0;34m(\u001b[0m\u001b[0mdf\u001b[0m\u001b[0;34m[\u001b[0m\u001b[0mcolumns_for_clustering\u001b[0m\u001b[0;34m]\u001b[0m\u001b[0;34m)\u001b[0m\u001b[0;34m\u001b[0m\u001b[0;34m\u001b[0m\u001b[0m\n\u001b[0m\u001b[1;32m    140\u001b[0m         df = pd.concat([df, pd.get_dummies(df[f'clustering_{mode}_{idx}'],\n\u001b[1;32m    141\u001b[0m                                           prefix = f'clustering_{mode}_{idx}')], axis = 1)\n",
            "\u001b[0;31mAttributeError\u001b[0m: 'DBSCAN' object has no attribute 'predict'"
          ]
        }
      ]
    },
    {
      "cell_type": "code",
      "metadata": {
        "id": "vdsqVBf_jiYo",
        "colab_type": "code",
        "colab": {
          "base_uri": "https://localhost:8080/",
          "height": 52
        },
        "outputId": "6adea393-2bf9-474c-98cf-7eabe9ff519a"
      },
      "source": [
        "clustering_model['tfidf_-1']"
      ],
      "execution_count": 38,
      "outputs": [
        {
          "output_type": "execute_result",
          "data": {
            "text/plain": [
              "DBSCAN(algorithm='auto', eps=0.5, leaf_size=30, metric='euclidean',\n",
              "       metric_params=None, min_samples=5, n_jobs=None, p=None)"
            ]
          },
          "metadata": {
            "tags": []
          },
          "execution_count": 38
        }
      ]
    },
    {
      "cell_type": "code",
      "metadata": {
        "id": "ofQlVeLZkHTV",
        "colab_type": "code",
        "colab": {}
      },
      "source": [
        ""
      ],
      "execution_count": 0,
      "outputs": []
    },
    {
      "cell_type": "code",
      "metadata": {
        "colab_type": "code",
        "id": "wz7apoKXyMLP",
        "colab": {}
      },
      "source": [
        "class Reorder(nn.Module):\n",
        "    def forward (self, input):\n",
        "        return input.permute(0, 2, 1)\n",
        "\n",
        "class Flatten (nn.Module):\n",
        "    def forward(self, input):\n",
        "        return input.view(input.size(0),-1)"
      ],
      "execution_count": 0,
      "outputs": []
    },
    {
      "cell_type": "code",
      "metadata": {
        "colab_type": "code",
        "id": "xcVmov9A6NtE",
        "colab": {}
      },
      "source": [
        "class NN(nn.Module):\n",
        "    def __init__(self, hid_size = 64, \n",
        "                   len_sequence = 10, len_cat = len(trainer.cat_columns), len_cluster = len(trainer.clustering_columns), rnn_dim = 64,\n",
        "                num_direction = 2):\n",
        "        super(NN, self).__init__()\n",
        "        # self.emb = nn.Embedding(n_tokens, hid_size, )\n",
        "        # self.lstm = nn.LSTM(input_size = 128, hidden_size = rnn_dim, bidirectional = True, dropout = 0.5)\n",
        "        # self.att = MyAttention(rnn_dim * num_direction)\n",
        "        self.relu = nn.ReLU()\n",
        "        self.fc1_cat = nn.Linear(len_cat, len_cat)\n",
        "        self.fc1_cluster = nn.Linear(len_cluster, 150)\n",
        "        self.fc2 = nn.Linear(len_cat + 150, 50)\n",
        "        self.fc3 = nn.Linear(50 + len_cat, 1)\n",
        "        self.sigmoid = nn.Sigmoid()\n",
        "        self.batchnorm1 = nn.BatchNorm1d(len_cat + 150)\n",
        "        self.batchnorm2 = nn.BatchNorm1d(50 + len_cat)\n",
        "        self.dropout = nn.Dropout(0.5)\n",
        "\n",
        "    def forward(self,input_cat, input_cluster):\n",
        "        # emb = self.emb(input_site)\n",
        "        # lstm = self.lstm(input_site)\n",
        "        # att = self.att(lstm[0])\n",
        "        cat = self.fc1_cat(input_cat)\n",
        "        cat = self.relu(cat)\n",
        "        cluster = self.fc1_cluster(input_cluster)\n",
        "        cluster = self.relu(cluster)\n",
        "        combine = torch.cat([cluster.view(cluster.size(0), -1),\n",
        "                             cat.view(cat.size(0), -1)], dim = 1)\n",
        "        combine = self.batchnorm1(combine)\n",
        "        combine = self.dropout(combine)\n",
        "        combine = self.fc2(combine)\n",
        "        combine = self.relu(combine)\n",
        "        combine = torch.cat([combine.view(cluster.size(0), -1),\n",
        "                      cat.view(cat.size(0), -1)], dim = 1)\n",
        "        combine = self.batchnorm2(combine)\n",
        "        combine = self.dropout(combine)\n",
        "        out = self.fc3(combine)\n",
        "        out = self.sigmoid(out)\n",
        "        return out\n"
      ],
      "execution_count": 0,
      "outputs": []
    },
    {
      "cell_type": "code",
      "metadata": {
        "colab_type": "code",
        "id": "XKg_38X568AF",
        "outputId": "93c2fd1d-f349-40c4-bdeb-9b5cf8a5f58e",
        "colab": {
          "base_uri": "https://localhost:8080/",
          "height": 207
        }
      },
      "source": [
        "model = NN()\n",
        "device = torch.device(\"cuda:0\")\n",
        "model.to(device)"
      ],
      "execution_count": 0,
      "outputs": [
        {
          "output_type": "execute_result",
          "data": {
            "text/plain": [
              "NN(\n",
              "  (relu): ReLU()\n",
              "  (fc1_cat): Linear(in_features=27, out_features=27, bias=True)\n",
              "  (fc1_cluster): Linear(in_features=450, out_features=150, bias=True)\n",
              "  (fc2): Linear(in_features=177, out_features=50, bias=True)\n",
              "  (fc3): Linear(in_features=77, out_features=1, bias=True)\n",
              "  (sigmoid): Sigmoid()\n",
              "  (batchnorm1): BatchNorm1d(177, eps=1e-05, momentum=0.1, affine=True, track_running_stats=True)\n",
              "  (batchnorm2): BatchNorm1d(77, eps=1e-05, momentum=0.1, affine=True, track_running_stats=True)\n",
              "  (dropout): Dropout(p=0.5, inplace=False)\n",
              ")"
            ]
          },
          "metadata": {
            "tags": []
          },
          "execution_count": 46
        }
      ]
    },
    {
      "cell_type": "code",
      "metadata": {
        "colab_type": "code",
        "id": "BGlbDX6h-jqt",
        "colab": {}
      },
      "source": [
        "batch, target = next(trainer.iterable_minibatches(train_df))\n",
        "# input_site = torch.tensor(batch['sites'], dtype=torch.float).cuda()\n",
        "# input_cat = torch.tensor(batch['cat'], dtype=torch.long).float().cuda()"
      ],
      "execution_count": 0,
      "outputs": []
    },
    {
      "cell_type": "code",
      "metadata": {
        "colab_type": "code",
        "id": "8O3YSw9A7N3b",
        "outputId": "e3d6272f-3103-4c09-8229-ece03146d1cc",
        "colab": {
          "base_uri": "https://localhost:8080/",
          "height": 642
        }
      },
      "source": [
        "history_train = []\n",
        "history_val = []\n",
        "history_train_roc = []\n",
        "epochs = 400\n",
        "optim = torch.optim.Adam(model.parameters())\n",
        "loss_function = nn.BCELoss().to(device)\n",
        "train_df_for_roc = train_df.sample(int(train_df.shape[0] * 0.3))\n",
        "train_df_roc = trainer.make_batch(train_df_for_roc)\n",
        "valid_df_roc = trainer.make_batch(valid_df)\n",
        "\n",
        "\n",
        "for epoch in range(epochs):\n",
        "    for idx, (batch, target) in tqdm_notebook(enumerate(trainer.iterable_minibatches(train_df))):\n",
        "        # input_site = torch.FloatTensor(batch['sites']).cuda()\n",
        "        input_cat = torch.tensor(batch['cat'], dtype=torch.long).float().cuda()\n",
        "        input_cluster = torch.tensor(batch['cluster'], dtype=torch.long).float().cuda()\n",
        "        target = torch.tensor(target).float().to(device)\n",
        "\n",
        "        predictions = model(input_cat, input_cluster).float()\n",
        "        predictions = predictions.view(predictions.size(0))\n",
        "        loss = loss_function(predictions, target)\n",
        "\n",
        "        loss.backward()\n",
        "        optim.step()\n",
        "        optim.zero_grad()\n",
        "\n",
        "\n",
        "        history_train.append(loss.data.cpu().numpy())\n",
        "        if (idx+1)%5 == 0:\n",
        "            history_val.append(roc_auc(model, valid_df, batch = valid_df_roc))\n",
        "            history_train_roc.append(roc_auc(model, train_df_for_roc, batch = train_df_roc,prob = 1))\n",
        "        if (idx+1)%50==0:\n",
        "            clear_output(True)\n",
        "            plt.plot(history_val,label='val')\n",
        "            plt.plot(history_train_roc, label = 'train')\n",
        "            plt.legend()\n",
        "            plt.show()\n",
        "            print(f'train {history_train_roc[-1]}')\n",
        "            print(f'val {history_val[-1]}')"
      ],
      "execution_count": 0,
      "outputs": [
        {
          "output_type": "display_data",
          "data": {
            "image/png": "[encoded data removed]",
            "text/plain": [
              "<Figure size 432x288 with 1 Axes>"
            ]
          },
          "metadata": {
            "tags": []
          }
        },
        {
          "output_type": "stream",
          "text": [
            "train 0.9806703596014563\n",
            "val 0.915491740821564\n"
          ],
          "name": "stdout"
        },
        {
          "output_type": "error",
          "ename": "KeyboardInterrupt",
          "evalue": "ignored",
          "traceback": [
            "\u001b[0;31m---------------------------------------------------------------------------\u001b[0m",
            "\u001b[0;31mKeyboardInterrupt\u001b[0m                         Traceback (most recent call last)",
            "\u001b[0;32m<ipython-input-47-61503c5e1f24>\u001b[0m in \u001b[0;36m<module>\u001b[0;34m()\u001b[0m\n\u001b[1;32m     29\u001b[0m         \u001b[0;32mif\u001b[0m \u001b[0;34m(\u001b[0m\u001b[0midx\u001b[0m\u001b[0;34m+\u001b[0m\u001b[0;36m1\u001b[0m\u001b[0;34m)\u001b[0m\u001b[0;34m%\u001b[0m\u001b[0;36m5\u001b[0m \u001b[0;34m==\u001b[0m \u001b[0;36m0\u001b[0m\u001b[0;34m:\u001b[0m\u001b[0;34m\u001b[0m\u001b[0;34m\u001b[0m\u001b[0m\n\u001b[1;32m     30\u001b[0m             \u001b[0mhistory_val\u001b[0m\u001b[0;34m.\u001b[0m\u001b[0mappend\u001b[0m\u001b[0;34m(\u001b[0m\u001b[0mroc_auc\u001b[0m\u001b[0;34m(\u001b[0m\u001b[0mmodel\u001b[0m\u001b[0;34m,\u001b[0m \u001b[0mvalid_df\u001b[0m\u001b[0;34m,\u001b[0m \u001b[0mbatch\u001b[0m \u001b[0;34m=\u001b[0m \u001b[0mvalid_df_roc\u001b[0m\u001b[0;34m)\u001b[0m\u001b[0;34m)\u001b[0m\u001b[0;34m\u001b[0m\u001b[0;34m\u001b[0m\u001b[0m\n\u001b[0;32m---> 31\u001b[0;31m             \u001b[0mhistory_train_roc\u001b[0m\u001b[0;34m.\u001b[0m\u001b[0mappend\u001b[0m\u001b[0;34m(\u001b[0m\u001b[0mroc_auc\u001b[0m\u001b[0;34m(\u001b[0m\u001b[0mmodel\u001b[0m\u001b[0;34m,\u001b[0m \u001b[0mtrain_df_for_roc\u001b[0m\u001b[0;34m,\u001b[0m \u001b[0mbatch\u001b[0m \u001b[0;34m=\u001b[0m \u001b[0mtrain_df_roc\u001b[0m\u001b[0;34m,\u001b[0m\u001b[0mprob\u001b[0m \u001b[0;34m=\u001b[0m \u001b[0;36m1\u001b[0m\u001b[0;34m)\u001b[0m\u001b[0;34m)\u001b[0m\u001b[0;34m\u001b[0m\u001b[0;34m\u001b[0m\u001b[0m\n\u001b[0m\u001b[1;32m     32\u001b[0m         \u001b[0;32mif\u001b[0m \u001b[0;34m(\u001b[0m\u001b[0midx\u001b[0m\u001b[0;34m+\u001b[0m\u001b[0;36m1\u001b[0m\u001b[0;34m)\u001b[0m\u001b[0;34m%\u001b[0m\u001b[0;36m50\u001b[0m\u001b[0;34m==\u001b[0m\u001b[0;36m0\u001b[0m\u001b[0;34m:\u001b[0m\u001b[0;34m\u001b[0m\u001b[0;34m\u001b[0m\u001b[0m\n\u001b[1;32m     33\u001b[0m             \u001b[0mclear_output\u001b[0m\u001b[0;34m(\u001b[0m\u001b[0;32mTrue\u001b[0m\u001b[0;34m)\u001b[0m\u001b[0;34m\u001b[0m\u001b[0;34m\u001b[0m\u001b[0m\n",
            "\u001b[0;32m<ipython-input-28-83f268e68bd4>\u001b[0m in \u001b[0;36mroc_auc\u001b[0;34m(model, data, predict, target, batch, prob)\u001b[0m\n\u001b[1;32m      5\u001b[0m     roc_auc = roc_auc_score(data[target],\n\u001b[1;32m      6\u001b[0m                             model(torch.tensor(batch['cat']).float().cuda(),\n\u001b[0;32m----> 7\u001b[0;31m                                   torch.tensor(batch['cluster']).float().cuda()).cpu().data.numpy())\n\u001b[0m\u001b[1;32m      8\u001b[0m     \u001b[0;32mreturn\u001b[0m \u001b[0mroc_auc\u001b[0m\u001b[0;34m\u001b[0m\u001b[0;34m\u001b[0m\u001b[0m\n\u001b[1;32m      9\u001b[0m \u001b[0;34m\u001b[0m\u001b[0m\n",
            "\u001b[0;31mKeyboardInterrupt\u001b[0m: "
          ]
        }
      ]
    },
    {
      "cell_type": "code",
      "metadata": {
        "id": "8p9m74SBP4J0",
        "colab_type": "code",
        "colab": {}
      },
      "source": [
        "trainer.make_predictions_file(model)"
      ],
      "execution_count": 0,
      "outputs": []
    },
    {
      "cell_type": "code",
      "metadata": {
        "id": "VqfbO5bQdHOi",
        "colab_type": "code",
        "outputId": "91a03d13-a402-4dfd-a441-5c3c44555ee4",
        "colab": {
          "base_uri": "https://localhost:8080/",
          "height": 34
        }
      },
      "source": [
        "np.max(history_val)"
      ],
      "execution_count": 0,
      "outputs": [
        {
          "output_type": "execute_result",
          "data": {
            "text/plain": [
              "0.9350452734596678"
            ]
          },
          "metadata": {
            "tags": []
          },
          "execution_count": 48
        }
      ]
    },
    {
      "cell_type": "code",
      "metadata": {
        "id": "h3euJNq_RXkf",
        "colab_type": "code",
        "colab": {}
      },
      "source": [
        ""
      ],
      "execution_count": 0,
      "outputs": []
    },
    {
      "cell_type": "code",
      "metadata": {
        "id": "NwrWUIP4RXs8",
        "colab_type": "code",
        "colab": {}
      },
      "source": [
        "vectorizer = TfidfVectorizer(tokenizer = lambda s: s.split(';#'),\n",
        "                             analyzer = 'word')\n",
        "corpus = list(map(';#'.join, data[sites].values))"
      ],
      "execution_count": 0,
      "outputs": []
    },
    {
      "cell_type": "code",
      "metadata": {
        "id": "4G0LidUpIBiB",
        "colab_type": "code",
        "colab": {}
      },
      "source": [
        "tf_idf_matrix = vectorizer.fit_transform(corpus)\n",
        "features_name = vectorizer.get_feature_names()\n",
        "# mean_target =  np.array(list(map(get_tf_idf_representation, data[data['target'] == 1][['index_norm'] + sites].values)))\n",
        "# mean_no_target = np.array(list(map(get_tf_idf_representation, data[data['target'] == 0][['index_norm'] + sites].sample(5000).values)))"
      ],
      "execution_count": 0,
      "outputs": []
    },
    {
      "cell_type": "code",
      "metadata": {
        "id": "s3Bt12S2TuBn",
        "colab_type": "code",
        "colab": {}
      },
      "source": [
        "def get_tf_idf_repr(col_num, col_name):\n",
        "  vect = torch.Tensor(model_ft[col_name]).cuda()\n",
        "  return torch.Tensor(tf_idf_matrix[:, col_num].toarray()).cuda() * vect"
      ],
      "execution_count": 0,
      "outputs": []
    },
    {
      "cell_type": "code",
      "metadata": {
        "id": "AzG3e-JLMHaQ",
        "colab_type": "code",
        "outputId": "b1c7c793-f93b-485f-fbc3-38f8f8d0428b",
        "colab": {
          "base_uri": "https://localhost:8080/",
          "height": 708
        }
      },
      "source": [
        "a = []\n",
        "for col_num in range(tf_idf_matrix.shape[1]):\n",
        "  col_name = features_name[col_num]\n",
        "  if len(a) == 0:\n",
        "    a = get_tf_idf_repr(col_num, col_name)\n",
        "  else:\n",
        "    a += get_tf_idf_repr(col_num, col_name)\n",
        "  if col_num % 1000 == 0:\n",
        "    print(col_num)"
      ],
      "execution_count": 0,
      "outputs": [
        {
          "output_type": "stream",
          "text": [
            "0\n",
            "1000\n",
            "2000\n",
            "3000\n",
            "4000\n",
            "5000\n",
            "6000\n",
            "7000\n",
            "8000\n",
            "9000\n",
            "10000\n",
            "11000\n",
            "12000\n",
            "13000\n",
            "14000\n",
            "15000\n",
            "16000\n",
            "17000\n",
            "18000\n",
            "19000\n",
            "20000\n",
            "21000\n",
            "22000\n",
            "23000\n",
            "24000\n",
            "25000\n",
            "26000\n",
            "27000\n",
            "28000\n",
            "29000\n",
            "30000\n",
            "31000\n",
            "32000\n",
            "33000\n",
            "34000\n",
            "35000\n",
            "36000\n",
            "37000\n",
            "38000\n",
            "39000\n"
          ],
          "name": "stdout"
        }
      ]
    },
    {
      "cell_type": "code",
      "metadata": {
        "id": "g69UBdu8QXE7",
        "colab_type": "code",
        "colab": {}
      },
      "source": [
        "pd.DataFrame(a.cpu().data.numpy()).to_csv('drive/My Drive/tf_idf_embeddings.csv', index = False)"
      ],
      "execution_count": 0,
      "outputs": []
    },
    {
      "cell_type": "code",
      "metadata": {
        "id": "oS8mdf9Woi9-",
        "colab_type": "code",
        "colab": {}
      },
      "source": [
        ""
      ],
      "execution_count": 0,
      "outputs": []
    },
    {
      "cell_type": "code",
      "metadata": {
        "id": "YtJSvnuQoSKH",
        "colab_type": "code",
        "colab": {}
      },
      "source": [
        ""
      ],
      "execution_count": 0,
      "outputs": []
    },
    {
      "cell_type": "code",
      "metadata": {
        "id": "PEzYGr59qBmq",
        "colab_type": "code",
        "colab": {}
      },
      "source": [
        "mean_no_target = np.array(list(map(get_vector,train_df[train_df['target'] == 0][sites].sample(20000).values))).mean(axis = 1)\n",
        "mean_target = np.array(list(map(get_vector,train_df[train_df['target'] == 1][sites].values))).mean(axis = 1)"
      ],
      "execution_count": 0,
      "outputs": []
    },
    {
      "cell_type": "code",
      "metadata": {
        "id": "JmYoH2yyqBsb",
        "colab_type": "code",
        "colab": {}
      },
      "source": [
        "tsne = TSNE(n_components = 2)\n",
        "mean_no_target_transform = tsne.fit_transform(mean_no_target)\n",
        "mean_target_transform = tsne.fit_transform(mean_target)\n",
        "mean_target_transform = StandardScaler().fit_transform(mean_target_transform)\n",
        "mean_no_target_transform = StandardScaler().fit_transform(mean_no_target_transform)"
      ],
      "execution_count": 0,
      "outputs": []
    },
    {
      "cell_type": "code",
      "metadata": {
        "id": "PCHOmM9eqKQQ",
        "colab_type": "code",
        "colab": {}
      },
      "source": [
        "import bokeh.models as bm, bokeh.plotting as pl\n",
        "from bokeh.io import output_notebook\n",
        "output_notebook()\n",
        "\n",
        "def draw_vectors(x, y, x_target = None, y_target = None, radius=10, alpha=0.25, color='blue',\n",
        "                 color_target = 'red',\n",
        "                 width=600, height=400, show=True, **kwargs):\n",
        "    if isinstance(color, str): color = [color] * len(x)\n",
        "    data_source = bm.ColumnDataSource({ 'x' : x, 'y' : y, 'color': color, **kwargs })\n",
        "    fig = pl.figure(active_scroll='wheel_zoom', width=width, height=height)\n",
        "    if x_target is not None and y_target is not None:\n",
        "      color_red = [color_target] * len(x_target)\n",
        "      data_source_target = bm.ColumnDataSource({ 'x' : x_target, 'y' : y_target, 'color': color_red, **kwargs })\n",
        "      fig.scatter('x', 'y', size=radius, color='color', alpha=alpha, source=data_source_target)\n",
        "\n",
        "    # fig = pl.figure(active_scroll='wheel_zoom', width=width, height=height)\n",
        "    fig.scatter('x', 'y', size=radius, color='color', alpha=alpha, source=data_source)\n",
        "\n",
        "    fig.add_tools(bm.HoverTool(tooltips=[(key, \"@\" + key) for key in kwargs.keys()]))\n",
        "    if show: pl.show(fig)\n",
        "    return fig"
      ],
      "execution_count": 0,
      "outputs": []
    },
    {
      "cell_type": "code",
      "metadata": {
        "id": "HKvQa3rVC7xe",
        "colab_type": "code",
        "outputId": "34826ea2-d925-4266-e9b6-ab4b5dbc1d24",
        "colab": {
          "base_uri": "https://localhost:8080/",
          "height": 434
        }
      },
      "source": [
        "draw_vectors(mean_no_target_transform[:, 0], mean_no_target_transform[:, 1], x_target = mean_target_transform[:, 0],\n",
        "             y_target = mean_target_transform[:, 1])"
      ],
      "execution_count": 0,
      "outputs": [
        {
          "output_type": "display_data",
          "data": {
            "application/javascript": [
              "\n",
              "(function(root) {\n",
              "  function now() {\n",
              "    return new Date();\n",
              "  }\n",
              "\n",
              "  var force = true;\n",
              "\n",
              "  if (typeof root._bokeh_onload_callbacks === \"undefined\" || force === true) {\n",
              "    root._bokeh_onload_callbacks = [];\n",
              "    root._bokeh_is_loading = undefined;\n",
              "  }\n",
              "\n",
              "  var JS_MIME_TYPE = 'application/javascript';\n",
              "  var HTML_MIME_TYPE = 'text/html';\n",
              "  var EXEC_MIME_TYPE = 'application/vnd.bokehjs_exec.v0+json';\n",
              "  var CLASS_NAME = 'output_bokeh rendered_html';\n",
              "\n",
              "  /**\n",
              "   * Render data to the DOM node\n",
              "   */\n",
              "  function render(props, node) {\n",
              "    var script = document.createElement(\"script\");\n",
              "    node.appendChild(script);\n",
              "  }\n",
              "\n",
              "  /**\n",
              "   * Handle when an output is cleared or removed\n",
              "   */\n",
              "  function handleClearOutput(event, handle) {\n",
              "    var cell = handle.cell;\n",
              "\n",
              "    var id = cell.output_area._bokeh_element_id;\n",
              "    var server_id = cell.output_area._bokeh_server_id;\n",
              "    // Clean up Bokeh references\n",
              "    if (id != null && id in Bokeh.index) {\n",
              "      Bokeh.index[id].model.document.clear();\n",
              "      delete Bokeh.index[id];\n",
              "    }\n",
              "\n",
              "    if (server_id !== undefined) {\n",
              "      // Clean up Bokeh references\n",
              "      var cmd = \"from bokeh.io.state import curstate; print(curstate().uuid_to_server['\" + server_id + \"'].get_sessions()[0].document.roots[0]._id)\";\n",
              "      cell.notebook.kernel.execute(cmd, {\n",
              "        iopub: {\n",
              "          output: function(msg) {\n",
              "            var id = msg.content.text.trim();\n",
              "            if (id in Bokeh.index) {\n",
              "              Bokeh.index[id].model.document.clear();\n",
              "              delete Bokeh.index[id];\n",
              "            }\n",
              "          }\n",
              "        }\n",
              "      });\n",
              "      // Destroy server and session\n",
              "      var cmd = \"import bokeh.io.notebook as ion; ion.destroy_server('\" + server_id + \"')\";\n",
              "      cell.notebook.kernel.execute(cmd);\n",
              "    }\n",
              "  }\n",
              "\n",
              "  /**\n",
              "   * Handle when a new output is added\n",
              "   */\n",
              "  function handleAddOutput(event, handle) {\n",
              "    var output_area = handle.output_area;\n",
              "    var output = handle.output;\n",
              "\n",
              "    // limit handleAddOutput to display_data with EXEC_MIME_TYPE content only\n",
              "    if ((output.output_type != \"display_data\") || (!output.data.hasOwnProperty(EXEC_MIME_TYPE))) {\n",
              "      return\n",
              "    }\n",
              "\n",
              "    var toinsert = output_area.element.find(\".\" + CLASS_NAME.split(' ')[0]);\n",
              "\n",
              "    if (output.metadata[EXEC_MIME_TYPE][\"id\"] !== undefined) {\n",
              "      toinsert[toinsert.length - 1].firstChild.textContent = output.data[JS_MIME_TYPE];\n",
              "      // store reference to embed id on output_area\n",
              "      output_area._bokeh_element_id = output.metadata[EXEC_MIME_TYPE][\"id\"];\n",
              "    }\n",
              "    if (output.metadata[EXEC_MIME_TYPE][\"server_id\"] !== undefined) {\n",
              "      var bk_div = document.createElement(\"div\");\n",
              "      bk_div.innerHTML = output.data[HTML_MIME_TYPE];\n",
              "      var script_attrs = bk_div.children[0].attributes;\n",
              "      for (var i = 0; i < script_attrs.length; i++) {\n",
              "        toinsert[toinsert.length - 1].firstChild.setAttribute(script_attrs[i].name, script_attrs[i].value);\n",
              "      }\n",
              "      // store reference to server id on output_area\n",
              "      output_area._bokeh_server_id = output.metadata[EXEC_MIME_TYPE][\"server_id\"];\n",
              "    }\n",
              "  }\n",
              "\n",
              "  function register_renderer(events, OutputArea) {\n",
              "\n",
              "    function append_mime(data, metadata, element) {\n",
              "      // create a DOM node to render to\n",
              "      var toinsert = this.create_output_subarea(\n",
              "        metadata,\n",
              "        CLASS_NAME,\n",
              "        EXEC_MIME_TYPE\n",
              "      );\n",
              "      this.keyboard_manager.register_events(toinsert);\n",
              "      // Render to node\n",
              "      var props = {data: data, metadata: metadata[EXEC_MIME_TYPE]};\n",
              "      render(props, toinsert[toinsert.length - 1]);\n",
              "      element.append(toinsert);\n",
              "      return toinsert\n",
              "    }\n",
              "\n",
              "    /* Handle when an output is cleared or removed */\n",
              "    events.on('clear_output.CodeCell', handleClearOutput);\n",
              "    events.on('delete.Cell', handleClearOutput);\n",
              "\n",
              "    /* Handle when a new output is added */\n",
              "    events.on('output_added.OutputArea', handleAddOutput);\n",
              "\n",
              "    /**\n",
              "     * Register the mime type and append_mime function with output_area\n",
              "     */\n",
              "    OutputArea.prototype.register_mime_type(EXEC_MIME_TYPE, append_mime, {\n",
              "      /* Is output safe? */\n",
              "      safe: true,\n",
              "      /* Index of renderer in `output_area.display_order` */\n",
              "      index: 0\n",
              "    });\n",
              "  }\n",
              "\n",
              "  // register the mime type if in Jupyter Notebook environment and previously unregistered\n",
              "  if (root.Jupyter !== undefined) {\n",
              "    var events = require('base/js/events');\n",
              "    var OutputArea = require('notebook/js/outputarea').OutputArea;\n",
              "\n",
              "    if (OutputArea.prototype.mime_types().indexOf(EXEC_MIME_TYPE) == -1) {\n",
              "      register_renderer(events, OutputArea);\n",
              "    }\n",
              "  }\n",
              "\n",
              "  \n",
              "  if (typeof (root._bokeh_timeout) === \"undefined\" || force === true) {\n",
              "    root._bokeh_timeout = Date.now() + 5000;\n",
              "    root._bokeh_failed_load = false;\n",
              "  }\n",
              "\n",
              "  var NB_LOAD_WARNING = {'data': {'text/html':\n",
              "     \"<div style='background-color: #fdd'>\\n\"+\n",
              "     \"<p>\\n\"+\n",
              "     \"BokehJS does not appear to have successfully loaded. If loading BokehJS from CDN, this \\n\"+\n",
              "     \"may be due to a slow or bad network connection. Possible fixes:\\n\"+\n",
              "     \"</p>\\n\"+\n",
              "     \"<ul>\\n\"+\n",
              "     \"<li>re-rerun `output_notebook()` to attempt to load from CDN again, or</li>\\n\"+\n",
              "     \"<li>use INLINE resources instead, as so:</li>\\n\"+\n",
              "     \"</ul>\\n\"+\n",
              "     \"<code>\\n\"+\n",
              "     \"from bokeh.resources import INLINE\\n\"+\n",
              "     \"output_notebook(resources=INLINE)\\n\"+\n",
              "     \"</code>\\n\"+\n",
              "     \"</div>\"}};\n",
              "\n",
              "  function display_loaded() {\n",
              "    var el = document.getElementById(null);\n",
              "    if (el != null) {\n",
              "      el.textContent = \"BokehJS is loading...\";\n",
              "    }\n",
              "    if (root.Bokeh !== undefined) {\n",
              "      if (el != null) {\n",
              "        el.textContent = \"BokehJS \" + root.Bokeh.version + \" successfully loaded.\";\n",
              "      }\n",
              "    } else if (Date.now() < root._bokeh_timeout) {\n",
              "      setTimeout(display_loaded, 100)\n",
              "    }\n",
              "  }\n",
              "\n",
              "\n",
              "  function run_callbacks() {\n",
              "    try {\n",
              "      root._bokeh_onload_callbacks.forEach(function(callback) {\n",
              "        if (callback != null)\n",
              "          callback();\n",
              "      });\n",
              "    } finally {\n",
              "      delete root._bokeh_onload_callbacks\n",
              "    }\n",
              "    console.debug(\"Bokeh: all callbacks have finished\");\n",
              "  }\n",
              "\n",
              "  function load_libs(css_urls, js_urls, callback) {\n",
              "    if (css_urls == null) css_urls = [];\n",
              "    if (js_urls == null) js_urls = [];\n",
              "\n",
              "    root._bokeh_onload_callbacks.push(callback);\n",
              "    if (root._bokeh_is_loading > 0) {\n",
              "      console.debug(\"Bokeh: BokehJS is being loaded, scheduling callback at\", now());\n",
              "      return null;\n",
              "    }\n",
              "    if (js_urls == null || js_urls.length === 0) {\n",
              "      run_callbacks();\n",
              "      return null;\n",
              "    }\n",
              "    console.debug(\"Bokeh: BokehJS not loaded, scheduling load and callback at\", now());\n",
              "    root._bokeh_is_loading = css_urls.length + js_urls.length;\n",
              "\n",
              "    function on_load() {\n",
              "      root._bokeh_is_loading--;\n",
              "      if (root._bokeh_is_loading === 0) {\n",
              "        console.debug(\"Bokeh: all BokehJS libraries/stylesheets loaded\");\n",
              "        run_callbacks()\n",
              "      }\n",
              "    }\n",
              "\n",
              "    function on_error() {\n",
              "      console.error(\"failed to load \" + url);\n",
              "    }\n",
              "\n",
              "    for (var i = 0; i < css_urls.length; i++) {\n",
              "      var url = css_urls[i];\n",
              "      const element = document.createElement(\"link\");\n",
              "      element.onload = on_load;\n",
              "      element.onerror = on_error;\n",
              "      element.rel = \"stylesheet\";\n",
              "      element.type = \"text/css\";\n",
              "      element.href = url;\n",
              "      console.debug(\"Bokeh: injecting link tag for BokehJS stylesheet: \", url);\n",
              "      document.body.appendChild(element);\n",
              "    }\n",
              "\n",
              "    for (var i = 0; i < js_urls.length; i++) {\n",
              "      var url = js_urls[i];\n",
              "      var element = document.createElement('script');\n",
              "      element.onload = on_load;\n",
              "      element.onerror = on_error;\n",
              "      element.async = false;\n",
              "      element.src = url;\n",
              "      console.debug(\"Bokeh: injecting script tag for BokehJS library: \", url);\n",
              "      document.head.appendChild(element);\n",
              "    }\n",
              "  };\n",
              "\n",
              "  function inject_raw_css(css) {\n",
              "    const element = document.createElement(\"style\");\n",
              "    element.appendChild(document.createTextNode(css));\n",
              "    document.body.appendChild(element);\n",
              "  }\n",
              "\n",
              "  \n",
              "  var js_urls = [\"https://cdn.pydata.org/bokeh/release/bokeh-1.4.0.min.js\", \"https://cdn.pydata.org/bokeh/release/bokeh-widgets-1.4.0.min.js\", \"https://cdn.pydata.org/bokeh/release/bokeh-tables-1.4.0.min.js\", \"https://cdn.pydata.org/bokeh/release/bokeh-gl-1.4.0.min.js\"];\n",
              "  var css_urls = [];\n",
              "  \n",
              "\n",
              "  var inline_js = [\n",
              "    function(Bokeh) {\n",
              "      Bokeh.set_log_level(\"info\");\n",
              "    },\n",
              "    function(Bokeh) {\n",
              "    \n",
              "    \n",
              "    }\n",
              "  ];\n",
              "\n",
              "  function run_inline_js() {\n",
              "    \n",
              "    if (root.Bokeh !== undefined || force === true) {\n",
              "      \n",
              "    for (var i = 0; i < inline_js.length; i++) {\n",
              "      inline_js[i].call(root, root.Bokeh);\n",
              "    }\n",
              "    } else if (Date.now() < root._bokeh_timeout) {\n",
              "      setTimeout(run_inline_js, 100);\n",
              "    } else if (!root._bokeh_failed_load) {\n",
              "      console.log(\"Bokeh: BokehJS failed to load within specified timeout.\");\n",
              "      root._bokeh_failed_load = true;\n",
              "    } else if (force !== true) {\n",
              "      var cell = $(document.getElementById(null)).parents('.cell').data().cell;\n",
              "      cell.output_area.append_execute_result(NB_LOAD_WARNING)\n",
              "    }\n",
              "\n",
              "  }\n",
              "\n",
              "  if (root._bokeh_is_loading === 0) {\n",
              "    console.debug(\"Bokeh: BokehJS loaded, going straight to plotting\");\n",
              "    run_inline_js();\n",
              "  } else {\n",
              "    load_libs(css_urls, js_urls, function() {\n",
              "      console.debug(\"Bokeh: BokehJS plotting callback run at\", now());\n",
              "      run_inline_js();\n",
              "    });\n",
              "  }\n",
              "}(window));"
            ],
            "application/vnd.bokehjs_load.v0+json": "\n(function(root) {\n  function now() {\n    return new Date();\n  }\n\n  var force = true;\n\n  if (typeof root._bokeh_onload_callbacks === \"undefined\" || force === true) {\n    root._bokeh_onload_callbacks = [];\n    root._bokeh_is_loading = undefined;\n  }\n\n  \n\n  \n  if (typeof (root._bokeh_timeout) === \"undefined\" || force === true) {\n    root._bokeh_timeout = Date.now() + 5000;\n    root._bokeh_failed_load = false;\n  }\n\n  var NB_LOAD_WARNING = {'data': {'text/html':\n     \"<div style='background-color: #fdd'>\\n\"+\n     \"<p>\\n\"+\n     \"BokehJS does not appear to have successfully loaded. If loading BokehJS from CDN, this \\n\"+\n     \"may be due to a slow or bad network connection. Possible fixes:\\n\"+\n     \"</p>\\n\"+\n     \"<ul>\\n\"+\n     \"<li>re-rerun `output_notebook()` to attempt to load from CDN again, or</li>\\n\"+\n     \"<li>use INLINE resources instead, as so:</li>\\n\"+\n     \"</ul>\\n\"+\n     \"<code>\\n\"+\n     \"from bokeh.resources import INLINE\\n\"+\n     \"output_notebook(resources=INLINE)\\n\"+\n     \"</code>\\n\"+\n     \"</div>\"}};\n\n  function display_loaded() {\n    var el = document.getElementById(null);\n    if (el != null) {\n      el.textContent = \"BokehJS is loading...\";\n    }\n    if (root.Bokeh !== undefined) {\n      if (el != null) {\n        el.textContent = \"BokehJS \" + root.Bokeh.version + \" successfully loaded.\";\n      }\n    } else if (Date.now() < root._bokeh_timeout) {\n      setTimeout(display_loaded, 100)\n    }\n  }\n\n\n  function run_callbacks() {\n    try {\n      root._bokeh_onload_callbacks.forEach(function(callback) {\n        if (callback != null)\n          callback();\n      });\n    } finally {\n      delete root._bokeh_onload_callbacks\n    }\n    console.debug(\"Bokeh: all callbacks have finished\");\n  }\n\n  function load_libs(css_urls, js_urls, callback) {\n    if (css_urls == null) css_urls = [];\n    if (js_urls == null) js_urls = [];\n\n    root._bokeh_onload_callbacks.push(callback);\n    if (root._bokeh_is_loading > 0) {\n      console.debug(\"Bokeh: BokehJS is being loaded, scheduling callback at\", now());\n      return null;\n    }\n    if (js_urls == null || js_urls.length === 0) {\n      run_callbacks();\n      return null;\n    }\n    console.debug(\"Bokeh: BokehJS not loaded, scheduling load and callback at\", now());\n    root._bokeh_is_loading = css_urls.length + js_urls.length;\n\n    function on_load() {\n      root._bokeh_is_loading--;\n      if (root._bokeh_is_loading === 0) {\n        console.debug(\"Bokeh: all BokehJS libraries/stylesheets loaded\");\n        run_callbacks()\n      }\n    }\n\n    function on_error() {\n      console.error(\"failed to load \" + url);\n    }\n\n    for (var i = 0; i < css_urls.length; i++) {\n      var url = css_urls[i];\n      const element = document.createElement(\"link\");\n      element.onload = on_load;\n      element.onerror = on_error;\n      element.rel = \"stylesheet\";\n      element.type = \"text/css\";\n      element.href = url;\n      console.debug(\"Bokeh: injecting link tag for BokehJS stylesheet: \", url);\n      document.body.appendChild(element);\n    }\n\n    for (var i = 0; i < js_urls.length; i++) {\n      var url = js_urls[i];\n      var element = document.createElement('script');\n      element.onload = on_load;\n      element.onerror = on_error;\n      element.async = false;\n      element.src = url;\n      console.debug(\"Bokeh: injecting script tag for BokehJS library: \", url);\n      document.head.appendChild(element);\n    }\n  };\n\n  function inject_raw_css(css) {\n    const element = document.createElement(\"style\");\n    element.appendChild(document.createTextNode(css));\n    document.body.appendChild(element);\n  }\n\n  \n  var js_urls = [\"https://cdn.pydata.org/bokeh/release/bokeh-1.4.0.min.js\", \"https://cdn.pydata.org/bokeh/release/bokeh-widgets-1.4.0.min.js\", \"https://cdn.pydata.org/bokeh/release/bokeh-tables-1.4.0.min.js\", \"https://cdn.pydata.org/bokeh/release/bokeh-gl-1.4.0.min.js\"];\n  var css_urls = [];\n  \n\n  var inline_js = [\n    function(Bokeh) {\n      Bokeh.set_log_level(\"info\");\n    },\n    function(Bokeh) {\n    \n    \n    }\n  ];\n\n  function run_inline_js() {\n    \n    if (root.Bokeh !== undefined || force === true) {\n      \n    for (var i = 0; i < inline_js.length; i++) {\n      inline_js[i].call(root, root.Bokeh);\n    }\n    } else if (Date.now() < root._bokeh_timeout) {\n      setTimeout(run_inline_js, 100);\n    } else if (!root._bokeh_failed_load) {\n      console.log(\"Bokeh: BokehJS failed to load within specified timeout.\");\n      root._bokeh_failed_load = true;\n    } else if (force !== true) {\n      var cell = $(document.getElementById(null)).parents('.cell').data().cell;\n      cell.output_area.append_execute_result(NB_LOAD_WARNING)\n    }\n\n  }\n\n  if (root._bokeh_is_loading === 0) {\n    console.debug(\"Bokeh: BokehJS loaded, going straight to plotting\");\n    run_inline_js();\n  } else {\n    load_libs(css_urls, js_urls, function() {\n      console.debug(\"Bokeh: BokehJS plotting callback run at\", now());\n      run_inline_js();\n    });\n  }\n}(window));"
          },
          "metadata": {
            "tags": []
          }
        },
        {
          "output_type": "display_data",
          "data": {
            "text/html": [
              "\n",
              "\n",
              "\n",
              "\n",
              "\n",
              "\n",
              "  <div class=\"bk-root\" id=\"d314a183-3fed-4e21-8098-b080f9a8a56c\" data-root-id=\"1109\"></div>\n"
            ]
          },
          "metadata": {
            "tags": []
          }
        },
        {
          "output_type": "display_data",
          "data": {
            "application/javascript": [
              "(function(root) {\n",
              "  function embed_document(root) {\n",
              "    \n",
              "  var docs_json = {\"c415f803-2e5c-490a-ab43-25517d88f9b8\":{\"roots\":{\"references\":[{\"attributes\":{\"below\":[{\"id\":\"1118\",\"type\":\"LinearAxis\"}],\"center\":[{\"id\":\"1122\",\"type\":\"Grid\"},{\"id\":\"1127\",\"type\":\"Grid\"}],\"left\":[{\"id\":\"1123\",\"type\":\"LinearAxis\"}],\"plot_height\":400,\"renderers\":[{\"id\":\"1145\",\"type\":\"GlyphRenderer\"},{\"id\":\"1150\",\"type\":\"GlyphRenderer\"}],\"title\":{\"id\":\"1164\",\"type\":\"Title\"},\"toolbar\":{\"id\":\"1134\",\"type\":\"Toolbar\"},\"x_range\":{\"id\":\"1110\",\"type\":\"DataRange1d\"},\"x_scale\":{\"id\":\"1114\",\"type\":\"LinearScale\"},\"y_range\":{\"id\":\"1112\",\"type\":\"DataRange1d\"},\"y_scale\":{\"id\":\"1116\",\"type\":\"LinearScale\"}},\"id\":\"1109\",\"subtype\":\"Figure\",\"type\":\"Plot\"},{\"attributes\":{},\"id\":\"1170\",\"type\":\"Selection\"},{\"attributes\":{\"source\":{\"id\":\"1108\",\"type\":\"ColumnDataSource\"}},\"id\":\"1151\",\"type\":\"CDSView\"},{\"attributes\":{\"callback\":null,\"tooltips\":[]},\"id\":\"1152\",\"type\":\"HoverTool\"},{\"attributes\":{\"fill_alpha\":{\"value\":0.1},\"fill_color\":{\"value\":\"#1f77b4\"},\"line_alpha\":{\"value\":0.1},\"line_color\":{\"value\":\"#1f77b4\"},\"size\":{\"units\":\"screen\",\"value\":10},\"x\":{\"field\":\"x\"},\"y\":{\"field\":\"y\"}},\"id\":\"1144\",\"type\":\"Scatter\"},{\"attributes\":{},\"id\":\"1131\",\"type\":\"SaveTool\"},{\"attributes\":{\"fill_alpha\":{\"value\":0.1},\"fill_color\":{\"value\":\"#1f77b4\"},\"line_alpha\":{\"value\":0.1},\"line_color\":{\"value\":\"#1f77b4\"},\"size\":{\"units\":\"screen\",\"value\":10},\"x\":{\"field\":\"x\"},\"y\":{\"field\":\"y\"}},\"id\":\"1149\",\"type\":\"Scatter\"},{\"attributes\":{},\"id\":\"1132\",\"type\":\"ResetTool\"},{\"attributes\":{\"callback\":null},\"id\":\"1110\",\"type\":\"DataRange1d\"},{\"attributes\":{},\"id\":\"1133\",\"type\":\"HelpTool\"},{\"attributes\":{\"callback\":null},\"id\":\"1112\",\"type\":\"DataRange1d\"},{\"attributes\":{},\"id\":\"1129\",\"type\":\"WheelZoomTool\"},{\"attributes\":{},\"id\":\"1171\",\"type\":\"UnionRenderers\"},{\"attributes\":{},\"id\":\"1168\",\"type\":\"BasicTickFormatter\"},{\"attributes\":{\"data_source\":{\"id\":\"1141\",\"type\":\"ColumnDataSource\"},\"glyph\":{\"id\":\"1143\",\"type\":\"Scatter\"},\"hover_glyph\":null,\"muted_glyph\":null,\"nonselection_glyph\":{\"id\":\"1144\",\"type\":\"Scatter\"},\"selection_glyph\":null,\"view\":{\"id\":\"1146\",\"type\":\"CDSView\"}},\"id\":\"1145\",\"type\":\"GlyphRenderer\"},{\"attributes\":{},\"id\":\"1128\",\"type\":\"PanTool\"},{\"attributes\":{\"text\":\"\"},\"id\":\"1164\",\"type\":\"Title\"},{\"attributes\":{},\"id\":\"1173\",\"type\":\"UnionRenderers\"},{\"attributes\":{\"source\":{\"id\":\"1141\",\"type\":\"ColumnDataSource\"}},\"id\":\"1146\",\"type\":\"CDSView\"},{\"attributes\":{\"ticker\":{\"id\":\"1119\",\"type\":\"BasicTicker\"}},\"id\":\"1122\",\"type\":\"Grid\"},{\"attributes\":{},\"id\":\"1166\",\"type\":\"BasicTickFormatter\"},{\"attributes\":{\"callback\":null,\"data\":{\"color\":[\"red\",\"red\",\"red\",\"red\",\"red\",\"red\",\"red\",\"red\",\"red\",\"red\",\"red\",\"red\",\"red\",\"red\",\"red\",\"red\",\"red\",\"red\",\"red\",\"red\",\"red\",\"red\",\"red\",\"red\",\"red\",\"red\",\"red\",\"red\",\"red\",\"red\",\"red\",\"red\",\"red\",\"red\",\"red\",\"red\",\"red\",\"red\",\"red\",\"red\",\"red\",\"red\",\"red\",\"red\",\"red\",\"red\",\"red\",\"red\",\"red\",\"red\",\"red\",\"red\",\"red\",\"red\",\"red\",\"red\",\"red\",\"red\",\"red\",\"red\",\"red\",\"red\",\"red\",\"red\",\"red\",\"red\",\"red\",\"red\",\"red\",\"red\",\"red\",\"red\",\"red\",\"red\",\"red\",\"red\",\"red\",\"red\",\"red\",\"red\",\"red\",\"red\",\"red\",\"red\",\"red\",\"red\",\"red\",\"red\",\"red\",\"red\",\"red\",\"red\",\"red\",\"red\",\"red\",\"red\",\"red\",\"red\",\"red\",\"red\",\"red\",\"red\",\"red\",\"red\",\"red\",\"red\",\"red\",\"red\",\"red\",\"red\",\"red\",\"red\",\"red\",\"red\",\"red\",\"red\",\"red\",\"red\",\"red\",\"red\",\"red\",\"red\",\"red\",\"red\",\"red\",\"red\",\"red\",\"red\",\"red\",\"red\",\"red\",\"red\",\"red\",\"red\",\"red\",\"red\",\"red\",\"red\",\"red\",\"red\",\"red\",\"red\",\"red\",\"red\",\"red\",\"red\",\"red\",\"red\",\"red\",\"red\",\"red\",\"red\",\"red\",\"red\",\"red\",\"red\",\"red\",\"red\",\"red\",\"red\",\"red\",\"red\",\"red\",\"red\",\"red\",\"red\",\"red\",\"red\",\"red\",\"red\",\"red\",\"red\",\"red\",\"red\",\"red\",\"red\",\"red\",\"red\",\"red\",\"red\",\"red\",\"red\",\"red\",\"red\",\"red\",\"red\",\"red\",\"red\",\"red\",\"red\",\"red\",\"red\",\"red\",\"red\",\"red\",\"red\",\"red\",\"red\",\"red\",\"red\",\"red\",\"red\",\"red\",\"red\",\"red\",\"red\",\"red\",\"red\",\"red\",\"red\",\"red\",\"red\",\"red\",\"red\",\"red\",\"red\",\"red\",\"red\",\"red\",\"red\",\"red\",\"red\",\"red\",\"red\",\"red\",\"red\",\"red\",\"red\",\"red\",\"red\",\"red\",\"red\",\"red\",\"red\",\"red\",\"red\",\"red\",\"red\",\"red\",\"red\",\"red\",\"red\",\"red\",\"red\",\"red\",\"red\",\"red\",\"red\",\"red\",\"red\",\"red\",\"red\",\"red\",\"red\",\"red\",\"red\",\"red\",\"red\",\"red\",\"red\",\"red\",\"red\",\"red\",\"red\",\"red\",\"red\",\"red\",\"red\",\"red\",\"red\",\"red\",\"red\",\"red\",\"red\",\"red\",\"red\",\"red\",\"red\",\"red\",\"red\",\"red\",\"red\",\"red\",\"red\",\"red\",\"red\",\"red\",\"red\",\"red\",\"red\",\"red\",\"red\",\"red\",\"red\",\"red\",\"red\",\"red\",\"red\",\"red\",\"red\",\"red\",\"red\",\"red\",\"red\",\"red\",\"red\",\"red\",\"red\",\"red\",\"red\",\"red\",\"red\",\"red\",\"red\",\"red\",\"red\",\"red\",\"red\",\"red\",\"red\",\"red\",\"red\",\"red\",\"red\",\"red\",\"red\",\"red\",\"red\",\"red\",\"red\",\"red\",\"red\",\"red\",\"red\",\"red\",\"red\",\"red\",\"red\",\"red\",\"red\",\"red\",\"red\",\"red\",\"red\",\"red\",\"red\",\"red\",\"red\",\"red\",\"red\",\"red\",\"red\",\"red\",\"red\",\"red\",\"red\",\"red\",\"red\",\"red\",\"red\",\"red\",\"red\",\"red\",\"red\",\"red\",\"red\",\"red\",\"red\",\"red\",\"red\",\"red\",\"red\",\"red\",\"red\",\"red\",\"red\",\"red\",\"red\",\"red\",\"red\",\"red\",\"red\",\"red\",\"red\",\"red\",\"red\",\"red\",\"red\",\"red\",\"red\",\"red\",\"red\",\"red\",\"red\",\"red\",\"red\",\"red\",\"red\",\"red\",\"red\",\"red\",\"red\",\"red\",\"red\",\"red\",\"red\",\"red\",\"red\",\"red\",\"red\",\"red\",\"red\",\"red\",\"red\",\"red\",\"red\",\"red\",\"red\",\"red\",\"red\",\"red\",\"red\",\"red\",\"red\",\"red\",\"red\",\"red\",\"red\",\"red\",\"red\",\"red\",\"red\",\"red\",\"red\",\"red\",\"red\",\"red\",\"red\",\"red\",\"red\",\"red\",\"red\",\"red\",\"red\",\"red\",\"red\",\"red\",\"red\",\"red\",\"red\",\"red\",\"red\",\"red\",\"red\",\"red\",\"red\",\"red\",\"red\",\"red\",\"red\",\"red\",\"red\",\"red\",\"red\",\"red\",\"red\",\"red\",\"red\",\"red\",\"red\",\"red\",\"red\",\"red\",\"red\",\"red\",\"red\",\"red\",\"red\",\"red\",\"red\",\"red\",\"red\",\"red\",\"red\",\"red\",\"red\",\"red\",\"red\",\"red\",\"red\",\"red\",\"red\",\"red\",\"red\",\"red\",\"red\",\"red\",\"red\",\"red\",\"red\",\"red\",\"red\",\"red\",\"red\",\"red\",\"red\",\"red\",\"red\",\"red\",\"red\",\"red\",\"red\",\"red\",\"red\",\"red\",\"red\",\"red\",\"red\",\"red\",\"red\",\"red\",\"red\",\"red\",\"red\",\"red\",\"red\",\"red\",\"red\",\"red\",\"red\",\"red\",\"red\",\"red\",\"red\",\"red\",\"red\",\"red\",\"red\",\"red\",\"red\",\"red\",\"red\",\"red\",\"red\",\"red\",\"red\",\"red\",\"red\",\"red\",\"red\",\"red\",\"red\",\"red\",\"red\",\"red\",\"red\",\"red\",\"red\",\"red\",\"red\",\"red\",\"red\",\"red\",\"red\",\"red\",\"red\",\"red\",\"red\",\"red\",\"red\",\"red\",\"red\",\"red\",\"red\",\"red\",\"red\",\"red\",\"red\",\"red\",\"red\",\"red\",\"red\",\"red\",\"red\",\"red\",\"red\",\"red\",\"red\",\"red\",\"red\",\"red\",\"red\",\"red\",\"red\",\"red\",\"red\",\"red\",\"red\",\"red\",\"red\",\"red\",\"red\",\"red\",\"red\",\"red\",\"red\",\"red\",\"red\",\"red\",\"red\",\"red\",\"red\",\"red\",\"red\",\"red\",\"red\",\"red\",\"red\",\"red\",\"red\",\"red\",\"red\",\"red\",\"red\",\"red\",\"red\",\"red\",\"red\",\"red\",\"red\",\"red\",\"red\",\"red\",\"red\",\"red\",\"red\",\"red\",\"red\",\"red\",\"red\",\"red\",\"red\",\"red\",\"red\",\"red\",\"red\",\"red\",\"red\",\"red\",\"red\",\"red\",\"red\",\"red\",\"red\",\"red\",\"red\",\"red\",\"red\",\"red\",\"red\",\"red\",\"red\",\"red\",\"red\",\"red\",\"red\",\"red\",\"red\",\"red\",\"red\",\"red\",\"red\",\"red\",\"red\",\"red\",\"red\",\"red\",\"red\",\"red\",\"red\",\"red\",\"red\",\"red\",\"red\",\"red\",\"red\",\"red\",\"red\",\"red\",\"red\",\"red\",\"red\",\"red\",\"red\",\"red\",\"red\",\"red\",\"red\",\"red\",\"red\",\"red\",\"red\",\"red\",\"red\",\"red\",\"red\",\"red\",\"red\",\"red\",\"red\",\"red\",\"red\",\"red\",\"red\",\"red\",\"red\",\"red\",\"red\",\"red\",\"red\",\"red\",\"red\",\"red\",\"red\",\"red\",\"red\",\"red\",\"red\",\"red\",\"red\",\"red\",\"red\",\"red\",\"red\",\"red\",\"red\",\"red\",\"red\",\"red\",\"red\",\"red\",\"red\",\"red\",\"red\",\"red\",\"red\",\"red\",\"red\",\"red\",\"red\",\"red\",\"red\",\"red\",\"red\",\"red\",\"red\",\"red\",\"red\",\"red\",\"red\",\"red\",\"red\",\"red\",\"red\",\"red\",\"red\",\"red\",\"red\",\"red\",\"red\",\"red\",\"red\",\"red\",\"red\",\"red\",\"red\",\"red\",\"red\",\"red\",\"red\",\"red\",\"red\",\"red\",\"red\",\"red\",\"red\",\"red\",\"red\",\"red\",\"red\",\"red\",\"red\",\"red\",\"red\",\"red\",\"red\",\"red\",\"red\",\"red\",\"red\",\"red\",\"red\",\"red\",\"red\",\"red\",\"red\",\"red\",\"red\",\"red\",\"red\",\"red\",\"red\",\"red\",\"red\",\"red\",\"red\",\"red\",\"red\",\"red\",\"red\",\"red\",\"red\",\"red\",\"red\",\"red\",\"red\",\"red\",\"red\",\"red\",\"red\",\"red\",\"red\",\"red\",\"red\",\"red\",\"red\",\"red\",\"red\",\"red\",\"red\",\"red\",\"red\",\"red\",\"red\",\"red\",\"red\",\"red\",\"red\",\"red\",\"red\",\"red\",\"red\",\"red\",\"red\",\"red\",\"red\",\"red\",\"red\",\"red\",\"red\",\"red\",\"red\",\"red\",\"red\",\"red\",\"red\",\"red\",\"red\",\"red\",\"red\",\"red\",\"red\",\"red\",\"red\",\"red\",\"red\",\"red\",\"red\",\"red\",\"red\",\"red\",\"red\",\"red\",\"red\",\"red\",\"red\",\"red\",\"red\",\"red\",\"red\",\"red\",\"red\",\"red\",\"red\",\"red\",\"red\",\"red\",\"red\",\"red\",\"red\",\"red\",\"red\",\"red\",\"red\",\"red\",\"red\",\"red\",\"red\",\"red\",\"red\",\"red\",\"red\",\"red\",\"red\",\"red\",\"red\",\"red\",\"red\",\"red\",\"red\",\"red\",\"red\",\"red\",\"red\",\"red\",\"red\",\"red\",\"red\",\"red\",\"red\",\"red\",\"red\",\"red\",\"red\",\"red\",\"red\",\"red\",\"red\",\"red\",\"red\",\"red\",\"red\",\"red\",\"red\",\"red\",\"red\",\"red\",\"red\",\"red\",\"red\",\"red\",\"red\",\"red\",\"red\",\"red\",\"red\",\"red\",\"red\",\"red\",\"red\",\"red\",\"red\",\"red\",\"red\",\"red\",\"red\",\"red\",\"red\",\"red\",\"red\",\"red\",\"red\",\"red\",\"red\",\"red\",\"red\",\"red\",\"red\",\"red\",\"red\",\"red\",\"red\",\"red\",\"red\",\"red\",\"red\",\"red\",\"red\",\"red\",\"red\",\"red\",\"red\",\"red\",\"red\",\"red\",\"red\",\"red\",\"red\",\"red\",\"red\",\"red\",\"red\",\"red\",\"red\",\"red\",\"red\",\"red\",\"red\",\"red\",\"red\",\"red\",\"red\",\"red\",\"red\",\"red\",\"red\",\"red\",\"red\",\"red\",\"red\",\"red\",\"red\",\"red\",\"red\",\"red\",\"red\",\"red\",\"red\",\"red\",\"red\",\"red\",\"red\",\"red\",\"red\",\"red\",\"red\",\"red\",\"red\",\"red\",\"red\",\"red\",\"red\",\"red\",\"red\",\"red\",\"red\",\"red\",\"red\",\"red\",\"red\",\"red\",\"red\",\"red\",\"red\",\"red\",\"red\",\"red\",\"red\",\"red\",\"red\",\"red\",\"red\",\"red\",\"red\",\"red\",\"red\",\"red\",\"red\",\"red\",\"red\",\"red\",\"red\",\"red\",\"red\",\"red\",\"red\",\"red\",\"red\",\"red\",\"red\",\"red\",\"red\",\"red\",\"red\",\"red\",\"red\",\"red\",\"red\",\"red\",\"red\",\"red\",\"red\",\"red\",\"red\",\"red\",\"red\",\"red\",\"red\",\"red\",\"red\",\"red\",\"red\",\"red\",\"red\",\"red\",\"red\",\"red\",\"red\",\"red\",\"red\",\"red\",\"red\",\"red\",\"red\",\"red\",\"red\",\"red\",\"red\",\"red\",\"red\",\"red\",\"red\",\"red\",\"red\",\"red\",\"red\",\"red\",\"red\",\"red\",\"red\",\"red\",\"red\",\"red\",\"red\",\"red\",\"red\",\"red\",\"red\",\"red\",\"red\",\"red\",\"red\",\"red\",\"red\",\"red\",\"red\",\"red\",\"red\",\"red\",\"red\",\"red\",\"red\",\"red\",\"red\",\"red\",\"red\",\"red\",\"red\",\"red\",\"red\",\"red\",\"red\",\"red\",\"red\",\"red\",\"red\",\"red\",\"red\",\"red\",\"red\",\"red\",\"red\",\"red\",\"red\",\"red\",\"red\",\"red\",\"red\",\"red\",\"red\",\"red\",\"red\",\"red\",\"red\",\"red\",\"red\",\"red\",\"red\",\"red\",\"red\",\"red\",\"red\",\"red\",\"red\",\"red\",\"red\",\"red\",\"red\",\"red\",\"red\",\"red\",\"red\",\"red\",\"red\",\"red\",\"red\",\"red\",\"red\",\"red\",\"red\",\"red\",\"red\",\"red\",\"red\",\"red\",\"red\",\"red\",\"red\",\"red\",\"red\",\"red\",\"red\",\"red\",\"red\",\"red\",\"red\",\"red\",\"red\",\"red\",\"red\",\"red\",\"red\",\"red\",\"red\",\"red\",\"red\",\"red\",\"red\",\"red\",\"red\",\"red\",\"red\",\"red\",\"red\",\"red\",\"red\",\"red\",\"red\",\"red\",\"red\",\"red\",\"red\",\"red\",\"red\",\"red\",\"red\",\"red\",\"red\",\"red\",\"red\",\"red\",\"red\",\"red\",\"red\",\"red\",\"red\",\"red\",\"red\",\"red\",\"red\",\"red\",\"red\",\"red\",\"red\",\"red\",\"red\",\"red\",\"red\",\"red\",\"red\",\"red\",\"red\",\"red\",\"red\",\"red\",\"red\",\"red\",\"red\",\"red\",\"red\",\"red\",\"red\",\"red\",\"red\",\"red\",\"red\",\"red\",\"red\",\"red\",\"red\",\"red\",\"red\",\"red\",\"red\",\"red\",\"red\",\"red\",\"red\",\"red\",\"red\",\"red\",\"red\",\"red\",\"red\",\"red\",\"red\",\"red\",\"red\",\"red\",\"red\",\"red\",\"red\",\"red\",\"red\",\"red\",\"red\",\"red\",\"red\",\"red\",\"red\",\"red\",\"red\",\"red\",\"red\",\"red\",\"red\",\"red\",\"red\",\"red\",\"red\",\"red\",\"red\",\"red\",\"red\",\"red\",\"red\",\"red\",\"red\",\"red\",\"red\",\"red\",\"red\",\"red\",\"red\",\"red\",\"red\",\"red\",\"red\",\"red\",\"red\",\"red\",\"red\",\"red\",\"red\",\"red\",\"red\",\"red\",\"red\",\"red\",\"red\",\"red\",\"red\",\"red\",\"red\",\"red\",\"red\",\"red\",\"red\",\"red\",\"red\",\"red\",\"red\",\"red\",\"red\",\"red\",\"red\",\"red\",\"red\",\"red\",\"red\",\"red\",\"red\",\"red\",\"red\",\"red\",\"red\",\"red\",\"red\",\"red\",\"red\",\"red\",\"red\",\"red\",\"red\",\"red\",\"red\",\"red\",\"red\",\"red\",\"red\",\"red\",\"red\",\"red\",\"red\",\"red\",\"red\",\"red\",\"red\",\"red\",\"red\",\"red\",\"red\",\"red\",\"red\",\"red\",\"red\",\"red\",\"red\",\"red\",\"red\",\"red\",\"red\",\"red\",\"red\",\"red\",\"red\",\"red\",\"red\",\"red\",\"red\",\"red\",\"red\",\"red\",\"red\",\"red\",\"red\",\"red\",\"red\",\"red\",\"red\",\"red\",\"red\",\"red\",\"red\",\"red\",\"red\",\"red\",\"red\",\"red\",\"red\",\"red\",\"red\",\"red\",\"red\",\"red\",\"red\",\"red\",\"red\",\"red\",\"red\",\"red\",\"red\",\"red\",\"red\",\"red\",\"red\",\"red\",\"red\",\"red\",\"red\",\"red\",\"red\",\"red\",\"red\",\"red\",\"red\",\"red\",\"red\",\"red\",\"red\",\"red\",\"red\",\"red\",\"red\",\"red\",\"red\",\"red\",\"red\",\"red\",\"red\",\"red\",\"red\",\"red\",\"red\",\"red\",\"red\",\"red\",\"red\",\"red\",\"red\",\"red\",\"red\",\"red\",\"red\",\"red\",\"red\",\"red\",\"red\",\"red\",\"red\",\"red\",\"red\",\"red\",\"red\",\"red\",\"red\",\"red\",\"red\",\"red\",\"red\",\"red\",\"red\",\"red\",\"red\",\"red\",\"red\",\"red\",\"red\",\"red\",\"red\",\"red\",\"red\",\"red\",\"red\",\"red\",\"red\",\"red\",\"red\",\"red\",\"red\",\"red\",\"red\",\"red\",\"red\",\"red\",\"red\",\"red\",\"red\",\"red\",\"red\",\"red\",\"red\",\"red\",\"red\",\"red\",\"red\",\"red\",\"red\",\"red\",\"red\",\"red\",\"red\",\"red\",\"red\",\"red\",\"red\",\"red\",\"red\",\"red\",\"red\",\"red\",\"red\",\"red\",\"red\",\"red\",\"red\",\"red\",\"red\",\"red\",\"red\",\"red\",\"red\",\"red\",\"red\",\"red\",\"red\",\"red\",\"red\",\"red\",\"red\",\"red\",\"red\",\"red\",\"red\",\"red\",\"red\",\"red\",\"red\",\"red\",\"red\",\"red\",\"red\",\"red\",\"red\",\"red\",\"red\",\"red\",\"red\",\"red\",\"red\",\"red\",\"red\",\"red\",\"red\",\"red\",\"red\",\"red\",\"red\",\"red\",\"red\",\"red\",\"red\",\"red\",\"red\",\"red\",\"red\",\"red\",\"red\",\"red\",\"red\",\"red\",\"red\",\"red\",\"red\",\"red\",\"red\",\"red\",\"red\",\"red\",\"red\",\"red\",\"red\",\"red\",\"red\",\"red\",\"red\",\"red\",\"red\",\"red\",\"red\",\"red\",\"red\",\"red\",\"red\",\"red\",\"red\",\"red\",\"red\",\"red\",\"red\",\"red\",\"red\",\"red\",\"red\",\"red\",\"red\",\"red\",\"red\",\"red\",\"red\",\"red\",\"red\",\"red\",\"red\",\"red\",\"red\",\"red\",\"red\",\"red\",\"red\",\"red\",\"red\",\"red\",\"red\",\"red\",\"red\",\"red\",\"red\",\"red\",\"red\",\"red\",\"red\",\"red\",\"red\",\"red\",\"red\",\"red\",\"red\",\"red\",\"red\",\"red\",\"red\",\"red\",\"red\",\"red\",\"red\",\"red\",\"red\",\"red\",\"red\",\"red\",\"red\",\"red\",\"red\",\"red\",\"red\",\"red\",\"red\",\"red\",\"red\",\"red\",\"red\",\"red\",\"red\",\"red\",\"red\",\"red\",\"red\",\"red\",\"red\",\"red\",\"red\",\"red\",\"red\",\"red\",\"red\",\"red\",\"red\",\"red\",\"red\",\"red\",\"red\",\"red\",\"red\",\"red\",\"red\",\"red\",\"red\",\"red\",\"red\",\"red\",\"red\",\"red\",\"red\",\"red\",\"red\",\"red\",\"red\",\"red\",\"red\",\"red\",\"red\",\"red\",\"red\",\"red\",\"red\",\"red\",\"red\",\"red\",\"red\",\"red\",\"red\",\"red\",\"red\",\"red\",\"red\",\"red\",\"red\",\"red\",\"red\",\"red\",\"red\",\"red\",\"red\",\"red\",\"red\",\"red\",\"red\",\"red\",\"red\",\"red\",\"red\",\"red\",\"red\",\"red\",\"red\",\"red\",\"red\",\"red\",\"red\",\"red\",\"red\",\"red\",\"red\",\"red\",\"red\",\"red\",\"red\",\"red\",\"red\",\"red\",\"red\",\"red\",\"red\",\"red\",\"red\",\"red\",\"red\",\"red\",\"red\",\"red\",\"red\",\"red\",\"red\",\"red\",\"red\",\"red\",\"red\",\"red\",\"red\",\"red\",\"red\",\"red\",\"red\",\"red\",\"red\",\"red\",\"red\",\"red\",\"red\",\"red\",\"red\",\"red\",\"red\",\"red\",\"red\",\"red\",\"red\",\"red\",\"red\",\"red\",\"red\",\"red\",\"red\",\"red\",\"red\",\"red\",\"red\",\"red\",\"red\",\"red\",\"red\",\"red\",\"red\",\"red\",\"red\",\"red\",\"red\",\"red\",\"red\",\"red\",\"red\",\"red\",\"red\",\"red\",\"red\",\"red\",\"red\",\"red\",\"red\",\"red\",\"red\",\"red\",\"red\",\"red\",\"red\",\"red\",\"red\",\"red\",\"red\",\"red\",\"red\",\"red\",\"red\",\"red\",\"red\",\"red\",\"red\",\"red\",\"red\",\"red\",\"red\",\"red\",\"red\",\"red\",\"red\",\"red\",\"red\",\"red\",\"red\",\"red\",\"red\",\"red\",\"red\",\"red\",\"red\",\"red\",\"red\",\"red\",\"red\",\"red\",\"red\",\"red\",\"red\",\"red\",\"red\",\"red\",\"red\",\"red\",\"red\",\"red\",\"red\",\"red\",\"red\",\"red\",\"red\",\"red\",\"red\",\"red\",\"red\",\"red\",\"red\",\"red\",\"red\",\"red\",\"red\",\"red\",\"red\",\"red\",\"red\",\"red\",\"red\",\"red\",\"red\",\"red\",\"red\",\"red\",\"red\",\"red\",\"red\",\"red\",\"red\",\"red\",\"red\",\"red\",\"red\",\"red\",\"red\",\"red\",\"red\",\"red\",\"red\",\"red\",\"red\",\"red\",\"red\",\"red\",\"red\",\"red\",\"red\",\"red\",\"red\",\"red\",\"red\",\"red\",\"red\",\"red\",\"red\",\"red\",\"red\",\"red\",\"red\",\"red\",\"red\",\"red\",\"red\",\"red\",\"red\",\"red\",\"red\",\"red\",\"red\",\"red\",\"red\",\"red\",\"red\",\"red\",\"red\",\"red\",\"red\",\"red\",\"red\",\"red\",\"red\",\"red\",\"red\",\"red\",\"red\",\"red\",\"red\",\"red\",\"red\",\"red\",\"red\",\"red\",\"red\",\"red\",\"red\",\"red\",\"red\",\"red\",\"red\",\"red\",\"red\",\"red\",\"red\",\"red\",\"red\",\"red\",\"red\",\"red\",\"red\",\"red\",\"red\",\"red\",\"red\",\"red\",\"red\",\"red\",\"red\",\"red\",\"red\",\"red\",\"red\",\"red\",\"red\",\"red\",\"red\",\"red\",\"red\",\"red\",\"red\",\"red\",\"red\",\"red\",\"red\",\"red\",\"red\",\"red\",\"red\",\"red\",\"red\",\"red\",\"red\",\"red\",\"red\",\"red\",\"red\",\"red\",\"red\",\"red\",\"red\",\"red\",\"red\",\"red\",\"red\",\"red\",\"red\",\"red\",\"red\",\"red\",\"red\",\"red\",\"red\",\"red\",\"red\",\"red\",\"red\",\"red\",\"red\",\"red\",\"red\",\"red\",\"red\",\"red\",\"red\",\"red\",\"red\",\"red\",\"red\",\"red\",\"red\",\"red\",\"red\",\"red\",\"red\",\"red\",\"red\",\"red\",\"red\",\"red\",\"red\",\"red\",\"red\",\"red\",\"red\",\"red\",\"red\",\"red\",\"red\",\"red\",\"red\",\"red\",\"red\",\"red\",\"red\",\"red\",\"red\",\"red\",\"red\",\"red\",\"red\",\"red\",\"red\",\"red\",\"red\",\"red\",\"red\",\"red\",\"red\",\"red\",\"red\",\"red\",\"red\",\"red\",\"red\",\"red\",\"red\",\"red\",\"red\",\"red\",\"red\",\"red\",\"red\",\"red\",\"red\",\"red\",\"red\",\"red\",\"red\",\"red\",\"red\",\"red\",\"red\",\"red\",\"red\",\"red\",\"red\",\"red\",\"red\",\"red\",\"red\",\"red\",\"red\",\"red\",\"red\",\"red\",\"red\",\"red\",\"red\",\"red\",\"red\",\"red\",\"red\",\"red\",\"red\",\"red\",\"red\",\"red\",\"red\",\"red\",\"red\",\"red\",\"red\",\"red\",\"red\",\"red\",\"red\",\"red\",\"red\",\"red\",\"red\",\"red\",\"red\",\"red\",\"red\",\"red\",\"red\",\"red\",\"red\",\"red\",\"red\",\"red\",\"red\",\"red\",\"red\",\"red\",\"red\",\"red\",\"red\",\"red\",\"red\",\"red\",\"red\",\"red\",\"red\",\"red\"],\"x\":{\"__ndarray__\":\"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\",\"dtype\":\"float32\",\"shape\":[2247]},\"y\":{\"__ndarray__\":\"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\",\"dtype\":\"float32\",\"shape\":[2247]}},\"selected\":{\"id\":\"1170\",\"type\":\"Selection\"},\"selection_policy\":{\"id\":\"1171\",\"type\":\"UnionRenderers\"}},\"id\":\"1141\",\"type\":\"ColumnDataSource\"},{\"attributes\":{\"callback\":null,\"data\":{\"color\":[\"blue\",\"blue\",\"blue\",\"blue\",\"blue\",\"blue\",\"blue\",\"blue\",\"blue\",\"blue\",\"blue\",\"blue\",\"blue\",\"blue\",\"blue\",\"blue\",\"blue\",\"blue\",\"blue\",\"blue\",\"blue\",\"blue\",\"blue\",\"blue\",\"blue\",\"blue\",\"blue\",\"blue\",\"blue\",\"blue\",\"blue\",\"blue\",\"blue\",\"blue\",\"blue\",\"blue\",\"blue\",\"blue\",\"blue\",\"blue\",\"blue\",\"blue\",\"blue\",\"blue\",\"blue\",\"blue\",\"blue\",\"blue\",\"blue\",\"blue\",\"blue\",\"blue\",\"blue\",\"blue\",\"blue\",\"blue\",\"blue\",\"blue\",\"blue\",\"blue\",\"blue\",\"blue\",\"blue\",\"blue\",\"blue\",\"blue\",\"blue\",\"blue\",\"blue\",\"blue\",\"blue\",\"blue\",\"blue\",\"blue\",\"blue\",\"blue\",\"blue\",\"blue\",\"blue\",\"blue\",\"blue\",\"blue\",\"blue\",\"blue\",\"blue\",\"blue\",\"blue\",\"blue\",\"blue\",\"blue\",\"blue\",\"blue\",\"blue\",\"blue\",\"blue\",\"blue\",\"blue\",\"blue\",\"blue\",\"blue\",\"blue\",\"blue\",\"blue\",\"blue\",\"blue\",\"blue\",\"blue\",\"blue\",\"blue\",\"blue\",\"blue\",\"blue\",\"blue\",\"blue\",\"blue\",\"blue\",\"blue\",\"blue\",\"blue\",\"blue\",\"blue\",\"blue\",\"blue\",\"blue\",\"blue\",\"blue\",\"blue\",\"blue\",\"blue\",\"blue\",\"blue\",\"blue\",\"blue\",\"blue\",\"blue\",\"blue\",\"blue\",\"blue\",\"blue\",\"blue\",\"blue\",\"blue\",\"blue\",\"blue\",\"blue\",\"blue\",\"blue\",\"blue\",\"blue\",\"blue\",\"blue\",\"blue\",\"blue\",\"blue\",\"blue\",\"blue\",\"blue\",\"blue\",\"blue\",\"blue\",\"blue\",\"blue\",\"blue\",\"blue\",\"blue\",\"blue\",\"blue\",\"blue\",\"blue\",\"blue\",\"blue\",\"blue\",\"blue\",\"blue\",\"blue\",\"blue\",\"blue\",\"blue\",\"blue\",\"blue\",\"blue\",\"blue\",\"blue\",\"blue\",\"blue\",\"blue\",\"blue\",\"blue\",\"blue\",\"blue\",\"blue\",\"blue\",\"blue\",\"blue\",\"blue\",\"blue\",\"blue\",\"blue\",\"blue\",\"blue\",\"blue\",\"blue\",\"blue\",\"blue\",\"blue\",\"blue\",\"blue\",\"blue\",\"blue\",\"blue\",\"blue\",\"blue\",\"blue\",\"blue\",\"blue\",\"blue\",\"blue\",\"blue\",\"blue\",\"blue\",\"blue\",\"blue\",\"blue\",\"blue\",\"blue\",\"blue\",\"blue\",\"blue\",\"blue\",\"blue\",\"blue\",\"blue\",\"blue\",\"blue\",\"blue\",\"blue\",\"blue\",\"blue\",\"blue\",\"blue\",\"blue\",\"blue\",\"blue\",\"blue\",\"blue\",\"blue\",\"blue\",\"blue\",\"blue\",\"blue\",\"blue\",\"blue\",\"blue\",\"blue\",\"blue\",\"blue\",\"blue\",\"blue\",\"blue\",\"blue\",\"blue\",\"blue\",\"blue\",\"blue\",\"blue\",\"blue\",\"blue\",\"blue\",\"blue\",\"blue\",\"blue\",\"blue\",\"blue\",\"blue\",\"blue\",\"blue\",\"blue\",\"blue\",\"blue\",\"blue\",\"blue\",\"blue\",\"blue\",\"blue\",\"blue\",\"blue\",\"blue\",\"blue\",\"blue\",\"blue\",\"blue\",\"blue\",\"blue\",\"blue\",\"blue\",\"blue\",\"blue\",\"blue\",\"blue\",\"blue\",\"blue\",\"blue\",\"blue\",\"blue\",\"blue\",\"blue\",\"blue\",\"blue\",\"blue\",\"blue\",\"blue\",\"blue\",\"blue\",\"blue\",\"blue\",\"blue\",\"blue\",\"blue\",\"blue\",\"blue\",\"blue\",\"blue\",\"blue\",\"blue\",\"blue\",\"blue\",\"blue\",\"blue\",\"blue\",\"blue\",\"blue\",\"blue\",\"blue\",\"blue\",\"blue\",\"blue\",\"blue\",\"blue\",\"blue\",\"blue\",\"blue\",\"blue\",\"blue\",\"blue\",\"blue\",\"blue\",\"blue\",\"blue\",\"blue\",\"blue\",\"blue\",\"blue\",\"blue\",\"blue\",\"blue\",\"blue\",\"blue\",\"blue\",\"blue\",\"blue\",\"blue\",\"blue\",\"blue\",\"blue\",\"blue\",\"blue\",\"blue\",\"blue\",\"blue\",\"blue\",\"blue\",\"blue\",\"blue\",\"blue\",\"blue\",\"blue\",\"blue\",\"blue\",\"blue\",\"blue\",\"blue\",\"blue\",\"blue\",\"blue\",\"blue\",\"blue\",\"blue\",\"blue\",\"blue\",\"blue\",\"blue\",\"blue\",\"blue\",\"blue\",\"blue\",\"blue\",\"blue\",\"blue\",\"blue\",\"blue\",\"blue\",\"blue\",\"blue\",\"blue\",\"blue\",\"blue\",\"blue\",\"blue\",\"blue\",\"blue\",\"blue\",\"blue\",\"blue\",\"blue\",\"blue\",\"blue\",\"blue\",\"blue\",\"blue\",\"blue\",\"blue\",\"blue\",\"blue\",\"blue\",\"blue\",\"blue\",\"blue\",\"blue\",\"blue\",\"blue\",\"blue\",\"blue\",\"blue\",\"blue\",\"blue\",\"blue\",\"blue\",\"blue\",\"blue\",\"blue\",\"blue\",\"blue\",\"blue\",\"blue\",\"blue\",\"blue\",\"blue\",\"blue\",\"blue\",\"blue\",\"blue\",\"blue\",\"blue\",\"blue\",\"blue\",\"blue\",\"blue\",\"blue\",\"blue\",\"blue\",\"blue\",\"blue\",\"blue\",\"blue\",\"blue\",\"blue\",\"blue\",\"blue\",\"blue\",\"blue\",\"blue\",\"blue\",\"blue\",\"blue\",\"blue\",\"blue\",\"blue\",\"blue\",\"blue\",\"blue\",\"blue\",\"blue\",\"blue\",\"blue\",\"blue\",\"blue\",\"blue\",\"blue\",\"blue\",\"blue\",\"blue\",\"blue\",\"blue\",\"blue\",\"blue\",\"blue\",\"blue\",\"blue\",\"blue\",\"blue\",\"blue\",\"blue\",\"blue\",\"blue\",\"blue\",\"blue\",\"blue\",\"blue\",\"blue\",\"blue\",\"blue\",\"blue\",\"blue\",\"blue\",\"blue\",\"blue\",\"blue\",\"blue\",\"blue\",\"blue\",\"blue\",\"blue\",\"blue\",\"blue\",\"blue\",\"blue\",\"blue\",\"blue\",\"blue\",\"blue\",\"blue\",\"blue\",\"blue\",\"blue\",\"blue\",\"blue\",\"blue\",\"blue\",\"blue\",\"blue\",\"blue\",\"blue\",\"blue\",\"blue\",\"blue\",\"blue\",\"blue\",\"blue\",\"blue\",\"blue\",\"blue\",\"blue\",\"blue\",\"blue\",\"blue\",\"blue\",\"blue\",\"blue\",\"blue\",\"blue\",\"blue\",\"blue\",\"blue\",\"blue\",\"blue\",\"blue\",\"blue\",\"blue\",\"blue\",\"blue\",\"blue\",\"blue\",\"blue\",\"blue\",\"blue\",\"blue\",\"blue\",\"blue\",\"blue\",\"blue\",\"blue\",\"blue\",\"blue\",\"blue\",\"blue\",\"blue\",\"blue\",\"blue\",\"blue\",\"blue\",\"blue\",\"blue\",\"blue\",\"blue\",\"blue\",\"blue\",\"blue\",\"blue\",\"blue\",\"blue\",\"blue\",\"blue\",\"blue\",\"blue\",\"blue\",\"blue\",\"blue\",\"blue\",\"blue\",\"blue\",\"blue\",\"blue\",\"blue\",\"blue\",\"blue\",\"blue\",\"blue\",\"blue\",\"blue\",\"blue\",\"blue\",\"blue\",\"blue\",\"blue\",\"blue\",\"blue\",\"blue\",\"blue\",\"blue\",\"blue\",\"blue\",\"blue\",\"blue\",\"blue\",\"blue\",\"blue\",\"blue\",\"blue\",\"blue\",\"blue\",\"blue\",\"blue\",\"blue\",\"blue\",\"blue\",\"blue\",\"blue\",\"blue\",\"blue\",\"blue\",\"blue\",\"blue\",\"blue\",\"blue\",\"blue\",\"blue\",\"blue\",\"blue\",\"blue\",\"blue\",\"blue\",\"blue\",\"blue\",\"blue\",\"blue\",\"blue\",\"blue\",\"blue\",\"blue\",\"blue\",\"blue\",\"blue\",\"blue\",\"blue\",\"blue\",\"blue\",\"blue\",\"blue\",\"blue\",\"blue\",\"blue\",\"blue\",\"blue\",\"blue\",\"blue\",\"blue\",\"blue\",\"blue\",\"blue\",\"blue\",\"blue\",\"blue\",\"blue\",\"blue\",\"blue\",\"blue\",\"blue\",\"blue\",\"blue\",\"blue\",\"blue\",\"blue\",\"blue\",\"blue\",\"blue\",\"blue\",\"blue\",\"blue\",\"blue\",\"blue\",\"blue\",\"blue\",\"blue\",\"blue\",\"blue\",\"blue\",\"blue\",\"blue\",\"blue\",\"blue\",\"blue\",\"blue\",\"blue\",\"blue\",\"blue\",\"blue\",\"blue\",\"blue\",\"blue\",\"blue\",\"blue\",\"blue\",\"blue\",\"blue\",\"blue\",\"blue\",\"blue\",\"blue\",\"blue\",\"blue\",\"blue\",\"blue\",\"blue\",\"blue\",\"blue\",\"blue\",\"blue\",\"blue\",\"blue\",\"blue\",\"blue\",\"blue\",\"blue\",\"blue\",\"blue\",\"blue\",\"blue\",\"blue\",\"blue\",\"blue\",\"blue\",\"blue\",\"blue\",\"blue\",\"blue\",\"blue\",\"blue\",\"blue\",\"blue\",\"blue\",\"blue\",\"blue\",\"blue\",\"blue\",\"blue\",\"blue\",\"blue\",\"blue\",\"blue\",\"blue\",\"blue\",\"blue\",\"blue\",\"blue\",\"blue\",\"blue\",\"blue\",\"blue\",\"blue\",\"blue\",\"blue\",\"blue\",\"blue\",\"blue\",\"blue\",\"blue\",\"blue\",\"blue\",\"blue\",\"blue\",\"blue\",\"blue\",\"blue\",\"blue\",\"blue\",\"blue\",\"blue\",\"blue\",\"blue\",\"blue\",\"blue\",\"blue\",\"blue\",\"blue\",\"blue\",\"blue\",\"blue\",\"blue\",\"blue\",\"blue\",\"blue\",\"blue\",\"blue\",\"blue\",\"blue\",\"blue\",\"blue\",\"blue\",\"blue\",\"blue\",\"blue\",\"blue\",\"blue\",\"blue\",\"blue\",\"blue\",\"blue\",\"blue\",\"blue\",\"blue\",\"blue\",\"blue\",\"blue\",\"blue\",\"blue\",\"blue\",\"blue\",\"blue\",\"blue\",\"blue\",\"blue\",\"blue\",\"blue\",\"blue\",\"blue\",\"blue\",\"blue\",\"blue\",\"blue\",\"blue\",\"blue\",\"blue\",\"blue\",\"blue\",\"blue\",\"blue\",\"blue\",\"blue\",\"blue\",\"blue\",\"blue\",\"blue\",\"blue\",\"blue\",\"blue\",\"blue\",\"blue\",\"blue\",\"blue\",\"blue\",\"blue\",\"blue\",\"blue\",\"blue\",\"blue\",\"blue\",\"blue\",\"blue\",\"blue\",\"blue\",\"blue\",\"blue\",\"blue\",\"blue\",\"blue\",\"blue\",\"blue\",\"blue\",\"blue\",\"blue\",\"blue\",\"blue\",\"blue\",\"blue\",\"blue\",\"blue\",\"blue\",\"blue\",\"blue\",\"blue\",\"blue\",\"blue\",\"blue\",\"blue\",\"blue\",\"blue\",\"blue\",\"blue\",\"blue\",\"blue\",\"blue\",\"blue\",\"blue\",\"blue\",\"blue\",\"blue\",\"blue\",\"blue\",\"blue\",\"blue\",\"blue\",\"blue\",\"blue\",\"blue\",\"blue\",\"blue\",\"blue\",\"blue\",\"blue\",\"blue\",\"blue\",\"blue\",\"blue\",\"blue\",\"blue\",\"blue\",\"blue\",\"blue\",\"blue\",\"blue\",\"blue\",\"blue\",\"blue\",\"blue\",\"blue\",\"blue\",\"blue\",\"blue\",\"blue\",\"blue\",\"blue\",\"blue\",\"blue\",\"blue\",\"blue\",\"blue\",\"blue\",\"blue\",\"blue\",\"blue\",\"blue\",\"blue\",\"blue\",\"blue\",\"blue\",\"blue\",\"blue\",\"blue\",\"blue\",\"blue\",\"blue\",\"blue\",\"blue\",\"blue\",\"blue\",\"blue\",\"blue\",\"blue\",\"blue\",\"blue\",\"blue\",\"blue\",\"blue\",\"blue\",\"blue\",\"blue\",\"blue\",\"blue\",\"blue\",\"blue\",\"blue\",\"blue\",\"blue\",\"blue\",\"blue\",\"blue\",\"blue\",\"blue\",\"blue\",\"blue\",\"blue\",\"blue\",\"blue\",\"blue\",\"blue\",\"blue\",\"blue\",\"blue\",\"blue\",\"blue\",\"blue\",\"blue\",\"blue\",\"blue\",\"blue\",\"blue\",\"blue\",\"blue\",\"blue\",\"blue\",\"blue\",\"blue\",\"blue\",\"blue\",\"blue\",\"blue\",\"blue\",\"blue\",\"blue\",\"blue\",\"blue\",\"blue\",\"blue\",\"blue\",\"blue\",\"blue\",\"blue\",\"blue\",\"blue\",\"blue\",\"blue\",\"blue\",\"blue\",\"blue\",\"blue\",\"blue\",\"blue\",\"blue\",\"blue\",\"blue\",\"blue\",\"blue\",\"blue\",\"blue\",\"blue\",\"blue\",\"blue\",\"blue\",\"blue\",\"blue\",\"blue\",\"blue\",\"blue\",\"blue\",\"blue\",\"blue\",\"blue\",\"blue\",\"blue\",\"blue\",\"blue\",\"blue\",\"blue\",\"blue\",\"blue\",\"blue\",\"blue\",\"blue\",\"blue\",\"blue\",\"blue\",\"blue\",\"blue\",\"blue\",\"blue\",\"blue\",\"blue\",\"blue\",\"blue\",\"blue\",\"blue\",\"blue\",\"blue\",\"blue\",\"blue\",\"blue\",\"blue\",\"blue\",\"blue\",\"blue\",\"blue\",\"blue\",\"blue\",\"blue\",\"blue\",\"blue\",\"blue\",\"blue\",\"blue\",\"blue\",\"blue\",\"blue\",\"blue\",\"blue\",\"blue\",\"blue\",\"blue\",\"blue\",\"blue\",\"blue\",\"blue\",\"blue\",\"blue\",\"blue\",\"blue\",\"blue\",\"blue\",\"blue\",\"blue\",\"blue\",\"blue\",\"blue\",\"blue\",\"blue\",\"blue\",\"blue\",\"blue\",\"blue\",\"blue\",\"blue\",\"blue\",\"blue\",\"blue\",\"blue\",\"blue\",\"blue\",\"blue\",\"blue\",\"blue\",\"blue\",\"blue\",\"blue\",\"blue\",\"blue\",\"blue\",\"blue\",\"blue\",\"blue\",\"blue\",\"blue\",\"blue\",\"blue\",\"blue\",\"blue\",\"blue\",\"blue\",\"blue\",\"blue\",\"blue\",\"blue\",\"blue\",\"blue\",\"blue\",\"blue\",\"blue\",\"blue\",\"blue\",\"blue\",\"blue\",\"blue\",\"blue\",\"blue\",\"blue\",\"blue\",\"blue\",\"blue\",\"blue\",\"blue\",\"blue\",\"blue\",\"blue\",\"blue\",\"blue\",\"blue\",\"blue\",\"blue\",\"blue\",\"blue\",\"blue\",\"blue\",\"blue\",\"blue\",\"blue\",\"blue\",\"blue\",\"blue\",\"blue\",\"blue\",\"blue\",\"blue\",\"blue\",\"blue\",\"blue\",\"blue\",\"blue\",\"blue\",\"blue\",\"blue\",\"blue\",\"blue\",\"blue\",\"blue\",\"blue\",\"blue\",\"blue\",\"blue\",\"blue\",\"blue\",\"blue\",\"blue\",\"blue\",\"blue\",\"blue\",\"blue\",\"blue\",\"blue\",\"blue\",\"blue\",\"blue\",\"blue\",\"blue\",\"blue\",\"blue\",\"blue\",\"blue\",\"blue\",\"blue\",\"blue\",\"blue\",\"blue\",\"blue\",\"blue\",\"blue\",\"blue\",\"blue\",\"blue\",\"blue\",\"blue\",\"blue\",\"blue\",\"blue\",\"blue\",\"blue\",\"blue\",\"blue\",\"blue\",\"blue\",\"blue\",\"blue\",\"blue\",\"blue\",\"blue\",\"blue\",\"blue\",\"blue\",\"blue\",\"blue\",\"blue\",\"blue\",\"blue\",\"blue\",\"blue\",\"blue\",\"blue\",\"blue\",\"blue\",\"blue\",\"blue\",\"blue\",\"blue\",\"blue\",\"blue\",\"blue\",\"blue\",\"blue\",\"blue\",\"blue\",\"blue\",\"blue\",\"blue\",\"blue\",\"blue\",\"blue\",\"blue\",\"blue\",\"blue\",\"blue\",\"blue\",\"blue\",\"blue\",\"blue\",\"blue\",\"blue\",\"blue\",\"blue\",\"blue\",\"blue\",\"blue\",\"blue\",\"blue\",\"blue\",\"blue\",\"blue\",\"blue\",\"blue\",\"blue\",\"blue\",\"blue\",\"blue\",\"blue\",\"blue\",\"blue\",\"blue\",\"blue\",\"blue\",\"blue\",\"blue\",\"blue\",\"blue\",\"blue\",\"blue\",\"blue\",\"blue\",\"blue\",\"blue\",\"blue\",\"blue\",\"blue\",\"blue\",\"blue\",\"blue\",\"blue\",\"blue\",\"blue\",\"blue\",\"blue\",\"blue\",\"blue\",\"blue\",\"blue\",\"blue\",\"blue\",\"blue\",\"blue\",\"blue\",\"blue\",\"blue\",\"blue\",\"blue\",\"blue\",\"blue\",\"blue\",\"blue\",\"blue\",\"blue\",\"blue\",\"blue\",\"blue\",\"blue\",\"blue\",\"blue\",\"blue\",\"blue\",\"blue\",\"blue\",\"blue\",\"blue\",\"blue\",\"blue\",\"blue\",\"blue\",\"blue\",\"blue\",\"blue\",\"blue\",\"blue\",\"blue\",\"blue\",\"blue\",\"blue\",\"blue\",\"blue\",\"blue\",\"blue\",\"blue\",\"blue\",\"blue\",\"blue\",\"blue\",\"blue\",\"blue\",\"blue\",\"blue\",\"blue\",\"blue\",\"blue\",\"blue\",\"blue\",\"blue\",\"blue\",\"blue\",\"blue\",\"blue\",\"blue\",\"blue\",\"blue\",\"blue\",\"blue\",\"blue\",\"blue\",\"blue\",\"blue\",\"blue\",\"blue\",\"blue\",\"blue\",\"blue\",\"blue\",\"blue\",\"blue\",\"blue\",\"blue\",\"blue\",\"blue\",\"blue\",\"blue\",\"blue\",\"blue\",\"blue\",\"blue\",\"blue\",\"blue\",\"blue\",\"blue\",\"blue\",\"blue\",\"blue\",\"blue\",\"blue\",\"blue\",\"blue\",\"blue\",\"blue\",\"blue\",\"blue\",\"blue\",\"blue\",\"blue\",\"blue\",\"blue\",\"blue\",\"blue\",\"blue\",\"blue\",\"blue\",\"blue\",\"blue\",\"blue\",\"blue\",\"blue\",\"blue\",\"blue\",\"blue\",\"blue\",\"blue\",\"blue\",\"blue\",\"blue\",\"blue\",\"blue\",\"blue\",\"blue\",\"blue\",\"blue\",\"blue\",\"blue\",\"blue\",\"blue\",\"blue\",\"blue\",\"blue\",\"blue\",\"blue\",\"blue\",\"blue\",\"blue\",\"blue\",\"blue\",\"blue\",\"blue\",\"blue\",\"blue\",\"blue\",\"blue\",\"blue\",\"blue\",\"blue\",\"blue\",\"blue\",\"blue\",\"blue\",\"blue\",\"blue\",\"blue\",\"blue\",\"blue\",\"blue\",\"blue\",\"blue\",\"blue\",\"blue\",\"blue\",\"blue\",\"blue\",\"blue\",\"blue\",\"blue\",\"blue\",\"blue\",\"blue\",\"blue\",\"blue\",\"blue\",\"blue\",\"blue\",\"blue\",\"blue\",\"blue\",\"blue\",\"blue\",\"blue\",\"blue\",\"blue\",\"blue\",\"blue\",\"blue\",\"blue\",\"blue\",\"blue\",\"blue\",\"blue\",\"blue\",\"blue\",\"blue\",\"blue\",\"blue\",\"blue\",\"blue\",\"blue\",\"blue\",\"blue\",\"blue\",\"blue\",\"blue\",\"blue\",\"blue\",\"blue\",\"blue\",\"blue\",\"blue\",\"blue\",\"blue\",\"blue\",\"blue\",\"blue\",\"blue\",\"blue\",\"blue\",\"blue\",\"blue\",\"blue\",\"blue\",\"blue\",\"blue\",\"blue\",\"blue\",\"blue\",\"blue\",\"blue\",\"blue\",\"blue\",\"blue\",\"blue\",\"blue\",\"blue\",\"blue\",\"blue\",\"blue\",\"blue\",\"blue\",\"blue\",\"blue\",\"blue\",\"blue\",\"blue\",\"blue\",\"blue\",\"blue\",\"blue\",\"blue\",\"blue\",\"blue\",\"blue\",\"blue\",\"blue\",\"blue\",\"blue\",\"blue\",\"blue\",\"blue\",\"blue\",\"blue\",\"blue\",\"blue\",\"blue\",\"blue\",\"blue\",\"blue\",\"blue\",\"blue\",\"blue\",\"blue\",\"blue\",\"blue\",\"blue\",\"blue\",\"blue\",\"blue\",\"blue\",\"blue\",\"blue\",\"blue\",\"blue\",\"blue\",\"blue\",\"blue\",\"blue\",\"blue\",\"blue\",\"blue\",\"blue\",\"blue\",\"blue\",\"blue\",\"blue\",\"blue\",\"blue\",\"blue\",\"blue\",\"blue\",\"blue\",\"blue\",\"blue\",\"blue\",\"blue\",\"blue\",\"blue\",\"blue\",\"blue\",\"blue\",\"blue\",\"blue\",\"blue\",\"blue\",\"blue\",\"blue\",\"blue\",\"blue\",\"blue\",\"blue\",\"blue\",\"blue\",\"blue\",\"blue\",\"blue\",\"blue\",\"blue\",\"blue\",\"blue\",\"blue\",\"blue\",\"blue\",\"blue\",\"blue\",\"blue\",\"blue\",\"blue\",\"blue\",\"blue\",\"blue\",\"blue\",\"blue\",\"blue\",\"blue\",\"blue\",\"blue\",\"blue\",\"blue\",\"blue\",\"blue\",\"blue\",\"blue\",\"blue\",\"blue\",\"blue\",\"blue\",\"blue\",\"blue\",\"blue\",\"blue\",\"blue\",\"blue\",\"blue\",\"blue\",\"blue\",\"blue\",\"blue\",\"blue\",\"blue\",\"blue\",\"blue\",\"blue\",\"blue\",\"blue\",\"blue\",\"blue\",\"blue\",\"blue\",\"blue\",\"blue\",\"blue\",\"blue\",\"blue\",\"blue\",\"blue\",\"blue\",\"blue\",\"blue\",\"blue\",\"blue\",\"blue\",\"blue\",\"blue\",\"blue\",\"blue\",\"blue\",\"blue\",\"blue\",\"blue\",\"blue\",\"blue\",\"blue\",\"blue\",\"blue\",\"blue\",\"blue\",\"blue\",\"blue\",\"blue\",\"blue\",\"blue\",\"blue\",\"blue\",\"blue\",\"blue\",\"blue\",\"blue\",\"blue\",\"blue\",\"blue\",\"blue\",\"blue\",\"blue\",\"blue\",\"blue\",\"blue\",\"blue\",\"blue\",\"blue\",\"blue\",\"blue\",\"blue\",\"blue\",\"blue\",\"blue\",\"blue\",\"blue\",\"blue\",\"blue\",\"blue\",\"blue\",\"blue\",\"blue\",\"blue\",\"blue\",\"blue\",\"blue\",\"blue\",\"blue\",\"blue\",\"blue\",\"blue\",\"blue\",\"blue\",\"blue\",\"blue\",\"blue\",\"blue\",\"blue\",\"blue\",\"blue\",\"blue\",\"blue\",\"blue\",\"blue\",\"blue\",\"blue\",\"blue\",\"blue\",\"blue\",\"blue\",\"blue\",\"blue\",\"blue\",\"blue\",\"blue\",\"blue\",\"blue\",\"blue\",\"blue\",\"blue\",\"blue\",\"blue\",\"blue\",\"blue\",\"blue\",\"blue\",\"blue\",\"blue\",\"blue\",\"blue\",\"blue\",\"blue\",\"blue\",\"blue\",\"blue\",\"blue\",\"blue\",\"blue\",\"blue\",\"blue\",\"blue\",\"blue\",\"blue\",\"blue\",\"blue\",\"blue\",\"blue\",\"blue\",\"blue\",\"blue\",\"blue\",\"blue\",\"blue\",\"blue\",\"blue\",\"blue\",\"blue\",\"blue\",\"blue\",\"blue\",\"blue\",\"blue\",\"blue\",\"blue\",\"blue\",\"blue\",\"blue\",\"blue\",\"blue\",\"blue\",\"blue\",\"blue\",\"blue\",\"blue\",\"blue\",\"blue\",\"blue\",\"blue\",\"blue\",\"blue\",\"blue\",\"blue\",\"blue\",\"blue\",\"blue\",\"blue\",\"blue\",\"blue\",\"blue\",\"blue\",\"blue\",\"blue\",\"blue\",\"blue\",\"blue\",\"blue\",\"blue\",\"blue\",\"blue\",\"blue\",\"blue\",\"blue\",\"blue\",\"blue\",\"blue\",\"blue\",\"blue\",\"blue\",\"blue\",\"blue\",\"blue\",\"blue\",\"blue\",\"blue\",\"blue\",\"blue\",\"blue\",\"blue\",\"blue\",\"blue\",\"blue\",\"blue\",\"blue\",\"blue\",\"blue\",\"blue\",\"blue\",\"blue\",\"blue\",\"blue\",\"blue\",\"blue\",\"blue\",\"blue\",\"blue\",\"blue\",\"blue\",\"blue\",\"blue\",\"blue\",\"blue\",\"blue\",\"blue\",\"blue\",\"blue\",\"blue\",\"blue\",\"blue\",\"blue\",\"blue\",\"blue\",\"blue\",\"blue\",\"blue\",\"blue\",\"blue\",\"blue\",\"blue\",\"blue\",\"blue\",\"blue\",\"blue\",\"blue\",\"blue\",\"blue\",\"blue\",\"blue\",\"blue\",\"blue\",\"blue\",\"blue\",\"blue\",\"blue\",\"blue\",\"blue\",\"blue\",\"blue\",\"blue\",\"blue\",\"blue\",\"blue\",\"blue\",\"blue\",\"blue\",\"blue\",\"blue\",\"blue\",\"blue\",\"blue\",\"blue\",\"blue\",\"blue\",\"blue\",\"blue\",\"blue\",\"blue\",\"blue\",\"blue\",\"blue\",\"blue\",\"blue\",\"blue\",\"blue\",\"blue\",\"blue\",\"blue\",\"blue\",\"blue\",\"blue\",\"blue\",\"blue\",\"blue\",\"blue\",\"blue\",\"blue\",\"blue\",\"blue\",\"blue\",\"blue\",\"blue\",\"blue\",\"blue\",\"blue\",\"blue\",\"blue\",\"blue\",\"blue\",\"blue\",\"blue\",\"blue\",\"blue\",\"blue\",\"blue\",\"blue\",\"blue\",\"blue\",\"blue\",\"blue\",\"blue\",\"blue\",\"blue\",\"blue\",\"blue\",\"blue\",\"blue\",\"blue\",\"blue\",\"blue\",\"blue\",\"blue\",\"blue\",\"blue\",\"blue\",\"blue\",\"blue\",\"blue\",\"blue\",\"blue\",\"blue\",\"blue\",\"blue\",\"blue\",\"blue\",\"blue\",\"blue\",\"blue\",\"blue\",\"blue\",\"blue\",\"blue\",\"blue\",\"blue\",\"blue\",\"blue\",\"blue\",\"blue\",\"blue\",\"blue\",\"blue\",\"blue\",\"blue\",\"blue\",\"blue\",\"blue\",\"blue\",\"blue\",\"blue\",\"blue\",\"blue\",\"blue\",\"blue\",\"blue\",\"blue\",\"blue\",\"blue\",\"blue\",\"blue\",\"blue\",\"blue\",\"blue\",\"blue\",\"blue\",\"blue\",\"blue\",\"blue\",\"blue\",\"blue\",\"blue\",\"blue\",\"blue\",\"blue\",\"blue\",\"blue\",\"blue\",\"blue\",\"blue\",\"blue\",\"blue\",\"blue\",\"blue\",\"blue\",\"blue\",\"blue\",\"blue\",\"blue\",\"blue\",\"blue\",\"blue\",\"blue\",\"blue\",\"blue\",\"blue\",\"blue\",\"blue\",\"blue\",\"blue\",\"blue\",\"blue\",\"blue\",\"blue\",\"blue\",\"blue\",\"blue\",\"blue\",\"blue\",\"blue\",\"blue\",\"blue\",\"blue\",\"blue\",\"blue\",\"blue\",\"blue\",\"blue\",\"blue\",\"blue\",\"blue\",\"blue\",\"blue\",\"blue\",\"blue\",\"blue\",\"blue\",\"blue\",\"blue\",\"blue\",\"blue\",\"blue\",\"blue\",\"blue\",\"blue\",\"blue\",\"blue\",\"blue\",\"blue\",\"blue\",\"blue\",\"blue\",\"blue\",\"blue\",\"blue\",\"blue\",\"blue\",\"blue\",\"blue\",\"blue\",\"blue\",\"blue\",\"blue\",\"blue\",\"blue\",\"blue\",\"blue\",\"blue\",\"blue\",\"blue\",\"blue\",\"blue\",\"blue\",\"blue\",\"blue\",\"blue\",\"blue\",\"blue\",\"blue\",\"blue\",\"blue\",\"blue\",\"blue\",\"blue\",\"blue\",\"blue\",\"blue\",\"blue\",\"blue\",\"blue\",\"blue\",\"blue\",\"blue\",\"blue\",\"blue\",\"blue\",\"blue\",\"blue\",\"blue\",\"blue\",\"blue\",\"blue\",\"blue\",\"blue\",\"blue\",\"blue\",\"blue\",\"blue\",\"blue\",\"blue\",\"blue\",\"blue\",\"blue\",\"blue\",\"blue\",\"blue\",\"blue\",\"blue\",\"blue\",\"blue\",\"blue\",\"blue\",\"blue\",\"blue\",\"blue\",\"blue\",\"blue\",\"blue\",\"blue\",\"blue\",\"blue\",\"blue\",\"blue\",\"blue\",\"blue\",\"blue\",\"blue\",\"blue\",\"blue\",\"blue\",\"blue\",\"blue\",\"blue\",\"blue\",\"blue\",\"blue\",\"blue\",\"blue\",\"blue\",\"blue\",\"blue\",\"blue\",\"blue\",\"blue\",\"blue\",\"blue\",\"blue\",\"blue\",\"blue\",\"blue\",\"blue\",\"blue\",\"blue\",\"blue\",\"blue\",\"blue\",\"blue\",\"blue\",\"blue\",\"blue\",\"blue\",\"blue\",\"blue\",\"blue\",\"blue\",\"blue\",\"blue\",\"blue\",\"blue\",\"blue\",\"blue\",\"blue\",\"blue\",\"blue\",\"blue\",\"blue\",\"blue\",\"blue\",\"blue\",\"blue\",\"blue\",\"blue\",\"blue\",\"blue\",\"blue\",\"blue\",\"blue\",\"blue\",\"blue\",\"blue\",\"blue\",\"blue\",\"blue\",\"blue\",\"blue\",\"blue\",\"blue\",\"blue\",\"blue\",\"blue\",\"blue\",\"blue\",\"blue\",\"blue\",\"blue\",\"blue\",\"blue\",\"blue\",\"blue\",\"blue\",\"blue\",\"blue\",\"blue\",\"blue\",\"blue\",\"blue\",\"blue\",\"blue\",\"blue\",\"blue\",\"blue\",\"blue\",\"blue\",\"blue\",\"blue\",\"blue\",\"blue\",\"blue\",\"blue\",\"blue\",\"blue\",\"blue\",\"blue\",\"blue\",\"blue\",\"blue\",\"blue\",\"blue\",\"blue\",\"blue\",\"blue\",\"blue\",\"blue\",\"blue\",\"blue\",\"blue\",\"blue\",\"blue\",\"blue\",\"blue\",\"blue\",\"blue\",\"blue\",\"blue\",\"blue\",\"blue\",\"blue\",\"blue\",\"blue\",\"blue\",\"blue\",\"blue\",\"blue\",\"blue\",\"blue\",\"blue\",\"blue\",\"blue\",\"blue\",\"blue\",\"blue\",\"blue\",\"blue\",\"blue\",\"blue\",\"blue\",\"blue\",\"blue\",\"blue\",\"blue\",\"blue\",\"blue\",\"blue\",\"blue\",\"blue\",\"blue\",\"blue\",\"blue\",\"blue\",\"blue\",\"blue\",\"blue\",\"blue\",\"blue\",\"blue\",\"blue\",\"blue\",\"blue\",\"blue\",\"blue\",\"blue\",\"blue\",\"blue\",\"blue\",\"blue\",\"blue\",\"blue\",\"blue\",\"blue\",\"blue\",\"blue\",\"blue\",\"blue\",\"blue\",\"blue\",\"blue\",\"blue\",\"blue\",\"blue\",\"blue\",\"blue\",\"blue\",\"blue\",\"blue\",\"blue\",\"blue\",\"blue\",\"blue\",\"blue\",\"blue\",\"blue\",\"blue\",\"blue\",\"blue\",\"blue\",\"blue\",\"blue\",\"blue\",\"blue\",\"blue\",\"blue\",\"blue\",\"blue\",\"blue\",\"blue\",\"blue\",\"blue\",\"blue\",\"blue\",\"blue\",\"blue\",\"blue\",\"blue\",\"blue\",\"blue\",\"blue\",\"blue\",\"blue\",\"blue\",\"blue\",\"blue\",\"blue\",\"blue\",\"blue\",\"blue\",\"blue\",\"blue\",\"blue\",\"blue\",\"blue\",\"blue\",\"blue\",\"blue\",\"blue\",\"blue\",\"blue\",\"blue\",\"blue\",\"blue\",\"blue\",\"blue\",\"blue\",\"blue\",\"blue\",\"blue\",\"blue\",\"blue\",\"blue\",\"blue\",\"blue\",\"blue\",\"blue\",\"blue\",\"blue\",\"blue\",\"blue\",\"blue\",\"blue\",\"blue\",\"blue\",\"blue\",\"blue\",\"blue\",\"blue\",\"blue\",\"blue\",\"blue\",\"blue\",\"blue\",\"blue\",\"blue\",\"blue\",\"blue\",\"blue\",\"blue\",\"blue\",\"blue\",\"blue\",\"blue\",\"blue\",\"blue\",\"blue\",\"blue\",\"blue\",\"blue\",\"blue\",\"blue\",\"blue\",\"blue\",\"blue\",\"blue\",\"blue\",\"blue\",\"blue\",\"blue\",\"blue\",\"blue\",\"blue\",\"blue\",\"blue\",\"blue\",\"blue\",\"blue\",\"blue\",\"blue\",\"blue\",\"blue\",\"blue\",\"blue\",\"blue\",\"blue\",\"blue\",\"blue\",\"blue\",\"blue\",\"blue\",\"blue\",\"blue\",\"blue\",\"blue\",\"blue\",\"blue\",\"blue\",\"blue\",\"blue\",\"blue\",\"blue\",\"blue\",\"blue\",\"blue\",\"blue\",\"blue\",\"blue\",\"blue\",\"blue\",\"blue\",\"blue\",\"blue\",\"blue\",\"blue\",\"blue\",\"blue\",\"blue\",\"blue\",\"blue\",\"blue\",\"blue\",\"blue\",\"blue\",\"blue\",\"blue\",\"blue\",\"blue\",\"blue\",\"blue\",\"blue\",\"blue\",\"blue\",\"blue\",\"blue\",\"blue\",\"blue\",\"blue\",\"blue\",\"blue\",\"blue\",\"blue\",\"blue\",\"blue\",\"blue\",\"blue\",\"blue\",\"blue\",\"blue\",\"blue\",\"blue\",\"blue\",\"blue\",\"blue\",\"blue\",\"blue\",\"blue\",\"blue\",\"blue\",\"blue\",\"blue\",\"blue\",\"blue\",\"blue\",\"blue\",\"blue\",\"blue\",\"blue\",\"blue\",\"blue\",\"blue\",\"blue\",\"blue\",\"blue\",\"blue\",\"blue\",\"blue\",\"blue\",\"blue\",\"blue\",\"blue\",\"blue\",\"blue\",\"blue\",\"blue\",\"blue\",\"blue\",\"blue\",\"blue\",\"blue\",\"blue\",\"blue\",\"blue\",\"blue\",\"blue\",\"blue\",\"blue\",\"blue\",\"blue\",\"blue\",\"blue\",\"blue\",\"blue\",\"blue\",\"blue\",\"blue\",\"blue\",\"blue\",\"blue\",\"blue\",\"blue\",\"blue\",\"blue\",\"blue\",\"blue\",\"blue\",\"blue\",\"blue\",\"blue\",\"blue\",\"blue\",\"blue\",\"blue\",\"blue\",\"blue\",\"blue\",\"blue\",\"blue\",\"blue\",\"blue\",\"blue\",\"blue\",\"blue\",\"blue\",\"blue\",\"blue\",\"blue\",\"blue\",\"blue\",\"blue\",\"blue\",\"blue\",\"blue\",\"blue\",\"blue\",\"blue\",\"blue\",\"blue\",\"blue\",\"blue\",\"blue\",\"blue\",\"blue\",\"blue\",\"blue\",\"blue\",\"blue\",\"blue\",\"blue\",\"blue\",\"blue\",\"blue\",\"blue\",\"blue\",\"blue\",\"blue\",\"blue\",\"blue\",\"blue\",\"blue\",\"blue\",\"blue\",\"blue\",\"blue\",\"blue\",\"blue\",\"blue\",\"blue\",\"blue\",\"blue\",\"blue\",\"blue\",\"blue\",\"blue\",\"blue\",\"blue\",\"blue\",\"blue\",\"blue\",\"blue\",\"blue\",\"blue\",\"blue\",\"blue\",\"blue\",\"blue\",\"blue\",\"blue\",\"blue\",\"blue\",\"blue\",\"blue\",\"blue\",\"blue\",\"blue\",\"blue\",\"blue\",\"blue\",\"blue\",\"blue\",\"blue\",\"blue\",\"blue\",\"blue\",\"blue\",\"blue\",\"blue\",\"blue\",\"blue\",\"blue\",\"blue\",\"blue\",\"blue\",\"blue\",\"blue\",\"blue\",\"blue\",\"blue\",\"blue\",\"blue\",\"blue\",\"blue\",\"blue\",\"blue\",\"blue\",\"blue\",\"blue\",\"blue\",\"blue\",\"blue\",\"blue\",\"blue\",\"blue\",\"blue\",\"blue\",\"blue\",\"blue\",\"blue\",\"blue\",\"blue\",\"blue\",\"blue\",\"blue\",\"blue\",\"blue\",\"blue\",\"blue\",\"blue\",\"blue\",\"blue\",\"blue\",\"blue\",\"blue\",\"blue\",\"blue\",\"blue\",\"blue\",\"blue\",\"blue\",\"blue\",\"blue\",\"blue\",\"blue\",\"blue\",\"blue\",\"blue\",\"blue\",\"blue\",\"blue\",\"blue\",\"blue\",\"blue\",\"blue\",\"blue\",\"blue\",\"blue\",\"blue\",\"blue\",\"blue\",\"blue\",\"blue\",\"blue\",\"blue\",\"blue\",\"blue\",\"blue\",\"blue\",\"blue\",\"blue\",\"blue\",\"blue\",\"blue\",\"blue\",\"blue\",\"blue\",\"blue\",\"blue\",\"blue\",\"blue\",\"blue\",\"blue\",\"blue\",\"blue\",\"blue\",\"blue\",\"blue\",\"blue\",\"blue\",\"blue\",\"blue\",\"blue\",\"blue\",\"blue\",\"blue\",\"blue\",\"blue\",\"blue\",\"blue\",\"blue\",\"blue\",\"blue\",\"blue\",\"blue\",\"blue\",\"blue\",\"blue\",\"blue\",\"blue\",\"blue\",\"blue\",\"blue\",\"blue\",\"blue\",\"blue\",\"blue\",\"blue\",\"blue\",\"blue\",\"blue\",\"blue\",\"blue\",\"blue\",\"blue\",\"blue\",\"blue\",\"blue\",\"blue\",\"blue\",\"blue\",\"blue\",\"blue\",\"blue\",\"blue\",\"blue\",\"blue\",\"blue\",\"blue\",\"blue\",\"blue\",\"blue\",\"blue\",\"blue\",\"blue\",\"blue\",\"blue\",\"blue\",\"blue\",\"blue\",\"blue\",\"blue\",\"blue\",\"blue\",\"blue\",\"blue\",\"blue\",\"blue\",\"blue\",\"blue\",\"blue\",\"blue\",\"blue\",\"blue\",\"blue\",\"blue\",\"blue\",\"blue\",\"blue\",\"blue\",\"blue\",\"blue\",\"blue\",\"blue\",\"blue\",\"blue\",\"blue\",\"blue\",\"blue\",\"blue\",\"blue\",\"blue\",\"blue\",\"blue\",\"blue\",\"blue\",\"blue\",\"blue\",\"blue\",\"blue\",\"blue\",\"blue\",\"blue\",\"blue\",\"blue\",\"blue\",\"blue\",\"blue\",\"blue\",\"blue\",\"blue\",\"blue\",\"blue\",\"blue\",\"blue\",\"blue\",\"blue\",\"blue\",\"blue\",\"blue\",\"blue\",\"blue\",\"blue\",\"blue\",\"blue\",\"blue\",\"blue\",\"blue\",\"blue\",\"blue\",\"blue\",\"blue\",\"blue\",\"blue\",\"blue\",\"blue\",\"blue\",\"blue\",\"blue\",\"blue\",\"blue\",\"blue\",\"blue\",\"blue\",\"blue\",\"blue\",\"blue\",\"blue\",\"blue\",\"blue\",\"blue\",\"blue\",\"blue\",\"blue\",\"blue\",\"blue\",\"blue\",\"blue\",\"blue\",\"blue\",\"blue\",\"blue\",\"blue\",\"blue\",\"blue\",\"blue\",\"blue\",\"blue\",\"blue\",\"blue\",\"blue\",\"blue\",\"blue\",\"blue\",\"blue\",\"blue\",\"blue\",\"blue\",\"blue\",\"blue\",\"blue\",\"blue\",\"blue\",\"blue\",\"blue\",\"blue\",\"blue\",\"blue\",\"blue\",\"blue\",\"blue\",\"blue\",\"blue\",\"blue\",\"blue\",\"blue\",\"blue\",\"blue\",\"blue\",\"blue\",\"blue\",\"blue\",\"blue\",\"blue\",\"blue\",\"blue\",\"blue\",\"blue\",\"blue\",\"blue\",\"blue\",\"blue\",\"blue\",\"blue\",\"blue\",\"blue\",\"blue\",\"blue\",\"blue\",\"blue\",\"blue\",\"blue\",\"blue\",\"blue\",\"blue\",\"blue\",\"blue\",\"blue\",\"blue\",\"blue\",\"blue\",\"blue\",\"blue\",\"blue\",\"blue\",\"blue\",\"blue\",\"blue\",\"blue\",\"blue\",\"blue\",\"blue\",\"blue\",\"blue\",\"blue\",\"blue\",\"blue\",\"blue\",\"blue\",\"blue\",\"blue\",\"blue\",\"blue\",\"blue\",\"blue\",\"blue\",\"blue\",\"blue\",\"blue\",\"blue\",\"blue\",\"blue\",\"blue\",\"blue\",\"blue\",\"blue\",\"blue\",\"blue\",\"blue\",\"blue\",\"blue\",\"blue\",\"blue\",\"blue\",\"blue\",\"blue\",\"blue\",\"blue\",\"blue\",\"blue\",\"blue\",\"blue\",\"blue\",\"blue\",\"blue\",\"blue\",\"blue\",\"blue\",\"blue\",\"blue\",\"blue\",\"blue\",\"blue\",\"blue\",\"blue\",\"blue\",\"blue\",\"blue\",\"blue\",\"blue\",\"blue\",\"blue\",\"blue\",\"blue\",\"blue\",\"blue\",\"blue\",\"blue\",\"blue\",\"blue\",\"blue\",\"blue\",\"blue\",\"blue\",\"blue\",\"blue\",\"blue\",\"blue\",\"blue\",\"blue\",\"blue\",\"blue\",\"blue\",\"blue\",\"blue\",\"blue\",\"blue\",\"blue\",\"blue\",\"blue\",\"blue\",\"blue\",\"blue\",\"blue\",\"blue\",\"blue\",\"blue\",\"blue\",\"blue\",\"blue\",\"blue\",\"blue\",\"blue\",\"blue\",\"blue\",\"blue\",\"blue\",\"blue\",\"blue\",\"blue\",\"blue\",\"blue\",\"blue\",\"blue\",\"blue\",\"blue\",\"blue\",\"blue\",\"blue\",\"blue\",\"blue\",\"blue\",\"blue\",\"blue\",\"blue\",\"blue\",\"blue\",\"blue\",\"blue\",\"blue\",\"blue\",\"blue\",\"blue\",\"blue\",\"blue\",\"blue\",\"blue\",\"blue\",\"blue\",\"blue\",\"blue\",\"blue\",\"blue\",\"blue\",\"blue\",\"blue\",\"blue\",\"blue\",\"blue\",\"blue\",\"blue\",\"blue\",\"blue\",\"blue\",\"blue\",\"blue\",\"blue\",\"blue\",\"blue\",\"blue\",\"blue\",\"blue\",\"blue\",\"blue\",\"blue\",\"blue\",\"blue\",\"blue\",\"blue\",\"blue\",\"blue\",\"blue\",\"blue\",\"blue\",\"blue\",\"blue\",\"blue\",\"blue\",\"blue\",\"blue\",\"blue\",\"blue\",\"blue\",\"blue\",\"blue\",\"blue\",\"blue\",\"blue\",\"blue\",\"blue\",\"blue\",\"blue\",\"blue\",\"blue\",\"blue\",\"blue\",\"blue\",\"blue\",\"blue\",\"blue\",\"blue\",\"blue\",\"blue\",\"blue\",\"blue\",\"blue\",\"blue\",\"blue\",\"blue\",\"blue\",\"blue\",\"blue\",\"blue\",\"blue\",\"blue\",\"blue\",\"blue\",\"blue\",\"blue\",\"blue\",\"blue\",\"blue\",\"blue\",\"blue\",\"blue\",\"blue\",\"blue\",\"blue\",\"blue\",\"blue\",\"blue\",\"blue\",\"blue\",\"blue\",\"blue\",\"blue\",\"blue\",\"blue\",\"blue\",\"blue\",\"blue\",\"blue\",\"blue\",\"blue\",\"blue\",\"blue\",\"blue\",\"blue\",\"blue\",\"blue\",\"blue\",\"blue\",\"blue\",\"blue\",\"blue\",\"blue\",\"blue\",\"blue\",\"blue\",\"blue\",\"blue\",\"blue\",\"blue\",\"blue\",\"blue\",\"blue\",\"blue\",\"blue\",\"blue\",\"blue\",\"blue\",\"blue\",\"blue\",\"blue\",\"blue\",\"blue\",\"blue\",\"blue\",\"blue\",\"blue\",\"blue\",\"blue\",\"blue\",\"blue\",\"blue\",\"blue\",\"blue\",\"blue\",\"blue\",\"blue\",\"blue\",\"blue\",\"blue\",\"blue\",\"blue\",\"blue\",\"blue\",\"blue\",\"blue\",\"blue\",\"blue\",\"blue\",\"blue\",\"blue\",\"blue\",\"blue\",\"blue\",\"blue\",\"blue\",\"blue\",\"blue\",\"blue\",\"blue\",\"blue\",\"blue\",\"blue\",\"blue\",\"blue\",\"blue\",\"blue\",\"blue\",\"blue\",\"blue\",\"blue\",\"blue\",\"blue\",\"blue\",\"blue\",\"blue\",\"blue\",\"blue\",\"blue\",\"blue\",\"blue\",\"blue\",\"blue\",\"blue\",\"blue\",\"blue\",\"blue\",\"blue\",\"blue\",\"blue\",\"blue\",\"blue\",\"blue\",\"blue\",\"blue\",\"blue\",\"blue\",\"blue\",\"blue\",\"blue\",\"blue\",\"blue\",\"blue\",\"blue\",\"blue\",\"blue\",\"blue\",\"blue\",\"blue\",\"blue\",\"blue\",\"blue\",\"blue\",\"blue\",\"blue\",\"blue\",\"blue\",\"blue\",\"blue\",\"blue\",\"blue\",\"blue\",\"blue\",\"blue\",\"blue\",\"blue\",\"blue\",\"blue\",\"blue\",\"blue\",\"blue\",\"blue\",\"blue\",\"blue\",\"blue\",\"blue\",\"blue\",\"blue\",\"blue\",\"blue\",\"blue\",\"blue\",\"blue\",\"blue\",\"blue\",\"blue\",\"blue\",\"blue\",\"blue\",\"blue\",\"blue\",\"blue\",\"blue\",\"blue\",\"blue\",\"blue\",\"blue\",\"blue\",\"blue\",\"blue\",\"blue\",\"blue\",\"blue\",\"blue\",\"blue\",\"blue\",\"blue\",\"blue\",\"blue\",\"blue\",\"blue\",\"blue\",\"blue\",\"blue\",\"blue\",\"blue\",\"blue\",\"blue\",\"blue\",\"blue\",\"blue\",\"blue\",\"blue\",\"blue\",\"blue\",\"blue\",\"blue\",\"blue\",\"blue\",\"blue\",\"blue\",\"blue\",\"blue\",\"blue\",\"blue\",\"blue\",\"blue\",\"blue\",\"blue\",\"blue\",\"blue\",\"blue\",\"blue\",\"blue\",\"blue\",\"blue\",\"blue\",\"blue\",\"blue\",\"blue\",\"blue\",\"blue\",\"blue\",\"blue\",\"blue\",\"blue\",\"blue\",\"blue\",\"blue\",\"blue\",\"blue\",\"blue\",\"blue\",\"blue\",\"blue\",\"blue\",\"blue\",\"blue\",\"blue\",\"blue\",\"blue\",\"blue\",\"blue\",\"blue\",\"blue\",\"blue\",\"blue\",\"blue\",\"blue\",\"blue\",\"blue\",\"blue\",\"blue\",\"blue\",\"blue\",\"blue\",\"blue\",\"blue\",\"blue\",\"blue\",\"blue\",\"blue\",\"blue\",\"blue\",\"blue\",\"blue\",\"blue\",\"blue\",\"blue\",\"blue\",\"blue\",\"blue\",\"blue\",\"blue\",\"blue\",\"blue\",\"blue\",\"blue\",\"blue\",\"blue\",\"blue\",\"blue\",\"blue\",\"blue\",\"blue\",\"blue\",\"blue\",\"blue\",\"blue\",\"blue\",\"blue\",\"blue\",\"blue\",\"blue\",\"blue\",\"blue\",\"blue\",\"blue\",\"blue\",\"blue\",\"blue\",\"blue\",\"blue\",\"blue\",\"blue\",\"blue\",\"blue\",\"blue\",\"blue\",\"blue\",\"blue\",\"blue\",\"blue\",\"blue\",\"blue\",\"blue\",\"blue\",\"blue\",\"blue\",\"blue\",\"blue\",\"blue\",\"blue\",\"blue\",\"blue\",\"blue\",\"blue\",\"blue\",\"blue\",\"blue\",\"blue\",\"blue\",\"blue\",\"blue\",\"blue\",\"blue\",\"blue\",\"blue\",\"blue\",\"blue\",\"blue\",\"blue\",\"blue\",\"blue\",\"blue\",\"blue\",\"blue\",\"blue\",\"blue\",\"blue\",\"blue\",\"blue\",\"blue\",\"blue\",\"blue\",\"blue\",\"blue\",\"blue\",\"blue\",\"blue\",\"blue\",\"blue\",\"blue\",\"blue\",\"blue\",\"blue\",\"blue\",\"blue\",\"blue\",\"blue\",\"blue\",\"blue\",\"blue\",\"blue\",\"blue\",\"blue\",\"blue\",\"blue\",\"blue\",\"blue\",\"blue\",\"blue\",\"blue\",\"blue\",\"blue\",\"blue\",\"blue\",\"blue\",\"blue\",\"blue\",\"blue\",\"blue\",\"blue\",\"blue\",\"blue\",\"blue\",\"blue\",\"blue\",\"blue\",\"blue\",\"blue\",\"blue\",\"blue\",\"blue\",\"blue\",\"blue\",\"blue\",\"blue\",\"blue\",\"blue\",\"blue\",\"blue\",\"blue\",\"blue\",\"blue\",\"blue\",\"blue\",\"blue\",\"blue\",\"blue\",\"blue\",\"blue\",\"blue\",\"blue\",\"blue\",\"blue\",\"blue\",\"blue\",\"blue\",\"blue\",\"blue\",\"blue\",\"blue\",\"blue\",\"blue\",\"blue\",\"blue\",\"blue\",\"blue\",\"blue\",\"blue\",\"blue\",\"blue\",\"blue\",\"blue\",\"blue\",\"blue\",\"blue\",\"blue\",\"blue\",\"blue\",\"blue\",\"blue\",\"blue\",\"blue\",\"blue\",\"blue\",\"blue\",\"blue\",\"blue\",\"blue\",\"blue\",\"blue\",\"blue\",\"blue\",\"blue\",\"blue\",\"blue\",\"blue\",\"blue\",\"blue\",\"blue\",\"blue\",\"blue\",\"blue\",\"blue\",\"blue\",\"blue\",\"blue\",\"blue\",\"blue\",\"blue\",\"blue\",\"blue\",\"blue\",\"blue\",\"blue\",\"blue\",\"blue\",\"blue\",\"blue\",\"blue\",\"blue\",\"blue\",\"blue\",\"blue\",\"blue\",\"blue\",\"blue\",\"blue\",\"blue\",\"blue\",\"blue\",\"blue\",\"blue\",\"blue\",\"blue\",\"blue\",\"blue\",\"blue\",\"blue\",\"blue\",\"blue\",\"blue\",\"blue\",\"blue\",\"blue\",\"blue\",\"blue\",\"blue\",\"blue\",\"blue\",\"blue\",\"blue\",\"blue\",\"blue\",\"blue\",\"blue\",\"blue\",\"blue\",\"blue\",\"blue\",\"blue\",\"blue\",\"blue\",\"blue\",\"blue\",\"blue\",\"blue\",\"blue\",\"blue\",\"blue\",\"blue\",\"blue\",\"blue\",\"blue\",\"blue\",\"blue\",\"blue\",\"blue\",\"blue\",\"blue\",\"blue\",\"blue\",\"blue\",\"blue\",\"blue\",\"blue\",\"blue\",\"blue\",\"blue\",\"blue\",\"blue\",\"blue\",\"blue\",\"blue\",\"blue\",\"blue\",\"blue\",\"blue\",\"blue\",\"blue\",\"blue\",\"blue\",\"blue\",\"blue\",\"blue\",\"blue\",\"blue\",\"blue\",\"blue\",\"blue\",\"blue\",\"blue\",\"blue\",\"blue\",\"blue\",\"blue\",\"blue\",\"blue\",\"blue\",\"blue\",\"blue\",\"blue\",\"blue\",\"blue\",\"blue\",\"blue\",\"blue\",\"blue\",\"blue\",\"blue\",\"blue\",\"blue\",\"blue\",\"blue\",\"blue\",\"blue\",\"blue\",\"blue\",\"blue\",\"blue\",\"blue\",\"blue\",\"blue\",\"blue\",\"blue\",\"blue\",\"blue\",\"blue\",\"blue\",\"blue\",\"blue\",\"blue\",\"blue\",\"blue\",\"blue\",\"blue\",\"blue\",\"blue\",\"blue\",\"blue\",\"blue\",\"blue\",\"blue\",\"blue\",\"blue\",\"blue\",\"blue\",\"blue\",\"blue\",\"blue\",\"blue\",\"blue\",\"blue\",\"blue\",\"blue\",\"blue\",\"blue\",\"blue\",\"blue\",\"blue\",\"blue\",\"blue\",\"blue\",\"blue\",\"blue\",\"blue\",\"blue\",\"blue\",\"blue\",\"blue\",\"blue\",\"blue\",\"blue\",\"blue\",\"blue\",\"blue\",\"blue\",\"blue\",\"blue\",\"blue\",\"blue\",\"blue\",\"blue\",\"blue\",\"blue\",\"blue\",\"blue\",\"blue\",\"blue\",\"blue\",\"blue\",\"blue\",\"blue\",\"blue\",\"blue\",\"blue\",\"blue\",\"blue\",\"blue\",\"blue\",\"blue\",\"blue\",\"blue\",\"blue\",\"blue\",\"blue\",\"blue\",\"blue\",\"blue\",\"blue\",\"blue\",\"blue\",\"blue\",\"blue\",\"blue\",\"blue\",\"blue\",\"blue\",\"blue\",\"blue\",\"blue\",\"blue\",\"blue\",\"blue\",\"blue\",\"blue\",\"blue\",\"blue\",\"blue\",\"blue\",\"blue\",\"blue\",\"blue\",\"blue\",\"blue\",\"blue\",\"blue\",\"blue\",\"blue\",\"blue\",\"blue\",\"blue\",\"blue\",\"blue\",\"blue\",\"blue\",\"blue\",\"blue\",\"blue\",\"blue\",\"blue\",\"blue\",\"blue\",\"blue\",\"blue\",\"blue\",\"blue\",\"blue\",\"blue\",\"blue\",\"blue\",\"blue\",\"blue\",\"blue\",\"blue\",\"blue\",\"blue\",\"blue\",\"blue\",\"blue\",\"blue\",\"blue\",\"blue\",\"blue\",\"blue\",\"blue\",\"blue\",\"blue\",\"blue\",\"blue\",\"blue\",\"blue\",\"blue\",\"blue\",\"blue\",\"blue\",\"blue\",\"blue\",\"blue\",\"blue\",\"blue\",\"blue\",\"blue\",\"blue\",\"blue\",\"blue\",\"blue\",\"blue\",\"blue\",\"blue\",\"blue\",\"blue\",\"blue\",\"blue\",\"blue\",\"blue\",\"blue\",\"blue\",\"blue\",\"blue\",\"blue\",\"blue\",\"blue\",\"blue\",\"blue\",\"blue\",\"blue\",\"blue\",\"blue\",\"blue\",\"blue\",\"blue\",\"blue\",\"blue\",\"blue\",\"blue\",\"blue\",\"blue\",\"blue\",\"blue\",\"blue\",\"blue\",\"blue\",\"blue\",\"blue\",\"blue\",\"blue\",\"blue\",\"blue\",\"blue\",\"blue\",\"blue\",\"blue\",\"blue\",\"blue\",\"blue\",\"blue\",\"blue\",\"blue\",\"blue\",\"blue\",\"blue\",\"blue\",\"blue\",\"blue\",\"blue\",\"blue\",\"blue\",\"blue\",\"blue\",\"blue\",\"blue\",\"blue\",\"blue\",\"blue\",\"blue\",\"blue\",\"blue\",\"blue\",\"blue\",\"blue\",\"blue\",\"blue\",\"blue\",\"blue\",\"blue\",\"blue\",\"blue\",\"blue\",\"blue\",\"blue\",\"blue\",\"blue\",\"blue\",\"blue\",\"blue\",\"blue\",\"blue\",\"blue\",\"blue\",\"blue\",\"blue\",\"blue\",\"blue\",\"blue\",\"blue\",\"blue\",\"blue\",\"blue\",\"blue\",\"blue\",\"blue\",\"blue\",\"blue\",\"blue\",\"blue\",\"blue\",\"blue\",\"blue\",\"blue\",\"blue\",\"blue\",\"blue\",\"blue\",\"blue\",\"blue\",\"blue\",\"blue\",\"blue\",\"blue\",\"blue\",\"blue\",\"blue\",\"blue\",\"blue\",\"blue\",\"blue\",\"blue\",\"blue\",\"blue\",\"blue\",\"blue\",\"blue\",\"blue\",\"blue\",\"blue\",\"blue\",\"blue\",\"blue\",\"blue\",\"blue\",\"blue\",\"blue\",\"blue\",\"blue\",\"blue\",\"blue\",\"blue\",\"blue\",\"blue\",\"blue\",\"blue\",\"blue\",\"blue\",\"blue\",\"blue\",\"blue\",\"blue\",\"blue\",\"blue\",\"blue\",\"blue\",\"blue\",\"blue\",\"blue\",\"blue\",\"blue\",\"blue\",\"blue\",\"blue\",\"blue\",\"blue\",\"blue\",\"blue\",\"blue\",\"blue\",\"blue\",\"blue\",\"blue\",\"blue\",\"blue\",\"blue\",\"blue\",\"blue\",\"blue\",\"blue\",\"blue\",\"blue\",\"blue\",\"blue\",\"blue\",\"blue\",\"blue\",\"blue\",\"blue\",\"blue\",\"blue\",\"blue\",\"blue\",\"blue\",\"blue\",\"blue\",\"blue\",\"blue\",\"blue\",\"blue\",\"blue\",\"blue\",\"blue\",\"blue\",\"blue\",\"blue\",\"blue\",\"blue\",\"blue\",\"blue\",\"blue\",\"blue\",\"blue\",\"blue\",\"blue\",\"blue\",\"blue\",\"blue\",\"blue\",\"blue\",\"blue\",\"blue\",\"blue\",\"blue\",\"blue\",\"blue\",\"blue\",\"blue\",\"blue\",\"blue\",\"blue\",\"blue\",\"blue\",\"blue\",\"blue\",\"blue\",\"blue\",\"blue\",\"blue\",\"blue\",\"blue\",\"blue\",\"blue\",\"blue\",\"blue\",\"blue\",\"blue\",\"blue\",\"blue\",\"blue\",\"blue\",\"blue\",\"blue\",\"blue\",\"blue\",\"blue\",\"blue\",\"blue\",\"blue\",\"blue\",\"blue\",\"blue\",\"blue\",\"blue\",\"blue\",\"blue\",\"blue\",\"blue\",\"blue\",\"blue\",\"blue\",\"blue\",\"blue\",\"blue\",\"blue\",\"blue\",\"blue\",\"blue\",\"blue\",\"blue\",\"blue\",\"blue\",\"blue\",\"blue\",\"blue\",\"blue\",\"blue\",\"blue\",\"blue\",\"blue\",\"blue\",\"blue\",\"blue\",\"blue\",\"blue\",\"blue\",\"blue\",\"blue\",\"blue\",\"blue\",\"blue\",\"blue\",\"blue\",\"blue\",\"blue\",\"blue\",\"blue\",\"blue\",\"blue\",\"blue\",\"blue\",\"blue\",\"blue\",\"blue\",\"blue\",\"blue\",\"blue\",\"blue\",\"blue\",\"blue\",\"blue\",\"blue\",\"blue\",\"blue\",\"blue\",\"blue\",\"blue\",\"blue\",\"blue\",\"blue\",\"blue\",\"blue\",\"blue\",\"blue\",\"blue\",\"blue\",\"blue\",\"blue\",\"blue\",\"blue\",\"blue\",\"blue\",\"blue\",\"blue\",\"blue\",\"blue\",\"blue\",\"blue\",\"blue\",\"blue\",\"blue\",\"blue\",\"blue\",\"blue\",\"blue\",\"blue\",\"blue\",\"blue\",\"blue\",\"blue\",\"blue\",\"blue\",\"blue\",\"blue\",\"blue\",\"blue\",\"blue\",\"blue\",\"blue\",\"blue\",\"blue\",\"blue\",\"blue\",\"blue\",\"blue\",\"blue\",\"blue\",\"blue\",\"blue\",\"blue\",\"blue\",\"blue\",\"blue\",\"blue\",\"blue\",\"blue\",\"blue\",\"blue\",\"blue\",\"blue\",\"blue\",\"blue\",\"blue\",\"blue\",\"blue\",\"blue\",\"blue\",\"blue\",\"blue\",\"blue\",\"blue\",\"blue\",\"blue\",\"blue\",\"blue\",\"blue\",\"blue\",\"blue\",\"blue\",\"blue\",\"blue\",\"blue\",\"blue\",\"blue\",\"blue\",\"blue\",\"blue\",\"blue\",\"blue\",\"blue\",\"blue\",\"blue\",\"blue\",\"blue\",\"blue\",\"blue\",\"blue\",\"blue\",\"blue\",\"blue\",\"blue\",\"blue\",\"blue\",\"blue\",\"blue\",\"blue\",\"blue\",\"blue\",\"blue\",\"blue\",\"blue\",\"blue\",\"blue\",\"blue\",\"blue\",\"blue\",\"blue\",\"blue\",\"blue\",\"blue\",\"blue\",\"blue\",\"blue\",\"blue\",\"blue\",\"blue\",\"blue\",\"blue\",\"blue\",\"blue\",\"blue\",\"blue\",\"blue\",\"blue\",\"blue\",\"blue\",\"blue\",\"blue\",\"blue\",\"blue\",\"blue\",\"blue\",\"blue\",\"blue\",\"blue\",\"blue\",\"blue\",\"blue\",\"blue\",\"blue\",\"blue\",\"blue\",\"blue\",\"blue\",\"blue\",\"blue\",\"blue\",\"blue\",\"blue\",\"blue\",\"blue\",\"blue\",\"blue\",\"blue\",\"blue\",\"blue\",\"blue\",\"blue\",\"blue\",\"blue\",\"blue\",\"blue\",\"blue\",\"blue\",\"blue\",\"blue\",\"blue\",\"blue\",\"blue\",\"blue\",\"blue\",\"blue\",\"blue\",\"blue\",\"blue\",\"blue\",\"blue\",\"blue\",\"blue\",\"blue\",\"blue\",\"blue\",\"blue\",\"blue\",\"blue\",\"blue\",\"blue\",\"blue\",\"blue\",\"blue\",\"blue\",\"blue\",\"blue\",\"blue\",\"blue\",\"blue\",\"blue\",\"blue\",\"blue\",\"blue\",\"blue\",\"blue\",\"blue\",\"blue\",\"blue\",\"blue\",\"blue\",\"blue\",\"blue\",\"blue\",\"blue\",\"blue\",\"blue\",\"blue\",\"blue\",\"blue\",\"blue\",\"blue\",\"blue\",\"blue\",\"blue\",\"blue\",\"blue\",\"blue\",\"blue\",\"blue\",\"blue\",\"blue\",\"blue\",\"blue\",\"blue\",\"blue\",\"blue\",\"blue\",\"blue\",\"blue\",\"blue\",\"blue\",\"blue\",\"blue\",\"blue\",\"blue\",\"blue\",\"blue\",\"blue\",\"blue\",\"blue\",\"blue\",\"blue\",\"blue\",\"blue\",\"blue\",\"blue\",\"blue\",\"blue\",\"blue\",\"blue\",\"blue\",\"blue\",\"blue\",\"blue\",\"blue\",\"blue\",\"blue\",\"blue\",\"blue\",\"blue\",\"blue\",\"blue\",\"blue\",\"blue\",\"blue\",\"blue\",\"blue\",\"blue\",\"blue\",\"blue\",\"blue\",\"blue\",\"blue\",\"blue\",\"blue\",\"blue\",\"blue\",\"blue\",\"blue\",\"blue\",\"blue\",\"blue\",\"blue\",\"blue\",\"blue\",\"blue\",\"blue\",\"blue\",\"blue\",\"blue\",\"blue\",\"blue\",\"blue\",\"blue\",\"blue\",\"blue\",\"blue\",\"blue\",\"blue\",\"blue\",\"blue\",\"blue\",\"blue\",\"blue\",\"blue\",\"blue\",\"blue\",\"blue\",\"blue\",\"blue\",\"blue\",\"blue\",\"blue\",\"blue\",\"blue\",\"blue\",\"blue\",\"blue\",\"blue\",\"blue\",\"blue\",\"blue\",\"blue\",\"blue\",\"blue\",\"blue\",\"blue\",\"blue\",\"blue\",\"blue\",\"blue\",\"blue\",\"blue\",\"blue\",\"blue\",\"blue\",\"blue\",\"blue\",\"blue\",\"blue\",\"blue\",\"blue\",\"blue\",\"blue\",\"blue\",\"blue\",\"blue\",\"blue\",\"blue\",\"blue\",\"blue\",\"blue\",\"blue\",\"blue\",\"blue\",\"blue\",\"blue\",\"blue\",\"blue\",\"blue\",\"blue\",\"blue\",\"blue\",\"blue\",\"blue\",\"blue\",\"blue\",\"blue\",\"blue\",\"blue\",\"blue\",\"blue\",\"blue\",\"blue\",\"blue\",\"blue\",\"blue\",\"blue\",\"blue\",\"blue\",\"blue\",\"blue\",\"blue\",\"blue\",\"blue\",\"blue\",\"blue\",\"blue\",\"blue\",\"blue\",\"blue\",\"blue\",\"blue\",\"blue\",\"blue\",\"blue\",\"blue\",\"blue\",\"blue\",\"blue\",\"blue\",\"blue\",\"blue\",\"blue\",\"blue\",\"blue\",\"blue\",\"blue\",\"blue\",\"blue\",\"blue\",\"blue\"],\"x\":{\"__ndarray__\":\"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\",\"dtype\":\"float32\",\"shape\":[5000]},\"y\":{\"__ndarray__\":\"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\",\"dtype\":\"float32\",\"shape\":[5000]}},\"selected\":{\"id\":\"1172\",\"type\":\"Selection\"},\"selection_policy\":{\"id\":\"1173\",\"type\":\"UnionRenderers\"}},\"id\":\"1108\",\"type\":\"ColumnDataSource\"},{\"attributes\":{},\"id\":\"1124\",\"type\":\"BasicTicker\"},{\"attributes\":{},\"id\":\"1114\",\"type\":\"LinearScale\"},{\"attributes\":{\"fill_alpha\":{\"value\":0.25},\"fill_color\":{\"field\":\"color\"},\"line_alpha\":{\"value\":0.25},\"line_color\":{\"field\":\"color\"},\"size\":{\"units\":\"screen\",\"value\":10},\"x\":{\"field\":\"x\"},\"y\":{\"field\":\"y\"}},\"id\":\"1143\",\"type\":\"Scatter\"},{\"attributes\":{\"overlay\":{\"id\":\"1169\",\"type\":\"BoxAnnotation\"}},\"id\":\"1130\",\"type\":\"BoxZoomTool\"},{\"attributes\":{\"formatter\":{\"id\":\"1166\",\"type\":\"BasicTickFormatter\"},\"ticker\":{\"id\":\"1124\",\"type\":\"BasicTicker\"}},\"id\":\"1123\",\"type\":\"LinearAxis\"},{\"attributes\":{\"bottom_units\":\"screen\",\"fill_alpha\":{\"value\":0.5},\"fill_color\":{\"value\":\"lightgrey\"},\"left_units\":\"screen\",\"level\":\"overlay\",\"line_alpha\":{\"value\":1.0},\"line_color\":{\"value\":\"black\"},\"line_dash\":[4,4],\"line_width\":{\"value\":2},\"render_mode\":\"css\",\"right_units\":\"screen\",\"top_units\":\"screen\"},\"id\":\"1169\",\"type\":\"BoxAnnotation\"},{\"attributes\":{},\"id\":\"1119\",\"type\":\"BasicTicker\"},{\"attributes\":{},\"id\":\"1116\",\"type\":\"LinearScale\"},{\"attributes\":{\"dimension\":1,\"ticker\":{\"id\":\"1124\",\"type\":\"BasicTicker\"}},\"id\":\"1127\",\"type\":\"Grid\"},{\"attributes\":{\"data_source\":{\"id\":\"1108\",\"type\":\"ColumnDataSource\"},\"glyph\":{\"id\":\"1148\",\"type\":\"Scatter\"},\"hover_glyph\":null,\"muted_glyph\":null,\"nonselection_glyph\":{\"id\":\"1149\",\"type\":\"Scatter\"},\"selection_glyph\":null,\"view\":{\"id\":\"1151\",\"type\":\"CDSView\"}},\"id\":\"1150\",\"type\":\"GlyphRenderer\"},{\"attributes\":{\"fill_alpha\":{\"value\":0.25},\"fill_color\":{\"field\":\"color\"},\"line_alpha\":{\"value\":0.25},\"line_color\":{\"field\":\"color\"},\"size\":{\"units\":\"screen\",\"value\":10},\"x\":{\"field\":\"x\"},\"y\":{\"field\":\"y\"}},\"id\":\"1148\",\"type\":\"Scatter\"},{\"attributes\":{\"formatter\":{\"id\":\"1168\",\"type\":\"BasicTickFormatter\"},\"ticker\":{\"id\":\"1119\",\"type\":\"BasicTicker\"}},\"id\":\"1118\",\"type\":\"LinearAxis\"},{\"attributes\":{},\"id\":\"1172\",\"type\":\"Selection\"},{\"attributes\":{\"active_drag\":\"auto\",\"active_inspect\":\"auto\",\"active_multi\":null,\"active_scroll\":{\"id\":\"1129\",\"type\":\"WheelZoomTool\"},\"active_tap\":\"auto\",\"tools\":[{\"id\":\"1128\",\"type\":\"PanTool\"},{\"id\":\"1129\",\"type\":\"WheelZoomTool\"},{\"id\":\"1130\",\"type\":\"BoxZoomTool\"},{\"id\":\"1131\",\"type\":\"SaveTool\"},{\"id\":\"1132\",\"type\":\"ResetTool\"},{\"id\":\"1133\",\"type\":\"HelpTool\"},{\"id\":\"1152\",\"type\":\"HoverTool\"}]},\"id\":\"1134\",\"type\":\"Toolbar\"}],\"root_ids\":[\"1109\"]},\"title\":\"Bokeh Application\",\"version\":\"1.4.0\"}};\n",
              "  var render_items = [{\"docid\":\"c415f803-2e5c-490a-ab43-25517d88f9b8\",\"roots\":{\"1109\":\"d314a183-3fed-4e21-8098-b080f9a8a56c\"}}];\n",
              "  root.Bokeh.embed.embed_items_notebook(docs_json, render_items);\n",
              "\n",
              "  }\n",
              "  if (root.Bokeh !== undefined) {\n",
              "    embed_document(root);\n",
              "  } else {\n",
              "    var attempts = 0;\n",
              "    var timer = setInterval(function(root) {\n",
              "      if (root.Bokeh !== undefined) {\n",
              "        clearInterval(timer);\n",
              "        embed_document(root);\n",
              "      } else {\n",
              "        attempts++;\n",
              "        if (attempts > 100) {\n",
              "          clearInterval(timer);\n",
              "          console.log(\"Bokeh: ERROR: Unable to run BokehJS code because BokehJS library is missing\");\n",
              "        }\n",
              "      }\n",
              "    }, 10, root)\n",
              "  }\n",
              "})(window);"
            ],
            "application/vnd.bokehjs_exec.v0+json": ""
          },
          "metadata": {
            "tags": [],
            "application/vnd.bokehjs_exec.v0+json": {
              "id": "1109"
            }
          }
        },
        {
          "output_type": "execute_result",
          "data": {
            "text/html": [
              "<div style=\"display: table;\"><div style=\"display: table-row;\"><div style=\"display: table-cell;\"><b title=\"bokeh.plotting.figure.Figure\">Figure</b>(</div><div style=\"display: table-cell;\">id&nbsp;=&nbsp;'1109', <span id=\"1241\" style=\"cursor: pointer;\">&hellip;)</span></div></div><div class=\"1240\" style=\"display: none;\"><div style=\"display: table-cell;\"></div><div style=\"display: table-cell;\">above&nbsp;=&nbsp;[],</div></div><div class=\"1240\" style=\"display: none;\"><div style=\"display: table-cell;\"></div><div style=\"display: table-cell;\">align&nbsp;=&nbsp;'start',</div></div><div class=\"1240\" style=\"display: none;\"><div style=\"display: table-cell;\"></div><div style=\"display: table-cell;\">aspect_ratio&nbsp;=&nbsp;None,</div></div><div class=\"1240\" style=\"display: none;\"><div style=\"display: table-cell;\"></div><div style=\"display: table-cell;\">aspect_scale&nbsp;=&nbsp;1,</div></div><div class=\"1240\" style=\"display: none;\"><div style=\"display: table-cell;\"></div><div style=\"display: table-cell;\">background&nbsp;=&nbsp;None,</div></div><div class=\"1240\" style=\"display: none;\"><div style=\"display: table-cell;\"></div><div style=\"display: table-cell;\">background_fill_alpha&nbsp;=&nbsp;{'value': 1.0},</div></div><div class=\"1240\" style=\"display: none;\"><div style=\"display: table-cell;\"></div><div style=\"display: table-cell;\">background_fill_color&nbsp;=&nbsp;{'value': '#ffffff'},</div></div><div class=\"1240\" style=\"display: none;\"><div style=\"display: table-cell;\"></div><div style=\"display: table-cell;\">below&nbsp;=&nbsp;[LinearAxis(id='1118', ...)],</div></div><div class=\"1240\" style=\"display: none;\"><div style=\"display: table-cell;\"></div><div style=\"display: table-cell;\">border_fill_alpha&nbsp;=&nbsp;{'value': 1.0},</div></div><div class=\"1240\" style=\"display: none;\"><div style=\"display: table-cell;\"></div><div style=\"display: table-cell;\">border_fill_color&nbsp;=&nbsp;{'value': '#ffffff'},</div></div><div class=\"1240\" style=\"display: none;\"><div style=\"display: table-cell;\"></div><div style=\"display: table-cell;\">center&nbsp;=&nbsp;[Grid(id='1122', ...), Grid(id='1127', ...)],</div></div><div class=\"1240\" style=\"display: none;\"><div style=\"display: table-cell;\"></div><div style=\"display: table-cell;\">css_classes&nbsp;=&nbsp;[],</div></div><div class=\"1240\" style=\"display: none;\"><div style=\"display: table-cell;\"></div><div style=\"display: table-cell;\">disabled&nbsp;=&nbsp;False,</div></div><div class=\"1240\" style=\"display: none;\"><div style=\"display: table-cell;\"></div><div style=\"display: table-cell;\">extra_x_ranges&nbsp;=&nbsp;{},</div></div><div class=\"1240\" style=\"display: none;\"><div style=\"display: table-cell;\"></div><div style=\"display: table-cell;\">extra_y_ranges&nbsp;=&nbsp;{},</div></div><div class=\"1240\" style=\"display: none;\"><div style=\"display: table-cell;\"></div><div style=\"display: table-cell;\">frame_height&nbsp;=&nbsp;None,</div></div><div class=\"1240\" style=\"display: none;\"><div style=\"display: table-cell;\"></div><div style=\"display: table-cell;\">frame_width&nbsp;=&nbsp;None,</div></div><div class=\"1240\" style=\"display: none;\"><div style=\"display: table-cell;\"></div><div style=\"display: table-cell;\">height&nbsp;=&nbsp;None,</div></div><div class=\"1240\" style=\"display: none;\"><div style=\"display: table-cell;\"></div><div style=\"display: table-cell;\">height_policy&nbsp;=&nbsp;'auto',</div></div><div class=\"1240\" style=\"display: none;\"><div style=\"display: table-cell;\"></div><div style=\"display: table-cell;\">hidpi&nbsp;=&nbsp;True,</div></div><div class=\"1240\" style=\"display: none;\"><div style=\"display: table-cell;\"></div><div style=\"display: table-cell;\">js_event_callbacks&nbsp;=&nbsp;{},</div></div><div class=\"1240\" style=\"display: none;\"><div style=\"display: table-cell;\"></div><div style=\"display: table-cell;\">js_property_callbacks&nbsp;=&nbsp;{},</div></div><div class=\"1240\" style=\"display: none;\"><div style=\"display: table-cell;\"></div><div style=\"display: table-cell;\">left&nbsp;=&nbsp;[LinearAxis(id='1123', ...)],</div></div><div class=\"1240\" style=\"display: none;\"><div style=\"display: table-cell;\"></div><div style=\"display: table-cell;\">lod_factor&nbsp;=&nbsp;10,</div></div><div class=\"1240\" style=\"display: none;\"><div style=\"display: table-cell;\"></div><div style=\"display: table-cell;\">lod_interval&nbsp;=&nbsp;300,</div></div><div class=\"1240\" style=\"display: none;\"><div style=\"display: table-cell;\"></div><div style=\"display: table-cell;\">lod_threshold&nbsp;=&nbsp;2000,</div></div><div class=\"1240\" style=\"display: none;\"><div style=\"display: table-cell;\"></div><div style=\"display: table-cell;\">lod_timeout&nbsp;=&nbsp;500,</div></div><div class=\"1240\" style=\"display: none;\"><div style=\"display: table-cell;\"></div><div style=\"display: table-cell;\">margin&nbsp;=&nbsp;(0, 0, 0, 0),</div></div><div class=\"1240\" style=\"display: none;\"><div style=\"display: table-cell;\"></div><div style=\"display: table-cell;\">match_aspect&nbsp;=&nbsp;False,</div></div><div class=\"1240\" style=\"display: none;\"><div style=\"display: table-cell;\"></div><div style=\"display: table-cell;\">max_height&nbsp;=&nbsp;None,</div></div><div class=\"1240\" style=\"display: none;\"><div style=\"display: table-cell;\"></div><div style=\"display: table-cell;\">max_width&nbsp;=&nbsp;None,</div></div><div class=\"1240\" style=\"display: none;\"><div style=\"display: table-cell;\"></div><div style=\"display: table-cell;\">min_border&nbsp;=&nbsp;5,</div></div><div class=\"1240\" style=\"display: none;\"><div style=\"display: table-cell;\"></div><div style=\"display: table-cell;\">min_border_bottom&nbsp;=&nbsp;None,</div></div><div class=\"1240\" style=\"display: none;\"><div style=\"display: table-cell;\"></div><div style=\"display: table-cell;\">min_border_left&nbsp;=&nbsp;None,</div></div><div class=\"1240\" style=\"display: none;\"><div style=\"display: table-cell;\"></div><div style=\"display: table-cell;\">min_border_right&nbsp;=&nbsp;None,</div></div><div class=\"1240\" style=\"display: none;\"><div style=\"display: table-cell;\"></div><div style=\"display: table-cell;\">min_border_top&nbsp;=&nbsp;None,</div></div><div class=\"1240\" style=\"display: none;\"><div style=\"display: table-cell;\"></div><div style=\"display: table-cell;\">min_height&nbsp;=&nbsp;None,</div></div><div class=\"1240\" style=\"display: none;\"><div style=\"display: table-cell;\"></div><div style=\"display: table-cell;\">min_width&nbsp;=&nbsp;None,</div></div><div class=\"1240\" style=\"display: none;\"><div style=\"display: table-cell;\"></div><div style=\"display: table-cell;\">name&nbsp;=&nbsp;None,</div></div><div class=\"1240\" style=\"display: none;\"><div style=\"display: table-cell;\"></div><div style=\"display: table-cell;\">outline_line_alpha&nbsp;=&nbsp;{'value': 1.0},</div></div><div class=\"1240\" style=\"display: none;\"><div style=\"display: table-cell;\"></div><div style=\"display: table-cell;\">outline_line_cap&nbsp;=&nbsp;'butt',</div></div><div class=\"1240\" style=\"display: none;\"><div style=\"display: table-cell;\"></div><div style=\"display: table-cell;\">outline_line_color&nbsp;=&nbsp;{'value': '#e5e5e5'},</div></div><div class=\"1240\" style=\"display: none;\"><div style=\"display: table-cell;\"></div><div style=\"display: table-cell;\">outline_line_dash&nbsp;=&nbsp;[],</div></div><div class=\"1240\" style=\"display: none;\"><div style=\"display: table-cell;\"></div><div style=\"display: table-cell;\">outline_line_dash_offset&nbsp;=&nbsp;0,</div></div><div class=\"1240\" style=\"display: none;\"><div style=\"display: table-cell;\"></div><div style=\"display: table-cell;\">outline_line_join&nbsp;=&nbsp;'bevel',</div></div><div class=\"1240\" style=\"display: none;\"><div style=\"display: table-cell;\"></div><div style=\"display: table-cell;\">outline_line_width&nbsp;=&nbsp;{'value': 1},</div></div><div class=\"1240\" style=\"display: none;\"><div style=\"display: table-cell;\"></div><div style=\"display: table-cell;\">output_backend&nbsp;=&nbsp;'canvas',</div></div><div class=\"1240\" style=\"display: none;\"><div style=\"display: table-cell;\"></div><div style=\"display: table-cell;\">plot_height&nbsp;=&nbsp;400,</div></div><div class=\"1240\" style=\"display: none;\"><div style=\"display: table-cell;\"></div><div style=\"display: table-cell;\">plot_width&nbsp;=&nbsp;600,</div></div><div class=\"1240\" style=\"display: none;\"><div style=\"display: table-cell;\"></div><div style=\"display: table-cell;\">renderers&nbsp;=&nbsp;[GlyphRenderer(id='1145', ...), GlyphRenderer(id='1150', ...)],</div></div><div class=\"1240\" style=\"display: none;\"><div style=\"display: table-cell;\"></div><div style=\"display: table-cell;\">reset_policy&nbsp;=&nbsp;'standard',</div></div><div class=\"1240\" style=\"display: none;\"><div style=\"display: table-cell;\"></div><div style=\"display: table-cell;\">right&nbsp;=&nbsp;[],</div></div><div class=\"1240\" style=\"display: none;\"><div style=\"display: table-cell;\"></div><div style=\"display: table-cell;\">sizing_mode&nbsp;=&nbsp;None,</div></div><div class=\"1240\" style=\"display: none;\"><div style=\"display: table-cell;\"></div><div style=\"display: table-cell;\">subscribed_events&nbsp;=&nbsp;[],</div></div><div class=\"1240\" style=\"display: none;\"><div style=\"display: table-cell;\"></div><div style=\"display: table-cell;\">tags&nbsp;=&nbsp;[],</div></div><div class=\"1240\" style=\"display: none;\"><div style=\"display: table-cell;\"></div><div style=\"display: table-cell;\">title&nbsp;=&nbsp;Title(id='1164', ...),</div></div><div class=\"1240\" style=\"display: none;\"><div style=\"display: table-cell;\"></div><div style=\"display: table-cell;\">title_location&nbsp;=&nbsp;'above',</div></div><div class=\"1240\" style=\"display: none;\"><div style=\"display: table-cell;\"></div><div style=\"display: table-cell;\">toolbar&nbsp;=&nbsp;Toolbar(id='1134', ...),</div></div><div class=\"1240\" style=\"display: none;\"><div style=\"display: table-cell;\"></div><div style=\"display: table-cell;\">toolbar_location&nbsp;=&nbsp;'right',</div></div><div class=\"1240\" style=\"display: none;\"><div style=\"display: table-cell;\"></div><div style=\"display: table-cell;\">toolbar_sticky&nbsp;=&nbsp;True,</div></div><div class=\"1240\" style=\"display: none;\"><div style=\"display: table-cell;\"></div><div style=\"display: table-cell;\">visible&nbsp;=&nbsp;True,</div></div><div class=\"1240\" style=\"display: none;\"><div style=\"display: table-cell;\"></div><div style=\"display: table-cell;\">width&nbsp;=&nbsp;None,</div></div><div class=\"1240\" style=\"display: none;\"><div style=\"display: table-cell;\"></div><div style=\"display: table-cell;\">width_policy&nbsp;=&nbsp;'auto',</div></div><div class=\"1240\" style=\"display: none;\"><div style=\"display: table-cell;\"></div><div style=\"display: table-cell;\">x_range&nbsp;=&nbsp;DataRange1d(id='1110', ...),</div></div><div class=\"1240\" style=\"display: none;\"><div style=\"display: table-cell;\"></div><div style=\"display: table-cell;\">x_scale&nbsp;=&nbsp;LinearScale(id='1114', ...),</div></div><div class=\"1240\" style=\"display: none;\"><div style=\"display: table-cell;\"></div><div style=\"display: table-cell;\">y_range&nbsp;=&nbsp;DataRange1d(id='1112', ...),</div></div><div class=\"1240\" style=\"display: none;\"><div style=\"display: table-cell;\"></div><div style=\"display: table-cell;\">y_scale&nbsp;=&nbsp;LinearScale(id='1116', ...))</div></div></div>\n",
              "<script>\n",
              "(function() {\n",
              "  var expanded = false;\n",
              "  var ellipsis = document.getElementById(\"1241\");\n",
              "  ellipsis.addEventListener(\"click\", function() {\n",
              "    var rows = document.getElementsByClassName(\"1240\");\n",
              "    for (var i = 0; i < rows.length; i++) {\n",
              "      var el = rows[i];\n",
              "      el.style.display = expanded ? \"none\" : \"table-row\";\n",
              "    }\n",
              "    ellipsis.innerHTML = expanded ? \"&hellip;)\" : \"&lsaquo;&lsaquo;&lsaquo;\";\n",
              "    expanded = !expanded;\n",
              "  });\n",
              "})();\n",
              "</script>\n"
            ],
            "text/plain": [
              "Figure(id='1109', ...)"
            ]
          },
          "metadata": {
            "tags": []
          },
          "execution_count": 81
        }
      ]
    },
    {
      "cell_type": "code",
      "metadata": {
        "id": "3E6bbZygxT0V",
        "colab_type": "code",
        "outputId": "6e7a06af-568b-419c-fa88-bc89d1bdd10f",
        "colab": {
          "base_uri": "https://localhost:8080/",
          "height": 34
        }
      },
      "source": [
        "words_target_vectors_transform.shape"
      ],
      "execution_count": 0,
      "outputs": [
        {
          "output_type": "execute_result",
          "data": {
            "text/plain": [
              "(1026, 2)"
            ]
          },
          "metadata": {
            "tags": []
          },
          "execution_count": 73
        }
      ]
    },
    {
      "cell_type": "code",
      "metadata": {
        "id": "pr_relwSyu3W",
        "colab_type": "code",
        "colab": {}
      },
      "source": [
        "results_dict = {}\n",
        "for num_clusters in range(5, 50, 5):\n",
        "  k_means = KMeans(n_clusters = num_clusters, random_state = 10).fit(train_df[mean_embedding])\n",
        "  train_df['clustering'] = k_means.predict(train_df[mean_embedding])\n",
        "  results_dict[num_clusters] = train_df[['clustering', 'target']].groupby(['clustering']).mean().std()\n",
        "  print(num_clusters)\n",
        "  print(data[['clustering', 'target']].groupby(['clustering']).mean())"
      ],
      "execution_count": 0,
      "outputs": []
    },
    {
      "cell_type": "code",
      "metadata": {
        "id": "xnY_s4bk4teY",
        "colab_type": "code",
        "colab": {}
      },
      "source": [
        "corpus = list(map(';#'.join, data[sites].values))"
      ],
      "execution_count": 0,
      "outputs": []
    },
    {
      "cell_type": "code",
      "metadata": {
        "id": "VAL4Qbu-7mzo",
        "colab_type": "code",
        "colab": {}
      },
      "source": [
        "tf_idf_matrix = vectorizer.fit_transform(corpus)"
      ],
      "execution_count": 0,
      "outputs": []
    },
    {
      "cell_type": "code",
      "metadata": {
        "id": "DbrRJMUN-zWv",
        "colab_type": "code",
        "colab": {}
      },
      "source": [
        "features_name = vectorizer.get_feature_names()"
      ],
      "execution_count": 0,
      "outputs": []
    },
    {
      "cell_type": "code",
      "metadata": {
        "id": "nroVstp7A3dx",
        "colab_type": "code",
        "outputId": "f95c2d00-b463-4253-84f4-bc8c54a8e267",
        "colab": {
          "base_uri": "https://localhost:8080/",
          "height": 34
        }
      },
      "source": [
        "tf_idf_matrix[1, features_name.index('mts0.google')]"
      ],
      "execution_count": 0,
      "outputs": [
        {
          "output_type": "execute_result",
          "data": {
            "text/plain": [
              "0.46255368340326614"
            ]
          },
          "metadata": {
            "tags": []
          },
          "execution_count": 48
        }
      ]
    },
    {
      "cell_type": "code",
      "metadata": {
        "id": "W-ruXU6GGeem",
        "colab_type": "code",
        "outputId": "affe81b7-941f-4161-c048-c2d62bb9a8f3",
        "colab": {
          "base_uri": "https://localhost:8080/",
          "height": 218
        }
      },
      "source": [
        "data[sites].head()"
      ],
      "execution_count": 0,
      "outputs": [
        {
          "output_type": "execute_result",
          "data": {
            "text/html": [
              "<div>\n",
              "<style scoped>\n",
              "    .dataframe tbody tr th:only-of-type {\n",
              "        vertical-align: middle;\n",
              "    }\n",
              "\n",
              "    .dataframe tbody tr th {\n",
              "        vertical-align: top;\n",
              "    }\n",
              "\n",
              "    .dataframe thead th {\n",
              "        text-align: right;\n",
              "    }\n",
              "</style>\n",
              "<table border=\"1\" class=\"dataframe\">\n",
              "  <thead>\n",
              "    <tr style=\"text-align: right;\">\n",
              "      <th></th>\n",
              "      <th>site1</th>\n",
              "      <th>site2</th>\n",
              "      <th>site3</th>\n",
              "      <th>site4</th>\n",
              "      <th>site5</th>\n",
              "      <th>site6</th>\n",
              "      <th>site7</th>\n",
              "      <th>site8</th>\n",
              "      <th>site9</th>\n",
              "      <th>site10</th>\n",
              "    </tr>\n",
              "  </thead>\n",
              "  <tbody>\n",
              "    <tr>\n",
              "      <th>0</th>\n",
              "      <td>rr.office.microsoft</td>\n",
              "      <td>padding</td>\n",
              "      <td>padding</td>\n",
              "      <td>padding</td>\n",
              "      <td>padding</td>\n",
              "      <td>padding</td>\n",
              "      <td>padding</td>\n",
              "      <td>padding</td>\n",
              "      <td>padding</td>\n",
              "      <td>padding</td>\n",
              "    </tr>\n",
              "    <tr>\n",
              "      <th>1</th>\n",
              "      <td>maps.google</td>\n",
              "      <td>mts0.google</td>\n",
              "      <td>khms0.google</td>\n",
              "      <td>mts0.google</td>\n",
              "      <td>mts1.google</td>\n",
              "      <td>khms1.google</td>\n",
              "      <td>khms0.google</td>\n",
              "      <td>khms1.google</td>\n",
              "      <td>193.164.197.30</td>\n",
              "      <td>193.164.196.60</td>\n",
              "    </tr>\n",
              "    <tr>\n",
              "      <th>2</th>\n",
              "      <td>cbk1.googleapis</td>\n",
              "      <td>accounts.google</td>\n",
              "      <td>cbk0.googleapis</td>\n",
              "      <td>cbk1.googleapis</td>\n",
              "      <td>twitter</td>\n",
              "      <td>accounts.google</td>\n",
              "      <td>cbk0.googleapis</td>\n",
              "      <td>cbk0.googleapis</td>\n",
              "      <td>cbk0.googleapis</td>\n",
              "      <td>cbk0.googleapis</td>\n",
              "    </tr>\n",
              "    <tr>\n",
              "      <th>3</th>\n",
              "      <td>annotathon</td>\n",
              "      <td>annotathon</td>\n",
              "      <td>annotathon</td>\n",
              "      <td>annotathon</td>\n",
              "      <td>annotathon</td>\n",
              "      <td>annotathon</td>\n",
              "      <td>annotathon</td>\n",
              "      <td>annotathon</td>\n",
              "      <td>annotathon</td>\n",
              "      <td>annotathon</td>\n",
              "    </tr>\n",
              "    <tr>\n",
              "      <th>4</th>\n",
              "      <td>apis.google</td>\n",
              "      <td>fr.wikipedia</td>\n",
              "      <td>bits.wikimedia</td>\n",
              "      <td>meta.wikimedia</td>\n",
              "      <td>fr.wikipedia</td>\n",
              "      <td>meta.wikimedia</td>\n",
              "      <td>bits.wikimedia</td>\n",
              "      <td>fr.wikipedia</td>\n",
              "      <td>fr.wikipedia</td>\n",
              "      <td>meta.wikimedia</td>\n",
              "    </tr>\n",
              "  </tbody>\n",
              "</table>\n",
              "</div>"
            ],
            "text/plain": [
              "                 site1            site2  ...            site9           site10\n",
              "0  rr.office.microsoft          padding  ...          padding          padding\n",
              "1          maps.google      mts0.google  ...   193.164.197.30   193.164.196.60\n",
              "2      cbk1.googleapis  accounts.google  ...  cbk0.googleapis  cbk0.googleapis\n",
              "3           annotathon       annotathon  ...       annotathon       annotathon\n",
              "4          apis.google     fr.wikipedia  ...     fr.wikipedia   meta.wikimedia\n",
              "\n",
              "[5 rows x 10 columns]"
            ]
          },
          "metadata": {
            "tags": []
          },
          "execution_count": 45
        }
      ]
    },
    {
      "cell_type": "code",
      "metadata": {
        "id": "A4EMfiN2LEiG",
        "colab_type": "code",
        "colab": {}
      },
      "source": [
        ""
      ],
      "execution_count": 0,
      "outputs": []
    }
  ]
}