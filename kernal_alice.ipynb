{
 "cells": [
  {
   "cell_type": "code",
   "execution_count": 1,
   "metadata": {},
   "outputs": [],
   "source": [
    "import math\n",
    "%matplotlib inline\n",
    "from sklearn.ensemble import VotingClassifier, RandomForestClassifier\n",
    "from mlxtend.classifier import StackingClassifier\n",
    "from sklearn.neighbors import KNeighborsClassifier\n",
    "from matplotlib import pyplot as plt\n",
    "import eli5\n",
    "import os\n",
    "import pickle\n",
    "import numpy as np\n",
    "import pandas as pd\n",
    "import time\n",
    "from contextlib import contextmanager\n",
    "from scipy.sparse import hstack, vstack, csr_matrix\n",
    "from sklearn.feature_extraction.text import TfidfVectorizer\n",
    "from sklearn.preprocessing import StandardScaler, MaxAbsScaler, OneHotEncoder, LabelEncoder\n",
    "from sklearn.model_selection import TimeSeriesSplit, cross_val_score, GridSearchCV, StratifiedKFold, train_test_split, validation_curve\n",
    "from sklearn.metrics import roc_auc_score\n",
    "from sklearn.linear_model import LogisticRegression, SGDClassifier, LinearRegression\n",
    "import warnings\n",
    "warnings.filterwarnings('ignore')\n",
    "import xgboost as xgb\n",
    "from catboost import CatBoostClassifier\n",
    "import seaborn as sns\n",
    "from sklearn.svm import SVC "
   ]
  },
  {
   "cell_type": "code",
   "execution_count": 2,
   "metadata": {},
   "outputs": [],
   "source": [
    "#train_df = pd.read_csv('Desktop/dataset/train_sessions.csv')\n",
    "#ind = int(train_df.shape[0] * .7)\n",
    "#train_df = train_df.sort_values(by='time1')\n",
    "#X_train = train_df[:ind]\n",
    "#X_test = train_df[ind:]\n",
    "#X_train.to_csv('Desktop/dataset/alice/train.csv')\n",
    "#X_test.to_csv('Desktop/dataset/alice/test.csv')"
   ]
  },
  {
   "cell_type": "code",
   "execution_count": 2,
   "metadata": {},
   "outputs": [],
   "source": [
    "PATH_TO_DATA = 'Desktop/dataset/'\n",
    "AUTHOR = 'Alex_Elchaninov' # change here to <name>_<surname>\n",
    "# it's a nice practice to define most of hyperparams here\n",
    "SEED = 17\n",
    "N_JOBS = 4\n",
    "NUM_TIME_SPLITS = 10    # for time-based cross-validation\n",
    "SITE_NGRAMS = (1, 5)    # site ngrams for \"bag of sites\"\n",
    "MAX_FEATURES = 50000    # max features for \"bag of sites\"\n",
    "BEST_LOGIT_C = 5.45559"
   ]
  },
  {
   "cell_type": "code",
   "execution_count": 3,
   "metadata": {},
   "outputs": [],
   "source": [
    "times = ['time%s' % i for i in range(1, 11)]\n",
    "sites = ['site%s' % i for i in range(1, 11)]\n",
    "test_df = pd.read_csv('Desktop/dataset/test_sessions.csv',index_col='session_id', parse_dates=times)\n",
    "train_df = pd.read_csv('Desktop/dataset/train_sessions.csv',index_col='session_id', parse_dates=times)\n",
    "#y_test = test_df['target']\n",
    "#test_df.drop('target', axis = 1, inplace = True)\n",
    "#test_df.drop('Unnamed: 0', axis = 1, inplace = True)\n",
    "#train_df.drop('Unnamed: 0', axis = 1, inplace = True)\n",
    "train_df = train_df.sort_values(by='time1')\n",
    "alice_sites = [80,77,76, 81, 879, 82, 75, 82]\n",
    "y_train = train_df['target']"
   ]
  },
  {
   "cell_type": "code",
   "execution_count": 5,
   "metadata": {},
   "outputs": [],
   "source": [
    "def prepare_sparse_features(train_df, test_df, path_to_site_dict,\n",
    "                           vectorizer_params):\n",
    "    times = ['time%s' % i for i in range(1, 11)]\n",
    "    train_df = train_df.sort_values(by='time1')\n",
    "    with open(r\"Desktop/dataset/site_dic.pkl\", \"rb\") as input_file:\n",
    "        site_dict = pickle.load(input_file)\n",
    "    id2sites = {i:k for k,i in site_dict.items()}\n",
    "    id2sites[0] = 'unknown'\n",
    "    sites = ['site%s' % i for i in range(1, 11)]\n",
    "    train_session = train_df[sites].fillna(0).astype(int).apply(lambda row:\n",
    "                                                                ' '.join([id2sites[i] for i in row]), axis = 1).tolist()\n",
    "    test_session = test_df[sites].fillna(0).astype(int).apply(lambda row:\n",
    "                                                                ' '.join([id2sites[i] for i in row]), axis = 1).tolist()\n",
    "    vectorizer = TfidfVectorizer(**vectorizer_params)\n",
    "    X_train = vectorizer.fit_transform(train_session)\n",
    "    X_test = vectorizer.transform(test_session)\n",
    "    y_train = train_df['target'].astype(int).values\n",
    "    train_times, test_times = train_df[times], test_df[times]\n",
    "    return X_train, X_test, y_train, vectorizer, train_times, test_times"
   ]
  },
  {
   "cell_type": "code",
   "execution_count": 6,
   "metadata": {},
   "outputs": [],
   "source": [
    "X_train_sites, X_test_sites, y_train, vectorizer, train_times, test_times = \\\n",
    "        prepare_sparse_features(train_df,test_df,\n",
    "            path_to_site_dict=os.path.join('Desktop/dataset/site_dic.pkl'),\n",
    "            vectorizer_params={'ngram_range': SITE_NGRAMS,\n",
    "                               'max_features': MAX_FEATURES,\n",
    "                               'tokenizer': lambda s: s.split()})\n",
    "                                \n"
   ]
  },
  {
   "cell_type": "code",
   "execution_count": 7,
   "metadata": {},
   "outputs": [],
   "source": [
    "def onehot (a):\n",
    "    return OneHotEncoder(sparse = True).fit_transform(np.array(a).reshape(-1,1))"
   ]
  },
  {
   "cell_type": "code",
   "execution_count": 8,
   "metadata": {},
   "outputs": [],
   "source": [
    "def add_features(times):\n",
    "    hour = times['time1'].apply(lambda ts: ts.hour).values.reshape(-1, 1)\n",
    "    morning = ((hour >= 7) & (hour <= 11)).astype('int').reshape(-1, 1)\n",
    "    day = ((hour >= 12) & (hour <= 18)).astype('int').reshape(-1, 1)\n",
    "    evening = ((hour >= 19) & (hour <= 23)).astype('int').reshape(-1, 1)\n",
    "#    night = ((hour >= 0) & (hour <= 6)).astype('int').reshape(-1, 1)\n",
    "    sess_duration = (times.max(axis=1) - times.min(axis=1)).astype('timedelta64[s]')\\\n",
    "\t\t   .astype('int').values.reshape(-1, 1)\n",
    "    day_of_week = times['time1'].apply(lambda t: t.weekday()).values.reshape(-1, 1)\n",
    "    month = times['time1'].apply(lambda t: t.month).values.reshape(-1, 1) \n",
    "    year_month = times['time1'].apply(lambda t: 100 * t.year + t.month).values.reshape(-1, 1) / 1e5\n",
    "#    day_of_week_onehot = onehot(day_of_week)\n",
    "    weekend = np.array(times['time1'].apply(lambda t: t.weekday()).isin([5,6]).astype('int')).reshape(-1,1)\n",
    "    X = np.hstack([morning, day, evening, sess_duration, day_of_week, \n",
    "                   month, year_month])\n",
    "    return X"
   ]
  },
  {
   "cell_type": "code",
   "execution_count": 8,
   "metadata": {},
   "outputs": [],
   "source": [
    "def scaled (x_train, x_test, c = 1):\n",
    "    if c == 1:\n",
    "        scaler = StandardScaler()\n",
    "    else:\n",
    "        scaler = MaxAbsScaler()\n",
    "    x_train_new = scaler.fit_transform(x_train.reshape(-1,1))\n",
    "    x_test_new = scaler.transform(x_test.reshape(-1,1))\n",
    "    return x_train_new.reshape(-1), x_test_new.reshape(-1)"
   ]
  },
  {
   "cell_type": "code",
   "execution_count": 7,
   "metadata": {},
   "outputs": [],
   "source": [
    "def scaled_pd (x_train, x_test, c = 1):\n",
    "    if c == 1:\n",
    "        scaler = StandardScaler()\n",
    "    else:\n",
    "        scaler = MaxAbsScaler()\n",
    "    x_train_new = scaler.fit_transform(x_train.values.reshape(-1,1))\n",
    "    x_test_new = scaler.transform(x_test.values.reshape(-1,1))\n",
    "    return x_train_new, x_test_new"
   ]
  },
  {
   "cell_type": "code",
   "execution_count": 11,
   "metadata": {},
   "outputs": [],
   "source": [
    "def onehot_array (x_train, x_test):\n",
    "    train_final = []\n",
    "    categorial = x_train.columns\n",
    "    for i in categorial:\n",
    "        a = OneHotEncoder(sparse = False).fit(np.array(x_train[i]).reshape(-1,1))\n",
    "        train = a.transform(np.array(x_train[i]).reshape(-1,1))\n",
    "        test = a.transform(np.array(x_test[i]).reshape(-1,1))\n",
    "        if len(train_final) == 0:\n",
    "            train_final = train\n",
    "            test_final = test\n",
    "        else:\n",
    "            train_final = np.hstack([train_final,train])\n",
    "            test_final = np.hstack([test_final,test] )    \n",
    "    return train_final, test_final"
   ]
  },
  {
   "cell_type": "code",
   "execution_count": 12,
   "metadata": {},
   "outputs": [],
   "source": [
    "def scaled_one_array (x_train):\n",
    "    scaler = StandardScaler()\n",
    "    x_train_new = scaler.fit_transform(np.array(x_train).reshape(-1,1))\n",
    "    return x_train_new.reshape(-1)"
   ]
  },
  {
   "cell_type": "code",
   "execution_count": 13,
   "metadata": {},
   "outputs": [],
   "source": [
    "def check_site (s):\n",
    "    if s in alice_sites:\n",
    "        return 1\n",
    "    else:\n",
    "        return 0"
   ]
  },
  {
   "cell_type": "code",
   "execution_count": 14,
   "metadata": {},
   "outputs": [],
   "source": [
    "def alice_prefer (x_train, x_test):\n",
    "    new_feat_train = 0\n",
    "    new_feat_test = 0\n",
    "    for i in sites:\n",
    "            new_feat_train += train_df[i].apply(check_site).astype(int)\n",
    "            new_feat_test += test_df[i].apply(check_site).astype(int)\n",
    "    new_feat_train_boolean = (new_feat_train > 0).astype(int)\n",
    "    new_feat_test_boolean = (new_feat_test > 0).astype(int)\n",
    "    new_train = np.hstack([np.array(new_feat_train).reshape(-1,1),np.array(new_feat_train_boolean).reshape(-1,1)])\n",
    "    new_test = np.hstack([np.array(new_feat_test).reshape(-1,1),np.array(new_feat_test_boolean).reshape(-1,1)])\n",
    "    return new_train, new_test"
   ]
  },
  {
   "cell_type": "code",
   "execution_count": 8,
   "metadata": {},
   "outputs": [],
   "source": [
    "def times_features (times):\n",
    "    new_features_time = pd.DataFrame()\n",
    "    new_features_time['hour'] = times['time1'].apply(lambda ts: ts.hour)\n",
    "    new_features_time['morning'] = ((new_features_time['hour'] >= 7) & (new_features_time['hour'] <= 11)).astype('int')\n",
    "    new_features_time['day'] = ((new_features_time['hour'] >= 12) & (new_features_time['hour'] <= 18)).astype('int')\n",
    "    new_features_time['evening'] = ((new_features_time['hour'] >= 19) & (new_features_time['hour'] <= 23)).astype('int')\n",
    "    new_features_time['sess_duration'] = (times.max(axis=1) - times.min(axis=1)).astype('timedelta64[s]')\\\n",
    "\t\t   .astype('int')\n",
    "    new_features_time['day_of_week'] = times['time1'].apply(lambda t: t.weekday()).values.reshape(-1, 1)\n",
    "#    new_features_time['weekend'] = times['time1'].apply(lambda t: t.weekday()).isin([5,6]).astype('int')\n",
    "    new_features_time['month'] = times['time1'].apply(lambda t: t.month).values.reshape(-1, 1) \n",
    "    new_features_time['year_month'] = times['time1'].apply(lambda t: 100 * t.year + t.month).values.reshape(-1, 1) / 1e5\n",
    "    new_features_time.drop('hour', axis = 1, inplace = True)\n",
    "#    new_features_time= pd.concat([new_features_time,\n",
    "#                           pd.get_dummies(new_features_time['hour'], \n",
    "#                                          prefix = \"hour\")], axis = 1)\n",
    "#    hour_onehot = onehot(hour)\n",
    "#    day_of_week_onehot = onehot(day_of_week)\n",
    "#    month_onehot = onehot(month)   \n",
    "\n",
    "    return new_features_time\n"
   ]
  },
  {
   "cell_type": "code",
   "execution_count": 9,
   "metadata": {},
   "outputs": [],
   "source": [
    "train_features = times_features(train_times)\n",
    "test_features = times_features(test_times)"
   ]
  },
  {
   "cell_type": "code",
   "execution_count": 74,
   "metadata": {},
   "outputs": [
    {
     "data": {
      "text/plain": [
       "(253561, 8)"
      ]
     },
     "execution_count": 74,
     "metadata": {},
     "output_type": "execute_result"
    }
   ],
   "source": [
    "train_features.shape"
   ]
  },
  {
   "cell_type": "code",
   "execution_count": 75,
   "metadata": {},
   "outputs": [],
   "source": [
    "alice_train, alice_test = alice_prefer(X_train_sites, X_test_sites)"
   ]
  },
  {
   "cell_type": "code",
   "execution_count": 85,
   "metadata": {
    "scrolled": true
   },
   "outputs": [],
   "source": [
    "train_features['alice'] = alice_train[:,0]\n",
    "test_features['alice'] = alice_test[:,0]\n",
    "train_features['alice_bool'] = alice_train[:,1]\n",
    "test_features['alice_bool'] = alice_test[:,1]\n"
   ]
  },
  {
   "cell_type": "code",
   "execution_count": 10,
   "metadata": {},
   "outputs": [],
   "source": [
    "def scaler_cv (train_features,test_features):\n",
    "    index_scalar = []\n",
    "    for i in train_features.columns:\n",
    "        if train_features[i].max() > 1:\n",
    "            index_scalar.append(i)\n",
    "    for i in index_scalar:\n",
    "        train_features[i] , test_features[i] = scaled_pd(train_features[i],test_features[i])\n",
    "    return train_features, test_features"
   ]
  },
  {
   "cell_type": "code",
   "execution_count": 11,
   "metadata": {},
   "outputs": [
    {
     "name": "stderr",
     "output_type": "stream",
     "text": [
      "C:\\ProgramData\\Anaconda3\\lib\\site-packages\\sklearn\\utils\\validation.py:595: DataConversionWarning: Data with input dtype int32 was converted to float64 by StandardScaler.\n",
      "  warnings.warn(msg, DataConversionWarning)\n",
      "C:\\ProgramData\\Anaconda3\\lib\\site-packages\\sklearn\\utils\\validation.py:595: DataConversionWarning: Data with input dtype int32 was converted to float64 by StandardScaler.\n",
      "  warnings.warn(msg, DataConversionWarning)\n",
      "C:\\ProgramData\\Anaconda3\\lib\\site-packages\\sklearn\\utils\\validation.py:595: DataConversionWarning: Data with input dtype int32 was converted to float64 by StandardScaler.\n",
      "  warnings.warn(msg, DataConversionWarning)\n",
      "C:\\ProgramData\\Anaconda3\\lib\\site-packages\\sklearn\\utils\\validation.py:595: DataConversionWarning: Data with input dtype int64 was converted to float64 by StandardScaler.\n",
      "  warnings.warn(msg, DataConversionWarning)\n",
      "C:\\ProgramData\\Anaconda3\\lib\\site-packages\\sklearn\\utils\\validation.py:595: DataConversionWarning: Data with input dtype int64 was converted to float64 by StandardScaler.\n",
      "  warnings.warn(msg, DataConversionWarning)\n",
      "C:\\ProgramData\\Anaconda3\\lib\\site-packages\\sklearn\\utils\\validation.py:595: DataConversionWarning: Data with input dtype int64 was converted to float64 by StandardScaler.\n",
      "  warnings.warn(msg, DataConversionWarning)\n",
      "C:\\ProgramData\\Anaconda3\\lib\\site-packages\\sklearn\\utils\\validation.py:595: DataConversionWarning: Data with input dtype int64 was converted to float64 by StandardScaler.\n",
      "  warnings.warn(msg, DataConversionWarning)\n",
      "C:\\ProgramData\\Anaconda3\\lib\\site-packages\\sklearn\\utils\\validation.py:595: DataConversionWarning: Data with input dtype int64 was converted to float64 by StandardScaler.\n",
      "  warnings.warn(msg, DataConversionWarning)\n",
      "C:\\ProgramData\\Anaconda3\\lib\\site-packages\\sklearn\\utils\\validation.py:595: DataConversionWarning: Data with input dtype int64 was converted to float64 by StandardScaler.\n",
      "  warnings.warn(msg, DataConversionWarning)\n"
     ]
    }
   ],
   "source": [
    "train_features, test_features = scaler_cv (train_features,test_features)"
   ]
  },
  {
   "cell_type": "code",
   "execution_count": 70,
   "metadata": {},
   "outputs": [],
   "source": [
    "mean = {}\n",
    "for i in train_features.columns:\n",
    "    train_features1 = train_features.drop(i,axis = 1)\n",
    "    test_features1 = test_features.drop(i,axis = 1)\n",
    "    X_train_final1 = hstack([X_train_sites,np.array(train_features1)])\n",
    "    X_test_final1 = hstack([X_test_sites,np.array(test_features1)])\n",
    "    mean_score = cross_val_score(LogisticRegression(C = 3.9810717055349722, random_state=SEED), X_train_final1,\n",
    "                             y_train, scoring = 'roc_auc', cv = time_split)\n",
    "    mean[i] = mean_score[len(mean_score)-1]\n",
    "    "
   ]
  },
  {
   "cell_type": "code",
   "execution_count": 71,
   "metadata": {
    "scrolled": true
   },
   "outputs": [
    {
     "data": {
      "text/plain": [
       "{'hour': 0.9697412278251631,\n",
       " 'morning': 0.9793495070842853,\n",
       " 'day': 0.979294379320179,\n",
       " 'evening': 0.9790968994185367,\n",
       " 'sess_duration': 0.9791881971212038,\n",
       " 'day_of_week': 0.9746589306487827,\n",
       " 'weekend': 0.9798900041848098,\n",
       " 'month': 0.979159561310404,\n",
       " 'year_month': 0.9790748483128944,\n",
       " 'alice': 0.9794252771333956,\n",
       " 'alice_bool': 0.9792791273054431}"
      ]
     },
     "execution_count": 71,
     "metadata": {},
     "output_type": "execute_result"
    }
   ],
   "source": [
    "mean"
   ]
  },
  {
   "cell_type": "code",
   "execution_count": null,
   "metadata": {},
   "outputs": [],
   "source": [
    "index_scalar = []\n",
    "for i in range(train_features.shape[1]):\n",
    "    if train_features[i].max() > 1:\n",
    "        index_scalar.append(i)\n",
    "for i in index_scalar:\n",
    "    train_features[:,i] , test_features[:,i] = scaled(train_features[:,i],test_features[:,i])"
   ]
  },
  {
   "cell_type": "code",
   "execution_count": 15,
   "metadata": {},
   "outputs": [
    {
     "data": {
      "text/html": [
       "<div>\n",
       "<style scoped>\n",
       "    .dataframe tbody tr th:only-of-type {\n",
       "        vertical-align: middle;\n",
       "    }\n",
       "\n",
       "    .dataframe tbody tr th {\n",
       "        vertical-align: top;\n",
       "    }\n",
       "\n",
       "    .dataframe thead th {\n",
       "        text-align: right;\n",
       "    }\n",
       "</style>\n",
       "<table border=\"1\" class=\"dataframe\">\n",
       "  <thead>\n",
       "    <tr style=\"text-align: right;\">\n",
       "      <th></th>\n",
       "      <th>morning</th>\n",
       "      <th>day</th>\n",
       "      <th>evening</th>\n",
       "      <th>sess_duration</th>\n",
       "      <th>day_of_week</th>\n",
       "      <th>month</th>\n",
       "      <th>year_month</th>\n",
       "    </tr>\n",
       "    <tr>\n",
       "      <th>session_id</th>\n",
       "      <th></th>\n",
       "      <th></th>\n",
       "      <th></th>\n",
       "      <th></th>\n",
       "      <th></th>\n",
       "      <th></th>\n",
       "      <th></th>\n",
       "    </tr>\n",
       "  </thead>\n",
       "  <tbody>\n",
       "    <tr>\n",
       "      <th>21669</th>\n",
       "      <td>1</td>\n",
       "      <td>0</td>\n",
       "      <td>0</td>\n",
       "      <td>-0.468233</td>\n",
       "      <td>1.682905</td>\n",
       "      <td>-0.943567</td>\n",
       "      <td>-1.744405</td>\n",
       "    </tr>\n",
       "    <tr>\n",
       "      <th>54843</th>\n",
       "      <td>1</td>\n",
       "      <td>0</td>\n",
       "      <td>0</td>\n",
       "      <td>5.570015</td>\n",
       "      <td>1.682905</td>\n",
       "      <td>-0.943567</td>\n",
       "      <td>-1.744405</td>\n",
       "    </tr>\n",
       "    <tr>\n",
       "      <th>77292</th>\n",
       "      <td>1</td>\n",
       "      <td>0</td>\n",
       "      <td>0</td>\n",
       "      <td>-0.454709</td>\n",
       "      <td>1.682905</td>\n",
       "      <td>-0.943567</td>\n",
       "      <td>-1.744405</td>\n",
       "    </tr>\n",
       "    <tr>\n",
       "      <th>114021</th>\n",
       "      <td>1</td>\n",
       "      <td>0</td>\n",
       "      <td>0</td>\n",
       "      <td>-0.458090</td>\n",
       "      <td>1.682905</td>\n",
       "      <td>-0.943567</td>\n",
       "      <td>-1.744405</td>\n",
       "    </tr>\n",
       "    <tr>\n",
       "      <th>146670</th>\n",
       "      <td>1</td>\n",
       "      <td>0</td>\n",
       "      <td>0</td>\n",
       "      <td>-0.461471</td>\n",
       "      <td>1.682905</td>\n",
       "      <td>-0.943567</td>\n",
       "      <td>-1.744405</td>\n",
       "    </tr>\n",
       "  </tbody>\n",
       "</table>\n",
       "</div>"
      ],
      "text/plain": [
       "            morning  day  evening  sess_duration  day_of_week     month  \\\n",
       "session_id                                                                \n",
       "21669             1    0        0      -0.468233     1.682905 -0.943567   \n",
       "54843             1    0        0       5.570015     1.682905 -0.943567   \n",
       "77292             1    0        0      -0.454709     1.682905 -0.943567   \n",
       "114021            1    0        0      -0.458090     1.682905 -0.943567   \n",
       "146670            1    0        0      -0.461471     1.682905 -0.943567   \n",
       "\n",
       "            year_month  \n",
       "session_id              \n",
       "21669        -1.744405  \n",
       "54843        -1.744405  \n",
       "77292        -1.744405  \n",
       "114021       -1.744405  \n",
       "146670       -1.744405  "
      ]
     },
     "execution_count": 15,
     "metadata": {},
     "output_type": "execute_result"
    }
   ],
   "source": [
    "train_features.head()"
   ]
  },
  {
   "cell_type": "code",
   "execution_count": 12,
   "metadata": {},
   "outputs": [],
   "source": [
    "X_train_final = hstack([X_train_sites,np.array(train_features)])\n",
    "X_test_final = hstack([X_test_sites,np.array(test_features)])"
   ]
  },
  {
   "cell_type": "code",
   "execution_count": 13,
   "metadata": {
    "scrolled": true
   },
   "outputs": [],
   "source": [
    "skf = StratifiedKFold(n_splits=10, shuffle=True, random_state=SEED)\n",
    "time_split = TimeSeriesSplit(n_splits=10)"
   ]
  },
  {
   "cell_type": "code",
   "execution_count": 14,
   "metadata": {},
   "outputs": [
    {
     "name": "stdout",
     "output_type": "stream",
     "text": [
      "[0.83809471 0.81855623 0.91753676 0.9662976  0.92455903 0.94732148\n",
      " 0.95049932 0.94821019 0.96223522 0.94605427]\n",
      "0.9219364821961301\n"
     ]
    }
   ],
   "source": [
    "mean_score = cross_val_score(SGDClassifier(penalty = 'elasticnet', l1_ratio = .275,\n",
    "                                           alpha = 1e-06,loss = 'log', random_state=SEED), \n",
    "                             X_train_final,\n",
    "                             y_train, scoring = 'roc_auc', cv = time_split)\n",
    "print (mean_score)\n",
    "print(mean_score.mean())"
   ]
  },
  {
   "cell_type": "code",
   "execution_count": 23,
   "metadata": {},
   "outputs": [],
   "source": [
    "LogisticRegression?"
   ]
  },
  {
   "cell_type": "code",
   "execution_count": 34,
   "metadata": {
    "scrolled": true
   },
   "outputs": [
    {
     "name": "stdout",
     "output_type": "stream",
     "text": [
      "[0.61280832 0.94680807 0.9449874 ]\n",
      "0.8348679306757485\n"
     ]
    }
   ],
   "source": [
    "mean_score = cross_val_score(LogisticRegression(penalty = 'l2', max_iter = 100, \n",
    "                                                random_state=SEED),\n",
    "                            X_train_final,\n",
    "                             y_train, scoring = 'roc_auc', cv = time_split, n_jobs = -1)   \n",
    "print (mean_score)\n",
    "print(mean_score.mean())"
   ]
  },
  {
   "cell_type": "code",
   "execution_count": null,
   "metadata": {},
   "outputs": [],
   "source": [
    "mean_score = cross_val_score(SVC(gamma = .05, random_state=SEED),\n",
    "                            X_train_final,\n",
    "                             y_train, scoring = 'roc_auc', cv = time_split, n_jobs = -1)   \n",
    "print (mean_score)\n",
    "print(mean_score.mean())"
   ]
  },
  {
   "cell_type": "code",
   "execution_count": 15,
   "metadata": {},
   "outputs": [],
   "source": [
    "SVC?"
   ]
  },
  {
   "cell_type": "code",
   "execution_count": null,
   "metadata": {},
   "outputs": [],
   "source": []
  },
  {
   "cell_type": "code",
   "execution_count": 27,
   "metadata": {
    "scrolled": false
   },
   "outputs": [
    {
     "data": {
      "text/plain": [
       "0.9192840504075726"
      ]
     },
     "execution_count": 27,
     "metadata": {},
     "output_type": "execute_result"
    }
   ],
   "source": [
    "0.9192840504075726 C = 3.9810717055349722,"
   ]
  },
  {
   "cell_type": "code",
   "execution_count": 171,
   "metadata": {
    "scrolled": true
   },
   "outputs": [
    {
     "data": {
      "text/plain": [
       "array([1.0e-05, 5.5e-05, 1.0e-04])"
      ]
     },
     "execution_count": 171,
     "metadata": {},
     "output_type": "execute_result"
    }
   ],
   "source": [
    "np.linspace(10**-5,10**-4,3)"
   ]
  },
  {
   "cell_type": "code",
   "execution_count": 48,
   "metadata": {
    "scrolled": true
   },
   "outputs": [
    {
     "data": {
      "text/plain": [
       "array([1.   , 0.505, 0.01 ])"
      ]
     },
     "execution_count": 48,
     "metadata": {},
     "output_type": "execute_result"
    }
   ],
   "source": [
    "np.linspace(1,0.01,3)"
   ]
  },
  {
   "cell_type": "code",
   "execution_count": null,
   "metadata": {},
   "outputs": [],
   "source": []
  },
  {
   "cell_type": "code",
   "execution_count": 50,
   "metadata": {},
   "outputs": [],
   "source": [
    "params = {'C' : np.linspace(3,0.5,3),\n",
    "         'gamma' : np.linspace(1,0.01,3)}\n",
    "logit = SVC(kernel='linear',random_state=SEED)\n",
    "best_c = GridSearchCV(logit,params, cv =time_split, n_jobs=-1, scoring='roc_auc')"
   ]
  },
  {
   "cell_type": "code",
   "execution_count": 51,
   "metadata": {},
   "outputs": [
    {
     "name": "stderr",
     "output_type": "stream",
     "text": [
      "ERROR:root:Internal Python error in the inspect module.\n",
      "Below is the traceback from this internal error.\n",
      "\n"
     ]
    },
    {
     "name": "stdout",
     "output_type": "stream",
     "text": [
      "Traceback (most recent call last):\n",
      "  File \"C:\\ProgramData\\Anaconda3\\lib\\site-packages\\IPython\\core\\magics\\execution.py\", line 1284, in time\n",
      "    out = eval(code, glob, local_ns)\n",
      "  File \"<timed eval>\", line 1, in <module>\n",
      "  File \"C:\\ProgramData\\Anaconda3\\lib\\site-packages\\sklearn\\model_selection\\_search.py\", line 722, in fit\n",
      "    self._run_search(evaluate_candidates)\n",
      "  File \"C:\\ProgramData\\Anaconda3\\lib\\site-packages\\sklearn\\model_selection\\_search.py\", line 1191, in _run_search\n",
      "    evaluate_candidates(ParameterGrid(self.param_grid))\n",
      "  File \"C:\\ProgramData\\Anaconda3\\lib\\site-packages\\sklearn\\model_selection\\_search.py\", line 711, in evaluate_candidates\n",
      "    cv.split(X, y, groups)))\n",
      "  File \"C:\\ProgramData\\Anaconda3\\lib\\site-packages\\sklearn\\externals\\joblib\\parallel.py\", line 930, in __call__\n",
      "    self.retrieve()\n",
      "  File \"C:\\ProgramData\\Anaconda3\\lib\\site-packages\\sklearn\\externals\\joblib\\parallel.py\", line 833, in retrieve\n",
      "    self._output.extend(job.get(timeout=self.timeout))\n",
      "  File \"C:\\ProgramData\\Anaconda3\\lib\\site-packages\\sklearn\\externals\\joblib\\_parallel_backends.py\", line 521, in wrap_future_result\n",
      "    return future.result(timeout=timeout)\n",
      "  File \"C:\\ProgramData\\Anaconda3\\lib\\concurrent\\futures\\_base.py\", line 427, in result\n",
      "    self._condition.wait(timeout)\n",
      "  File \"C:\\ProgramData\\Anaconda3\\lib\\threading.py\", line 296, in wait\n",
      "    waiter.acquire()\n",
      "KeyboardInterrupt\n",
      "\n",
      "During handling of the above exception, another exception occurred:\n",
      "\n",
      "Traceback (most recent call last):\n",
      "  File \"C:\\ProgramData\\Anaconda3\\lib\\site-packages\\IPython\\core\\interactiveshell.py\", line 2033, in showtraceback\n",
      "    stb = value._render_traceback_()\n",
      "AttributeError: 'KeyboardInterrupt' object has no attribute '_render_traceback_'\n",
      "\n",
      "During handling of the above exception, another exception occurred:\n",
      "\n",
      "Traceback (most recent call last):\n",
      "  File \"C:\\ProgramData\\Anaconda3\\lib\\site-packages\\IPython\\core\\ultratb.py\", line 1095, in get_records\n",
      "    return _fixed_getinnerframes(etb, number_of_lines_of_context, tb_offset)\n",
      "  File \"C:\\ProgramData\\Anaconda3\\lib\\site-packages\\IPython\\core\\ultratb.py\", line 313, in wrapped\n",
      "    return f(*args, **kwargs)\n",
      "  File \"C:\\ProgramData\\Anaconda3\\lib\\site-packages\\IPython\\core\\ultratb.py\", line 347, in _fixed_getinnerframes\n",
      "    records = fix_frame_records_filenames(inspect.getinnerframes(etb, context))\n",
      "  File \"C:\\ProgramData\\Anaconda3\\lib\\inspect.py\", line 1502, in getinnerframes\n",
      "    frameinfo = (tb.tb_frame,) + getframeinfo(tb, context)\n",
      "  File \"C:\\ProgramData\\Anaconda3\\lib\\inspect.py\", line 1460, in getframeinfo\n",
      "    filename = getsourcefile(frame) or getfile(frame)\n",
      "  File \"C:\\ProgramData\\Anaconda3\\lib\\inspect.py\", line 696, in getsourcefile\n",
      "    if getattr(getmodule(object, filename), '__loader__', None) is not None:\n",
      "  File \"C:\\ProgramData\\Anaconda3\\lib\\inspect.py\", line 734, in getmodule\n",
      "    f = module.__file__\n",
      "KeyboardInterrupt\n"
     ]
    },
    {
     "ename": "KeyboardInterrupt",
     "evalue": "",
     "output_type": "error",
     "traceback": [
      "\u001b[1;31m---------------------------------------------------------------------------\u001b[0m"
     ]
    }
   ],
   "source": [
    "%%time\n",
    "best_c.fit(X_train_final, y_train)"
   ]
  },
  {
   "cell_type": "code",
   "execution_count": 54,
   "metadata": {},
   "outputs": [
    {
     "data": {
      "text/plain": [
       "GridSearchCV(cv=TimeSeriesSplit(max_train_size=None, n_splits=10),\n",
       "       error_score='raise-deprecating',\n",
       "       estimator=SVC(C=1.0, cache_size=200, class_weight=None, coef0=0.0,\n",
       "  decision_function_shape='ovr', degree=3, gamma='auto_deprecated',\n",
       "  kernel='linear', max_iter=-1, probability=False, random_state=17,\n",
       "  shrinking=True, tol=0.001, verbose=False),\n",
       "       fit_params=None, iid='warn', n_jobs=-1,\n",
       "       param_grid={'C': array([3.  , 1.75, 0.5 ]), 'gamma': array([1.   , 0.505, 0.01 ])},\n",
       "       pre_dispatch='2*n_jobs', refit=True, return_train_score='warn',\n",
       "       scoring='roc_auc', verbose=0)"
      ]
     },
     "execution_count": 54,
     "metadata": {},
     "output_type": "execute_result"
    }
   ],
   "source": [
    "best_c"
   ]
  },
  {
   "cell_type": "code",
   "execution_count": null,
   "metadata": {},
   "outputs": [],
   "source": []
  },
  {
   "cell_type": "code",
   "execution_count": null,
   "metadata": {},
   "outputs": [],
   "source": []
  },
  {
   "cell_type": "code",
   "execution_count": 115,
   "metadata": {},
   "outputs": [],
   "source": [
    "logit = LogisticRegression(random_state=SEED, C = 3.9810717055349722)\n",
    "logit.fit(X_train_final,y_train)\n",
    "test_pred = logit.predict_proba(X_test_final)[:,1]\n",
    "pd.Series(test_pred,\n",
    "          index = range (1,test_pred.shape[0] + 1) ,\n",
    "          name = 'target').to_csv('Desktop/dataset/benchmark.csv', header = True,\n",
    "                                 index_label = 'session_id')"
   ]
  },
  {
   "cell_type": "code",
   "execution_count": 99,
   "metadata": {},
   "outputs": [
    {
     "data": {
      "text/plain": [
       "(253561, 10)"
      ]
     },
     "execution_count": 99,
     "metadata": {},
     "output_type": "execute_result"
    }
   ],
   "source": [
    "train_features.shape"
   ]
  },
  {
   "cell_type": "code",
   "execution_count": 100,
   "metadata": {
    "scrolled": true
   },
   "outputs": [
    {
     "data": {
      "text/html": [
       "<div>\n",
       "<style scoped>\n",
       "    .dataframe tbody tr th:only-of-type {\n",
       "        vertical-align: middle;\n",
       "    }\n",
       "\n",
       "    .dataframe tbody tr th {\n",
       "        vertical-align: top;\n",
       "    }\n",
       "\n",
       "    .dataframe thead th {\n",
       "        text-align: right;\n",
       "    }\n",
       "</style>\n",
       "<table border=\"1\" class=\"dataframe\">\n",
       "  <thead>\n",
       "    <tr style=\"text-align: right;\">\n",
       "      <th></th>\n",
       "      <th>features</th>\n",
       "      <th>coef</th>\n",
       "    </tr>\n",
       "  </thead>\n",
       "  <tbody>\n",
       "    <tr>\n",
       "      <th>0</th>\n",
       "      <td>morning</td>\n",
       "      <td>-1.769467</td>\n",
       "    </tr>\n",
       "    <tr>\n",
       "      <th>1</th>\n",
       "      <td>day</td>\n",
       "      <td>0.356269</td>\n",
       "    </tr>\n",
       "    <tr>\n",
       "      <th>2</th>\n",
       "      <td>evening</td>\n",
       "      <td>-5.783532</td>\n",
       "    </tr>\n",
       "    <tr>\n",
       "      <th>3</th>\n",
       "      <td>sess_duration</td>\n",
       "      <td>-0.223912</td>\n",
       "    </tr>\n",
       "    <tr>\n",
       "      <th>4</th>\n",
       "      <td>day_of_week</td>\n",
       "      <td>-0.494180</td>\n",
       "    </tr>\n",
       "    <tr>\n",
       "      <th>5</th>\n",
       "      <td>weekend</td>\n",
       "      <td>-0.228544</td>\n",
       "    </tr>\n",
       "    <tr>\n",
       "      <th>6</th>\n",
       "      <td>month</td>\n",
       "      <td>0.218107</td>\n",
       "    </tr>\n",
       "    <tr>\n",
       "      <th>7</th>\n",
       "      <td>year_month</td>\n",
       "      <td>-0.397726</td>\n",
       "    </tr>\n",
       "    <tr>\n",
       "      <th>8</th>\n",
       "      <td>alice</td>\n",
       "      <td>0.141244</td>\n",
       "    </tr>\n",
       "    <tr>\n",
       "      <th>9</th>\n",
       "      <td>alice_bool</td>\n",
       "      <td>0.163639</td>\n",
       "    </tr>\n",
       "  </tbody>\n",
       "</table>\n",
       "</div>"
      ],
      "text/plain": [
       "        features      coef\n",
       "0        morning -1.769467\n",
       "1            day  0.356269\n",
       "2        evening -5.783532\n",
       "3  sess_duration -0.223912\n",
       "4    day_of_week -0.494180\n",
       "5        weekend -0.228544\n",
       "6          month  0.218107\n",
       "7     year_month -0.397726\n",
       "8          alice  0.141244\n",
       "9     alice_bool  0.163639"
      ]
     },
     "execution_count": 100,
     "metadata": {},
     "output_type": "execute_result"
    }
   ],
   "source": [
    "pd.DataFrame({'features': train_features.columns, 'coef':logit.coef_.flatten()[-10:]})"
   ]
  },
  {
   "cell_type": "code",
   "execution_count": 46,
   "metadata": {},
   "outputs": [],
   "source": [
    "train_score, test_score = validation_curve(LogisticRegression(random_state=SEED),\n",
    "                                                             X_train_final, y_train,\n",
    "                                                             param_name = 'C', \n",
    "                                                             param_range = c_values,\n",
    "                                                             cv = time_split.split(X_train_final, y_train),\n",
    "                                                             scoring = 'roc_auc')"
   ]
  },
  {
   "cell_type": "code",
   "execution_count": 50,
   "metadata": {},
   "outputs": [
    {
     "data": {
      "text/plain": [
       "<matplotlib.legend.Legend at 0xb7f13d09b0>"
      ]
     },
     "execution_count": 50,
     "metadata": {},
     "output_type": "execute_result"
    },
    {
     "data": {
      "image/png": "[encoded data removed]",
      "text/plain": [
       "<Figure size 720x432 with 1 Axes>"
      ]
     },
     "metadata": {
      "needs_background": "light"
     },
     "output_type": "display_data"
    }
   ],
   "source": [
    "train_scores_mean = np.mean(train_score, axis=1)\n",
    "train_scores_std = np.std(train_score, axis=1)\n",
    "test_scores_mean = np.mean(test_score, axis=1)\n",
    "test_scores_std = np.std(test_score, axis=1)\n",
    "\n",
    "fig = plt.figure(figsize=(10, 6))\n",
    "\n",
    "plt.title(\"Validation Curve with logloss\")\n",
    "plt.xlabel(\"C\")\n",
    "plt.ylabel(\"roc auc\")\n",
    "\n",
    "\n",
    "plt.plot(c_values,\n",
    "             train_scores_mean,\n",
    "             label=\"Training score\",\n",
    "             color=\"r\")\n",
    "\n",
    "plt.plot(c_values,\n",
    "             test_scores_mean, \n",
    "             label=\"Cross-validation score\",\n",
    "             color=\"g\")\n",
    "\n",
    "plt.fill_between(c_values, \n",
    "                 train_scores_mean - train_scores_std,\n",
    "                 train_scores_mean + train_scores_std, \n",
    "                 alpha=0.2, color=\"r\")\n",
    "\n",
    "plt.fill_between(c_values,\n",
    "                 test_scores_mean - test_scores_std,\n",
    "                 test_scores_mean + test_scores_std,\n",
    "                 alpha=0.2, color=\"g\")\n",
    "plt.ylim(0.8, 1.01)\n",
    "\n",
    "plt.axhline(y=1, color='k', ls='dashed')\n",
    "\n",
    "plt.legend(loc=\"best\")"
   ]
  },
  {
   "cell_type": "markdown",
   "metadata": {},
   "source": [
    "# Бустинг"
   ]
  },
  {
   "cell_type": "code",
   "execution_count": 103,
   "metadata": {},
   "outputs": [],
   "source": [
    "def times_features (times):\n",
    "    new_features_time = pd.DataFrame()\n",
    "    new_features_time['hour'] = times['time1'].apply(lambda ts: ts.hour)\n",
    "    new_features_time['morning'] = ((new_features_time['hour'] >= 7) & (new_features_time['hour'] <= 11)).astype('int')\n",
    "    new_features_time['day'] = ((new_features_time['hour'] >= 12) & (new_features_time['hour'] <= 18)).astype('int')\n",
    "    new_features_time['evening'] = ((new_features_time['hour'] >= 19) & (new_features_time['hour'] <= 23)).astype('int')\n",
    "    new_features_time['sess_duration'] = (times.max(axis=1) - times.min(axis=1)).astype('timedelta64[s]')\\\n",
    "\t\t   .astype('int')\n",
    "    new_features_time['day_of_week'] = times['time1'].apply(lambda t: t.weekday()).values.reshape(-1, 1)\n",
    "    new_features_time['month'] = times['time1'].apply(lambda t: t.month).values.reshape(-1, 1) \n",
    "    new_features_time['year_month'] = times['time1'].apply(lambda t: 100 * t.year + t.month).values.reshape(-1, 1) / 1e5\n",
    "#    new_features_time.drop('hour', axis = 1, inplace = True)\n",
    "#    new_features_time= pd.concat([new_features_time,\n",
    "#                           pd.get_dummies(new_features_time['hour'], \n",
    "#                                          prefix = \"hour\")], axis = 1)\n",
    "#    hour_onehot = onehot(hour)\n",
    "#    day_of_week_onehot = onehot(day_of_week)\n",
    "#    month_onehot = onehot(month)                       \n",
    "    return new_features_time"
   ]
  },
  {
   "cell_type": "code",
   "execution_count": 104,
   "metadata": {},
   "outputs": [],
   "source": [
    "def interaction_features (times):\n",
    "    categories = times.columns\n",
    "    for i, col1 in enumerate(categories):\n",
    "        for j, col2 in enumerate(categories[i + 1:]):\n",
    "            times[col1 + '_' + col2] = times[col1].astype('str') + '_' + times[col2].astype('str')\n",
    "    return times"
   ]
  },
  {
   "cell_type": "code",
   "execution_count": 139,
   "metadata": {},
   "outputs": [],
   "source": [
    "train_times_features = times_features (train_times)\n",
    "test_times_features = times_features (test_times)\n",
    "#train_times_for_meantarget = times_features_mean_array(train_times)\n",
    "#test_times_for_meantarget = times_features_mean_array(test_times)"
   ]
  },
  {
   "cell_type": "code",
   "execution_count": 140,
   "metadata": {},
   "outputs": [],
   "source": [
    "full_times_features = pd.concat([train_times_features,test_times_features])\n",
    "index = train_times_features.shape[0]\n",
    "full_times_features = full_times_features.fillna(0).astype('int')\n",
    "full_times_features_interaction = interaction_features(full_times_features.drop('sess_duration', axis = 1))\n",
    "full_times_features_interaction['sess_duration'] = full_times_features['sess_duration']"
   ]
  },
  {
   "cell_type": "code",
   "execution_count": 141,
   "metadata": {
    "scrolled": true
   },
   "outputs": [],
   "source": [
    "full_times_features_interaction_for_xgb = pd.concat([full_times_features_interaction, \n",
    "          pd.get_dummies(full_times_features_interaction['month'], prefix = 'month'),\n",
    "          pd.get_dummies(full_times_features_interaction['day_of_week'], prefix = 'day_of_week')], axis = 1)"
   ]
  },
  {
   "cell_type": "code",
   "execution_count": 25,
   "metadata": {},
   "outputs": [
    {
     "data": {
      "text/plain": [
       "[0, 1, 2, 3, 4, 5, 6]"
      ]
     },
     "execution_count": 25,
     "metadata": {},
     "output_type": "execute_result"
    }
   ],
   "source": [
    "np.where((train_times_features.dtypes == 'int64') | (train_times_features.dtypes == 'int32'))[0].tolist()"
   ]
  },
  {
   "cell_type": "code",
   "execution_count": null,
   "metadata": {},
   "outputs": [],
   "source": []
  },
  {
   "cell_type": "code",
   "execution_count": 26,
   "metadata": {},
   "outputs": [
    {
     "data": {
      "text/plain": [
       "(253561, 28)"
      ]
     },
     "execution_count": 26,
     "metadata": {},
     "output_type": "execute_result"
    }
   ],
   "source": [
    "train_times_features.shape"
   ]
  },
  {
   "cell_type": "code",
   "execution_count": 142,
   "metadata": {},
   "outputs": [],
   "source": [
    "label_incoder = LabelEncoder()\n",
    "for col in full_times_features_interaction.columns:\n",
    "    full_times_features_interaction[col] = label_incoder.fit_transform(full_times_features_interaction[col])\n",
    "label_incoder = LabelEncoder()\n",
    "for col in full_times_features_interaction_for_xgb.columns:\n",
    "    full_times_features_interaction_for_xgb[col] = label_incoder.fit_transform(full_times_features_interaction_for_xgb[col])    "
   ]
  },
  {
   "cell_type": "code",
   "execution_count": 132,
   "metadata": {},
   "outputs": [],
   "source": [
    "#for i in full_times_features_interaction_for_xgb.columns:\n",
    "#    if (full_times_features_interaction_for_xgb[i].max() > 1) or (full_times_features_interaction_for_xgb[i].max() < .1):\n",
    "#        scaler = StandardScaler()\n",
    "#        full_times_features_interaction_for_xgb[i] = scaler.fit_transform(full_times_features_interaction_for_xgb[i].values.reshape(-1,1))"
   ]
  },
  {
   "cell_type": "code",
   "execution_count": 80,
   "metadata": {},
   "outputs": [],
   "source": [
    "a=[]\n",
    "for i in full_times_features_interaction.columns:\n",
    "    if (full_times_features_interaction[i].max() > 1) or (full_times_features_interaction[i].max() < .1):\n",
    "        a.append(i)\n",
    "        scaler = StandardScaler()\n",
    "        full_times_features_interaction[i] = scaler.fit_transform(full_times_features_interaction[i].values.reshape(-1,1))"
   ]
  },
  {
   "cell_type": "code",
   "execution_count": 81,
   "metadata": {},
   "outputs": [
    {
     "data": {
      "text/plain": [
       "['day_of_week',\n",
       " 'month',\n",
       " 'year_month',\n",
       " 'morning_day',\n",
       " 'morning_evening',\n",
       " 'morning_day_of_week',\n",
       " 'morning_month',\n",
       " 'day_day_of_week',\n",
       " 'day_month',\n",
       " 'evening_day_of_week',\n",
       " 'evening_month',\n",
       " 'day_of_week_month',\n",
       " 'day_of_week_year_month',\n",
       " 'month_year_month']"
      ]
     },
     "execution_count": 81,
     "metadata": {},
     "output_type": "execute_result"
    }
   ],
   "source": [
    "a"
   ]
  },
  {
   "cell_type": "code",
   "execution_count": 143,
   "metadata": {},
   "outputs": [],
   "source": [
    "train_times_features = full_times_features_interaction[:index]\n",
    "test_times_features = full_times_features_interaction[index:]\n",
    "train_times_features_for_xgb = full_times_features_interaction_for_xgb[:index]\n",
    "test_times_features_for_xgb = full_times_features_interaction_for_xgb[index:]"
   ]
  },
  {
   "cell_type": "code",
   "execution_count": 146,
   "metadata": {},
   "outputs": [],
   "source": [
    "time_split = TimeSeriesSplit(n_splits=4)"
   ]
  },
  {
   "cell_type": "code",
   "execution_count": 28,
   "metadata": {
    "scrolled": false
   },
   "outputs": [],
   "source": [
    "train_df_fortarget = train_times_features\n",
    "train_df_fortarget['y'] = pd.Series(y_train)\n",
    "train_array = []\n",
    "valid_array = []\n",
    "new_feat_train = train_df_fortarget.copy()\n",
    "for trainind, validind in time_split.split(train_times_features, y_train):\n",
    "    train_array.append(trainind)\n",
    "    valid_array.append(validind)\n",
    "ind = train_array\n",
    "ind.append(np.hstack([train_array[3],valid_array[3]]))\n",
    "columns = ['hour', 'day_of_week']\n",
    "for col in columns:\n",
    "    new_feat_train[col +'_' + 'mean_target'] = y_train.mean()\n",
    "for col in columns:\n",
    "    train_cv  = new_feat_train.iloc[ind[0]]\n",
    "    mean = train_cv[col].map(train_cv.groupby(col)['y'].mean())\n",
    "    train_cv[col + '_' + 'mean_target'] = mean.fillna(y_train.mean())\n",
    "    new_feat_train.iloc[ind[0]] = train_cv\n",
    "    for i in range (1, len(ind)):\n",
    "        train_cv  = new_feat_train.iloc[np.delete(ind[i],ind[i-1])]\n",
    "        mean = train_cv[col].map(train_df_fortarget.iloc[ind[i]].groupby(col)['y'].mean())\n",
    "        train_cv[col + '_' + 'mean_target'] = mean.fillna(y_train.mean())\n",
    "        new_feat_train.iloc[np.delete(ind[i],ind[i-1])] = train_cv\n",
    "for col in columns:\n",
    "    mean = test_times_features[col].map(new_feat_train.groupby(col)['y'].mean())\n",
    "    test_times_features[col + '_' + 'mean_target'] =mean.fillna(y_train.mean())  \n",
    "new_feat_train.drop('y', axis = 1, inplace = True)\n",
    "#test_times_features.drop( axis = 1, inplace = True)\n"
   ]
  },
  {
   "cell_type": "code",
   "execution_count": null,
   "metadata": {
    "scrolled": true
   },
   "outputs": [],
   "source": [
    "i = np.where(y_train == 1)\n",
    "pd.Series(i).hist()"
   ]
  },
  {
   "cell_type": "markdown",
   "metadata": {},
   "source": [
    "### логистическая регрессия"
   ]
  },
  {
   "cell_type": "code",
   "execution_count": 16,
   "metadata": {},
   "outputs": [
    {
     "data": {
      "text/plain": [
       "0.0194"
      ]
     },
     "execution_count": 16,
     "metadata": {},
     "output_type": "execute_result"
    }
   ],
   "source": [
    "np.mean(y_train[:35000])"
   ]
  },
  {
   "cell_type": "code",
   "execution_count": 229,
   "metadata": {},
   "outputs": [
    {
     "data": {
      "text/plain": [
       "0.00905896411514389"
      ]
     },
     "execution_count": 229,
     "metadata": {},
     "output_type": "execute_result"
    }
   ],
   "source": [
    "np.mean(y_train)"
   ]
  },
  {
   "cell_type": "code",
   "execution_count": 123,
   "metadata": {},
   "outputs": [],
   "source": [
    "full_times_features_interaction_dummies = pd.get_dummies(full_times_features_interaction_for_xgb.drop('sess_duration', axis = 1), \n",
    "                                                         columns = full_times_features_interaction_for_xgb.columns.drop('sess_duration'))\n",
    "train_times_features_for_log = full_times_features_interaction_dummies[:index]\n",
    "test_times_features_for_log = full_times_features_interaction_dummies[index:]\n",
    "train = csr_matrix(train_times_features_for_log)"
   ]
  },
  {
   "cell_type": "code",
   "execution_count": 122,
   "metadata": {},
   "outputs": [
    {
     "name": "stderr",
     "output_type": "stream",
     "text": [
      "C:\\ProgramData\\Anaconda3\\lib\\site-packages\\sklearn\\externals\\joblib\\externals\\loky\\process_executor.py:706: UserWarning: A worker stopped while some jobs were given to the executor. This can be caused by a too short worker timeout or by a memory leak.\n",
      "  \"timeout or by a memory leak.\", UserWarning\n"
     ]
    },
    {
     "name": "stdout",
     "output_type": "stream",
     "text": [
      "[0.56375166 0.8981044  0.85741547 0.94928032 0.81884787 0.95093287\n",
      " 0.84280976 0.95788903 0.63085157 0.96772008]\n",
      "0.8437603029201499\n"
     ]
    }
   ],
   "source": [
    "mean_score = cross_val_score(LogisticRegression(C = 1, random_state=SEED),\n",
    "                            train,\n",
    "                             y_train, scoring = 'roc_auc', cv = time_split, n_jobs = -1)\n",
    "print (mean_score)\n",
    "print(mean_score.mean())"
   ]
  },
  {
   "cell_type": "code",
   "execution_count": 114,
   "metadata": {},
   "outputs": [
    {
     "data": {
      "text/plain": [
       "GridSearchCV(cv=TimeSeriesSplit(max_train_size=None, n_splits=4),\n",
       "       error_score='raise-deprecating',\n",
       "       estimator=LogisticRegression(C=1.0, class_weight=None, dual=False, fit_intercept=True,\n",
       "          intercept_scaling=1, max_iter=100, multi_class='warn',\n",
       "          n_jobs=None, penalty='l2', random_state=17, solver='warn',\n",
       "          tol=0.0001, verbose=0, warm_start=False),\n",
       "       fit_params=None, iid='warn', n_jobs=-1,\n",
       "       param_grid={'C': array([ 0.9    ,  1.21379,  1.52759,  1.84138,  2.15517,  2.46897,\n",
       "        2.78276,  3.09655,  3.41034,  3.72414,  4.03793,  4.35172,\n",
       "        4.66552,  4.97931,  5.2931 ,  5.6069 ,  5.92069,  6.23448,\n",
       "        6.54828,  6.86207,  7.17586,  7.48966,  7.80345,  8.11724,\n",
       "        8.43103,  8.74483,  9.05862,  9.37241,  9.68621, 10.     ])},\n",
       "       pre_dispatch='2*n_jobs', refit=True, return_train_score='warn',\n",
       "       scoring='roc_auc', verbose=0)"
      ]
     },
     "execution_count": 114,
     "metadata": {},
     "output_type": "execute_result"
    }
   ],
   "source": [
    "params = {'C' : np.linspace(0.9,10,30)}\n",
    "logit = LogisticRegression(random_state=SEED)\n",
    "best_c = GridSearchCV(logit,params, cv =time_split, n_jobs=-1, scoring='roc_auc')\n",
    "best_c.fit(train,y_train)"
   ]
  },
  {
   "cell_type": "code",
   "execution_count": 532,
   "metadata": {},
   "outputs": [],
   "source": [
    "logit = LogisticRegression(random_state=SEED, C = 1)\n",
    "logit.fit(train,y_train)\n",
    "test_pred = logit.predict_proba(test_times_features)[:,1]\n",
    "pd.Series(test_pred,\n",
    "          index = range (1,test_pred.shape[0] + 1) ,\n",
    "          name = 'target').to_csv('Desktop/dataset/benchmark.csv', header = True,\n",
    "                                 index_label = 'session_id')"
   ]
  },
  {
   "cell_type": "markdown",
   "metadata": {},
   "source": [
    "### конец"
   ]
  },
  {
   "cell_type": "code",
   "execution_count": 72,
   "metadata": {},
   "outputs": [],
   "source": [
    "dtrain = xgb.DMatrix(train_times_features, y_train)\n",
    "dtest = xgb.DMatrix(test_times_features)"
   ]
  },
  {
   "cell_type": "code",
   "execution_count": 35,
   "metadata": {},
   "outputs": [],
   "source": [
    "params = {\n",
    "    'objective':'binary:logistic',\n",
    "    'max_depth': 4,\n",
    "    'silent': 1,\n",
    "    'subsample':.9,\n",
    "    'eta': 0.3\n",
    "}\n",
    "num_rounds = 30"
   ]
  },
  {
   "cell_type": "code",
   "execution_count": 44,
   "metadata": {},
   "outputs": [],
   "source": [
    "xgb_cv = xgb.cv(params,dtrain,num_rounds,folds=time_split, metrics={'auc'},seed=SEED)"
   ]
  },
  {
   "cell_type": "code",
   "execution_count": 45,
   "metadata": {},
   "outputs": [
    {
     "data": {
      "text/plain": [
       "0.8676802"
      ]
     },
     "execution_count": 45,
     "metadata": {},
     "output_type": "execute_result"
    }
   ],
   "source": [
    "xgb_cv['test-auc-mean'].max()"
   ]
  },
  {
   "cell_type": "code",
   "execution_count": 47,
   "metadata": {
    "scrolled": true
   },
   "outputs": [
    {
     "data": {
      "text/plain": [
       "8"
      ]
     },
     "execution_count": 47,
     "metadata": {},
     "output_type": "execute_result"
    }
   ],
   "source": [
    "np.argmax(xgb_cv['test-auc-mean'])"
   ]
  },
  {
   "cell_type": "code",
   "execution_count": 28,
   "metadata": {},
   "outputs": [],
   "source": [
    "x_train_parth,x_valid,y_train_parth,y_valid = train_test_split(train_times_features, y_train, \n",
    "                                                              random_state = 18, test_size = .3,\n",
    "                                                              shuffle = False)"
   ]
  },
  {
   "cell_type": "code",
   "execution_count": 26,
   "metadata": {},
   "outputs": [],
   "source": [
    "cat = CatBoostClassifier(random_state = SEED, iterations = 50,  verbose=False)"
   ]
  },
  {
   "cell_type": "code",
   "execution_count": 27,
   "metadata": {},
   "outputs": [],
   "source": [
    "cat_features_index = np.where((train_times_features.dtypes == 'int64') | (train_times_features.dtypes == 'int32'))[0].tolist()"
   ]
  },
  {
   "cell_type": "code",
   "execution_count": 29,
   "metadata": {},
   "outputs": [
    {
     "data": {
      "text/plain": [
       "<catboost.core.CatBoostClassifier at 0xed2d3555f8>"
      ]
     },
     "execution_count": 29,
     "metadata": {},
     "output_type": "execute_result"
    }
   ],
   "source": [
    "cat.fit(x_train_parth, y_train_parth, cat_features = cat_features_index)"
   ]
  },
  {
   "cell_type": "code",
   "execution_count": 30,
   "metadata": {},
   "outputs": [
    {
     "data": {
      "text/plain": [
       "0.932932558322296"
      ]
     },
     "execution_count": 30,
     "metadata": {},
     "output_type": "execute_result"
    }
   ],
   "source": [
    "roc_auc_score(y_valid,cat.predict_proba(x_valid)[:,1])"
   ]
  },
  {
   "cell_type": "code",
   "execution_count": 32,
   "metadata": {},
   "outputs": [],
   "source": [
    "cv_scores = []\n",
    "for train_ind, valid_ind in time_split.split(train_times_features, y_train):\n",
    "    train_cv, valid_cv = train_times_features.iloc[train_ind,:], train_times_features.iloc[valid_ind,:]\n",
    "    y_train_cv, y_valid_cv = y_train[train_ind], y_train[valid_ind]\n",
    "    cat.fit(train_cv, y_train_cv, cat_features = cat_features_index)\n",
    "    cv_scores.append(roc_auc_score(y_valid_cv, cat.predict_proba(valid_cv)[:,1]))"
   ]
  },
  {
   "cell_type": "code",
   "execution_count": 33,
   "metadata": {},
   "outputs": [
    {
     "name": "stdout",
     "output_type": "stream",
     "text": [
      "[0.5584634140396632, 0.8536994653793245, 0.7375655722168148, 0.751720507142547, 0.7890782505737619, 0.650344998414811, 0.8952670964919054, 0.7760167239502369, 0.7358799820219506, 0.7372659650438647]\n"
     ]
    },
    {
     "data": {
      "text/plain": [
       "0.748530197527488"
      ]
     },
     "execution_count": 33,
     "metadata": {},
     "output_type": "execute_result"
    }
   ],
   "source": [
    "print(cv_scores)\n",
    "np.mean(cv_scores)"
   ]
  },
  {
   "cell_type": "code",
   "execution_count": 106,
   "metadata": {},
   "outputs": [],
   "source": [
    "cat.fit(train_times_features, y_train, cat_features = cat_features_index)\n",
    "test_pred = cat.predict_proba(test_times_features)[:,1]\n",
    "pd.Series(test_pred,\n",
    "          index = range (1,test_pred.shape[0] + 1) ,\n",
    "          name = 'target').to_csv('Desktop/dataset/benchmark.csv', header = True,\n",
    "                                 index_label = 'session_id')"
   ]
  },
  {
   "cell_type": "code",
   "execution_count": 42,
   "metadata": {},
   "outputs": [],
   "source": [
    "cv_scores = []\n",
    "for train_ind, valid_ind in time_split.split(train_times_features, y_train):\n",
    "    train_cv, valid_cv = train_times_features.iloc[train_ind,:], train_times_features.iloc[valid_ind,:]\n",
    "    y_train_cv, y_valid_cv = y_train[train_ind], y_train[valid_ind]\n",
    "    dtrain = xgb.DMatrix(train_cv, y_train_cv)\n",
    "    dtest = xgb.DMatrix(valid_cv)\n",
    "    xgb_model = xgb.train(params,dtrain,num_rounds)\n",
    "    cv_scores.append(roc_auc_score(y_valid_cv, xgb_model.predict(dtest)))"
   ]
  },
  {
   "cell_type": "code",
   "execution_count": 43,
   "metadata": {},
   "outputs": [
    {
     "name": "stdout",
     "output_type": "stream",
     "text": [
      "[0.576129856699403, 0.907091150558351, 0.8129109385534643, 0.9564749685206895, 0.913792586104826, 0.9664584316225854, 0.8108471353563431, 0.9577904467167719, 0.6767466979832689, 0.9256897872391355]\n"
     ]
    },
    {
     "data": {
      "text/plain": [
       "0.8503931999354839"
      ]
     },
     "execution_count": 43,
     "metadata": {},
     "output_type": "execute_result"
    }
   ],
   "source": [
    "print(cv_scores)\n",
    "np.mean(cv_scores)"
   ]
  },
  {
   "cell_type": "code",
   "execution_count": 48,
   "metadata": {},
   "outputs": [
    {
     "data": {
      "text/plain": [
       "<matplotlib.legend.Legend at 0xed2948af98>"
      ]
     },
     "execution_count": 48,
     "metadata": {},
     "output_type": "execute_result"
    },
    {
     "data": {
      "image/png": "[encoded data removed]",
      "text/plain": [
       "<Figure size 864x504 with 1 Axes>"
      ]
     },
     "metadata": {
      "needs_background": "light"
     },
     "output_type": "display_data"
    }
   ],
   "source": [
    "plt.figure(figsize  = (12,7))\n",
    "plt.plot(range(1,xgb_cv.shape[0]+1), xgb_cv['test-auc-mean'], label = 'test')\n",
    "plt.plot(range(1,xgb_cv.shape[0]+1), xgb_cv['train-auc-mean'], label = 'train')\n",
    "plt.fill_between(range(1,xgb_cv.shape[0]+1),xgb_cv['test-auc-mean']-xgb_cv['test-auc-std'],\n",
    "                xgb_cv['test-auc-mean']+xgb_cv['test-auc-std'], alpha = .2)\n",
    "plt.fill_between(range(1,xgb_cv.shape[0]+1),xgb_cv['train-auc-mean']-xgb_cv['train-auc-std'],\n",
    "                xgb_cv['train-auc-mean']+xgb_cv['train-auc-std'], alpha = .2)\n",
    "plt.legend()"
   ]
  },
  {
   "cell_type": "code",
   "execution_count": 54,
   "metadata": {},
   "outputs": [],
   "source": [
    "xgb_model = xgb.train(params,dtrain,num_rounds)"
   ]
  },
  {
   "cell_type": "code",
   "execution_count": 70,
   "metadata": {},
   "outputs": [],
   "source": [
    "test_pred = xgb_model.predict(dtest)\n",
    "pd.Series(test_pred,\n",
    "          index = range (1,test_pred.shape[0] + 1) ,\n",
    "          name = 'target').to_csv('Desktop/dataset/benchmark.csv', header = True,\n",
    "                                 index_label = 'session_id')"
   ]
  },
  {
   "cell_type": "code",
   "execution_count": null,
   "metadata": {},
   "outputs": [],
   "source": []
  },
  {
   "cell_type": "markdown",
   "metadata": {},
   "source": [
    "# Случайный лес"
   ]
  },
  {
   "cell_type": "code",
   "execution_count": 39,
   "metadata": {},
   "outputs": [],
   "source": [
    "forest = RandomForestClassifier(max_depth=5, n_estimators = 20,random_state=SEED)"
   ]
  },
  {
   "cell_type": "code",
   "execution_count": 59,
   "metadata": {},
   "outputs": [],
   "source": [
    "RandomForestClassifier?"
   ]
  },
  {
   "cell_type": "code",
   "execution_count": 77,
   "metadata": {},
   "outputs": [
    {
     "name": "stdout",
     "output_type": "stream",
     "text": [
      "[0.88949307 0.8483031  0.77887384 0.96170504 0.79019676 0.94141981\n",
      " 0.88242032]\n",
      "0.8703445654465164\n"
     ]
    }
   ],
   "source": [
    "mean_score = cross_val_score(forest,\n",
    "                            train_times_features,\n",
    "                             y_train, scoring = 'roc_auc', cv = time_split, n_jobs = -1)\n",
    "print (mean_score)\n",
    "print(mean_score.mean())"
   ]
  },
  {
   "cell_type": "code",
   "execution_count": 44,
   "metadata": {},
   "outputs": [],
   "source": [
    "tree_params = {'max_depth': np.arange(1,11), 'min_samples_split':[.5,.7,.9],\n",
    "               'min_samples_leaf':np.arange(1,4), 'min_weight_fraction_leaf':[0,.5],\n",
    "               'max_features':[.5,.7,.9,1]\n",
    "               \n",
    "              }"
   ]
  },
  {
   "cell_type": "code",
   "execution_count": 45,
   "metadata": {},
   "outputs": [
    {
     "data": {
      "text/plain": [
       "GridSearchCV(cv=TimeSeriesSplit(max_train_size=None, n_splits=10),\n",
       "       error_score='raise-deprecating',\n",
       "       estimator=RandomForestClassifier(bootstrap=True, class_weight=None, criterion='gini',\n",
       "            max_depth=None, max_features='auto', max_leaf_nodes=None,\n",
       "            min_impurity_decrease=0.0, min_impurity_split=None,\n",
       "            min_samples_leaf=1, min_samples_split=2,\n",
       "            min_weight_fraction_leaf=0.0, n_estimators=20, n_jobs=None,\n",
       "            oob_score=False, random_state=17, verbose=0, warm_start=False),\n",
       "       fit_params=None, iid='warn', n_jobs=-1,\n",
       "       param_grid={'max_depth': array([ 1,  2,  3,  4,  5,  6,  7,  8,  9, 10]), 'min_samples_split': [0.5, 0.7, 0.9], 'min_samples_leaf': array([1, 2, 3]), 'min_weight_fraction_leaf': [0, 0.5], 'max_features': [0.5, 0.7, 0.9, 1]},\n",
       "       pre_dispatch='2*n_jobs', refit=True, return_train_score='warn',\n",
       "       scoring='roc_auc', verbose=0)"
      ]
     },
     "execution_count": 45,
     "metadata": {},
     "output_type": "execute_result"
    }
   ],
   "source": [
    "forest = RandomForestClassifier(n_estimators = 20 ,random_state=SEED)\n",
    "best_tree = GridSearchCV(forest,tree_params, cv =time_split, n_jobs=-1, scoring='roc_auc')\n",
    "best_tree.fit(train_times_features,y_train)"
   ]
  },
  {
   "cell_type": "code",
   "execution_count": 48,
   "metadata": {},
   "outputs": [
    {
     "data": {
      "text/plain": [
       "{'max_depth': 2,\n",
       " 'max_features': 1,\n",
       " 'min_samples_leaf': 1,\n",
       " 'min_samples_split': 0.5,\n",
       " 'min_weight_fraction_leaf': 0}"
      ]
     },
     "execution_count": 48,
     "metadata": {},
     "output_type": "execute_result"
    }
   ],
   "source": [
    "best_c.best_params_"
   ]
  },
  {
   "cell_type": "code",
   "execution_count": 71,
   "metadata": {},
   "outputs": [],
   "source": [
    "forest.fit(train_times_features, y_train)\n",
    "test_pred = forest.predict_proba(test_times_features)[:,1]\n",
    "pd.Series(test_pred,\n",
    "          index = range (1,test_pred.shape[0] + 1) ,\n",
    "          name = 'target').to_csv('Desktop/dataset/benchmark.csv', header = True,\n",
    "                                 index_label = 'session_id')"
   ]
  },
  {
   "cell_type": "code",
   "execution_count": null,
   "metadata": {},
   "outputs": [],
   "source": []
  },
  {
   "cell_type": "code",
   "execution_count": null,
   "metadata": {},
   "outputs": [],
   "source": []
  },
  {
   "cell_type": "markdown",
   "metadata": {},
   "source": [
    "# Поиск отклонений"
   ]
  },
  {
   "cell_type": "code",
   "execution_count": 33,
   "metadata": {},
   "outputs": [
    {
     "data": {
      "text/plain": [
       "<253561x50071 sparse matrix of type '<class 'numpy.float64'>'\n",
       "\twith 11296748 stored elements in COOrdinate format>"
      ]
     },
     "execution_count": 33,
     "metadata": {},
     "output_type": "execute_result"
    }
   ],
   "source": [
    "X_train_final"
   ]
  },
  {
   "cell_type": "code",
   "execution_count": 35,
   "metadata": {},
   "outputs": [],
   "source": [
    "x1_train,x1_valid,y1_train,y1_valid = train_test_split(train_times_features, y_train, \n",
    "                                                              random_state = 18, test_size = .3,\n",
    "                                                              shuffle = False)"
   ]
  },
  {
   "cell_type": "code",
   "execution_count": 36,
   "metadata": {},
   "outputs": [],
   "source": [
    "x2_train,x2_valid,y2_train,y2_valid = train_test_split(X_train_final, y_train, \n",
    "                                                              random_state = 18, test_size = .3,\n",
    "                                                              shuffle = False)"
   ]
  },
  {
   "cell_type": "code",
   "execution_count": 37,
   "metadata": {},
   "outputs": [
    {
     "data": {
      "text/plain": [
       "LogisticRegression(C=1.0, class_weight=None, dual=False, fit_intercept=True,\n",
       "          intercept_scaling=1, max_iter=100, multi_class='warn',\n",
       "          n_jobs=None, penalty='l2', random_state=17, solver='warn',\n",
       "          tol=0.0001, verbose=0, warm_start=False)"
      ]
     },
     "execution_count": 37,
     "metadata": {},
     "output_type": "execute_result"
    }
   ],
   "source": [
    "logit1 = LogisticRegression(random_state=SEED)\n",
    "logit1.fit(x1_train,y1_train)"
   ]
  },
  {
   "cell_type": "code",
   "execution_count": 42,
   "metadata": {},
   "outputs": [
    {
     "data": {
      "text/plain": [
       "LogisticRegression(C=3.9810717055349722, class_weight=None, dual=False,\n",
       "          fit_intercept=True, intercept_scaling=1, max_iter=100,\n",
       "          multi_class='warn', n_jobs=None, penalty='l2', random_state=17,\n",
       "          solver='warn', tol=0.0001, verbose=0, warm_start=False)"
      ]
     },
     "execution_count": 42,
     "metadata": {},
     "output_type": "execute_result"
    }
   ],
   "source": [
    "logit2 = LogisticRegression(C=3.9810717055349722,random_state=SEED)\n",
    "logit2.fit(x2_train,y2_train)"
   ]
  },
  {
   "cell_type": "code",
   "execution_count": 91,
   "metadata": {},
   "outputs": [],
   "source": [
    "sravnenie = x1_valid[y1_valid == 1]\n",
    "sravnenie['pred1'] = logit1.predict_proba(x1_valid)[:,1][y1_valid == 1] * 10 **3\n",
    "sravnenie['pred2'] = logit2.predict_proba(x2_valid)[:,1][y1_valid == 1] * 10 **3\n"
   ]
  },
  {
   "cell_type": "code",
   "execution_count": 96,
   "metadata": {},
   "outputs": [
    {
     "data": {
      "text/html": [
       "<div>\n",
       "<style scoped>\n",
       "    .dataframe tbody tr th:only-of-type {\n",
       "        vertical-align: middle;\n",
       "    }\n",
       "\n",
       "    .dataframe tbody tr th {\n",
       "        vertical-align: top;\n",
       "    }\n",
       "\n",
       "    .dataframe thead th {\n",
       "        text-align: right;\n",
       "    }\n",
       "</style>\n",
       "<table border=\"1\" class=\"dataframe\">\n",
       "  <thead>\n",
       "    <tr style=\"text-align: right;\">\n",
       "      <th></th>\n",
       "      <th>hour</th>\n",
       "      <th>morning</th>\n",
       "      <th>day</th>\n",
       "      <th>evening</th>\n",
       "      <th>day_of_week</th>\n",
       "      <th>month</th>\n",
       "      <th>year_month</th>\n",
       "      <th>hour_morning</th>\n",
       "      <th>hour_day</th>\n",
       "      <th>hour_evening</th>\n",
       "      <th>...</th>\n",
       "      <th>month_12</th>\n",
       "      <th>day_of_week_0</th>\n",
       "      <th>day_of_week_1</th>\n",
       "      <th>day_of_week_2</th>\n",
       "      <th>day_of_week_3</th>\n",
       "      <th>day_of_week_4</th>\n",
       "      <th>day_of_week_5</th>\n",
       "      <th>day_of_week_6</th>\n",
       "      <th>pred1</th>\n",
       "      <th>pred2</th>\n",
       "    </tr>\n",
       "    <tr>\n",
       "      <th>session_id</th>\n",
       "      <th></th>\n",
       "      <th></th>\n",
       "      <th></th>\n",
       "      <th></th>\n",
       "      <th></th>\n",
       "      <th></th>\n",
       "      <th></th>\n",
       "      <th></th>\n",
       "      <th></th>\n",
       "      <th></th>\n",
       "      <th></th>\n",
       "      <th></th>\n",
       "      <th></th>\n",
       "      <th></th>\n",
       "      <th></th>\n",
       "      <th></th>\n",
       "      <th></th>\n",
       "      <th></th>\n",
       "      <th></th>\n",
       "      <th></th>\n",
       "      <th></th>\n",
       "    </tr>\n",
       "  </thead>\n",
       "  <tbody>\n",
       "    <tr>\n",
       "      <th>39429</th>\n",
       "      <td>6</td>\n",
       "      <td>0</td>\n",
       "      <td>1</td>\n",
       "      <td>0</td>\n",
       "      <td>1</td>\n",
       "      <td>2</td>\n",
       "      <td>0</td>\n",
       "      <td>3</td>\n",
       "      <td>3</td>\n",
       "      <td>3</td>\n",
       "      <td>...</td>\n",
       "      <td>0</td>\n",
       "      <td>0</td>\n",
       "      <td>1</td>\n",
       "      <td>0</td>\n",
       "      <td>0</td>\n",
       "      <td>0</td>\n",
       "      <td>0</td>\n",
       "      <td>0</td>\n",
       "      <td>0.2327</td>\n",
       "      <td>0.129860</td>\n",
       "    </tr>\n",
       "    <tr>\n",
       "      <th>94949</th>\n",
       "      <td>6</td>\n",
       "      <td>0</td>\n",
       "      <td>1</td>\n",
       "      <td>0</td>\n",
       "      <td>1</td>\n",
       "      <td>2</td>\n",
       "      <td>0</td>\n",
       "      <td>3</td>\n",
       "      <td>3</td>\n",
       "      <td>3</td>\n",
       "      <td>...</td>\n",
       "      <td>0</td>\n",
       "      <td>0</td>\n",
       "      <td>1</td>\n",
       "      <td>0</td>\n",
       "      <td>0</td>\n",
       "      <td>0</td>\n",
       "      <td>0</td>\n",
       "      <td>0</td>\n",
       "      <td>0.2327</td>\n",
       "      <td>0.036798</td>\n",
       "    </tr>\n",
       "    <tr>\n",
       "      <th>199523</th>\n",
       "      <td>6</td>\n",
       "      <td>0</td>\n",
       "      <td>1</td>\n",
       "      <td>0</td>\n",
       "      <td>1</td>\n",
       "      <td>2</td>\n",
       "      <td>0</td>\n",
       "      <td>3</td>\n",
       "      <td>3</td>\n",
       "      <td>3</td>\n",
       "      <td>...</td>\n",
       "      <td>0</td>\n",
       "      <td>0</td>\n",
       "      <td>1</td>\n",
       "      <td>0</td>\n",
       "      <td>0</td>\n",
       "      <td>0</td>\n",
       "      <td>0</td>\n",
       "      <td>0</td>\n",
       "      <td>0.2327</td>\n",
       "      <td>0.354763</td>\n",
       "    </tr>\n",
       "    <tr>\n",
       "      <th>95163</th>\n",
       "      <td>6</td>\n",
       "      <td>0</td>\n",
       "      <td>1</td>\n",
       "      <td>0</td>\n",
       "      <td>1</td>\n",
       "      <td>2</td>\n",
       "      <td>0</td>\n",
       "      <td>3</td>\n",
       "      <td>3</td>\n",
       "      <td>3</td>\n",
       "      <td>...</td>\n",
       "      <td>0</td>\n",
       "      <td>0</td>\n",
       "      <td>1</td>\n",
       "      <td>0</td>\n",
       "      <td>0</td>\n",
       "      <td>0</td>\n",
       "      <td>0</td>\n",
       "      <td>0</td>\n",
       "      <td>0.2327</td>\n",
       "      <td>0.034572</td>\n",
       "    </tr>\n",
       "    <tr>\n",
       "      <th>68495</th>\n",
       "      <td>6</td>\n",
       "      <td>0</td>\n",
       "      <td>1</td>\n",
       "      <td>0</td>\n",
       "      <td>1</td>\n",
       "      <td>2</td>\n",
       "      <td>0</td>\n",
       "      <td>3</td>\n",
       "      <td>3</td>\n",
       "      <td>3</td>\n",
       "      <td>...</td>\n",
       "      <td>0</td>\n",
       "      <td>0</td>\n",
       "      <td>1</td>\n",
       "      <td>0</td>\n",
       "      <td>0</td>\n",
       "      <td>0</td>\n",
       "      <td>0</td>\n",
       "      <td>0</td>\n",
       "      <td>0.2327</td>\n",
       "      <td>0.064091</td>\n",
       "    </tr>\n",
       "  </tbody>\n",
       "</table>\n",
       "<p>5 rows × 66 columns</p>\n",
       "</div>"
      ],
      "text/plain": [
       "            hour  morning  day  evening  day_of_week  month  year_month  \\\n",
       "session_id                                                                \n",
       "39429          6        0    1        0            1      2           0   \n",
       "94949          6        0    1        0            1      2           0   \n",
       "199523         6        0    1        0            1      2           0   \n",
       "95163          6        0    1        0            1      2           0   \n",
       "68495          6        0    1        0            1      2           0   \n",
       "\n",
       "            hour_morning  hour_day  hour_evening  ...  month_12  \\\n",
       "session_id                                        ...             \n",
       "39429                  3         3             3  ...         0   \n",
       "94949                  3         3             3  ...         0   \n",
       "199523                 3         3             3  ...         0   \n",
       "95163                  3         3             3  ...         0   \n",
       "68495                  3         3             3  ...         0   \n",
       "\n",
       "            day_of_week_0  day_of_week_1  day_of_week_2  day_of_week_3  \\\n",
       "session_id                                                               \n",
       "39429                   0              1              0              0   \n",
       "94949                   0              1              0              0   \n",
       "199523                  0              1              0              0   \n",
       "95163                   0              1              0              0   \n",
       "68495                   0              1              0              0   \n",
       "\n",
       "            day_of_week_4  day_of_week_5  day_of_week_6   pred1     pred2  \n",
       "session_id                                                                 \n",
       "39429                   0              0              0  0.2327  0.129860  \n",
       "94949                   0              0              0  0.2327  0.036798  \n",
       "199523                  0              0              0  0.2327  0.354763  \n",
       "95163                   0              0              0  0.2327  0.034572  \n",
       "68495                   0              0              0  0.2327  0.064091  \n",
       "\n",
       "[5 rows x 66 columns]"
      ]
     },
     "execution_count": 96,
     "metadata": {},
     "output_type": "execute_result"
    }
   ],
   "source": [
    "sravnenie.head()"
   ]
  },
  {
   "cell_type": "code",
   "execution_count": null,
   "metadata": {},
   "outputs": [],
   "source": []
  },
  {
   "cell_type": "code",
   "execution_count": null,
   "metadata": {},
   "outputs": [],
   "source": []
  },
  {
   "cell_type": "code",
   "execution_count": null,
   "metadata": {},
   "outputs": [],
   "source": []
  },
  {
   "cell_type": "code",
   "execution_count": null,
   "metadata": {},
   "outputs": [],
   "source": []
  },
  {
   "cell_type": "markdown",
   "metadata": {},
   "source": [
    "# Stacking"
   ]
  },
  {
   "cell_type": "code",
   "execution_count": 125,
   "metadata": {},
   "outputs": [],
   "source": [
    "logit = LogisticRegression(random_state=SEED)"
   ]
  },
  {
   "cell_type": "code",
   "execution_count": 126,
   "metadata": {},
   "outputs": [],
   "source": [
    "rf = RandomForestClassifier(max_depth=5, n_estimators = 20,random_state=SEED)"
   ]
  },
  {
   "cell_type": "code",
   "execution_count": 127,
   "metadata": {},
   "outputs": [],
   "source": [
    "cat = CatBoostClassifier(random_state = SEED, iterations = 50,  verbose=False,\n",
    "                        cat_features = [i for i in range (train_times_features.shape[1])])"
   ]
  },
  {
   "cell_type": "code",
   "execution_count": 128,
   "metadata": {},
   "outputs": [],
   "source": [
    "logit_sparse = LogisticRegression(random_state=SEED, C = 3.9)"
   ]
  },
  {
   "cell_type": "code",
   "execution_count": 129,
   "metadata": {},
   "outputs": [],
   "source": [
    "def fit_predict (model, x_train, x_test, y_train, y_test, x_valid, \\\n",
    "                 xgboost=0, params={},num_rounds = 50):\n",
    "    if xgboost == 0:\n",
    "        model.fit(x_train,y_train)\n",
    "        print('roc_auc: ',roc_auc_score(y_test, model.predict_proba(x_test)[:,1]))\n",
    "        return model.predict_proba(x_test)[:,1], model.predict_proba(x_valid)[:,1]\n",
    "    else:\n",
    "        dtrain = xgb.DMatrix(x_train, y_train)\n",
    "        dtest = xgb.DMatrix(x_test)\n",
    "        dvalid = xgb.DMatrix(x_valid)\n",
    "        xgb_model = xgb.train(params,dtrain,num_rounds)\n",
    "        print('roc_auc: ',roc_auc_score(y_test, xgb_model.predict(dtest)))\n",
    "        return xgb_model.predict(dtest), xgb_model.predict(dvalid)"
   ]
  },
  {
   "cell_type": "code",
   "execution_count": 165,
   "metadata": {},
   "outputs": [],
   "source": [
    "test_pred = rf2.predict_proba(stack_test)[:,1]\n",
    "pd.Series(test_pred,\n",
    "          index = range (1,test_pred.shape[0] + 1) ,\n",
    "          name = 'target').to_csv('Desktop/dataset/benchmark.csv', header = True,\n",
    "                                 index_label = 'session_id')"
   ]
  },
  {
   "cell_type": "code",
   "execution_count": 130,
   "metadata": {},
   "outputs": [],
   "source": [
    "def model_train( model, x_train, x_test, y_train = y_train, xgboost = 0):\n",
    "    global valid_ind\n",
    "    a = []\n",
    "    a = np.array(a)\n",
    "    if xgboost == 0:\n",
    "        for i, (train_ind, valid_ind) in enumerate(time_split.split(x_train, y_train)):\n",
    "            model.fit(csr_matrix(x_train)[train_ind], y_train[train_ind])\n",
    "            a = np.hstack([a,(model.predict_proba(csr_matrix(x_train)[valid_ind])[:,1])])\n",
    "        model.fit(csr_matrix(x_train), y_train)\n",
    "        b = model.predict_proba(csr_matrix(x_test))[:,1]\n",
    "        return a, b\n",
    "    else:\n",
    "        for i, (train_ind, valid_ind) in enumerate(time_split.split(x_train, y_train)):\n",
    "            dtrain = xgb.DMatrix(x_train.iloc[train_ind],y_train[train_ind])\n",
    "            dtest = xgb.DMatrix(x_train.iloc[valid_ind])\n",
    "            xgb_model = xgb.train(params,dtrain,num_rounds)\n",
    "            a = np.hstack([a,xgb_model.predict(dtest)])     \n",
    "        dtrain = xgb.DMatrix(x_train, y_train)\n",
    "        dtest = xgb.DMatrix(x_test)\n",
    "        xgb_model = xgb.train(params,dtrain,num_rounds)\n",
    "        b = xgb_model.predict(dtest)\n",
    "        return a, b"
   ]
  },
  {
   "cell_type": "code",
   "execution_count": 131,
   "metadata": {},
   "outputs": [],
   "source": [
    "train_times_features_for_xgb, test_times_features_for_xgb, y_train_1, y_test = train_test_split(\n",
    "    train_times_features_for_xgb, y_train, test_size = .2, shuffle=False\n",
    "                                                                                             )"
   ]
  },
  {
   "cell_type": "code",
   "execution_count": 87,
   "metadata": {},
   "outputs": [],
   "source": [
    "train_times_features_for_log, test_times_features_for_log, y_train_1, y_test = train_test_split(\n",
    "    train_times_features_for_log, y_train, test_size = .2, shuffle=False\n",
    "                                                                                             )"
   ]
  },
  {
   "cell_type": "code",
   "execution_count": 88,
   "metadata": {},
   "outputs": [],
   "source": [
    "train_times_features, test_times_features, y_train_1, y_test = train_test_split(\n",
    "    train_times_features, y_train, test_size = .2, shuffle=False\n",
    "                                                                                             )"
   ]
  },
  {
   "cell_type": "code",
   "execution_count": 89,
   "metadata": {},
   "outputs": [],
   "source": [
    "X_train_final, X_test_final, y_train_1, y_test = train_test_split(\n",
    "    X_train_final, y_train, test_size = .2, shuffle=False\n",
    "                                                                                             )"
   ]
  },
  {
   "cell_type": "code",
   "execution_count": 148,
   "metadata": {},
   "outputs": [
    {
     "data": {
      "text/plain": [
       "(202848,)"
      ]
     },
     "execution_count": 148,
     "metadata": {},
     "output_type": "execute_result"
    }
   ],
   "source": [
    "rf_predict_train.shape"
   ]
  },
  {
   "cell_type": "code",
   "execution_count": 147,
   "metadata": {
    "scrolled": true
   },
   "outputs": [],
   "source": [
    "rf_predict_train,rf_predict_test  = model_train(rf,train_times_features_for_xgb,\n",
    "                                                test_times_features_for_xgb)"
   ]
  },
  {
   "cell_type": "code",
   "execution_count": 149,
   "metadata": {},
   "outputs": [],
   "source": [
    "cat_predict, cat_predict_test = model_train(rf,\n",
    "                                            train_times_features,\n",
    "                                            test_times_features)"
   ]
  },
  {
   "cell_type": "code",
   "execution_count": 150,
   "metadata": {},
   "outputs": [],
   "source": [
    "logit_predict,logit_predict_test = model_train(logit,train_times_features_for_log,\n",
    "                                              test_times_features_for_log)"
   ]
  },
  {
   "cell_type": "code",
   "execution_count": 151,
   "metadata": {},
   "outputs": [],
   "source": [
    "logit_sparse_predict, logit_sparse_predict_test = model_train(logit_sparse,X_train_final,\n",
    "                                                              X_test_final)"
   ]
  },
  {
   "cell_type": "code",
   "execution_count": 152,
   "metadata": {},
   "outputs": [],
   "source": [
    "params = {\n",
    "    'objective':'binary:logistic',\n",
    "    'max_depth': 4,\n",
    "    'silent': 1,\n",
    "    'subsample':.9,\n",
    "    'eta': 0.3\n",
    "}\n",
    "num_rounds = 30\n",
    "xgb_predict, xgb_predict_test = model_train(xgb,train_times_features_for_xgb, test_times_features_for_xgb,y_train,1)"
   ]
  },
  {
   "cell_type": "code",
   "execution_count": 153,
   "metadata": {},
   "outputs": [
    {
     "data": {
      "text/plain": [
       "array([0.00143827, 0.00152083, 0.00152083, ..., 0.00023088, 0.00020052,\n",
       "       0.00023088])"
      ]
     },
     "execution_count": 153,
     "metadata": {},
     "output_type": "execute_result"
    }
   ],
   "source": [
    "xgb_predict"
   ]
  },
  {
   "cell_type": "code",
   "execution_count": 154,
   "metadata": {},
   "outputs": [],
   "source": [
    "stack_train = np.vstack([rf_predict_train,cat_predict,logit_predict,logit_sparse_predict,xgb_predict ]).transpose()"
   ]
  },
  {
   "cell_type": "code",
   "execution_count": 155,
   "metadata": {},
   "outputs": [],
   "source": [
    "stack_test = np.vstack([rf_predict_test,cat_predict_test,logit_predict_test,logit_sparse_predict_test,xgb_predict_test ]).transpose()"
   ]
  },
  {
   "cell_type": "code",
   "execution_count": 158,
   "metadata": {
    "scrolled": true
   },
   "outputs": [
    {
     "data": {
      "text/plain": [
       "LogisticRegression(C=0.1, class_weight=None, dual=False, fit_intercept=True,\n",
       "          intercept_scaling=1, max_iter=100, multi_class='warn',\n",
       "          n_jobs=None, penalty='l2', random_state=17, solver='warn',\n",
       "          tol=0.0001, verbose=0, warm_start=False)"
      ]
     },
     "execution_count": 158,
     "metadata": {},
     "output_type": "execute_result"
    }
   ],
   "source": [
    "logit2 = LogisticRegression(random_state=SEED, C = 0.1)\n",
    "logit2.fit(stack_train,y_train[valid_ind.shape[0]+1:])"
   ]
  },
  {
   "cell_type": "code",
   "execution_count": 161,
   "metadata": {},
   "outputs": [
    {
     "data": {
      "text/plain": [
       "0.9090913524534835"
      ]
     },
     "execution_count": 161,
     "metadata": {},
     "output_type": "execute_result"
    }
   ],
   "source": [
    "roc_auc_score(y_train[valid_ind.shape[0]+1:], logit2.predict_proba(stack_train)[:,1])"
   ]
  },
  {
   "cell_type": "code",
   "execution_count": 163,
   "metadata": {},
   "outputs": [
    {
     "data": {
      "text/plain": [
       "RandomForestClassifier(bootstrap=True, class_weight=None, criterion='gini',\n",
       "            max_depth=5, max_features='auto', max_leaf_nodes=None,\n",
       "            min_impurity_decrease=0.0, min_impurity_split=None,\n",
       "            min_samples_leaf=1, min_samples_split=2,\n",
       "            min_weight_fraction_leaf=0.0, n_estimators=20, n_jobs=None,\n",
       "            oob_score=False, random_state=17, verbose=0, warm_start=False)"
      ]
     },
     "execution_count": 163,
     "metadata": {},
     "output_type": "execute_result"
    }
   ],
   "source": [
    "rf2 = RandomForestClassifier(max_depth=5, n_estimators = 20,random_state=SEED)\n",
    "rf2.fit(stack_train,y_train[valid_ind.shape[0]+1:])"
   ]
  },
  {
   "cell_type": "code",
   "execution_count": 164,
   "metadata": {},
   "outputs": [
    {
     "data": {
      "text/plain": [
       "0.9748926948048443"
      ]
     },
     "execution_count": 164,
     "metadata": {},
     "output_type": "execute_result"
    }
   ],
   "source": [
    "roc_auc_score(y_train[valid_ind.shape[0]+1:], rf2.predict_proba(stack_train)[:,1])"
   ]
  },
  {
   "cell_type": "code",
   "execution_count": 73,
   "metadata": {},
   "outputs": [],
   "source": [
    "cor = pd.DataFrame(stack_train, columns = ['rf', 'cat', 'log', 'log_sparse', 'xgb'])\n",
    "cor['y'] = y_train[valid_ind.shape[0]+1:]"
   ]
  },
  {
   "cell_type": "code",
   "execution_count": 74,
   "metadata": {},
   "outputs": [
    {
     "data": {
      "text/plain": [
       "<matplotlib.axes._subplots.AxesSubplot at 0x8d4e122438>"
      ]
     },
     "execution_count": 74,
     "metadata": {},
     "output_type": "execute_result"
    },
    {
     "data": {
      "image/png": "[encoded data removed]",
      "text/plain": [
       "<Figure size 432x288 with 2 Axes>"
      ]
     },
     "metadata": {
      "needs_background": "light"
     },
     "output_type": "display_data"
    }
   ],
   "source": [
    "sns.heatmap(cor.corr(), annot = True)"
   ]
  },
  {
   "cell_type": "code",
   "execution_count": 54,
   "metadata": {},
   "outputs": [
    {
     "data": {
      "text/plain": [
       "array([[3.40530776, 3.81451961, 3.35515492, 2.36029233, 3.35805142]])"
      ]
     },
     "execution_count": 54,
     "metadata": {},
     "output_type": "execute_result"
    }
   ],
   "source": [
    "logit2.coef_"
   ]
  },
  {
   "cell_type": "code",
   "execution_count": null,
   "metadata": {},
   "outputs": [],
   "source": []
  }
 ],
 "metadata": {
  "kernelspec": {
   "display_name": "Python 3",
   "language": "python",
   "name": "python3"
  },
  "language_info": {
   "codemirror_mode": {
    "name": "ipython",
    "version": 3
   },
   "file_extension": ".py",
   "mimetype": "text/x-python",
   "name": "python",
   "nbconvert_exporter": "python",
   "pygments_lexer": "ipython3",
   "version": "3.7.3"
  }
 },
 "nbformat": 4,
 "nbformat_minor": 2
}
