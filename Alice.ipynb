{
 "cells": [
  {
   "cell_type": "markdown",
   "metadata": {},
   "source": [
    "# Пример решения задачи \"Catch Me If You Can\" "
   ]
  },
  {
   "cell_type": "markdown",
   "metadata": {},
   "source": [
    "Алексей Ельчанинов"
   ]
  },
  {
   "cell_type": "markdown",
   "metadata": {},
   "source": [
    "Подробное описание условий задачи [здесь](https://inclass.kaggle.com/c/catch-me-if-you-can-intruder-detection-through-webpage-session-tracking2). Коротко: необходимо идентифицировать взломщика в сети по его поведению. Дана сессия из 10 сайтов и время их посещений. Метрика - roc auc."
   ]
  },
  {
   "cell_type": "markdown",
   "metadata": {},
   "source": [
    "### Импортируем необходимые библиотеки"
   ]
  },
  {
   "cell_type": "code",
   "execution_count": 4,
   "metadata": {},
   "outputs": [],
   "source": [
    "import math\n",
    "%matplotlib inline\n",
    "from sklearn.ensemble import RandomForestClassifier\n",
    "from matplotlib import pyplot as plt\n",
    "# import eli5\n",
    "import os\n",
    "import pickle\n",
    "import numpy as np\n",
    "import pandas as pd\n",
    "from scipy.sparse import hstack, vstack, csr_matrix\n",
    "from sklearn.feature_extraction.text import TfidfVectorizer\n",
    "from sklearn.preprocessing import StandardScaler, OneHotEncoder, LabelEncoder\n",
    "from sklearn.model_selection import TimeSeriesSplit, cross_val_score, GridSearchCV, train_test_split, validation_curve\n",
    "from sklearn.metrics import roc_auc_score\n",
    "from sklearn.linear_model import LogisticRegression, SGDClassifier\n",
    "import warnings\n",
    "warnings.filterwarnings('ignore')\n",
    "# import xgboost as xgb\n",
    "# from catboost import CatBoostClassifier\n",
    "import seaborn as sns"
   ]
  },
  {
   "cell_type": "markdown",
   "metadata": {},
   "source": [
    "### Импортируем данные"
   ]
  },
  {
   "cell_type": "code",
   "execution_count": 5,
   "metadata": {},
   "outputs": [],
   "source": [
    "PATH_TO_DATA = '' \n",
    "SEED = 17   \n",
    "SITE_NGRAMS = (1, 5)    # устанавливаются оптимальные значения, найденные в ходе решения\n",
    "MAX_FEATURES = 50000    \n",
    "BEST_LOGIT_C = 3.9810717055349722\n",
    "times = ['time%s' % i for i in range(1, 11)]\n",
    "sites = ['site%s' % i for i in range(1, 11)]\n",
    "test_df = pd.read_csv('catch_me_test_sessions.csv',index_col='session_id', parse_dates=times)\n",
    "train_df = pd.read_csv('catch_me_train_sessions.csv',index_col='session_id', parse_dates=times)\n",
    "train_df = train_df.sort_values(by='time1') # чтобы не прогнозировать из будующего в прошлое\n",
    "y_train = train_df['target']"
   ]
  },
  {
   "cell_type": "code",
   "execution_count": 6,
   "metadata": {},
   "outputs": [
    {
     "data": {
      "text/html": [
       "<div>\n",
       "<style scoped>\n",
       "    .dataframe tbody tr th:only-of-type {\n",
       "        vertical-align: middle;\n",
       "    }\n",
       "\n",
       "    .dataframe tbody tr th {\n",
       "        vertical-align: top;\n",
       "    }\n",
       "\n",
       "    .dataframe thead th {\n",
       "        text-align: right;\n",
       "    }\n",
       "</style>\n",
       "<table border=\"1\" class=\"dataframe\">\n",
       "  <thead>\n",
       "    <tr style=\"text-align: right;\">\n",
       "      <th></th>\n",
       "      <th>site1</th>\n",
       "      <th>time1</th>\n",
       "      <th>site2</th>\n",
       "      <th>time2</th>\n",
       "      <th>site3</th>\n",
       "      <th>time3</th>\n",
       "      <th>site4</th>\n",
       "      <th>time4</th>\n",
       "      <th>site5</th>\n",
       "      <th>time5</th>\n",
       "      <th>...</th>\n",
       "      <th>time6</th>\n",
       "      <th>site7</th>\n",
       "      <th>time7</th>\n",
       "      <th>site8</th>\n",
       "      <th>time8</th>\n",
       "      <th>site9</th>\n",
       "      <th>time9</th>\n",
       "      <th>site10</th>\n",
       "      <th>time10</th>\n",
       "      <th>target</th>\n",
       "    </tr>\n",
       "    <tr>\n",
       "      <th>session_id</th>\n",
       "      <th></th>\n",
       "      <th></th>\n",
       "      <th></th>\n",
       "      <th></th>\n",
       "      <th></th>\n",
       "      <th></th>\n",
       "      <th></th>\n",
       "      <th></th>\n",
       "      <th></th>\n",
       "      <th></th>\n",
       "      <th></th>\n",
       "      <th></th>\n",
       "      <th></th>\n",
       "      <th></th>\n",
       "      <th></th>\n",
       "      <th></th>\n",
       "      <th></th>\n",
       "      <th></th>\n",
       "      <th></th>\n",
       "      <th></th>\n",
       "      <th></th>\n",
       "    </tr>\n",
       "  </thead>\n",
       "  <tbody>\n",
       "    <tr>\n",
       "      <td>21669</td>\n",
       "      <td>56</td>\n",
       "      <td>2013-01-12 08:05:57</td>\n",
       "      <td>55.0</td>\n",
       "      <td>2013-01-12 08:05:57</td>\n",
       "      <td>NaN</td>\n",
       "      <td>NaT</td>\n",
       "      <td>NaN</td>\n",
       "      <td>NaT</td>\n",
       "      <td>NaN</td>\n",
       "      <td>NaT</td>\n",
       "      <td>...</td>\n",
       "      <td>NaT</td>\n",
       "      <td>NaN</td>\n",
       "      <td>NaT</td>\n",
       "      <td>NaN</td>\n",
       "      <td>NaT</td>\n",
       "      <td>NaN</td>\n",
       "      <td>NaT</td>\n",
       "      <td>NaN</td>\n",
       "      <td>NaT</td>\n",
       "      <td>0</td>\n",
       "    </tr>\n",
       "    <tr>\n",
       "      <td>54843</td>\n",
       "      <td>56</td>\n",
       "      <td>2013-01-12 08:37:23</td>\n",
       "      <td>55.0</td>\n",
       "      <td>2013-01-12 08:37:23</td>\n",
       "      <td>56.0</td>\n",
       "      <td>2013-01-12 09:07:07</td>\n",
       "      <td>55.0</td>\n",
       "      <td>2013-01-12 09:07:09</td>\n",
       "      <td>NaN</td>\n",
       "      <td>NaT</td>\n",
       "      <td>...</td>\n",
       "      <td>NaT</td>\n",
       "      <td>NaN</td>\n",
       "      <td>NaT</td>\n",
       "      <td>NaN</td>\n",
       "      <td>NaT</td>\n",
       "      <td>NaN</td>\n",
       "      <td>NaT</td>\n",
       "      <td>NaN</td>\n",
       "      <td>NaT</td>\n",
       "      <td>0</td>\n",
       "    </tr>\n",
       "    <tr>\n",
       "      <td>77292</td>\n",
       "      <td>946</td>\n",
       "      <td>2013-01-12 08:50:13</td>\n",
       "      <td>946.0</td>\n",
       "      <td>2013-01-12 08:50:14</td>\n",
       "      <td>951.0</td>\n",
       "      <td>2013-01-12 08:50:15</td>\n",
       "      <td>946.0</td>\n",
       "      <td>2013-01-12 08:50:15</td>\n",
       "      <td>946.0</td>\n",
       "      <td>2013-01-12 08:50:16</td>\n",
       "      <td>...</td>\n",
       "      <td>2013-01-12 08:50:16</td>\n",
       "      <td>948.0</td>\n",
       "      <td>2013-01-12 08:50:16</td>\n",
       "      <td>784.0</td>\n",
       "      <td>2013-01-12 08:50:16</td>\n",
       "      <td>949.0</td>\n",
       "      <td>2013-01-12 08:50:17</td>\n",
       "      <td>946.0</td>\n",
       "      <td>2013-01-12 08:50:17</td>\n",
       "      <td>0</td>\n",
       "    </tr>\n",
       "    <tr>\n",
       "      <td>114021</td>\n",
       "      <td>945</td>\n",
       "      <td>2013-01-12 08:50:17</td>\n",
       "      <td>948.0</td>\n",
       "      <td>2013-01-12 08:50:17</td>\n",
       "      <td>949.0</td>\n",
       "      <td>2013-01-12 08:50:18</td>\n",
       "      <td>948.0</td>\n",
       "      <td>2013-01-12 08:50:18</td>\n",
       "      <td>945.0</td>\n",
       "      <td>2013-01-12 08:50:18</td>\n",
       "      <td>...</td>\n",
       "      <td>2013-01-12 08:50:18</td>\n",
       "      <td>947.0</td>\n",
       "      <td>2013-01-12 08:50:19</td>\n",
       "      <td>945.0</td>\n",
       "      <td>2013-01-12 08:50:19</td>\n",
       "      <td>946.0</td>\n",
       "      <td>2013-01-12 08:50:19</td>\n",
       "      <td>946.0</td>\n",
       "      <td>2013-01-12 08:50:20</td>\n",
       "      <td>0</td>\n",
       "    </tr>\n",
       "    <tr>\n",
       "      <td>146670</td>\n",
       "      <td>947</td>\n",
       "      <td>2013-01-12 08:50:20</td>\n",
       "      <td>950.0</td>\n",
       "      <td>2013-01-12 08:50:20</td>\n",
       "      <td>948.0</td>\n",
       "      <td>2013-01-12 08:50:20</td>\n",
       "      <td>947.0</td>\n",
       "      <td>2013-01-12 08:50:21</td>\n",
       "      <td>950.0</td>\n",
       "      <td>2013-01-12 08:50:21</td>\n",
       "      <td>...</td>\n",
       "      <td>2013-01-12 08:50:21</td>\n",
       "      <td>946.0</td>\n",
       "      <td>2013-01-12 08:50:21</td>\n",
       "      <td>951.0</td>\n",
       "      <td>2013-01-12 08:50:22</td>\n",
       "      <td>946.0</td>\n",
       "      <td>2013-01-12 08:50:22</td>\n",
       "      <td>947.0</td>\n",
       "      <td>2013-01-12 08:50:22</td>\n",
       "      <td>0</td>\n",
       "    </tr>\n",
       "  </tbody>\n",
       "</table>\n",
       "<p>5 rows × 21 columns</p>\n",
       "</div>"
      ],
      "text/plain": [
       "            site1               time1  site2               time2  site3  \\\n",
       "session_id                                                                \n",
       "21669          56 2013-01-12 08:05:57   55.0 2013-01-12 08:05:57    NaN   \n",
       "54843          56 2013-01-12 08:37:23   55.0 2013-01-12 08:37:23   56.0   \n",
       "77292         946 2013-01-12 08:50:13  946.0 2013-01-12 08:50:14  951.0   \n",
       "114021        945 2013-01-12 08:50:17  948.0 2013-01-12 08:50:17  949.0   \n",
       "146670        947 2013-01-12 08:50:20  950.0 2013-01-12 08:50:20  948.0   \n",
       "\n",
       "                         time3  site4               time4  site5  \\\n",
       "session_id                                                         \n",
       "21669                      NaT    NaN                 NaT    NaN   \n",
       "54843      2013-01-12 09:07:07   55.0 2013-01-12 09:07:09    NaN   \n",
       "77292      2013-01-12 08:50:15  946.0 2013-01-12 08:50:15  946.0   \n",
       "114021     2013-01-12 08:50:18  948.0 2013-01-12 08:50:18  945.0   \n",
       "146670     2013-01-12 08:50:20  947.0 2013-01-12 08:50:21  950.0   \n",
       "\n",
       "                         time5  ...               time6  site7  \\\n",
       "session_id                      ...                              \n",
       "21669                      NaT  ...                 NaT    NaN   \n",
       "54843                      NaT  ...                 NaT    NaN   \n",
       "77292      2013-01-12 08:50:16  ... 2013-01-12 08:50:16  948.0   \n",
       "114021     2013-01-12 08:50:18  ... 2013-01-12 08:50:18  947.0   \n",
       "146670     2013-01-12 08:50:21  ... 2013-01-12 08:50:21  946.0   \n",
       "\n",
       "                         time7  site8               time8  site9  \\\n",
       "session_id                                                         \n",
       "21669                      NaT    NaN                 NaT    NaN   \n",
       "54843                      NaT    NaN                 NaT    NaN   \n",
       "77292      2013-01-12 08:50:16  784.0 2013-01-12 08:50:16  949.0   \n",
       "114021     2013-01-12 08:50:19  945.0 2013-01-12 08:50:19  946.0   \n",
       "146670     2013-01-12 08:50:21  951.0 2013-01-12 08:50:22  946.0   \n",
       "\n",
       "                         time9 site10              time10 target  \n",
       "session_id                                                        \n",
       "21669                      NaT    NaN                 NaT      0  \n",
       "54843                      NaT    NaN                 NaT      0  \n",
       "77292      2013-01-12 08:50:17  946.0 2013-01-12 08:50:17      0  \n",
       "114021     2013-01-12 08:50:19  946.0 2013-01-12 08:50:20      0  \n",
       "146670     2013-01-12 08:50:22  947.0 2013-01-12 08:50:22      0  \n",
       "\n",
       "[5 rows x 21 columns]"
      ]
     },
     "execution_count": 6,
     "metadata": {},
     "output_type": "execute_result"
    }
   ],
   "source": [
    "train_df.head()"
   ]
  },
  {
   "cell_type": "code",
   "execution_count": 212,
   "metadata": {},
   "outputs": [
    {
     "data": {
      "text/plain": [
       "(253561, 21)"
      ]
     },
     "execution_count": 212,
     "metadata": {},
     "output_type": "execute_result"
    }
   ],
   "source": [
    "train_df.shape"
   ]
  },
  {
   "cell_type": "markdown",
   "metadata": {},
   "source": [
    "Дисбаланс классов"
   ]
  },
  {
   "cell_type": "code",
   "execution_count": 5,
   "metadata": {},
   "outputs": [
    {
     "data": {
      "text/plain": [
       "0.00905896411514389"
      ]
     },
     "execution_count": 5,
     "metadata": {},
     "output_type": "execute_result"
    }
   ],
   "source": [
    "np.mean(y_train)"
   ]
  },
  {
   "cell_type": "markdown",
   "metadata": {},
   "source": [
    "Номера в колонках site соответствуют назваю сайта в словаре site_dic.pkl. Сайты, которые посещал пользователь являются хорошими признаками для идентификации взломщика."
   ]
  },
  {
   "cell_type": "markdown",
   "metadata": {},
   "source": [
    "### Разбиваем данные на два DataFrame, применяем подход TF-IDF к \"мешку сайтов\""
   ]
  },
  {
   "cell_type": "code",
   "execution_count": 7,
   "metadata": {},
   "outputs": [],
   "source": [
    "def prepare_sparse_features(train_df, test_df, path_to_site_dict,\n",
    "                           vectorizer_params):\n",
    "    times = ['time%s' % i for i in range(1, 11)]\n",
    "    with open(r\"Desktop/dataset/site_dic.pkl\", \"rb\") as input_file:\n",
    "        site_dict = pickle.load(input_file)\n",
    "    id2sites = {i:k for k,i in site_dict.items()}\n",
    "    id2sites[0] = 'unknown'\n",
    "    sites = ['site%s' % i for i in range(1, 11)]\n",
    "    train_session = train_df[sites].fillna(0).astype(int).apply(lambda row:\n",
    "                                                                ' '.join([id2sites[i] for i in row]), axis = 1).tolist()\n",
    "    test_session = test_df[sites].fillna(0).astype(int).apply(lambda row:\n",
    "                                                                ' '.join([id2sites[i] for i in row]), axis = 1).tolist()\n",
    "    vectorizer = TfidfVectorizer(**vectorizer_params)\n",
    "    X_train = vectorizer.fit_transform(train_session)\n",
    "    X_test = vectorizer.transform(test_session)\n",
    "    y_train = train_df['target'].astype(int).values\n",
    "    train_times, test_times = train_df[times], test_df[times]\n",
    "    return X_train, X_test, y_train, vectorizer, train_times, test_times"
   ]
  },
  {
   "cell_type": "code",
   "execution_count": 8,
   "metadata": {},
   "outputs": [
    {
     "ename": "FileNotFoundError",
     "evalue": "[Errno 2] No such file or directory: 'Desktop/dataset/site_dic.pkl'",
     "output_type": "error",
     "traceback": [
      "\u001b[1;31m---------------------------------------------------------------------------\u001b[0m",
      "\u001b[1;31mFileNotFoundError\u001b[0m                         Traceback (most recent call last)",
      "\u001b[1;32m<ipython-input-8-4a61cf62f31f>\u001b[0m in \u001b[0;36m<module>\u001b[1;34m\u001b[0m\n\u001b[0;32m      4\u001b[0m             vectorizer_params={'ngram_range': SITE_NGRAMS,\n\u001b[0;32m      5\u001b[0m                                \u001b[1;34m'max_features'\u001b[0m\u001b[1;33m:\u001b[0m \u001b[0mMAX_FEATURES\u001b[0m\u001b[1;33m,\u001b[0m\u001b[1;33m\u001b[0m\u001b[1;33m\u001b[0m\u001b[0m\n\u001b[1;32m----> 6\u001b[1;33m                                'tokenizer': lambda s: s.split()})\n\u001b[0m\u001b[0;32m      7\u001b[0m \u001b[1;33m\u001b[0m\u001b[0m\n",
      "\u001b[1;32m<ipython-input-7-46aef0c0691c>\u001b[0m in \u001b[0;36mprepare_sparse_features\u001b[1;34m(train_df, test_df, path_to_site_dict, vectorizer_params)\u001b[0m\n\u001b[0;32m      2\u001b[0m                            vectorizer_params):\n\u001b[0;32m      3\u001b[0m     \u001b[0mtimes\u001b[0m \u001b[1;33m=\u001b[0m \u001b[1;33m[\u001b[0m\u001b[1;34m'time%s'\u001b[0m \u001b[1;33m%\u001b[0m \u001b[0mi\u001b[0m \u001b[1;32mfor\u001b[0m \u001b[0mi\u001b[0m \u001b[1;32min\u001b[0m \u001b[0mrange\u001b[0m\u001b[1;33m(\u001b[0m\u001b[1;36m1\u001b[0m\u001b[1;33m,\u001b[0m \u001b[1;36m11\u001b[0m\u001b[1;33m)\u001b[0m\u001b[1;33m]\u001b[0m\u001b[1;33m\u001b[0m\u001b[1;33m\u001b[0m\u001b[0m\n\u001b[1;32m----> 4\u001b[1;33m     \u001b[1;32mwith\u001b[0m \u001b[0mopen\u001b[0m\u001b[1;33m(\u001b[0m\u001b[1;34mr\"Desktop/dataset/site_dic.pkl\"\u001b[0m\u001b[1;33m,\u001b[0m \u001b[1;34m\"rb\"\u001b[0m\u001b[1;33m)\u001b[0m \u001b[1;32mas\u001b[0m \u001b[0minput_file\u001b[0m\u001b[1;33m:\u001b[0m\u001b[1;33m\u001b[0m\u001b[1;33m\u001b[0m\u001b[0m\n\u001b[0m\u001b[0;32m      5\u001b[0m         \u001b[0msite_dict\u001b[0m \u001b[1;33m=\u001b[0m \u001b[0mpickle\u001b[0m\u001b[1;33m.\u001b[0m\u001b[0mload\u001b[0m\u001b[1;33m(\u001b[0m\u001b[0minput_file\u001b[0m\u001b[1;33m)\u001b[0m\u001b[1;33m\u001b[0m\u001b[1;33m\u001b[0m\u001b[0m\n\u001b[0;32m      6\u001b[0m     \u001b[0mid2sites\u001b[0m \u001b[1;33m=\u001b[0m \u001b[1;33m{\u001b[0m\u001b[0mi\u001b[0m\u001b[1;33m:\u001b[0m\u001b[0mk\u001b[0m \u001b[1;32mfor\u001b[0m \u001b[0mk\u001b[0m\u001b[1;33m,\u001b[0m\u001b[0mi\u001b[0m \u001b[1;32min\u001b[0m \u001b[0msite_dict\u001b[0m\u001b[1;33m.\u001b[0m\u001b[0mitems\u001b[0m\u001b[1;33m(\u001b[0m\u001b[1;33m)\u001b[0m\u001b[1;33m}\u001b[0m\u001b[1;33m\u001b[0m\u001b[1;33m\u001b[0m\u001b[0m\n",
      "\u001b[1;31mFileNotFoundError\u001b[0m: [Errno 2] No such file or directory: 'Desktop/dataset/site_dic.pkl'"
     ]
    }
   ],
   "source": [
    "X_train_sites, X_test_sites, y_train, vectorizer, train_times, test_times = \\\n",
    "        prepare_sparse_features(train_df,test_df,\n",
    "            path_to_site_dict=os.path.join('Desktop/dataset/site_dic.pkl'),\n",
    "            vectorizer_params={'ngram_range': SITE_NGRAMS,\n",
    "                               'max_features': MAX_FEATURES,\n",
    "                               'tokenizer': lambda s: s.split()})\n",
    "                                \n"
   ]
  },
  {
   "cell_type": "markdown",
   "metadata": {},
   "source": [
    "### Генерируем признаки из времени, те, что помечены как коментарий - не сработали\n",
    "Предпологаем, что взломщики имеют какую-либо закономерность во времени посещения сайтов и продолжительности сессий."
   ]
  },
  {
   "cell_type": "code",
   "execution_count": 20,
   "metadata": {},
   "outputs": [],
   "source": [
    "def times_features (times):\n",
    "    new_features_time = pd.DataFrame()\n",
    "    new_features_time['hour'] = times['time1'].apply(lambda ts: ts.hour)\n",
    "    new_features_time['morning'] = ((new_features_time['hour'] >= 7) & (new_features_time['hour'] <= 11)).astype('int')\n",
    "    new_features_time['day'] = ((new_features_time['hour'] >= 12) & (new_features_time['hour'] <= 18)).astype('int')\n",
    "    new_features_time['evening'] = ((new_features_time['hour'] >= 19) & (new_features_time['hour'] <= 23)).astype('int')\n",
    "    new_features_time['sess_duration'] = (times.max(axis=1) - times.min(axis=1)).astype('timedelta64[s]')\\\n",
    "\t\t   .astype('int')\n",
    "    new_features_time['day_of_week'] = times['time1'].apply(lambda t: t.weekday()).values.reshape(-1, 1)\n",
    "#    new_features_time['weekend'] = times['time1'].apply(lambda t: t.weekday()).isin([5,6]).astype('int')\n",
    "    new_features_time['month'] = times['time1'].apply(lambda t: t.month).values.reshape(-1, 1) \n",
    "    new_features_time['year_month'] = times['time1'].apply(lambda t: 100 * t.year + t.month).values.reshape(-1, 1) / 1e5\n",
    "    new_features_time.drop('hour', axis = 1, inplace = True) \n",
    "    return new_features_time\n"
   ]
  },
  {
   "cell_type": "markdown",
   "metadata": {},
   "source": [
    "### Гистограммы признаков\n",
    "Проверяем, чтобы наши признаки давали прирост информации"
   ]
  },
  {
   "cell_type": "code",
   "execution_count": 209,
   "metadata": {
    "scrolled": true
   },
   "outputs": [
    {
     "data": {
      "image/png": "[encoded data removed]",
      "text/plain": [
       "<Figure size 1080x432 with 5 Axes>"
      ]
     },
     "metadata": {
      "needs_background": "light"
     },
     "output_type": "display_data"
    }
   ],
   "source": [
    "train_features['y'] = y_train\n",
    "fig = plt.figure(figsize = (15,6))\n",
    "for i, col in enumerate (train_features.columns.drop('y').drop('sess_duration').drop('year_month')):\n",
    "    ax = fig.add_subplot(2,3, i+1)\n",
    "    ax.set_title(col)\n",
    "    train_features.groupby(col)['y'].mean().plot(kind = 'bar')\n",
    "plt.subplots_adjust(hspace=0.7, wspace=0.2)\n",
    "train_features.drop('y', axis = 1, inplace = True)"
   ]
  },
  {
   "cell_type": "markdown",
   "metadata": {},
   "source": [
    "### Масштабируем столбцы с значениями больше единицы"
   ]
  },
  {
   "cell_type": "code",
   "execution_count": 10,
   "metadata": {},
   "outputs": [],
   "source": [
    "def scaled_pd (x_train, x_test):\n",
    "    if c == 1:\n",
    "        scaler = StandardScaler()\n",
    "    x_train_new = scaler.fit_transform(x_train.values.reshape(-1,1))\n",
    "    x_test_new = scaler.transform(x_test.values.reshape(-1,1))\n",
    "    return x_train_new, x_test_new"
   ]
  },
  {
   "cell_type": "code",
   "execution_count": 2,
   "metadata": {},
   "outputs": [],
   "source": [
    "def scaler_cv (train_features,test_features):\n",
    "    for i in train_features.columns:\n",
    "        if train_features[i].max() > 1:\n",
    "            train_features[i] , test_features[i] = scaled_pd(train_features[i],test_features[i])\n",
    "    return train_features, test_features"
   ]
  },
  {
   "cell_type": "code",
   "execution_count": 54,
   "metadata": {},
   "outputs": [],
   "source": [
    "train_features = times_features(train_times)\n",
    "test_features = times_features(test_times)"
   ]
  },
  {
   "cell_type": "code",
   "execution_count": 7,
   "metadata": {},
   "outputs": [],
   "source": [
    "train_features, test_features = scaler_cv (train_features,test_features)"
   ]
  },
  {
   "cell_type": "markdown",
   "metadata": {},
   "source": [
    "### Валидация"
   ]
  },
  {
   "cell_type": "markdown",
   "metadata": {},
   "source": [
    "Данные имеют временную составляющую, поэтому необходимо в качестве кросс-валидации применять фуркцию TimeSeriesSplit."
   ]
  },
  {
   "cell_type": "markdown",
   "metadata": {},
   "source": [
    "Распределение целевого класса по выборке"
   ]
  },
  {
   "cell_type": "code",
   "execution_count": 29,
   "metadata": {},
   "outputs": [
    {
     "data": {
      "image/png": "[encoded data removed]",
      "text/plain": [
       "<Figure size 432x288 with 1 Axes>"
      ]
     },
     "metadata": {
      "needs_background": "light"
     },
     "output_type": "display_data"
    }
   ],
   "source": [
    "i = np.where(y_train == 1)\n",
    "pd.Series(i).hist();"
   ]
  },
  {
   "cell_type": "markdown",
   "metadata": {},
   "source": [
    "Дисбаланс классов большой, поэтому при выборе числа сплитов необходимо, что бы целевая переменная была равномерно распределена по сплитам."
   ]
  },
  {
   "cell_type": "code",
   "execution_count": 223,
   "metadata": {},
   "outputs": [],
   "source": [
    "time_split = TimeSeriesSplit(n_splits=10)"
   ]
  },
  {
   "cell_type": "code",
   "execution_count": 224,
   "metadata": {},
   "outputs": [
    {
     "name": "stdout",
     "output_type": "stream",
     "text": [
      "train  0.008850325379609544  valid  0.00967420068543664\n",
      "train  0.009262271968070107  valid  0.008676413170795193\n",
      "train  0.009066982878297084  valid  0.009804346882998569\n",
      "train  0.009251325878767503  valid  0.008806559368357121\n",
      "train  0.009162371804883128  valid  0.009977875146414471\n",
      "train  0.009298290011207114  valid  0.008936705565919049\n",
      "train  0.009246634770321525  valid  0.007071276734198082\n",
      "train  0.008974713541243011  valid  0.009500672422020736\n",
      "train  0.009033153698579953  valid  0.008546266973233265\n",
      "train  0.008984464814822849  valid  0.009804346882998569\n"
     ]
    }
   ],
   "source": [
    "for train_ind , valid_ind in time_split.split(train_features, y_train):\n",
    "    print ('train ',np.mean(y_train[train_ind]),' valid ', np.mean(y_train[valid_ind]) )"
   ]
  },
  {
   "cell_type": "markdown",
   "metadata": {},
   "source": [
    "При числе сплитов равным 10 дисперсия целевой переменной минимальна."
   ]
  },
  {
   "cell_type": "markdown",
   "metadata": {},
   "source": [
    "### Функция для отбора признаков\n",
    "Нагенерировав признаки, способные повышать качество модели, можно итеративно запускать функцию и проверять какое качество будет давать модель, если удалять по очередно каждый признак. Таким образом были отсечены признаки, уменьшающие качество модели."
   ]
  },
  {
   "cell_type": "code",
   "execution_count": 26,
   "metadata": {},
   "outputs": [],
   "source": [
    "def select_features (train):\n",
    "    mean = {}\n",
    "    for i in train.columns:\n",
    "        train_features1 = train.drop(i,axis = 1)\n",
    "        X_train_final1 = hstack([X_train_sites,np.array(train_features1)])\n",
    "        mean_score = cross_val_score(LogisticRegression(alpha = .0001, random_state=SEED, loss = 'log'), X_train_final1,\n",
    "                                 y_train, scoring = 'roc_auc', cv = time_split)\n",
    "        mean[i] = mean_score\n",
    "    return mean"
   ]
  },
  {
   "cell_type": "code",
   "execution_count": 229,
   "metadata": {},
   "outputs": [
    {
     "data": {
      "text/html": [
       "<div>\n",
       "<style scoped>\n",
       "    .dataframe tbody tr th:only-of-type {\n",
       "        vertical-align: middle;\n",
       "    }\n",
       "\n",
       "    .dataframe tbody tr th {\n",
       "        vertical-align: top;\n",
       "    }\n",
       "\n",
       "    .dataframe thead th {\n",
       "        text-align: right;\n",
       "    }\n",
       "</style>\n",
       "<table border=\"1\" class=\"dataframe\">\n",
       "  <thead>\n",
       "    <tr style=\"text-align: right;\">\n",
       "      <th></th>\n",
       "      <th>morning</th>\n",
       "      <th>day</th>\n",
       "      <th>evening</th>\n",
       "      <th>sess_duration</th>\n",
       "      <th>day_of_week</th>\n",
       "      <th>month</th>\n",
       "      <th>year_month</th>\n",
       "    </tr>\n",
       "    <tr>\n",
       "      <th>session_id</th>\n",
       "      <th></th>\n",
       "      <th></th>\n",
       "      <th></th>\n",
       "      <th></th>\n",
       "      <th></th>\n",
       "      <th></th>\n",
       "      <th></th>\n",
       "    </tr>\n",
       "  </thead>\n",
       "  <tbody>\n",
       "    <tr>\n",
       "      <th>21669</th>\n",
       "      <td>1</td>\n",
       "      <td>0</td>\n",
       "      <td>0</td>\n",
       "      <td>-0.468233</td>\n",
       "      <td>1.682905</td>\n",
       "      <td>-0.943567</td>\n",
       "      <td>-1.744405</td>\n",
       "    </tr>\n",
       "    <tr>\n",
       "      <th>54843</th>\n",
       "      <td>1</td>\n",
       "      <td>0</td>\n",
       "      <td>0</td>\n",
       "      <td>5.570015</td>\n",
       "      <td>1.682905</td>\n",
       "      <td>-0.943567</td>\n",
       "      <td>-1.744405</td>\n",
       "    </tr>\n",
       "    <tr>\n",
       "      <th>77292</th>\n",
       "      <td>1</td>\n",
       "      <td>0</td>\n",
       "      <td>0</td>\n",
       "      <td>-0.454709</td>\n",
       "      <td>1.682905</td>\n",
       "      <td>-0.943567</td>\n",
       "      <td>-1.744405</td>\n",
       "    </tr>\n",
       "    <tr>\n",
       "      <th>114021</th>\n",
       "      <td>1</td>\n",
       "      <td>0</td>\n",
       "      <td>0</td>\n",
       "      <td>-0.458090</td>\n",
       "      <td>1.682905</td>\n",
       "      <td>-0.943567</td>\n",
       "      <td>-1.744405</td>\n",
       "    </tr>\n",
       "    <tr>\n",
       "      <th>146670</th>\n",
       "      <td>1</td>\n",
       "      <td>0</td>\n",
       "      <td>0</td>\n",
       "      <td>-0.461471</td>\n",
       "      <td>1.682905</td>\n",
       "      <td>-0.943567</td>\n",
       "      <td>-1.744405</td>\n",
       "    </tr>\n",
       "  </tbody>\n",
       "</table>\n",
       "</div>"
      ],
      "text/plain": [
       "            morning  day  evening  sess_duration  day_of_week     month  \\\n",
       "session_id                                                                \n",
       "21669             1    0        0      -0.468233     1.682905 -0.943567   \n",
       "54843             1    0        0       5.570015     1.682905 -0.943567   \n",
       "77292             1    0        0      -0.454709     1.682905 -0.943567   \n",
       "114021            1    0        0      -0.458090     1.682905 -0.943567   \n",
       "146670            1    0        0      -0.461471     1.682905 -0.943567   \n",
       "\n",
       "            year_month  \n",
       "session_id              \n",
       "21669        -1.744405  \n",
       "54843        -1.744405  \n",
       "77292        -1.744405  \n",
       "114021       -1.744405  \n",
       "146670       -1.744405  "
      ]
     },
     "execution_count": 229,
     "metadata": {},
     "output_type": "execute_result"
    }
   ],
   "source": [
    "train_features.head()"
   ]
  },
  {
   "cell_type": "markdown",
   "metadata": {},
   "source": [
    "Соединяем массивы"
   ]
  },
  {
   "cell_type": "code",
   "execution_count": 225,
   "metadata": {},
   "outputs": [],
   "source": [
    "X_train_final = hstack([X_train_sites,np.array(train_features)])\n",
    "X_test_final = hstack([X_test_sites,np.array(test_features)])"
   ]
  },
  {
   "cell_type": "markdown",
   "metadata": {},
   "source": [
    "Валидируемся"
   ]
  },
  {
   "cell_type": "code",
   "execution_count": 226,
   "metadata": {},
   "outputs": [
    {
     "name": "stdout",
     "output_type": "stream",
     "text": [
      "[0.78996812 0.79452129 0.94957048 0.97109114 0.91474527 0.95528385\n",
      " 0.93204836 0.94513981 0.96185826 0.96563697]\n",
      "0.9179863554790237\n"
     ]
    }
   ],
   "source": [
    "mean_score = cross_val_score(LogisticRegression(C = BEST_LOGIT_C, random_state=SEED), X_train_final,\n",
    "                             y_train, scoring = 'roc_auc', cv = time_split)\n",
    "print (mean_score)\n",
    "print(mean_score.mean())"
   ]
  },
  {
   "cell_type": "markdown",
   "metadata": {},
   "source": [
    "### Поиск оптимальных параметров параметров"
   ]
  },
  {
   "cell_type": "code",
   "execution_count": 45,
   "metadata": {},
   "outputs": [],
   "source": [
    "params = {'C' : np.linspace(3.5,4.5,10)}\n",
    "logit = LogisticRegression(random_state=SEED)\n",
    "best_c = GridSearchCV(logit,params, cv =time_split, n_jobs=-1, scoring='roc_auc')"
   ]
  },
  {
   "cell_type": "code",
   "execution_count": 46,
   "metadata": {},
   "outputs": [],
   "source": [
    "%%time\n",
    "best_c.fit(X_train_final, y_train)"
   ]
  },
  {
   "cell_type": "markdown",
   "metadata": {},
   "source": [
    "### Кривая валидации"
   ]
  },
  {
   "cell_type": "code",
   "execution_count": 46,
   "metadata": {},
   "outputs": [],
   "source": [
    "train_score, test_score = validation_curve(LogisticRegression(random_state=SEED),\n",
    "                                                             X_train_final, y_train,\n",
    "                                                             param_name = 'C', \n",
    "                                                             param_range = c_values,\n",
    "                                                             cv = time_split.split(X_train_final, y_train),\n",
    "                                                             scoring = 'roc_auc')"
   ]
  },
  {
   "cell_type": "code",
   "execution_count": 50,
   "metadata": {
    "scrolled": true
   },
   "outputs": [
    {
     "data": {
      "text/plain": [
       "<matplotlib.legend.Legend at 0xb7f13d09b0>"
      ]
     },
     "execution_count": 50,
     "metadata": {},
     "output_type": "execute_result"
    },
    {
     "data": {
      "image/png": "[encoded data removed]",
      "text/plain": [
       "<Figure size 720x432 with 1 Axes>"
      ]
     },
     "metadata": {
      "needs_background": "light"
     },
     "output_type": "display_data"
    }
   ],
   "source": [
    "train_scores_mean = np.mean(train_score, axis=1)\n",
    "train_scores_std = np.std(train_score, axis=1)\n",
    "test_scores_mean = np.mean(test_score, axis=1)\n",
    "test_scores_std = np.std(test_score, axis=1)\n",
    "\n",
    "fig = plt.figure(figsize=(10, 6))\n",
    "\n",
    "plt.title(\"Validation Curve with logloss\")\n",
    "plt.xlabel(\"C\")\n",
    "plt.ylabel(\"roc auc\")\n",
    "\n",
    "\n",
    "plt.plot(c_values,\n",
    "             train_scores_mean,\n",
    "             label=\"Training score\",\n",
    "             color=\"r\")\n",
    "\n",
    "plt.plot(c_values,\n",
    "             test_scores_mean, \n",
    "             label=\"Cross-validation score\",\n",
    "             color=\"g\")\n",
    "plt.fill_between(c_values,\n",
    "                 test_scores_mean - test_scores_std,\n",
    "                 test_scores_mean + test_scores_std,\n",
    "                 alpha=0.2, color=\"g\")\n",
    "plt.ylim(0.8, 1.01)\n",
    "\n",
    "plt.axhline(y=1, color='k', ls='dashed')\n",
    "\n",
    "plt.legend(loc=\"best\")"
   ]
  },
  {
   "cell_type": "markdown",
   "metadata": {},
   "source": [
    "### Пишем ответы в файл"
   ]
  },
  {
   "cell_type": "code",
   "execution_count": null,
   "metadata": {},
   "outputs": [],
   "source": [
    "logit = LogisticRegression(random_state=SEED, C = 3.9810717055349722)\n",
    "logit.fit(X_train_final,y_train)\n",
    "test_pred = logit.predict_proba(X_test_final)[:,1]\n",
    "pd.Series(test_pred,\n",
    "          index = range (1,test_pred.shape[0] + 1) ,\n",
    "          name = 'target').to_csv('Desktop/dataset/benchmark.csv', header = True,\n",
    "                                 index_label = 'session_id')"
   ]
  },
  {
   "cell_type": "markdown",
   "metadata": {},
   "source": [
    "# Что не сработало"
   ]
  },
  {
   "cell_type": "markdown",
   "metadata": {},
   "source": [
    "Очевидно, из-за слишком большого количества признаков не сработали деревья (XGB, CatBoost, Random Forest). Так же не сработали некоторые признаки, которые можно было получить исходя из времени. Определение наиболее часто посещаемых взломщиками сайтов и добавление их в качестве признака, так же не дало прироста. Кодирование категориальных признаков методом One Hot Encoding, а так же кодирование средним (Mean Target - кодирование),в том числе сглаженным, не сработало. Данные подходы не сработали, поскольку в одной модели были как и разряженные признаки, соответствующие сайтам и их н-граммам, так и категориальные признаки полученные из времени посещения сайтов.\n",
    "Были попытки ассамблировать модели, построенные на разных данных - первая модель - представленная выше, остальные модели - деревья и регрессии построенные на признаках, которые были сгенерированы из времени, включающие двойные интеракции, кодирование среднем и One Hot Encoding. Лучшая модель, построенная только на признаках, сгенерированных из времени давала скор 0.9. В качестве окончательного результата при ассамблировании использывались среднии значения моделей, максимальные, минимальные, но это не дало прироста. Стекинг из 5 моделей на первом уровне так же не дал прироста."
   ]
  },
  {
   "cell_type": "markdown",
   "metadata": {},
   "source": [
    "# Итог - 0.95433  (top 16%)"
   ]
  }
 ],
 "metadata": {
  "kernelspec": {
   "display_name": "Python 3",
   "language": "python",
   "name": "python3"
  },
  "language_info": {
   "codemirror_mode": {
    "name": "ipython",
    "version": 3
   },
   "file_extension": ".py",
   "mimetype": "text/x-python",
   "name": "python",
   "nbconvert_exporter": "python",
   "pygments_lexer": "ipython3",
   "version": "3.7.4"
  }
 },
 "nbformat": 4,
 "nbformat_minor": 2
}
