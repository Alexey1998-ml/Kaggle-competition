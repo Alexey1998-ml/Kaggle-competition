{
 "cells": [
  {
   "cell_type": "code",
   "execution_count": 1317,
   "metadata": {},
   "outputs": [],
   "source": [
    "import pandas as pd\n",
    "import numpy as np\n",
    "import re\n",
    "%matplotlib inline\n",
    "from matplotlib import pyplot as plt\n",
    "import warnings\n",
    "warnings.filterwarnings('ignore')\n",
    "from sklearn.preprocessing import  LabelEncoder"
   ]
  },
  {
   "cell_type": "code",
   "execution_count": 1358,
   "metadata": {},
   "outputs": [],
   "source": [
    "file_name = 'Desktop/dataset/test.txt'\n",
    "file = open(file_name,mode='r')\n",
    "text = file.read()\n",
    "file.close()"
   ]
  },
  {
   "cell_type": "markdown",
   "metadata": {},
   "source": [
    "Попытаемся вытащить нужные строки регулярными выражениями"
   ]
  },
  {
   "cell_type": "code",
   "execution_count": 1319,
   "metadata": {},
   "outputs": [
    {
     "data": {
      "text/plain": [
       "3609"
      ]
     },
     "execution_count": 1319,
     "metadata": {},
     "output_type": "execute_result"
    }
   ],
   "source": [
    "search_time = r\"\\[[-:.\\w\\s]+\\]\"\n",
    "result_time = re.findall(search_time,text)\n",
    "len(result_time)"
   ]
  },
  {
   "cell_type": "code",
   "execution_count": 1320,
   "metadata": {},
   "outputs": [
    {
     "data": {
      "text/plain": [
       "3609"
      ]
     },
     "execution_count": 1320,
     "metadata": {},
     "output_type": "execute_result"
    }
   ],
   "source": [
    "search_error = r\"Error:[\\s\\w.:',/]+\"\n",
    "result_error = re.findall(search_error,text)\n",
    "len(result_error)"
   ]
  },
  {
   "cell_type": "code",
   "execution_count": 1321,
   "metadata": {},
   "outputs": [
    {
     "data": {
      "text/plain": [
       "3607"
      ]
     },
     "execution_count": 1321,
     "metadata": {},
     "output_type": "execute_result"
    }
   ],
   "source": [
    "search_params = r\"Params: [.,:&%-=+\\s\\w]+\"\n",
    "result_params = re.findall(search_params,text)\n",
    "len(result_params)"
   ]
  },
  {
   "cell_type": "markdown",
   "metadata": {},
   "source": [
    "В params есть строки без информации"
   ]
  },
  {
   "cell_type": "code",
   "execution_count": 1322,
   "metadata": {},
   "outputs": [],
   "source": [
    "text_split = text.split('\\n')\n",
    "text_split = list(filter(None,text_split))\n"
   ]
  },
  {
   "cell_type": "markdown",
   "metadata": {},
   "source": [
    "Если попробовать по индексам распределить на три группы time, params, error, то увидим, что порядок нарушается - надо искать выбросы"
   ]
  },
  {
   "cell_type": "code",
   "execution_count": 1323,
   "metadata": {},
   "outputs": [
    {
     "data": {
      "text/plain": [
       "[696, 1767, 4035, 6369, 6792, 6792, 6906, 9618, 9669, 10440, 10584, 10779]"
      ]
     },
     "execution_count": 1323,
     "metadata": {},
     "output_type": "execute_result"
    }
   ],
   "source": [
    "a = []\n",
    "k = 0\n",
    "for i in range (len(text_split)):\n",
    "    if (text_split[i][0] != '[') and (text_split[i][0] != 'P') and (text_split[i][0] != 'E') :\n",
    "        a.append(i-k) \n",
    "        k +=1    \n",
    "a"
   ]
  },
  {
   "cell_type": "code",
   "execution_count": 1324,
   "metadata": {},
   "outputs": [
    {
     "data": {
      "text/plain": [
       "'amount=250000,  mm=0'"
      ]
     },
     "execution_count": 1324,
     "metadata": {},
     "output_type": "execute_result"
    }
   ],
   "source": [
    "text_split[a[0]]"
   ]
  },
  {
   "cell_type": "code",
   "execution_count": 1326,
   "metadata": {
    "scrolled": true
   },
   "outputs": [],
   "source": [
    "for i in a:\n",
    "    del text_split[i]"
   ]
  },
  {
   "cell_type": "code",
   "execution_count": 1327,
   "metadata": {},
   "outputs": [
    {
     "data": {
      "text/plain": [
       "10827"
      ]
     },
     "execution_count": 1327,
     "metadata": {},
     "output_type": "execute_result"
    }
   ],
   "source": [
    "len(text_split)"
   ]
  },
  {
   "cell_type": "code",
   "execution_count": 1328,
   "metadata": {},
   "outputs": [],
   "source": [
    "time = []\n",
    "id = []\n",
    "error = []\n",
    "for i in range (0,len(text_split),3):\n",
    "    time.append(text_split[i])\n",
    "for i in range (1,len(text_split),3):\n",
    "    id.append(text_split[i])\n",
    "for i in range (2,len(text_split),3):\n",
    "    error.append(text_split[i])\n",
    "    "
   ]
  },
  {
   "cell_type": "code",
   "execution_count": 1329,
   "metadata": {
    "scrolled": true
   },
   "outputs": [
    {
     "data": {
      "text/plain": [
       "3609"
      ]
     },
     "execution_count": 1329,
     "metadata": {},
     "output_type": "execute_result"
    }
   ],
   "source": [
    "len(id)"
   ]
  },
  {
   "cell_type": "code",
   "execution_count": 1330,
   "metadata": {},
   "outputs": [],
   "source": [
    "data = pd.DataFrame()\n",
    "data['time'] = pd.Series(time)\n",
    "data['id'] = pd.Series(id)\n",
    "data['error'] = pd.Series(error)"
   ]
  },
  {
   "cell_type": "code",
   "execution_count": 1331,
   "metadata": {},
   "outputs": [
    {
     "data": {
      "text/html": [
       "<div>\n",
       "<style scoped>\n",
       "    .dataframe tbody tr th:only-of-type {\n",
       "        vertical-align: middle;\n",
       "    }\n",
       "\n",
       "    .dataframe tbody tr th {\n",
       "        vertical-align: top;\n",
       "    }\n",
       "\n",
       "    .dataframe thead th {\n",
       "        text-align: right;\n",
       "    }\n",
       "</style>\n",
       "<table border=\"1\" class=\"dataframe\">\n",
       "  <thead>\n",
       "    <tr style=\"text-align: right;\">\n",
       "      <th></th>\n",
       "      <th>time</th>\n",
       "      <th>id</th>\n",
       "      <th>error</th>\n",
       "    </tr>\n",
       "  </thead>\n",
       "  <tbody>\n",
       "    <tr>\n",
       "      <th>0</th>\n",
       "      <td>[2019-09-25 04:00:25.451360]</td>\n",
       "      <td>Params: account_id=0d7f144d5f63b8b6d12aa8730eb...</td>\n",
       "      <td>Error: Error, online session is not available....</td>\n",
       "    </tr>\n",
       "    <tr>\n",
       "      <th>1</th>\n",
       "      <td>[2019-09-25 04:00:46.710930]</td>\n",
       "      <td>Params: account_id=0d7f144d5f63b8b6d12aa8730eb...</td>\n",
       "      <td>Error: Error, online session is not available....</td>\n",
       "    </tr>\n",
       "    <tr>\n",
       "      <th>2</th>\n",
       "      <td>[2019-09-25 04:01:34.980043]</td>\n",
       "      <td>Params: account_id=82eb330fd6ea654a92aefd63284...</td>\n",
       "      <td>Error: Error, online session is not available....</td>\n",
       "    </tr>\n",
       "    <tr>\n",
       "      <th>3</th>\n",
       "      <td>[2019-09-25 04:02:25.045196]</td>\n",
       "      <td>Params: account_id=981593d026c670a0d4af35b8111...</td>\n",
       "      <td>Error: Error, online session is not available....</td>\n",
       "    </tr>\n",
       "    <tr>\n",
       "      <th>4</th>\n",
       "      <td>[2019-09-25 04:02:37.805390]</td>\n",
       "      <td>Params: account_id=0d7f144d5f63b8b6d12aa8730eb...</td>\n",
       "      <td>Error: Error, online session is not available....</td>\n",
       "    </tr>\n",
       "  </tbody>\n",
       "</table>\n",
       "</div>"
      ],
      "text/plain": [
       "                           time  \\\n",
       "0  [2019-09-25 04:00:25.451360]   \n",
       "1  [2019-09-25 04:00:46.710930]   \n",
       "2  [2019-09-25 04:01:34.980043]   \n",
       "3  [2019-09-25 04:02:25.045196]   \n",
       "4  [2019-09-25 04:02:37.805390]   \n",
       "\n",
       "                                                  id  \\\n",
       "0  Params: account_id=0d7f144d5f63b8b6d12aa8730eb...   \n",
       "1  Params: account_id=0d7f144d5f63b8b6d12aa8730eb...   \n",
       "2  Params: account_id=82eb330fd6ea654a92aefd63284...   \n",
       "3  Params: account_id=981593d026c670a0d4af35b8111...   \n",
       "4  Params: account_id=0d7f144d5f63b8b6d12aa8730eb...   \n",
       "\n",
       "                                               error  \n",
       "0  Error: Error, online session is not available....  \n",
       "1  Error: Error, online session is not available....  \n",
       "2  Error: Error, online session is not available....  \n",
       "3  Error: Error, online session is not available....  \n",
       "4  Error: Error, online session is not available....  "
      ]
     },
     "execution_count": 1331,
     "metadata": {},
     "output_type": "execute_result"
    }
   ],
   "source": [
    "data.head()"
   ]
  },
  {
   "cell_type": "markdown",
   "metadata": {},
   "source": [
    "Ищем короткую строку в колонке id"
   ]
  },
  {
   "cell_type": "code",
   "execution_count": 1333,
   "metadata": {},
   "outputs": [],
   "source": [
    "def clean (data):\n",
    "    k = []\n",
    "    for i in range(data.shape[0]):\n",
    "        if len(data['id'][i]) < 100:\n",
    "            k.append(i)\n",
    "    print(k)\n",
    "    l = 0\n",
    "    for i in k:\n",
    "        data = data.drop(i-l, axis= 0)\n",
    "        data = data.set_index(np.arange(data.shape[0]))\n",
    "        l +=1\n",
    "    return data"
   ]
  },
  {
   "cell_type": "code",
   "execution_count": 1334,
   "metadata": {},
   "outputs": [
    {
     "name": "stdout",
     "output_type": "stream",
     "text": [
      "[1214, 1218]\n"
     ]
    }
   ],
   "source": [
    "data = clean(data)"
   ]
  },
  {
   "cell_type": "markdown",
   "metadata": {},
   "source": [
    "Есть строки с одинаковыми значениями params"
   ]
  },
  {
   "cell_type": "code",
   "execution_count": 1254,
   "metadata": {
    "scrolled": true
   },
   "outputs": [
    {
     "data": {
      "text/plain": [
       "Params: account_id=6aa2d1c23beef78ac3c3aaab479e3dee&client_id=0454399a7d212837739620774ea76a4a&channel=SITE&is_js=1&useragent=Mozilla%2F5.0+%28iPhone%3B+CPU+iPhone+OS+11_2_5+like+Mac+OS+X%29+AppleWebKit%2F604.5.6+%28KHTML%2C+like+Gecko%29+Version%2F11.0+Mobile%2F15D60+Safari%2F604.1&time_zone=3&time_local=22.08.2019+17%3A08%3A56&time_utc3=22.08.2019+17%3A08%3A56&ph_country=7&phone=cea21583bf7679869f20ec3b45595747&mail=76f2635e6b29dbbe448fe9889f6e5ca3&referrer=&tenor=14&amount=5000&cookie=ec8b9814e5b1188b178dd14f437de8ea&zip_billing=422120&zip_shipping=422120&country_code_billing=RU&country_code_shipping=RU&response_content_type=json&version=10                                                         4\n",
       "Params: version=11&account_id=aae1077ae5692de5c67700542d89f714&client_id=0a25516824599fbce915b84ce8887551&application_id=00000026&channel=SITE&is_js=1&useragent=Mozilla/5.0%20(Windows%20NT%2010.0;%20Win64;%20x64)%20AppleWebKit/537.36%20(KHTML,%20like%20Gecko)%20Chrome/77.0.3865.75%20Safari/537.36&plugins=&system_fonts=&screen_h=600&screen_w=320&color_d=24&time_zone=2&time_local=17.09.2019%2016:42:54&time_utc3=17.09.2019%2017:42:54&ph_country=63&phone=c6ebe28366928f957dc043ba04341200&mail=b5d51ad07018c6b336446b12c4a2d076&referrer=&cookie=ab5a7091b5b132fc3af5537d81cbc2ca&tenor=0&amount=0&mac_address=&country_code_shipping=PH&response_content_type=json                                                   4\n",
       "Params: account_id=6aa2d1c23beef78ac3c3aaab479e3dee&client_id=9f01f6134d0874a10223306afd40336b&channel=SITE&is_js=1&useragent=Mozilla%2F5.0+%28iPhone%3B+CPU+iPhone+OS+12_4+like+Mac+OS+X%29+AppleWebKit%2F605.1.15+%28KHTML%2C+like+Gecko%29+Version%2F12.1.2+Mobile%2F15E148+Safari%2F604.1&time_zone=3&time_local=12.07.2019+03%3A07%3A59&time_utc3=12.07.2019+03%3A07%3A59&ph_country=7&phone=56454d00a5ae8ed290416ff74057ebba&mail=4757e12deda7c501370ec5a5f12ac4e0&referrer=&tenor=14&amount=4000&cookie=ff35635b17670988998238c99c512874&zip_billing=125008&zip_shipping=125008&country_code_billing=RU&country_code_shipping=RU&response_content_type=json&version=10                                                       4\n",
       "Params: account_id=6aa2d1c23beef78ac3c3aaab479e3dee&client_id=b678a3b21a4b388247ef342f657c2faf&channel=SITE&is_js=1&useragent=Mozilla%2F5.0+%28Linux%3B+Android+7.0%3B+Wileyfox+Spark+X+Build%2FNBD92Q%29+AppleWebKit%2F537.36+%28KHTML%2C+like+Gecko%29+Chrome%2F77.0.3865.92+Mobile+Safari%2F537.36+YaApp_Android%2F9.05+YaSearchBrowser%2F9.05&time_zone=3&time_local=18.09.2019+22%3A09%3A56&time_utc3=18.09.2019+22%3A09%3A56&ph_country=7&phone=c68f93bfd12cd6b9946fbb8fe95aff9d&mail=5bcd18ec831785bfe2173d1ff65c80c0&referrer=&tenor=6&amount=5625&cookie=6c534edd8decf9312ac01e955c93dcf7&zip_billing=456840&zip_shipping=456840&country_code_billing=RU&country_code_shipping=RU&response_content_type=json&version=10    4\n",
       "Params: account_id=5e7732d5cc60c8b2b3bcb513a093baae&client_id=70bc1461c56f9f6e70c7670434872216&channel=SITE&is_js=1&useragent=Mozilla%2F5.0+%28Linux%3B+Android+6.0.1%3B+Redmi+4X+Build%2FMOB31T%3B+wv%29+AppleWebKit%2F537.36+%28KHTML%2C+like+Gecko%29+Version%2F4.0+Chrome%2F51.0.2704.106+Mobile+Safari%2F537.36&time_zone=3&time_local=19.09.2019+19%3A09%3A23&time_utc3=19.09.2019+19%3A09%3A24&ph_country=7&phone=4e162ae3cdf0679277e48124f22dba5f&mail=aa2d705580a599127835b01cd0616a09&referrer=&tenor=16&amount=8000&cookie=f2fe91acccbf2efd5c57691135ee4b56&zip_billing=188661&zip_shipping=188661&country_code_billing=RU&country_code_shipping=RU&response_content_type=json&version=10                                4\n",
       "Name: id, dtype: int64"
      ]
     },
     "execution_count": 1254,
     "metadata": {},
     "output_type": "execute_result"
    }
   ],
   "source": [
    "data['id'].value_counts().head()"
   ]
  },
  {
   "cell_type": "code",
   "execution_count": 1335,
   "metadata": {},
   "outputs": [],
   "source": [
    "data['name_time'] = data['time'].apply(lambda s: s[1:20])"
   ]
  },
  {
   "cell_type": "markdown",
   "metadata": {},
   "source": [
    "Считаем, что строки дублируются, если у них три поля одинаковые"
   ]
  },
  {
   "cell_type": "code",
   "execution_count": 1336,
   "metadata": {},
   "outputs": [],
   "source": [
    "data = data.drop_duplicates(['id','error','name_time'], keep = 'first')\n",
    "data = data.set_index(np.arange(data.shape[0]))"
   ]
  },
  {
   "cell_type": "markdown",
   "metadata": {},
   "source": [
    "Сгенирируем несколько признаков"
   ]
  },
  {
   "cell_type": "code",
   "execution_count": 1337,
   "metadata": {},
   "outputs": [],
   "source": [
    "id_name_a = r\"account_id=\\w+\"\n",
    "def id_name (series):\n",
    "    result_time = re.findall(id_name_a,series)\n",
    "    return result_time[0][11:]"
   ]
  },
  {
   "cell_type": "code",
   "execution_count": 1338,
   "metadata": {},
   "outputs": [],
   "source": [
    "channel_a = r\"channel=[\\w]+\"\n",
    "def channel_name (series):\n",
    "    result_time = re.findall(chanel_a,series)\n",
    "    return result_time[0][8:]"
   ]
  },
  {
   "cell_type": "code",
   "execution_count": 1339,
   "metadata": {},
   "outputs": [],
   "source": [
    "data['channel'] = data['id'].apply(channel_name)"
   ]
  },
  {
   "cell_type": "code",
   "execution_count": 1340,
   "metadata": {},
   "outputs": [],
   "source": [
    "data['account_id'] = data['id'].apply(id_name)"
   ]
  },
  {
   "cell_type": "code",
   "execution_count": 1341,
   "metadata": {},
   "outputs": [],
   "source": [
    "data['name_time'] = data['name_time'].apply(pd.to_datetime)"
   ]
  },
  {
   "cell_type": "code",
   "execution_count": 1342,
   "metadata": {},
   "outputs": [],
   "source": [
    "data['hour'] = data['name_time'].apply(lambda s: s.hour)"
   ]
  },
  {
   "cell_type": "markdown",
   "metadata": {},
   "source": [
    "Посмотрим на временное распределение"
   ]
  },
  {
   "cell_type": "code",
   "execution_count": 1343,
   "metadata": {
    "scrolled": true
   },
   "outputs": [
    {
     "data": {
      "image/png": "[encoded data removed]",
      "text/plain": [
       "<Figure size 432x288 with 1 Axes>"
      ]
     },
     "metadata": {
      "needs_background": "light"
     },
     "output_type": "display_data"
    }
   ],
   "source": [
    "data['hour'].hist();"
   ]
  },
  {
   "cell_type": "markdown",
   "metadata": {},
   "source": [
    "В обед - максимум, ночью тишина.\n",
    "\n",
    "Распределение количества ошибок в зависимости от клиента"
   ]
  },
  {
   "cell_type": "code",
   "execution_count": 1270,
   "metadata": {},
   "outputs": [
    {
     "data": {
      "text/plain": [
       "6aa2d1c23beef78ac3c3aaab479e3dee    787\n",
       "0d7f144d5f63b8b6d12aa8730ebdcd38    778\n",
       "22d039994e86d6468bb8dbd4467c0b98    669\n",
       "981593d026c670a0d4af35b811119137    496\n",
       "24b659f5c4e3a41ac131ec9f31ef7eac    198\n",
       "5e7732d5cc60c8b2b3bcb513a093baae    141\n",
       "82eb330fd6ea654a92aefd63284d8ece     74\n",
       "3dc8e019c0fca5d34d127083dd0dadec     71\n",
       "2b2e1ae5a00d8888296e07d9a935d74b     65\n",
       "aae1077ae5692de5c67700542d89f714     63\n",
       "b9f790c3d1ac237361d17f9c0d345add     60\n",
       "f56878cef2b4e8c0a6f07ceb9d74071f     54\n",
       "25aef575c3c8796202d51c26668ef5fd     27\n",
       "5eadde2b43fd0d3f2e7e6f3936572d5e     15\n",
       "d460b70aeaf5eba0f41c399934cc0904     14\n",
       "d84a9db82d5d005d43d337edc2b74c12     13\n",
       "4dd5008f729abc3e1d57a4334a013892      8\n",
       "ab5885f8d3877ee4cf561fc179ec312b      8\n",
       "ba48f38ce5d7c7f1130fdab6c6c88a78      7\n",
       "b89a0c92f0603961b5e1a09711dbd862      6\n",
       "8b4ca7fbc6a918c8df8382fb27d4ea2e      6\n",
       "b36bf7f59194c964f578861d29112639      6\n",
       "63058c733ece4ddf2171116ac39b3850      6\n",
       "67cc4694f7d2cb60df3abcbf83e60a6e      4\n",
       "123641d47167dcc5792126d813b5530f      4\n",
       "10b36dfb820e966bc8c44efc05804f81      4\n",
       "13dd6713dcec5a44fb5fe5125dd3d9a0      1\n",
       "93afd69ac3a4922d90bcfb0e1ef36075      1\n",
       "2443f606ab9461d23e39c4310c552daf      1\n",
       "4b5a35f0d10aa153bd3d876a3e057b6e      1\n",
       "Name: account_id, dtype: int64"
      ]
     },
     "execution_count": 1270,
     "metadata": {},
     "output_type": "execute_result"
    }
   ],
   "source": [
    "data['account_id'].value_counts()"
   ]
  },
  {
   "cell_type": "markdown",
   "metadata": {},
   "source": [
    "Название id очень длинные, закодируем их чтобы было удобнее"
   ]
  },
  {
   "cell_type": "code",
   "execution_count": 1344,
   "metadata": {},
   "outputs": [],
   "source": [
    "one = LabelEncoder()\n",
    "one.fit(np.array(data['account_id']).reshape(-1,1))\n",
    "data['one'] = one.transform(np.array(data['account_id']).reshape(-1,1))"
   ]
  },
  {
   "cell_type": "code",
   "execution_count": 1345,
   "metadata": {},
   "outputs": [],
   "source": [
    "d = dict(zip(data['one'].value_counts().index,data['account_id'].value_counts().index))"
   ]
  },
  {
   "cell_type": "code",
   "execution_count": 1346,
   "metadata": {},
   "outputs": [
    {
     "data": {
      "text/plain": [
       "{16: '6aa2d1c23beef78ac3c3aaab479e3dee',\n",
       " 0: '0d7f144d5f63b8b6d12aa8730ebdcd38',\n",
       " 4: '22d039994e86d6468bb8dbd4467c0b98',\n",
       " 20: '981593d026c670a0d4af35b811119137',\n",
       " 6: '24b659f5c4e3a41ac131ec9f31ef7eac',\n",
       " 12: '5e7732d5cc60c8b2b3bcb513a093baae',\n",
       " 17: '82eb330fd6ea654a92aefd63284d8ece',\n",
       " 9: '3dc8e019c0fca5d34d127083dd0dadec',\n",
       " 8: '2b2e1ae5a00d8888296e07d9a935d74b',\n",
       " 21: 'aae1077ae5692de5c67700542d89f714',\n",
       " 25: 'b9f790c3d1ac237361d17f9c0d345add',\n",
       " 29: 'f56878cef2b4e8c0a6f07ceb9d74071f',\n",
       " 7: '25aef575c3c8796202d51c26668ef5fd',\n",
       " 13: '5eadde2b43fd0d3f2e7e6f3936572d5e',\n",
       " 27: 'd460b70aeaf5eba0f41c399934cc0904',\n",
       " 28: 'd84a9db82d5d005d43d337edc2b74c12',\n",
       " 22: '4dd5008f729abc3e1d57a4334a013892',\n",
       " 11: 'ab5885f8d3877ee4cf561fc179ec312b',\n",
       " 26: 'ba48f38ce5d7c7f1130fdab6c6c88a78',\n",
       " 24: 'b89a0c92f0603961b5e1a09711dbd862',\n",
       " 18: '8b4ca7fbc6a918c8df8382fb27d4ea2e',\n",
       " 14: 'b36bf7f59194c964f578861d29112639',\n",
       " 23: '63058c733ece4ddf2171116ac39b3850',\n",
       " 1: '67cc4694f7d2cb60df3abcbf83e60a6e',\n",
       " 15: '123641d47167dcc5792126d813b5530f',\n",
       " 2: '10b36dfb820e966bc8c44efc05804f81',\n",
       " 3: '13dd6713dcec5a44fb5fe5125dd3d9a0',\n",
       " 10: '93afd69ac3a4922d90bcfb0e1ef36075',\n",
       " 19: '2443f606ab9461d23e39c4310c552daf',\n",
       " 5: '4b5a35f0d10aa153bd3d876a3e057b6e'}"
      ]
     },
     "execution_count": 1346,
     "metadata": {},
     "output_type": "execute_result"
    }
   ],
   "source": [
    "d"
   ]
  },
  {
   "cell_type": "code",
   "execution_count": 1277,
   "metadata": {},
   "outputs": [
    {
     "data": {
      "image/png": "[encoded data removed]",
      "text/plain": [
       "<Figure size 432x288 with 1 Axes>"
      ]
     },
     "metadata": {
      "needs_background": "light"
     },
     "output_type": "display_data"
    }
   ],
   "source": [
    "data['one'].hist();"
   ]
  },
  {
   "cell_type": "markdown",
   "metadata": {},
   "source": [
    "4 гиперактивных id"
   ]
  },
  {
   "cell_type": "code",
   "execution_count": 1347,
   "metadata": {},
   "outputs": [
    {
     "data": {
      "image/png": "[encoded data removed]",
      "text/plain": [
       "<Figure size 864x432 with 1 Axes>"
      ]
     },
     "metadata": {
      "needs_background": "light"
     },
     "output_type": "display_data"
    }
   ],
   "source": [
    "fig = plt.figure(figsize = (12,6))\n",
    "plt.scatter(data['one'], data['hour']);"
   ]
  },
  {
   "cell_type": "code",
   "execution_count": 1348,
   "metadata": {},
   "outputs": [
    {
     "data": {
      "text/plain": [
       "16    787\n",
       "0     778\n",
       "4     669\n",
       "20    496\n",
       "Name: one, dtype: int64"
      ]
     },
     "execution_count": 1348,
     "metadata": {},
     "output_type": "execute_result"
    }
   ],
   "source": [
    "data['one'].value_counts().head(4)"
   ]
  },
  {
   "cell_type": "markdown",
   "metadata": {},
   "source": [
    "Гиперактивные id встречаются на протяжении всего дня (с 6 до 00).\n",
    "\n",
    "Посмотрим на ошибки"
   ]
  },
  {
   "cell_type": "code",
   "execution_count": 1349,
   "metadata": {},
   "outputs": [
    {
     "data": {
      "text/plain": [
       "Error: Error, online session is not available. Please, verify js/mobile library installation    3289\n",
       "Error: Authentication failed                                                                     293\n",
       "Error: Parameter time_utc3 is more then local server time > 65 min                                 4\n",
       "Error: Mandatory parameter time_utc3 is empty                                                      1\n",
       "Error: 5:'ascii' codec can't decode byte 0xd0 in position 0: ordinal not in range(128)             1\n",
       "Name: error, dtype: int64"
      ]
     },
     "execution_count": 1349,
     "metadata": {},
     "output_type": "execute_result"
    }
   ],
   "source": [
    "data['error'].value_counts()"
   ]
  },
  {
   "cell_type": "code",
   "execution_count": 1350,
   "metadata": {},
   "outputs": [
    {
     "data": {
      "text/html": [
       "<div>\n",
       "<style scoped>\n",
       "    .dataframe tbody tr th:only-of-type {\n",
       "        vertical-align: middle;\n",
       "    }\n",
       "\n",
       "    .dataframe tbody tr th {\n",
       "        vertical-align: top;\n",
       "    }\n",
       "\n",
       "    .dataframe thead th {\n",
       "        text-align: right;\n",
       "    }\n",
       "</style>\n",
       "<table border=\"1\" class=\"dataframe\">\n",
       "  <thead>\n",
       "    <tr style=\"text-align: right;\">\n",
       "      <th>error</th>\n",
       "      <th>Error: 5:'ascii' codec can't decode byte 0xd0 in position 0: ordinal not in range(128)</th>\n",
       "      <th>Error: Authentication failed</th>\n",
       "      <th>Error: Error, online session is not available. Please, verify js/mobile library installation</th>\n",
       "      <th>Error: Mandatory parameter time_utc3 is empty</th>\n",
       "      <th>Error: Parameter time_utc3 is more then local server time &gt; 65 min</th>\n",
       "    </tr>\n",
       "    <tr>\n",
       "      <th>account_id</th>\n",
       "      <th></th>\n",
       "      <th></th>\n",
       "      <th></th>\n",
       "      <th></th>\n",
       "      <th></th>\n",
       "    </tr>\n",
       "  </thead>\n",
       "  <tbody>\n",
       "    <tr>\n",
       "      <th>0d7f144d5f63b8b6d12aa8730ebdcd38</th>\n",
       "      <td>0</td>\n",
       "      <td>0</td>\n",
       "      <td>778</td>\n",
       "      <td>0</td>\n",
       "      <td>0</td>\n",
       "    </tr>\n",
       "    <tr>\n",
       "      <th>10b36dfb820e966bc8c44efc05804f81</th>\n",
       "      <td>0</td>\n",
       "      <td>0</td>\n",
       "      <td>4</td>\n",
       "      <td>0</td>\n",
       "      <td>0</td>\n",
       "    </tr>\n",
       "    <tr>\n",
       "      <th>123641d47167dcc5792126d813b5530f</th>\n",
       "      <td>0</td>\n",
       "      <td>4</td>\n",
       "      <td>0</td>\n",
       "      <td>0</td>\n",
       "      <td>0</td>\n",
       "    </tr>\n",
       "    <tr>\n",
       "      <th>13dd6713dcec5a44fb5fe5125dd3d9a0</th>\n",
       "      <td>0</td>\n",
       "      <td>0</td>\n",
       "      <td>0</td>\n",
       "      <td>0</td>\n",
       "      <td>1</td>\n",
       "    </tr>\n",
       "    <tr>\n",
       "      <th>22d039994e86d6468bb8dbd4467c0b98</th>\n",
       "      <td>0</td>\n",
       "      <td>289</td>\n",
       "      <td>380</td>\n",
       "      <td>0</td>\n",
       "      <td>0</td>\n",
       "    </tr>\n",
       "    <tr>\n",
       "      <th>2443f606ab9461d23e39c4310c552daf</th>\n",
       "      <td>0</td>\n",
       "      <td>0</td>\n",
       "      <td>0</td>\n",
       "      <td>0</td>\n",
       "      <td>1</td>\n",
       "    </tr>\n",
       "    <tr>\n",
       "      <th>24b659f5c4e3a41ac131ec9f31ef7eac</th>\n",
       "      <td>1</td>\n",
       "      <td>0</td>\n",
       "      <td>197</td>\n",
       "      <td>0</td>\n",
       "      <td>0</td>\n",
       "    </tr>\n",
       "    <tr>\n",
       "      <th>25aef575c3c8796202d51c26668ef5fd</th>\n",
       "      <td>0</td>\n",
       "      <td>0</td>\n",
       "      <td>27</td>\n",
       "      <td>0</td>\n",
       "      <td>0</td>\n",
       "    </tr>\n",
       "    <tr>\n",
       "      <th>2b2e1ae5a00d8888296e07d9a935d74b</th>\n",
       "      <td>0</td>\n",
       "      <td>0</td>\n",
       "      <td>65</td>\n",
       "      <td>0</td>\n",
       "      <td>0</td>\n",
       "    </tr>\n",
       "    <tr>\n",
       "      <th>3dc8e019c0fca5d34d127083dd0dadec</th>\n",
       "      <td>0</td>\n",
       "      <td>0</td>\n",
       "      <td>71</td>\n",
       "      <td>0</td>\n",
       "      <td>0</td>\n",
       "    </tr>\n",
       "    <tr>\n",
       "      <th>4b5a35f0d10aa153bd3d876a3e057b6e</th>\n",
       "      <td>0</td>\n",
       "      <td>0</td>\n",
       "      <td>1</td>\n",
       "      <td>0</td>\n",
       "      <td>0</td>\n",
       "    </tr>\n",
       "    <tr>\n",
       "      <th>4dd5008f729abc3e1d57a4334a013892</th>\n",
       "      <td>0</td>\n",
       "      <td>0</td>\n",
       "      <td>5</td>\n",
       "      <td>1</td>\n",
       "      <td>2</td>\n",
       "    </tr>\n",
       "    <tr>\n",
       "      <th>5e7732d5cc60c8b2b3bcb513a093baae</th>\n",
       "      <td>0</td>\n",
       "      <td>0</td>\n",
       "      <td>141</td>\n",
       "      <td>0</td>\n",
       "      <td>0</td>\n",
       "    </tr>\n",
       "    <tr>\n",
       "      <th>5eadde2b43fd0d3f2e7e6f3936572d5e</th>\n",
       "      <td>0</td>\n",
       "      <td>0</td>\n",
       "      <td>15</td>\n",
       "      <td>0</td>\n",
       "      <td>0</td>\n",
       "    </tr>\n",
       "    <tr>\n",
       "      <th>63058c733ece4ddf2171116ac39b3850</th>\n",
       "      <td>0</td>\n",
       "      <td>0</td>\n",
       "      <td>6</td>\n",
       "      <td>0</td>\n",
       "      <td>0</td>\n",
       "    </tr>\n",
       "    <tr>\n",
       "      <th>67cc4694f7d2cb60df3abcbf83e60a6e</th>\n",
       "      <td>0</td>\n",
       "      <td>0</td>\n",
       "      <td>4</td>\n",
       "      <td>0</td>\n",
       "      <td>0</td>\n",
       "    </tr>\n",
       "    <tr>\n",
       "      <th>6aa2d1c23beef78ac3c3aaab479e3dee</th>\n",
       "      <td>0</td>\n",
       "      <td>0</td>\n",
       "      <td>787</td>\n",
       "      <td>0</td>\n",
       "      <td>0</td>\n",
       "    </tr>\n",
       "    <tr>\n",
       "      <th>82eb330fd6ea654a92aefd63284d8ece</th>\n",
       "      <td>0</td>\n",
       "      <td>0</td>\n",
       "      <td>74</td>\n",
       "      <td>0</td>\n",
       "      <td>0</td>\n",
       "    </tr>\n",
       "    <tr>\n",
       "      <th>8b4ca7fbc6a918c8df8382fb27d4ea2e</th>\n",
       "      <td>0</td>\n",
       "      <td>0</td>\n",
       "      <td>6</td>\n",
       "      <td>0</td>\n",
       "      <td>0</td>\n",
       "    </tr>\n",
       "    <tr>\n",
       "      <th>93afd69ac3a4922d90bcfb0e1ef36075</th>\n",
       "      <td>0</td>\n",
       "      <td>0</td>\n",
       "      <td>1</td>\n",
       "      <td>0</td>\n",
       "      <td>0</td>\n",
       "    </tr>\n",
       "    <tr>\n",
       "      <th>981593d026c670a0d4af35b811119137</th>\n",
       "      <td>0</td>\n",
       "      <td>0</td>\n",
       "      <td>496</td>\n",
       "      <td>0</td>\n",
       "      <td>0</td>\n",
       "    </tr>\n",
       "    <tr>\n",
       "      <th>aae1077ae5692de5c67700542d89f714</th>\n",
       "      <td>0</td>\n",
       "      <td>0</td>\n",
       "      <td>63</td>\n",
       "      <td>0</td>\n",
       "      <td>0</td>\n",
       "    </tr>\n",
       "    <tr>\n",
       "      <th>ab5885f8d3877ee4cf561fc179ec312b</th>\n",
       "      <td>0</td>\n",
       "      <td>0</td>\n",
       "      <td>8</td>\n",
       "      <td>0</td>\n",
       "      <td>0</td>\n",
       "    </tr>\n",
       "    <tr>\n",
       "      <th>b36bf7f59194c964f578861d29112639</th>\n",
       "      <td>0</td>\n",
       "      <td>0</td>\n",
       "      <td>6</td>\n",
       "      <td>0</td>\n",
       "      <td>0</td>\n",
       "    </tr>\n",
       "    <tr>\n",
       "      <th>b89a0c92f0603961b5e1a09711dbd862</th>\n",
       "      <td>0</td>\n",
       "      <td>0</td>\n",
       "      <td>6</td>\n",
       "      <td>0</td>\n",
       "      <td>0</td>\n",
       "    </tr>\n",
       "    <tr>\n",
       "      <th>b9f790c3d1ac237361d17f9c0d345add</th>\n",
       "      <td>0</td>\n",
       "      <td>0</td>\n",
       "      <td>60</td>\n",
       "      <td>0</td>\n",
       "      <td>0</td>\n",
       "    </tr>\n",
       "    <tr>\n",
       "      <th>ba48f38ce5d7c7f1130fdab6c6c88a78</th>\n",
       "      <td>0</td>\n",
       "      <td>0</td>\n",
       "      <td>7</td>\n",
       "      <td>0</td>\n",
       "      <td>0</td>\n",
       "    </tr>\n",
       "    <tr>\n",
       "      <th>d460b70aeaf5eba0f41c399934cc0904</th>\n",
       "      <td>0</td>\n",
       "      <td>0</td>\n",
       "      <td>14</td>\n",
       "      <td>0</td>\n",
       "      <td>0</td>\n",
       "    </tr>\n",
       "    <tr>\n",
       "      <th>d84a9db82d5d005d43d337edc2b74c12</th>\n",
       "      <td>0</td>\n",
       "      <td>0</td>\n",
       "      <td>13</td>\n",
       "      <td>0</td>\n",
       "      <td>0</td>\n",
       "    </tr>\n",
       "    <tr>\n",
       "      <th>f56878cef2b4e8c0a6f07ceb9d74071f</th>\n",
       "      <td>0</td>\n",
       "      <td>0</td>\n",
       "      <td>54</td>\n",
       "      <td>0</td>\n",
       "      <td>0</td>\n",
       "    </tr>\n",
       "  </tbody>\n",
       "</table>\n",
       "</div>"
      ],
      "text/plain": [
       "error                             Error: 5:'ascii' codec can't decode byte 0xd0 in position 0: ordinal not in range(128)  \\\n",
       "account_id                                                                                                                 \n",
       "0d7f144d5f63b8b6d12aa8730ebdcd38                                                  0                                        \n",
       "10b36dfb820e966bc8c44efc05804f81                                                  0                                        \n",
       "123641d47167dcc5792126d813b5530f                                                  0                                        \n",
       "13dd6713dcec5a44fb5fe5125dd3d9a0                                                  0                                        \n",
       "22d039994e86d6468bb8dbd4467c0b98                                                  0                                        \n",
       "2443f606ab9461d23e39c4310c552daf                                                  0                                        \n",
       "24b659f5c4e3a41ac131ec9f31ef7eac                                                  1                                        \n",
       "25aef575c3c8796202d51c26668ef5fd                                                  0                                        \n",
       "2b2e1ae5a00d8888296e07d9a935d74b                                                  0                                        \n",
       "3dc8e019c0fca5d34d127083dd0dadec                                                  0                                        \n",
       "4b5a35f0d10aa153bd3d876a3e057b6e                                                  0                                        \n",
       "4dd5008f729abc3e1d57a4334a013892                                                  0                                        \n",
       "5e7732d5cc60c8b2b3bcb513a093baae                                                  0                                        \n",
       "5eadde2b43fd0d3f2e7e6f3936572d5e                                                  0                                        \n",
       "63058c733ece4ddf2171116ac39b3850                                                  0                                        \n",
       "67cc4694f7d2cb60df3abcbf83e60a6e                                                  0                                        \n",
       "6aa2d1c23beef78ac3c3aaab479e3dee                                                  0                                        \n",
       "82eb330fd6ea654a92aefd63284d8ece                                                  0                                        \n",
       "8b4ca7fbc6a918c8df8382fb27d4ea2e                                                  0                                        \n",
       "93afd69ac3a4922d90bcfb0e1ef36075                                                  0                                        \n",
       "981593d026c670a0d4af35b811119137                                                  0                                        \n",
       "aae1077ae5692de5c67700542d89f714                                                  0                                        \n",
       "ab5885f8d3877ee4cf561fc179ec312b                                                  0                                        \n",
       "b36bf7f59194c964f578861d29112639                                                  0                                        \n",
       "b89a0c92f0603961b5e1a09711dbd862                                                  0                                        \n",
       "b9f790c3d1ac237361d17f9c0d345add                                                  0                                        \n",
       "ba48f38ce5d7c7f1130fdab6c6c88a78                                                  0                                        \n",
       "d460b70aeaf5eba0f41c399934cc0904                                                  0                                        \n",
       "d84a9db82d5d005d43d337edc2b74c12                                                  0                                        \n",
       "f56878cef2b4e8c0a6f07ceb9d74071f                                                  0                                        \n",
       "\n",
       "error                             Error: Authentication failed  \\\n",
       "account_id                                                       \n",
       "0d7f144d5f63b8b6d12aa8730ebdcd38                             0   \n",
       "10b36dfb820e966bc8c44efc05804f81                             0   \n",
       "123641d47167dcc5792126d813b5530f                             4   \n",
       "13dd6713dcec5a44fb5fe5125dd3d9a0                             0   \n",
       "22d039994e86d6468bb8dbd4467c0b98                           289   \n",
       "2443f606ab9461d23e39c4310c552daf                             0   \n",
       "24b659f5c4e3a41ac131ec9f31ef7eac                             0   \n",
       "25aef575c3c8796202d51c26668ef5fd                             0   \n",
       "2b2e1ae5a00d8888296e07d9a935d74b                             0   \n",
       "3dc8e019c0fca5d34d127083dd0dadec                             0   \n",
       "4b5a35f0d10aa153bd3d876a3e057b6e                             0   \n",
       "4dd5008f729abc3e1d57a4334a013892                             0   \n",
       "5e7732d5cc60c8b2b3bcb513a093baae                             0   \n",
       "5eadde2b43fd0d3f2e7e6f3936572d5e                             0   \n",
       "63058c733ece4ddf2171116ac39b3850                             0   \n",
       "67cc4694f7d2cb60df3abcbf83e60a6e                             0   \n",
       "6aa2d1c23beef78ac3c3aaab479e3dee                             0   \n",
       "82eb330fd6ea654a92aefd63284d8ece                             0   \n",
       "8b4ca7fbc6a918c8df8382fb27d4ea2e                             0   \n",
       "93afd69ac3a4922d90bcfb0e1ef36075                             0   \n",
       "981593d026c670a0d4af35b811119137                             0   \n",
       "aae1077ae5692de5c67700542d89f714                             0   \n",
       "ab5885f8d3877ee4cf561fc179ec312b                             0   \n",
       "b36bf7f59194c964f578861d29112639                             0   \n",
       "b89a0c92f0603961b5e1a09711dbd862                             0   \n",
       "b9f790c3d1ac237361d17f9c0d345add                             0   \n",
       "ba48f38ce5d7c7f1130fdab6c6c88a78                             0   \n",
       "d460b70aeaf5eba0f41c399934cc0904                             0   \n",
       "d84a9db82d5d005d43d337edc2b74c12                             0   \n",
       "f56878cef2b4e8c0a6f07ceb9d74071f                             0   \n",
       "\n",
       "error                             Error: Error, online session is not available. Please, verify js/mobile library installation  \\\n",
       "account_id                                                                                                                       \n",
       "0d7f144d5f63b8b6d12aa8730ebdcd38                                                778                                              \n",
       "10b36dfb820e966bc8c44efc05804f81                                                  4                                              \n",
       "123641d47167dcc5792126d813b5530f                                                  0                                              \n",
       "13dd6713dcec5a44fb5fe5125dd3d9a0                                                  0                                              \n",
       "22d039994e86d6468bb8dbd4467c0b98                                                380                                              \n",
       "2443f606ab9461d23e39c4310c552daf                                                  0                                              \n",
       "24b659f5c4e3a41ac131ec9f31ef7eac                                                197                                              \n",
       "25aef575c3c8796202d51c26668ef5fd                                                 27                                              \n",
       "2b2e1ae5a00d8888296e07d9a935d74b                                                 65                                              \n",
       "3dc8e019c0fca5d34d127083dd0dadec                                                 71                                              \n",
       "4b5a35f0d10aa153bd3d876a3e057b6e                                                  1                                              \n",
       "4dd5008f729abc3e1d57a4334a013892                                                  5                                              \n",
       "5e7732d5cc60c8b2b3bcb513a093baae                                                141                                              \n",
       "5eadde2b43fd0d3f2e7e6f3936572d5e                                                 15                                              \n",
       "63058c733ece4ddf2171116ac39b3850                                                  6                                              \n",
       "67cc4694f7d2cb60df3abcbf83e60a6e                                                  4                                              \n",
       "6aa2d1c23beef78ac3c3aaab479e3dee                                                787                                              \n",
       "82eb330fd6ea654a92aefd63284d8ece                                                 74                                              \n",
       "8b4ca7fbc6a918c8df8382fb27d4ea2e                                                  6                                              \n",
       "93afd69ac3a4922d90bcfb0e1ef36075                                                  1                                              \n",
       "981593d026c670a0d4af35b811119137                                                496                                              \n",
       "aae1077ae5692de5c67700542d89f714                                                 63                                              \n",
       "ab5885f8d3877ee4cf561fc179ec312b                                                  8                                              \n",
       "b36bf7f59194c964f578861d29112639                                                  6                                              \n",
       "b89a0c92f0603961b5e1a09711dbd862                                                  6                                              \n",
       "b9f790c3d1ac237361d17f9c0d345add                                                 60                                              \n",
       "ba48f38ce5d7c7f1130fdab6c6c88a78                                                  7                                              \n",
       "d460b70aeaf5eba0f41c399934cc0904                                                 14                                              \n",
       "d84a9db82d5d005d43d337edc2b74c12                                                 13                                              \n",
       "f56878cef2b4e8c0a6f07ceb9d74071f                                                 54                                              \n",
       "\n",
       "error                             Error: Mandatory parameter time_utc3 is empty  \\\n",
       "account_id                                                                        \n",
       "0d7f144d5f63b8b6d12aa8730ebdcd38                                              0   \n",
       "10b36dfb820e966bc8c44efc05804f81                                              0   \n",
       "123641d47167dcc5792126d813b5530f                                              0   \n",
       "13dd6713dcec5a44fb5fe5125dd3d9a0                                              0   \n",
       "22d039994e86d6468bb8dbd4467c0b98                                              0   \n",
       "2443f606ab9461d23e39c4310c552daf                                              0   \n",
       "24b659f5c4e3a41ac131ec9f31ef7eac                                              0   \n",
       "25aef575c3c8796202d51c26668ef5fd                                              0   \n",
       "2b2e1ae5a00d8888296e07d9a935d74b                                              0   \n",
       "3dc8e019c0fca5d34d127083dd0dadec                                              0   \n",
       "4b5a35f0d10aa153bd3d876a3e057b6e                                              0   \n",
       "4dd5008f729abc3e1d57a4334a013892                                              1   \n",
       "5e7732d5cc60c8b2b3bcb513a093baae                                              0   \n",
       "5eadde2b43fd0d3f2e7e6f3936572d5e                                              0   \n",
       "63058c733ece4ddf2171116ac39b3850                                              0   \n",
       "67cc4694f7d2cb60df3abcbf83e60a6e                                              0   \n",
       "6aa2d1c23beef78ac3c3aaab479e3dee                                              0   \n",
       "82eb330fd6ea654a92aefd63284d8ece                                              0   \n",
       "8b4ca7fbc6a918c8df8382fb27d4ea2e                                              0   \n",
       "93afd69ac3a4922d90bcfb0e1ef36075                                              0   \n",
       "981593d026c670a0d4af35b811119137                                              0   \n",
       "aae1077ae5692de5c67700542d89f714                                              0   \n",
       "ab5885f8d3877ee4cf561fc179ec312b                                              0   \n",
       "b36bf7f59194c964f578861d29112639                                              0   \n",
       "b89a0c92f0603961b5e1a09711dbd862                                              0   \n",
       "b9f790c3d1ac237361d17f9c0d345add                                              0   \n",
       "ba48f38ce5d7c7f1130fdab6c6c88a78                                              0   \n",
       "d460b70aeaf5eba0f41c399934cc0904                                              0   \n",
       "d84a9db82d5d005d43d337edc2b74c12                                              0   \n",
       "f56878cef2b4e8c0a6f07ceb9d74071f                                              0   \n",
       "\n",
       "error                             Error: Parameter time_utc3 is more then local server time > 65 min  \n",
       "account_id                                                                                            \n",
       "0d7f144d5f63b8b6d12aa8730ebdcd38                                                  0                   \n",
       "10b36dfb820e966bc8c44efc05804f81                                                  0                   \n",
       "123641d47167dcc5792126d813b5530f                                                  0                   \n",
       "13dd6713dcec5a44fb5fe5125dd3d9a0                                                  1                   \n",
       "22d039994e86d6468bb8dbd4467c0b98                                                  0                   \n",
       "2443f606ab9461d23e39c4310c552daf                                                  1                   \n",
       "24b659f5c4e3a41ac131ec9f31ef7eac                                                  0                   \n",
       "25aef575c3c8796202d51c26668ef5fd                                                  0                   \n",
       "2b2e1ae5a00d8888296e07d9a935d74b                                                  0                   \n",
       "3dc8e019c0fca5d34d127083dd0dadec                                                  0                   \n",
       "4b5a35f0d10aa153bd3d876a3e057b6e                                                  0                   \n",
       "4dd5008f729abc3e1d57a4334a013892                                                  2                   \n",
       "5e7732d5cc60c8b2b3bcb513a093baae                                                  0                   \n",
       "5eadde2b43fd0d3f2e7e6f3936572d5e                                                  0                   \n",
       "63058c733ece4ddf2171116ac39b3850                                                  0                   \n",
       "67cc4694f7d2cb60df3abcbf83e60a6e                                                  0                   \n",
       "6aa2d1c23beef78ac3c3aaab479e3dee                                                  0                   \n",
       "82eb330fd6ea654a92aefd63284d8ece                                                  0                   \n",
       "8b4ca7fbc6a918c8df8382fb27d4ea2e                                                  0                   \n",
       "93afd69ac3a4922d90bcfb0e1ef36075                                                  0                   \n",
       "981593d026c670a0d4af35b811119137                                                  0                   \n",
       "aae1077ae5692de5c67700542d89f714                                                  0                   \n",
       "ab5885f8d3877ee4cf561fc179ec312b                                                  0                   \n",
       "b36bf7f59194c964f578861d29112639                                                  0                   \n",
       "b89a0c92f0603961b5e1a09711dbd862                                                  0                   \n",
       "b9f790c3d1ac237361d17f9c0d345add                                                  0                   \n",
       "ba48f38ce5d7c7f1130fdab6c6c88a78                                                  0                   \n",
       "d460b70aeaf5eba0f41c399934cc0904                                                  0                   \n",
       "d84a9db82d5d005d43d337edc2b74c12                                                  0                   \n",
       "f56878cef2b4e8c0a6f07ceb9d74071f                                                  0                   "
      ]
     },
     "execution_count": 1350,
     "metadata": {},
     "output_type": "execute_result"
    }
   ],
   "source": [
    "pd.crosstab(data['account_id'], data['error'])"
   ]
  },
  {
   "cell_type": "code",
   "execution_count": 1351,
   "metadata": {},
   "outputs": [
    {
     "data": {
      "image/png": "[encoded data removed]",
      "text/plain": [
       "<Figure size 864x432 with 1 Axes>"
      ]
     },
     "metadata": {
      "needs_background": "light"
     },
     "output_type": "display_data"
    }
   ],
   "source": [
    "fig = plt.figure(figsize = (12,6))\n",
    "plt.scatter(data['hour'], data['error']);"
   ]
  },
  {
   "cell_type": "markdown",
   "metadata": {},
   "source": [
    "id 22d039994e86d6468bb8dbd4467c0b98\t289 раз получал ошибку аутентификации на протяжении 9 часов"
   ]
  },
  {
   "cell_type": "code",
   "execution_count": 1352,
   "metadata": {},
   "outputs": [
    {
     "data": {
      "text/plain": [
       "SITE         3528\n",
       "PHONE_APP      60\n",
       "Name: channel, dtype: int64"
      ]
     },
     "execution_count": 1352,
     "metadata": {},
     "output_type": "execute_result"
    }
   ],
   "source": [
    "data['channel'].value_counts()"
   ]
  },
  {
   "cell_type": "code",
   "execution_count": 1354,
   "metadata": {},
   "outputs": [
    {
     "data": {
      "text/html": [
       "<div>\n",
       "<style scoped>\n",
       "    .dataframe tbody tr th:only-of-type {\n",
       "        vertical-align: middle;\n",
       "    }\n",
       "\n",
       "    .dataframe tbody tr th {\n",
       "        vertical-align: top;\n",
       "    }\n",
       "\n",
       "    .dataframe thead th {\n",
       "        text-align: right;\n",
       "    }\n",
       "</style>\n",
       "<table border=\"1\" class=\"dataframe\">\n",
       "  <thead>\n",
       "    <tr style=\"text-align: right;\">\n",
       "      <th>channel</th>\n",
       "      <th>PHONE_APP</th>\n",
       "      <th>SITE</th>\n",
       "    </tr>\n",
       "    <tr>\n",
       "      <th>error</th>\n",
       "      <th></th>\n",
       "      <th></th>\n",
       "    </tr>\n",
       "  </thead>\n",
       "  <tbody>\n",
       "    <tr>\n",
       "      <th>Error: 5:'ascii' codec can't decode byte 0xd0 in position 0: ordinal not in range(128)</th>\n",
       "      <td>0</td>\n",
       "      <td>1</td>\n",
       "    </tr>\n",
       "    <tr>\n",
       "      <th>Error: Authentication failed</th>\n",
       "      <td>0</td>\n",
       "      <td>293</td>\n",
       "    </tr>\n",
       "    <tr>\n",
       "      <th>Error: Error, online session is not available. Please, verify js/mobile library installation</th>\n",
       "      <td>60</td>\n",
       "      <td>3229</td>\n",
       "    </tr>\n",
       "    <tr>\n",
       "      <th>Error: Mandatory parameter time_utc3 is empty</th>\n",
       "      <td>0</td>\n",
       "      <td>1</td>\n",
       "    </tr>\n",
       "    <tr>\n",
       "      <th>Error: Parameter time_utc3 is more then local server time &gt; 65 min</th>\n",
       "      <td>0</td>\n",
       "      <td>4</td>\n",
       "    </tr>\n",
       "  </tbody>\n",
       "</table>\n",
       "</div>"
      ],
      "text/plain": [
       "channel                                             PHONE_APP  SITE\n",
       "error                                                              \n",
       "Error: 5:'ascii' codec can't decode byte 0xd0 i...          0     1\n",
       "Error: Authentication failed                                0   293\n",
       "Error: Error, online session is not available. ...         60  3229\n",
       "Error: Mandatory parameter time_utc3 is empty               0     1\n",
       "Error: Parameter time_utc3 is more then local s...          0     4"
      ]
     },
     "execution_count": 1354,
     "metadata": {},
     "output_type": "execute_result"
    }
   ],
   "source": [
    "pd.crosstab(data['error'], data['channel'])"
   ]
  },
  {
   "cell_type": "markdown",
   "metadata": {},
   "source": [
    "Ошибку аутентификации получали при использовании сайта"
   ]
  },
  {
   "cell_type": "code",
   "execution_count": 1355,
   "metadata": {
    "scrolled": true
   },
   "outputs": [
    {
     "data": {
      "text/html": [
       "<div>\n",
       "<style scoped>\n",
       "    .dataframe tbody tr th:only-of-type {\n",
       "        vertical-align: middle;\n",
       "    }\n",
       "\n",
       "    .dataframe tbody tr th {\n",
       "        vertical-align: top;\n",
       "    }\n",
       "\n",
       "    .dataframe thead th {\n",
       "        text-align: right;\n",
       "    }\n",
       "</style>\n",
       "<table border=\"1\" class=\"dataframe\">\n",
       "  <thead>\n",
       "    <tr style=\"text-align: right;\">\n",
       "      <th>channel</th>\n",
       "      <th>PHONE_APP</th>\n",
       "      <th>SITE</th>\n",
       "    </tr>\n",
       "    <tr>\n",
       "      <th>account_id</th>\n",
       "      <th></th>\n",
       "      <th></th>\n",
       "    </tr>\n",
       "  </thead>\n",
       "  <tbody>\n",
       "    <tr>\n",
       "      <th>0d7f144d5f63b8b6d12aa8730ebdcd38</th>\n",
       "      <td>0</td>\n",
       "      <td>778</td>\n",
       "    </tr>\n",
       "    <tr>\n",
       "      <th>10b36dfb820e966bc8c44efc05804f81</th>\n",
       "      <td>0</td>\n",
       "      <td>4</td>\n",
       "    </tr>\n",
       "    <tr>\n",
       "      <th>123641d47167dcc5792126d813b5530f</th>\n",
       "      <td>0</td>\n",
       "      <td>4</td>\n",
       "    </tr>\n",
       "    <tr>\n",
       "      <th>13dd6713dcec5a44fb5fe5125dd3d9a0</th>\n",
       "      <td>0</td>\n",
       "      <td>1</td>\n",
       "    </tr>\n",
       "    <tr>\n",
       "      <th>22d039994e86d6468bb8dbd4467c0b98</th>\n",
       "      <td>0</td>\n",
       "      <td>669</td>\n",
       "    </tr>\n",
       "    <tr>\n",
       "      <th>2443f606ab9461d23e39c4310c552daf</th>\n",
       "      <td>0</td>\n",
       "      <td>1</td>\n",
       "    </tr>\n",
       "    <tr>\n",
       "      <th>24b659f5c4e3a41ac131ec9f31ef7eac</th>\n",
       "      <td>0</td>\n",
       "      <td>198</td>\n",
       "    </tr>\n",
       "    <tr>\n",
       "      <th>25aef575c3c8796202d51c26668ef5fd</th>\n",
       "      <td>5</td>\n",
       "      <td>22</td>\n",
       "    </tr>\n",
       "    <tr>\n",
       "      <th>2b2e1ae5a00d8888296e07d9a935d74b</th>\n",
       "      <td>0</td>\n",
       "      <td>65</td>\n",
       "    </tr>\n",
       "    <tr>\n",
       "      <th>3dc8e019c0fca5d34d127083dd0dadec</th>\n",
       "      <td>0</td>\n",
       "      <td>71</td>\n",
       "    </tr>\n",
       "    <tr>\n",
       "      <th>4b5a35f0d10aa153bd3d876a3e057b6e</th>\n",
       "      <td>0</td>\n",
       "      <td>1</td>\n",
       "    </tr>\n",
       "    <tr>\n",
       "      <th>4dd5008f729abc3e1d57a4334a013892</th>\n",
       "      <td>0</td>\n",
       "      <td>8</td>\n",
       "    </tr>\n",
       "    <tr>\n",
       "      <th>5e7732d5cc60c8b2b3bcb513a093baae</th>\n",
       "      <td>0</td>\n",
       "      <td>141</td>\n",
       "    </tr>\n",
       "    <tr>\n",
       "      <th>5eadde2b43fd0d3f2e7e6f3936572d5e</th>\n",
       "      <td>0</td>\n",
       "      <td>15</td>\n",
       "    </tr>\n",
       "    <tr>\n",
       "      <th>63058c733ece4ddf2171116ac39b3850</th>\n",
       "      <td>0</td>\n",
       "      <td>6</td>\n",
       "    </tr>\n",
       "    <tr>\n",
       "      <th>67cc4694f7d2cb60df3abcbf83e60a6e</th>\n",
       "      <td>0</td>\n",
       "      <td>4</td>\n",
       "    </tr>\n",
       "    <tr>\n",
       "      <th>6aa2d1c23beef78ac3c3aaab479e3dee</th>\n",
       "      <td>0</td>\n",
       "      <td>787</td>\n",
       "    </tr>\n",
       "    <tr>\n",
       "      <th>82eb330fd6ea654a92aefd63284d8ece</th>\n",
       "      <td>0</td>\n",
       "      <td>74</td>\n",
       "    </tr>\n",
       "    <tr>\n",
       "      <th>8b4ca7fbc6a918c8df8382fb27d4ea2e</th>\n",
       "      <td>0</td>\n",
       "      <td>6</td>\n",
       "    </tr>\n",
       "    <tr>\n",
       "      <th>93afd69ac3a4922d90bcfb0e1ef36075</th>\n",
       "      <td>0</td>\n",
       "      <td>1</td>\n",
       "    </tr>\n",
       "    <tr>\n",
       "      <th>981593d026c670a0d4af35b811119137</th>\n",
       "      <td>33</td>\n",
       "      <td>463</td>\n",
       "    </tr>\n",
       "    <tr>\n",
       "      <th>aae1077ae5692de5c67700542d89f714</th>\n",
       "      <td>0</td>\n",
       "      <td>63</td>\n",
       "    </tr>\n",
       "    <tr>\n",
       "      <th>ab5885f8d3877ee4cf561fc179ec312b</th>\n",
       "      <td>0</td>\n",
       "      <td>8</td>\n",
       "    </tr>\n",
       "    <tr>\n",
       "      <th>b36bf7f59194c964f578861d29112639</th>\n",
       "      <td>0</td>\n",
       "      <td>6</td>\n",
       "    </tr>\n",
       "    <tr>\n",
       "      <th>b89a0c92f0603961b5e1a09711dbd862</th>\n",
       "      <td>0</td>\n",
       "      <td>6</td>\n",
       "    </tr>\n",
       "    <tr>\n",
       "      <th>b9f790c3d1ac237361d17f9c0d345add</th>\n",
       "      <td>22</td>\n",
       "      <td>38</td>\n",
       "    </tr>\n",
       "    <tr>\n",
       "      <th>ba48f38ce5d7c7f1130fdab6c6c88a78</th>\n",
       "      <td>0</td>\n",
       "      <td>7</td>\n",
       "    </tr>\n",
       "    <tr>\n",
       "      <th>d460b70aeaf5eba0f41c399934cc0904</th>\n",
       "      <td>0</td>\n",
       "      <td>14</td>\n",
       "    </tr>\n",
       "    <tr>\n",
       "      <th>d84a9db82d5d005d43d337edc2b74c12</th>\n",
       "      <td>0</td>\n",
       "      <td>13</td>\n",
       "    </tr>\n",
       "    <tr>\n",
       "      <th>f56878cef2b4e8c0a6f07ceb9d74071f</th>\n",
       "      <td>0</td>\n",
       "      <td>54</td>\n",
       "    </tr>\n",
       "  </tbody>\n",
       "</table>\n",
       "</div>"
      ],
      "text/plain": [
       "channel                           PHONE_APP  SITE\n",
       "account_id                                       \n",
       "0d7f144d5f63b8b6d12aa8730ebdcd38          0   778\n",
       "10b36dfb820e966bc8c44efc05804f81          0     4\n",
       "123641d47167dcc5792126d813b5530f          0     4\n",
       "13dd6713dcec5a44fb5fe5125dd3d9a0          0     1\n",
       "22d039994e86d6468bb8dbd4467c0b98          0   669\n",
       "2443f606ab9461d23e39c4310c552daf          0     1\n",
       "24b659f5c4e3a41ac131ec9f31ef7eac          0   198\n",
       "25aef575c3c8796202d51c26668ef5fd          5    22\n",
       "2b2e1ae5a00d8888296e07d9a935d74b          0    65\n",
       "3dc8e019c0fca5d34d127083dd0dadec          0    71\n",
       "4b5a35f0d10aa153bd3d876a3e057b6e          0     1\n",
       "4dd5008f729abc3e1d57a4334a013892          0     8\n",
       "5e7732d5cc60c8b2b3bcb513a093baae          0   141\n",
       "5eadde2b43fd0d3f2e7e6f3936572d5e          0    15\n",
       "63058c733ece4ddf2171116ac39b3850          0     6\n",
       "67cc4694f7d2cb60df3abcbf83e60a6e          0     4\n",
       "6aa2d1c23beef78ac3c3aaab479e3dee          0   787\n",
       "82eb330fd6ea654a92aefd63284d8ece          0    74\n",
       "8b4ca7fbc6a918c8df8382fb27d4ea2e          0     6\n",
       "93afd69ac3a4922d90bcfb0e1ef36075          0     1\n",
       "981593d026c670a0d4af35b811119137         33   463\n",
       "aae1077ae5692de5c67700542d89f714          0    63\n",
       "ab5885f8d3877ee4cf561fc179ec312b          0     8\n",
       "b36bf7f59194c964f578861d29112639          0     6\n",
       "b89a0c92f0603961b5e1a09711dbd862          0     6\n",
       "b9f790c3d1ac237361d17f9c0d345add         22    38\n",
       "ba48f38ce5d7c7f1130fdab6c6c88a78          0     7\n",
       "d460b70aeaf5eba0f41c399934cc0904          0    14\n",
       "d84a9db82d5d005d43d337edc2b74c12          0    13\n",
       "f56878cef2b4e8c0a6f07ceb9d74071f          0    54"
      ]
     },
     "execution_count": 1355,
     "metadata": {},
     "output_type": "execute_result"
    }
   ],
   "source": [
    "pd.crosstab(data['account_id'], data['channel'])"
   ]
  },
  {
   "cell_type": "markdown",
   "metadata": {},
   "source": [
    "Один из гиперактивных id пользуется мобильным приложением"
   ]
  },
  {
   "cell_type": "markdown",
   "metadata": {},
   "source": [
    "Возвращаясь к дубликатам. Имеется 420 одинаковых строк Params, однако время сессий разное. Что это может быть? Нужно ли это учитывать или же это выбросы? Наверное, зависит от конкретной задачи, однако если их убрать, то распределение по account_id будет выглядеть следующим образом"
   ]
  },
  {
   "cell_type": "code",
   "execution_count": 1356,
   "metadata": {},
   "outputs": [],
   "source": [
    "data = data.drop_duplicates('id', keep = 'first')"
   ]
  },
  {
   "cell_type": "code",
   "execution_count": 1357,
   "metadata": {
    "scrolled": true
   },
   "outputs": [
    {
     "data": {
      "text/plain": [
       "0d7f144d5f63b8b6d12aa8730ebdcd38    778\n",
       "22d039994e86d6468bb8dbd4467c0b98    667\n",
       "981593d026c670a0d4af35b811119137    496\n",
       "6aa2d1c23beef78ac3c3aaab479e3dee    428\n",
       "24b659f5c4e3a41ac131ec9f31ef7eac    198\n",
       "82eb330fd6ea654a92aefd63284d8ece     74\n",
       "5e7732d5cc60c8b2b3bcb513a093baae     73\n",
       "3dc8e019c0fca5d34d127083dd0dadec     71\n",
       "2b2e1ae5a00d8888296e07d9a935d74b     65\n",
       "b9f790c3d1ac237361d17f9c0d345add     60\n",
       "aae1077ae5692de5c67700542d89f714     57\n",
       "f56878cef2b4e8c0a6f07ceb9d74071f     54\n",
       "25aef575c3c8796202d51c26668ef5fd     27\n",
       "5eadde2b43fd0d3f2e7e6f3936572d5e     15\n",
       "d460b70aeaf5eba0f41c399934cc0904     14\n",
       "d84a9db82d5d005d43d337edc2b74c12     13\n",
       "4dd5008f729abc3e1d57a4334a013892      8\n",
       "ab5885f8d3877ee4cf561fc179ec312b      8\n",
       "ba48f38ce5d7c7f1130fdab6c6c88a78      7\n",
       "b89a0c92f0603961b5e1a09711dbd862      6\n",
       "8b4ca7fbc6a918c8df8382fb27d4ea2e      6\n",
       "b36bf7f59194c964f578861d29112639      6\n",
       "63058c733ece4ddf2171116ac39b3850      6\n",
       "67cc4694f7d2cb60df3abcbf83e60a6e      4\n",
       "123641d47167dcc5792126d813b5530f      4\n",
       "10b36dfb820e966bc8c44efc05804f81      4\n",
       "13dd6713dcec5a44fb5fe5125dd3d9a0      1\n",
       "93afd69ac3a4922d90bcfb0e1ef36075      1\n",
       "2443f606ab9461d23e39c4310c552daf      1\n",
       "4b5a35f0d10aa153bd3d876a3e057b6e      1\n",
       "Name: account_id, dtype: int64"
      ]
     },
     "execution_count": 1357,
     "metadata": {},
     "output_type": "execute_result"
    }
   ],
   "source": [
    "data['account_id'].value_counts()"
   ]
  },
  {
   "cell_type": "markdown",
   "metadata": {},
   "source": [
    "Получается, что почти все эти дубликаты принадлежат 6aa2d1c23beef78ac3c3aaab479e3dee"
   ]
  }
 ],
 "metadata": {
  "kernelspec": {
   "display_name": "Python 3",
   "language": "python",
   "name": "python3"
  },
  "language_info": {
   "codemirror_mode": {
    "name": "ipython",
    "version": 3
   },
   "file_extension": ".py",
   "mimetype": "text/x-python",
   "name": "python",
   "nbconvert_exporter": "python",
   "pygments_lexer": "ipython3",
   "version": "3.7.3"
  }
 },
 "nbformat": 4,
 "nbformat_minor": 2
}
