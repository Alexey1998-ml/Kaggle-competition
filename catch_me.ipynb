{
  "nbformat": 4,
  "nbformat_minor": 0,
  "metadata": {
    "accelerator": "GPU",
    "colab": {
      "name": "catch_me.ipynb\"",
      "provenance": [],
      "collapsed_sections": [],
      "include_colab_link": true
    },
    "kernelspec": {
      "name": "python3",
      "display_name": "Python 3"
    },
    "language_info": {
      "codemirror_mode": {
        "name": "ipython",
        "version": 3
      },
      "file_extension": ".py",
      "mimetype": "text/x-python",
      "name": "python",
      "nbconvert_exporter": "python",
      "pygments_lexer": "ipython3",
      "version": "3.7.4"
    },
    "widgets": {
      "application/vnd.jupyter.widget-state+json": {
        "e2bb01934a31474398015b7171f0c72f": {
          "model_module": "@jupyter-widgets/controls",
          "model_name": "HBoxModel",
          "state": {
            "_view_name": "HBoxView",
            "_dom_classes": [],
            "_model_name": "HBoxModel",
            "_view_module": "@jupyter-widgets/controls",
            "_model_module_version": "1.5.0",
            "_view_count": null,
            "_view_module_version": "1.5.0",
            "box_style": "",
            "layout": "IPY_MODEL_9f9fe040e0ad436f8e5de18aa6e02fb1",
            "_model_module": "@jupyter-widgets/controls",
            "children": [
              "IPY_MODEL_13b7be0639b5412189733684d86ba46d",
              "IPY_MODEL_edd1c9723b604a8cacfac747952cc020"
            ]
          }
        },
        "9f9fe040e0ad436f8e5de18aa6e02fb1": {
          "model_module": "@jupyter-widgets/base",
          "model_name": "LayoutModel",
          "state": {
            "_view_name": "LayoutView",
            "grid_template_rows": null,
            "right": null,
            "justify_content": null,
            "_view_module": "@jupyter-widgets/base",
            "overflow": null,
            "_model_module_version": "1.2.0",
            "_view_count": null,
            "flex_flow": null,
            "width": null,
            "min_width": null,
            "border": null,
            "align_items": null,
            "bottom": null,
            "_model_module": "@jupyter-widgets/base",
            "top": null,
            "grid_column": null,
            "overflow_y": null,
            "overflow_x": null,
            "grid_auto_flow": null,
            "grid_area": null,
            "grid_template_columns": null,
            "flex": null,
            "_model_name": "LayoutModel",
            "justify_items": null,
            "grid_row": null,
            "max_height": null,
            "align_content": null,
            "visibility": null,
            "align_self": null,
            "height": null,
            "min_height": null,
            "padding": null,
            "grid_auto_rows": null,
            "grid_gap": null,
            "max_width": null,
            "order": null,
            "_view_module_version": "1.2.0",
            "grid_template_areas": null,
            "object_position": null,
            "object_fit": null,
            "grid_auto_columns": null,
            "margin": null,
            "display": null,
            "left": null
          }
        },
        "13b7be0639b5412189733684d86ba46d": {
          "model_module": "@jupyter-widgets/controls",
          "model_name": "FloatProgressModel",
          "state": {
            "_view_name": "ProgressView",
            "style": "IPY_MODEL_8f98cb009add4f9f81492f0e1100a8f8",
            "_dom_classes": [],
            "description": "",
            "_model_name": "FloatProgressModel",
            "bar_style": "success",
            "max": 1,
            "_view_module": "@jupyter-widgets/controls",
            "_model_module_version": "1.5.0",
            "value": 1,
            "_view_count": null,
            "_view_module_version": "1.5.0",
            "orientation": "horizontal",
            "min": 0,
            "description_tooltip": null,
            "_model_module": "@jupyter-widgets/controls",
            "layout": "IPY_MODEL_3076a563b5eb4815943dc7cc26c128e3"
          }
        },
        "edd1c9723b604a8cacfac747952cc020": {
          "model_module": "@jupyter-widgets/controls",
          "model_name": "HTMLModel",
          "state": {
            "_view_name": "HTMLView",
            "style": "IPY_MODEL_e6f8eb81a59246eb878aa5b235d973ed",
            "_dom_classes": [],
            "description": "",
            "_model_name": "HTMLModel",
            "placeholder": "​",
            "_view_module": "@jupyter-widgets/controls",
            "_model_module_version": "1.5.0",
            "value": " 94/? [01:20&lt;00:00,  1.17it/s]",
            "_view_count": null,
            "_view_module_version": "1.5.0",
            "description_tooltip": null,
            "_model_module": "@jupyter-widgets/controls",
            "layout": "IPY_MODEL_49da79c084d54659ab0c0f582da010ca"
          }
        },
        "8f98cb009add4f9f81492f0e1100a8f8": {
          "model_module": "@jupyter-widgets/controls",
          "model_name": "ProgressStyleModel",
          "state": {
            "_view_name": "StyleView",
            "_model_name": "ProgressStyleModel",
            "description_width": "initial",
            "_view_module": "@jupyter-widgets/base",
            "_model_module_version": "1.5.0",
            "_view_count": null,
            "_view_module_version": "1.2.0",
            "bar_color": null,
            "_model_module": "@jupyter-widgets/controls"
          }
        },
        "3076a563b5eb4815943dc7cc26c128e3": {
          "model_module": "@jupyter-widgets/base",
          "model_name": "LayoutModel",
          "state": {
            "_view_name": "LayoutView",
            "grid_template_rows": null,
            "right": null,
            "justify_content": null,
            "_view_module": "@jupyter-widgets/base",
            "overflow": null,
            "_model_module_version": "1.2.0",
            "_view_count": null,
            "flex_flow": null,
            "width": null,
            "min_width": null,
            "border": null,
            "align_items": null,
            "bottom": null,
            "_model_module": "@jupyter-widgets/base",
            "top": null,
            "grid_column": null,
            "overflow_y": null,
            "overflow_x": null,
            "grid_auto_flow": null,
            "grid_area": null,
            "grid_template_columns": null,
            "flex": null,
            "_model_name": "LayoutModel",
            "justify_items": null,
            "grid_row": null,
            "max_height": null,
            "align_content": null,
            "visibility": null,
            "align_self": null,
            "height": null,
            "min_height": null,
            "padding": null,
            "grid_auto_rows": null,
            "grid_gap": null,
            "max_width": null,
            "order": null,
            "_view_module_version": "1.2.0",
            "grid_template_areas": null,
            "object_position": null,
            "object_fit": null,
            "grid_auto_columns": null,
            "margin": null,
            "display": null,
            "left": null
          }
        },
        "e6f8eb81a59246eb878aa5b235d973ed": {
          "model_module": "@jupyter-widgets/controls",
          "model_name": "DescriptionStyleModel",
          "state": {
            "_view_name": "StyleView",
            "_model_name": "DescriptionStyleModel",
            "description_width": "",
            "_view_module": "@jupyter-widgets/base",
            "_model_module_version": "1.5.0",
            "_view_count": null,
            "_view_module_version": "1.2.0",
            "_model_module": "@jupyter-widgets/controls"
          }
        },
        "49da79c084d54659ab0c0f582da010ca": {
          "model_module": "@jupyter-widgets/base",
          "model_name": "LayoutModel",
          "state": {
            "_view_name": "LayoutView",
            "grid_template_rows": null,
            "right": null,
            "justify_content": null,
            "_view_module": "@jupyter-widgets/base",
            "overflow": null,
            "_model_module_version": "1.2.0",
            "_view_count": null,
            "flex_flow": null,
            "width": null,
            "min_width": null,
            "border": null,
            "align_items": null,
            "bottom": null,
            "_model_module": "@jupyter-widgets/base",
            "top": null,
            "grid_column": null,
            "overflow_y": null,
            "overflow_x": null,
            "grid_auto_flow": null,
            "grid_area": null,
            "grid_template_columns": null,
            "flex": null,
            "_model_name": "LayoutModel",
            "justify_items": null,
            "grid_row": null,
            "max_height": null,
            "align_content": null,
            "visibility": null,
            "align_self": null,
            "height": null,
            "min_height": null,
            "padding": null,
            "grid_auto_rows": null,
            "grid_gap": null,
            "max_width": null,
            "order": null,
            "_view_module_version": "1.2.0",
            "grid_template_areas": null,
            "object_position": null,
            "object_fit": null,
            "grid_auto_columns": null,
            "margin": null,
            "display": null,
            "left": null
          }
        },
        "5952c45852a84f23b4722144d9ec77e4": {
          "model_module": "@jupyter-widgets/controls",
          "model_name": "HBoxModel",
          "state": {
            "_view_name": "HBoxView",
            "_dom_classes": [],
            "_model_name": "HBoxModel",
            "_view_module": "@jupyter-widgets/controls",
            "_model_module_version": "1.5.0",
            "_view_count": null,
            "_view_module_version": "1.5.0",
            "box_style": "",
            "layout": "IPY_MODEL_f4e23bcbc718439ebea3eb88e1be2c33",
            "_model_module": "@jupyter-widgets/controls",
            "children": [
              "IPY_MODEL_89d8a9bbf1db4e0f81e501d4be2224d1",
              "IPY_MODEL_aa0635bb5dc846009b5da9fbbaf40270"
            ]
          }
        },
        "f4e23bcbc718439ebea3eb88e1be2c33": {
          "model_module": "@jupyter-widgets/base",
          "model_name": "LayoutModel",
          "state": {
            "_view_name": "LayoutView",
            "grid_template_rows": null,
            "right": null,
            "justify_content": null,
            "_view_module": "@jupyter-widgets/base",
            "overflow": null,
            "_model_module_version": "1.2.0",
            "_view_count": null,
            "flex_flow": null,
            "width": null,
            "min_width": null,
            "border": null,
            "align_items": null,
            "bottom": null,
            "_model_module": "@jupyter-widgets/base",
            "top": null,
            "grid_column": null,
            "overflow_y": null,
            "overflow_x": null,
            "grid_auto_flow": null,
            "grid_area": null,
            "grid_template_columns": null,
            "flex": null,
            "_model_name": "LayoutModel",
            "justify_items": null,
            "grid_row": null,
            "max_height": null,
            "align_content": null,
            "visibility": null,
            "align_self": null,
            "height": null,
            "min_height": null,
            "padding": null,
            "grid_auto_rows": null,
            "grid_gap": null,
            "max_width": null,
            "order": null,
            "_view_module_version": "1.2.0",
            "grid_template_areas": null,
            "object_position": null,
            "object_fit": null,
            "grid_auto_columns": null,
            "margin": null,
            "display": null,
            "left": null
          }
        },
        "89d8a9bbf1db4e0f81e501d4be2224d1": {
          "model_module": "@jupyter-widgets/controls",
          "model_name": "FloatProgressModel",
          "state": {
            "_view_name": "ProgressView",
            "style": "IPY_MODEL_220a3045c8464c228fb5ce469818bae8",
            "_dom_classes": [],
            "description": "",
            "_model_name": "FloatProgressModel",
            "bar_style": "success",
            "max": 1,
            "_view_module": "@jupyter-widgets/controls",
            "_model_module_version": "1.5.0",
            "value": 1,
            "_view_count": null,
            "_view_module_version": "1.5.0",
            "orientation": "horizontal",
            "min": 0,
            "description_tooltip": null,
            "_model_module": "@jupyter-widgets/controls",
            "layout": "IPY_MODEL_08fbcaea2a1343ad90a79be9798beeb9"
          }
        },
        "aa0635bb5dc846009b5da9fbbaf40270": {
          "model_module": "@jupyter-widgets/controls",
          "model_name": "HTMLModel",
          "state": {
            "_view_name": "HTMLView",
            "style": "IPY_MODEL_06cfdceb84124dc19405cc8db44faec9",
            "_dom_classes": [],
            "description": "",
            "_model_name": "HTMLModel",
            "placeholder": "​",
            "_view_module": "@jupyter-widgets/controls",
            "_model_module_version": "1.5.0",
            "value": " 94/? [01:16&lt;00:00,  1.24it/s]",
            "_view_count": null,
            "_view_module_version": "1.5.0",
            "description_tooltip": null,
            "_model_module": "@jupyter-widgets/controls",
            "layout": "IPY_MODEL_326131e1d8e74cc597b48c0f4e28b91c"
          }
        },
        "220a3045c8464c228fb5ce469818bae8": {
          "model_module": "@jupyter-widgets/controls",
          "model_name": "ProgressStyleModel",
          "state": {
            "_view_name": "StyleView",
            "_model_name": "ProgressStyleModel",
            "description_width": "initial",
            "_view_module": "@jupyter-widgets/base",
            "_model_module_version": "1.5.0",
            "_view_count": null,
            "_view_module_version": "1.2.0",
            "bar_color": null,
            "_model_module": "@jupyter-widgets/controls"
          }
        },
        "08fbcaea2a1343ad90a79be9798beeb9": {
          "model_module": "@jupyter-widgets/base",
          "model_name": "LayoutModel",
          "state": {
            "_view_name": "LayoutView",
            "grid_template_rows": null,
            "right": null,
            "justify_content": null,
            "_view_module": "@jupyter-widgets/base",
            "overflow": null,
            "_model_module_version": "1.2.0",
            "_view_count": null,
            "flex_flow": null,
            "width": null,
            "min_width": null,
            "border": null,
            "align_items": null,
            "bottom": null,
            "_model_module": "@jupyter-widgets/base",
            "top": null,
            "grid_column": null,
            "overflow_y": null,
            "overflow_x": null,
            "grid_auto_flow": null,
            "grid_area": null,
            "grid_template_columns": null,
            "flex": null,
            "_model_name": "LayoutModel",
            "justify_items": null,
            "grid_row": null,
            "max_height": null,
            "align_content": null,
            "visibility": null,
            "align_self": null,
            "height": null,
            "min_height": null,
            "padding": null,
            "grid_auto_rows": null,
            "grid_gap": null,
            "max_width": null,
            "order": null,
            "_view_module_version": "1.2.0",
            "grid_template_areas": null,
            "object_position": null,
            "object_fit": null,
            "grid_auto_columns": null,
            "margin": null,
            "display": null,
            "left": null
          }
        },
        "06cfdceb84124dc19405cc8db44faec9": {
          "model_module": "@jupyter-widgets/controls",
          "model_name": "DescriptionStyleModel",
          "state": {
            "_view_name": "StyleView",
            "_model_name": "DescriptionStyleModel",
            "description_width": "",
            "_view_module": "@jupyter-widgets/base",
            "_model_module_version": "1.5.0",
            "_view_count": null,
            "_view_module_version": "1.2.0",
            "_model_module": "@jupyter-widgets/controls"
          }
        },
        "326131e1d8e74cc597b48c0f4e28b91c": {
          "model_module": "@jupyter-widgets/base",
          "model_name": "LayoutModel",
          "state": {
            "_view_name": "LayoutView",
            "grid_template_rows": null,
            "right": null,
            "justify_content": null,
            "_view_module": "@jupyter-widgets/base",
            "overflow": null,
            "_model_module_version": "1.2.0",
            "_view_count": null,
            "flex_flow": null,
            "width": null,
            "min_width": null,
            "border": null,
            "align_items": null,
            "bottom": null,
            "_model_module": "@jupyter-widgets/base",
            "top": null,
            "grid_column": null,
            "overflow_y": null,
            "overflow_x": null,
            "grid_auto_flow": null,
            "grid_area": null,
            "grid_template_columns": null,
            "flex": null,
            "_model_name": "LayoutModel",
            "justify_items": null,
            "grid_row": null,
            "max_height": null,
            "align_content": null,
            "visibility": null,
            "align_self": null,
            "height": null,
            "min_height": null,
            "padding": null,
            "grid_auto_rows": null,
            "grid_gap": null,
            "max_width": null,
            "order": null,
            "_view_module_version": "1.2.0",
            "grid_template_areas": null,
            "object_position": null,
            "object_fit": null,
            "grid_auto_columns": null,
            "margin": null,
            "display": null,
            "left": null
          }
        },
        "e41bbef46f044647b162a37778b41826": {
          "model_module": "@jupyter-widgets/controls",
          "model_name": "HBoxModel",
          "state": {
            "_view_name": "HBoxView",
            "_dom_classes": [],
            "_model_name": "HBoxModel",
            "_view_module": "@jupyter-widgets/controls",
            "_model_module_version": "1.5.0",
            "_view_count": null,
            "_view_module_version": "1.5.0",
            "box_style": "",
            "layout": "IPY_MODEL_24eb112c7f1b4b7bbb881a3cb88c9cff",
            "_model_module": "@jupyter-widgets/controls",
            "children": [
              "IPY_MODEL_1a3404e7a9674bdea21a8a1fc36b25d3",
              "IPY_MODEL_5535c8c50b234b0ba53bfd7ea6810463"
            ]
          }
        },
        "24eb112c7f1b4b7bbb881a3cb88c9cff": {
          "model_module": "@jupyter-widgets/base",
          "model_name": "LayoutModel",
          "state": {
            "_view_name": "LayoutView",
            "grid_template_rows": null,
            "right": null,
            "justify_content": null,
            "_view_module": "@jupyter-widgets/base",
            "overflow": null,
            "_model_module_version": "1.2.0",
            "_view_count": null,
            "flex_flow": null,
            "width": null,
            "min_width": null,
            "border": null,
            "align_items": null,
            "bottom": null,
            "_model_module": "@jupyter-widgets/base",
            "top": null,
            "grid_column": null,
            "overflow_y": null,
            "overflow_x": null,
            "grid_auto_flow": null,
            "grid_area": null,
            "grid_template_columns": null,
            "flex": null,
            "_model_name": "LayoutModel",
            "justify_items": null,
            "grid_row": null,
            "max_height": null,
            "align_content": null,
            "visibility": null,
            "align_self": null,
            "height": null,
            "min_height": null,
            "padding": null,
            "grid_auto_rows": null,
            "grid_gap": null,
            "max_width": null,
            "order": null,
            "_view_module_version": "1.2.0",
            "grid_template_areas": null,
            "object_position": null,
            "object_fit": null,
            "grid_auto_columns": null,
            "margin": null,
            "display": null,
            "left": null
          }
        },
        "1a3404e7a9674bdea21a8a1fc36b25d3": {
          "model_module": "@jupyter-widgets/controls",
          "model_name": "FloatProgressModel",
          "state": {
            "_view_name": "ProgressView",
            "style": "IPY_MODEL_8c6addd92d1544c488430fd3a4c4c932",
            "_dom_classes": [],
            "description": "",
            "_model_name": "FloatProgressModel",
            "bar_style": "success",
            "max": 1,
            "_view_module": "@jupyter-widgets/controls",
            "_model_module_version": "1.5.0",
            "value": 1,
            "_view_count": null,
            "_view_module_version": "1.5.0",
            "orientation": "horizontal",
            "min": 0,
            "description_tooltip": null,
            "_model_module": "@jupyter-widgets/controls",
            "layout": "IPY_MODEL_76cbe6db9ee34d3abe9d99b5056b283b"
          }
        },
        "5535c8c50b234b0ba53bfd7ea6810463": {
          "model_module": "@jupyter-widgets/controls",
          "model_name": "HTMLModel",
          "state": {
            "_view_name": "HTMLView",
            "style": "IPY_MODEL_30e1b19ab92047f787b44ee1a086ac3f",
            "_dom_classes": [],
            "description": "",
            "_model_name": "HTMLModel",
            "placeholder": "​",
            "_view_module": "@jupyter-widgets/controls",
            "_model_module_version": "1.5.0",
            "value": " 94/? [01:14&lt;00:00,  1.27it/s]",
            "_view_count": null,
            "_view_module_version": "1.5.0",
            "description_tooltip": null,
            "_model_module": "@jupyter-widgets/controls",
            "layout": "IPY_MODEL_6db39d96142a41beb499adbb790568e9"
          }
        },
        "8c6addd92d1544c488430fd3a4c4c932": {
          "model_module": "@jupyter-widgets/controls",
          "model_name": "ProgressStyleModel",
          "state": {
            "_view_name": "StyleView",
            "_model_name": "ProgressStyleModel",
            "description_width": "initial",
            "_view_module": "@jupyter-widgets/base",
            "_model_module_version": "1.5.0",
            "_view_count": null,
            "_view_module_version": "1.2.0",
            "bar_color": null,
            "_model_module": "@jupyter-widgets/controls"
          }
        },
        "76cbe6db9ee34d3abe9d99b5056b283b": {
          "model_module": "@jupyter-widgets/base",
          "model_name": "LayoutModel",
          "state": {
            "_view_name": "LayoutView",
            "grid_template_rows": null,
            "right": null,
            "justify_content": null,
            "_view_module": "@jupyter-widgets/base",
            "overflow": null,
            "_model_module_version": "1.2.0",
            "_view_count": null,
            "flex_flow": null,
            "width": null,
            "min_width": null,
            "border": null,
            "align_items": null,
            "bottom": null,
            "_model_module": "@jupyter-widgets/base",
            "top": null,
            "grid_column": null,
            "overflow_y": null,
            "overflow_x": null,
            "grid_auto_flow": null,
            "grid_area": null,
            "grid_template_columns": null,
            "flex": null,
            "_model_name": "LayoutModel",
            "justify_items": null,
            "grid_row": null,
            "max_height": null,
            "align_content": null,
            "visibility": null,
            "align_self": null,
            "height": null,
            "min_height": null,
            "padding": null,
            "grid_auto_rows": null,
            "grid_gap": null,
            "max_width": null,
            "order": null,
            "_view_module_version": "1.2.0",
            "grid_template_areas": null,
            "object_position": null,
            "object_fit": null,
            "grid_auto_columns": null,
            "margin": null,
            "display": null,
            "left": null
          }
        },
        "30e1b19ab92047f787b44ee1a086ac3f": {
          "model_module": "@jupyter-widgets/controls",
          "model_name": "DescriptionStyleModel",
          "state": {
            "_view_name": "StyleView",
            "_model_name": "DescriptionStyleModel",
            "description_width": "",
            "_view_module": "@jupyter-widgets/base",
            "_model_module_version": "1.5.0",
            "_view_count": null,
            "_view_module_version": "1.2.0",
            "_model_module": "@jupyter-widgets/controls"
          }
        },
        "6db39d96142a41beb499adbb790568e9": {
          "model_module": "@jupyter-widgets/base",
          "model_name": "LayoutModel",
          "state": {
            "_view_name": "LayoutView",
            "grid_template_rows": null,
            "right": null,
            "justify_content": null,
            "_view_module": "@jupyter-widgets/base",
            "overflow": null,
            "_model_module_version": "1.2.0",
            "_view_count": null,
            "flex_flow": null,
            "width": null,
            "min_width": null,
            "border": null,
            "align_items": null,
            "bottom": null,
            "_model_module": "@jupyter-widgets/base",
            "top": null,
            "grid_column": null,
            "overflow_y": null,
            "overflow_x": null,
            "grid_auto_flow": null,
            "grid_area": null,
            "grid_template_columns": null,
            "flex": null,
            "_model_name": "LayoutModel",
            "justify_items": null,
            "grid_row": null,
            "max_height": null,
            "align_content": null,
            "visibility": null,
            "align_self": null,
            "height": null,
            "min_height": null,
            "padding": null,
            "grid_auto_rows": null,
            "grid_gap": null,
            "max_width": null,
            "order": null,
            "_view_module_version": "1.2.0",
            "grid_template_areas": null,
            "object_position": null,
            "object_fit": null,
            "grid_auto_columns": null,
            "margin": null,
            "display": null,
            "left": null
          }
        },
        "94c5241537d743c5b48681efda64c080": {
          "model_module": "@jupyter-widgets/controls",
          "model_name": "HBoxModel",
          "state": {
            "_view_name": "HBoxView",
            "_dom_classes": [],
            "_model_name": "HBoxModel",
            "_view_module": "@jupyter-widgets/controls",
            "_model_module_version": "1.5.0",
            "_view_count": null,
            "_view_module_version": "1.5.0",
            "box_style": "",
            "layout": "IPY_MODEL_35de96e405a94cb29e8bcd4fbaec5a05",
            "_model_module": "@jupyter-widgets/controls",
            "children": [
              "IPY_MODEL_e5397c8268214522a6b534fbe9af01ec",
              "IPY_MODEL_e4379773d4ea497d9a0f1f4e13663d32"
            ]
          }
        },
        "35de96e405a94cb29e8bcd4fbaec5a05": {
          "model_module": "@jupyter-widgets/base",
          "model_name": "LayoutModel",
          "state": {
            "_view_name": "LayoutView",
            "grid_template_rows": null,
            "right": null,
            "justify_content": null,
            "_view_module": "@jupyter-widgets/base",
            "overflow": null,
            "_model_module_version": "1.2.0",
            "_view_count": null,
            "flex_flow": null,
            "width": null,
            "min_width": null,
            "border": null,
            "align_items": null,
            "bottom": null,
            "_model_module": "@jupyter-widgets/base",
            "top": null,
            "grid_column": null,
            "overflow_y": null,
            "overflow_x": null,
            "grid_auto_flow": null,
            "grid_area": null,
            "grid_template_columns": null,
            "flex": null,
            "_model_name": "LayoutModel",
            "justify_items": null,
            "grid_row": null,
            "max_height": null,
            "align_content": null,
            "visibility": null,
            "align_self": null,
            "height": null,
            "min_height": null,
            "padding": null,
            "grid_auto_rows": null,
            "grid_gap": null,
            "max_width": null,
            "order": null,
            "_view_module_version": "1.2.0",
            "grid_template_areas": null,
            "object_position": null,
            "object_fit": null,
            "grid_auto_columns": null,
            "margin": null,
            "display": null,
            "left": null
          }
        },
        "e5397c8268214522a6b534fbe9af01ec": {
          "model_module": "@jupyter-widgets/controls",
          "model_name": "FloatProgressModel",
          "state": {
            "_view_name": "ProgressView",
            "style": "IPY_MODEL_cf4b7bfb1fc5428ca86d013ce482f2d9",
            "_dom_classes": [],
            "description": "",
            "_model_name": "FloatProgressModel",
            "bar_style": "success",
            "max": 1,
            "_view_module": "@jupyter-widgets/controls",
            "_model_module_version": "1.5.0",
            "value": 1,
            "_view_count": null,
            "_view_module_version": "1.5.0",
            "orientation": "horizontal",
            "min": 0,
            "description_tooltip": null,
            "_model_module": "@jupyter-widgets/controls",
            "layout": "IPY_MODEL_97010ae9cb124b8d8691a24922a137c5"
          }
        },
        "e4379773d4ea497d9a0f1f4e13663d32": {
          "model_module": "@jupyter-widgets/controls",
          "model_name": "HTMLModel",
          "state": {
            "_view_name": "HTMLView",
            "style": "IPY_MODEL_d11f4ed62c0448429e4cda6128662a86",
            "_dom_classes": [],
            "description": "",
            "_model_name": "HTMLModel",
            "placeholder": "​",
            "_view_module": "@jupyter-widgets/controls",
            "_model_module_version": "1.5.0",
            "value": " 94/? [01:26&lt;00:00,  1.09it/s]",
            "_view_count": null,
            "_view_module_version": "1.5.0",
            "description_tooltip": null,
            "_model_module": "@jupyter-widgets/controls",
            "layout": "IPY_MODEL_0b2ca58a7c0146b6a2e2465e121db60b"
          }
        },
        "cf4b7bfb1fc5428ca86d013ce482f2d9": {
          "model_module": "@jupyter-widgets/controls",
          "model_name": "ProgressStyleModel",
          "state": {
            "_view_name": "StyleView",
            "_model_name": "ProgressStyleModel",
            "description_width": "initial",
            "_view_module": "@jupyter-widgets/base",
            "_model_module_version": "1.5.0",
            "_view_count": null,
            "_view_module_version": "1.2.0",
            "bar_color": null,
            "_model_module": "@jupyter-widgets/controls"
          }
        },
        "97010ae9cb124b8d8691a24922a137c5": {
          "model_module": "@jupyter-widgets/base",
          "model_name": "LayoutModel",
          "state": {
            "_view_name": "LayoutView",
            "grid_template_rows": null,
            "right": null,
            "justify_content": null,
            "_view_module": "@jupyter-widgets/base",
            "overflow": null,
            "_model_module_version": "1.2.0",
            "_view_count": null,
            "flex_flow": null,
            "width": null,
            "min_width": null,
            "border": null,
            "align_items": null,
            "bottom": null,
            "_model_module": "@jupyter-widgets/base",
            "top": null,
            "grid_column": null,
            "overflow_y": null,
            "overflow_x": null,
            "grid_auto_flow": null,
            "grid_area": null,
            "grid_template_columns": null,
            "flex": null,
            "_model_name": "LayoutModel",
            "justify_items": null,
            "grid_row": null,
            "max_height": null,
            "align_content": null,
            "visibility": null,
            "align_self": null,
            "height": null,
            "min_height": null,
            "padding": null,
            "grid_auto_rows": null,
            "grid_gap": null,
            "max_width": null,
            "order": null,
            "_view_module_version": "1.2.0",
            "grid_template_areas": null,
            "object_position": null,
            "object_fit": null,
            "grid_auto_columns": null,
            "margin": null,
            "display": null,
            "left": null
          }
        },
        "d11f4ed62c0448429e4cda6128662a86": {
          "model_module": "@jupyter-widgets/controls",
          "model_name": "DescriptionStyleModel",
          "state": {
            "_view_name": "StyleView",
            "_model_name": "DescriptionStyleModel",
            "description_width": "",
            "_view_module": "@jupyter-widgets/base",
            "_model_module_version": "1.5.0",
            "_view_count": null,
            "_view_module_version": "1.2.0",
            "_model_module": "@jupyter-widgets/controls"
          }
        },
        "0b2ca58a7c0146b6a2e2465e121db60b": {
          "model_module": "@jupyter-widgets/base",
          "model_name": "LayoutModel",
          "state": {
            "_view_name": "LayoutView",
            "grid_template_rows": null,
            "right": null,
            "justify_content": null,
            "_view_module": "@jupyter-widgets/base",
            "overflow": null,
            "_model_module_version": "1.2.0",
            "_view_count": null,
            "flex_flow": null,
            "width": null,
            "min_width": null,
            "border": null,
            "align_items": null,
            "bottom": null,
            "_model_module": "@jupyter-widgets/base",
            "top": null,
            "grid_column": null,
            "overflow_y": null,
            "overflow_x": null,
            "grid_auto_flow": null,
            "grid_area": null,
            "grid_template_columns": null,
            "flex": null,
            "_model_name": "LayoutModel",
            "justify_items": null,
            "grid_row": null,
            "max_height": null,
            "align_content": null,
            "visibility": null,
            "align_self": null,
            "height": null,
            "min_height": null,
            "padding": null,
            "grid_auto_rows": null,
            "grid_gap": null,
            "max_width": null,
            "order": null,
            "_view_module_version": "1.2.0",
            "grid_template_areas": null,
            "object_position": null,
            "object_fit": null,
            "grid_auto_columns": null,
            "margin": null,
            "display": null,
            "left": null
          }
        },
        "8494a40f5b4c4781b339298683e1b322": {
          "model_module": "@jupyter-widgets/controls",
          "model_name": "HBoxModel",
          "state": {
            "_view_name": "HBoxView",
            "_dom_classes": [],
            "_model_name": "HBoxModel",
            "_view_module": "@jupyter-widgets/controls",
            "_model_module_version": "1.5.0",
            "_view_count": null,
            "_view_module_version": "1.5.0",
            "box_style": "",
            "layout": "IPY_MODEL_4f60a6900a4042419ab1a06c2e96f2a9",
            "_model_module": "@jupyter-widgets/controls",
            "children": [
              "IPY_MODEL_70f539a85ef249aeadb1e366b1e7ef23",
              "IPY_MODEL_fc6c08e07fd74298a4f5a693bf4053f2"
            ]
          }
        },
        "4f60a6900a4042419ab1a06c2e96f2a9": {
          "model_module": "@jupyter-widgets/base",
          "model_name": "LayoutModel",
          "state": {
            "_view_name": "LayoutView",
            "grid_template_rows": null,
            "right": null,
            "justify_content": null,
            "_view_module": "@jupyter-widgets/base",
            "overflow": null,
            "_model_module_version": "1.2.0",
            "_view_count": null,
            "flex_flow": null,
            "width": null,
            "min_width": null,
            "border": null,
            "align_items": null,
            "bottom": null,
            "_model_module": "@jupyter-widgets/base",
            "top": null,
            "grid_column": null,
            "overflow_y": null,
            "overflow_x": null,
            "grid_auto_flow": null,
            "grid_area": null,
            "grid_template_columns": null,
            "flex": null,
            "_model_name": "LayoutModel",
            "justify_items": null,
            "grid_row": null,
            "max_height": null,
            "align_content": null,
            "visibility": null,
            "align_self": null,
            "height": null,
            "min_height": null,
            "padding": null,
            "grid_auto_rows": null,
            "grid_gap": null,
            "max_width": null,
            "order": null,
            "_view_module_version": "1.2.0",
            "grid_template_areas": null,
            "object_position": null,
            "object_fit": null,
            "grid_auto_columns": null,
            "margin": null,
            "display": null,
            "left": null
          }
        },
        "70f539a85ef249aeadb1e366b1e7ef23": {
          "model_module": "@jupyter-widgets/controls",
          "model_name": "FloatProgressModel",
          "state": {
            "_view_name": "ProgressView",
            "style": "IPY_MODEL_9a3812a4edea4cc3b497f6665e3f8214",
            "_dom_classes": [],
            "description": "",
            "_model_name": "FloatProgressModel",
            "bar_style": "success",
            "max": 1,
            "_view_module": "@jupyter-widgets/controls",
            "_model_module_version": "1.5.0",
            "value": 1,
            "_view_count": null,
            "_view_module_version": "1.5.0",
            "orientation": "horizontal",
            "min": 0,
            "description_tooltip": null,
            "_model_module": "@jupyter-widgets/controls",
            "layout": "IPY_MODEL_bb17d47af17b473996e9f3d1b7a5d9a6"
          }
        },
        "fc6c08e07fd74298a4f5a693bf4053f2": {
          "model_module": "@jupyter-widgets/controls",
          "model_name": "HTMLModel",
          "state": {
            "_view_name": "HTMLView",
            "style": "IPY_MODEL_41ba1bd4e3ab4bc79ee7c4e8536e60a5",
            "_dom_classes": [],
            "description": "",
            "_model_name": "HTMLModel",
            "placeholder": "​",
            "_view_module": "@jupyter-widgets/controls",
            "_model_module_version": "1.5.0",
            "value": " 94/? [01:06&lt;00:00,  1.42it/s]",
            "_view_count": null,
            "_view_module_version": "1.5.0",
            "description_tooltip": null,
            "_model_module": "@jupyter-widgets/controls",
            "layout": "IPY_MODEL_6dc98093263d4f3ba7955e5b1aaa978c"
          }
        },
        "9a3812a4edea4cc3b497f6665e3f8214": {
          "model_module": "@jupyter-widgets/controls",
          "model_name": "ProgressStyleModel",
          "state": {
            "_view_name": "StyleView",
            "_model_name": "ProgressStyleModel",
            "description_width": "initial",
            "_view_module": "@jupyter-widgets/base",
            "_model_module_version": "1.5.0",
            "_view_count": null,
            "_view_module_version": "1.2.0",
            "bar_color": null,
            "_model_module": "@jupyter-widgets/controls"
          }
        },
        "bb17d47af17b473996e9f3d1b7a5d9a6": {
          "model_module": "@jupyter-widgets/base",
          "model_name": "LayoutModel",
          "state": {
            "_view_name": "LayoutView",
            "grid_template_rows": null,
            "right": null,
            "justify_content": null,
            "_view_module": "@jupyter-widgets/base",
            "overflow": null,
            "_model_module_version": "1.2.0",
            "_view_count": null,
            "flex_flow": null,
            "width": null,
            "min_width": null,
            "border": null,
            "align_items": null,
            "bottom": null,
            "_model_module": "@jupyter-widgets/base",
            "top": null,
            "grid_column": null,
            "overflow_y": null,
            "overflow_x": null,
            "grid_auto_flow": null,
            "grid_area": null,
            "grid_template_columns": null,
            "flex": null,
            "_model_name": "LayoutModel",
            "justify_items": null,
            "grid_row": null,
            "max_height": null,
            "align_content": null,
            "visibility": null,
            "align_self": null,
            "height": null,
            "min_height": null,
            "padding": null,
            "grid_auto_rows": null,
            "grid_gap": null,
            "max_width": null,
            "order": null,
            "_view_module_version": "1.2.0",
            "grid_template_areas": null,
            "object_position": null,
            "object_fit": null,
            "grid_auto_columns": null,
            "margin": null,
            "display": null,
            "left": null
          }
        },
        "41ba1bd4e3ab4bc79ee7c4e8536e60a5": {
          "model_module": "@jupyter-widgets/controls",
          "model_name": "DescriptionStyleModel",
          "state": {
            "_view_name": "StyleView",
            "_model_name": "DescriptionStyleModel",
            "description_width": "",
            "_view_module": "@jupyter-widgets/base",
            "_model_module_version": "1.5.0",
            "_view_count": null,
            "_view_module_version": "1.2.0",
            "_model_module": "@jupyter-widgets/controls"
          }
        },
        "6dc98093263d4f3ba7955e5b1aaa978c": {
          "model_module": "@jupyter-widgets/base",
          "model_name": "LayoutModel",
          "state": {
            "_view_name": "LayoutView",
            "grid_template_rows": null,
            "right": null,
            "justify_content": null,
            "_view_module": "@jupyter-widgets/base",
            "overflow": null,
            "_model_module_version": "1.2.0",
            "_view_count": null,
            "flex_flow": null,
            "width": null,
            "min_width": null,
            "border": null,
            "align_items": null,
            "bottom": null,
            "_model_module": "@jupyter-widgets/base",
            "top": null,
            "grid_column": null,
            "overflow_y": null,
            "overflow_x": null,
            "grid_auto_flow": null,
            "grid_area": null,
            "grid_template_columns": null,
            "flex": null,
            "_model_name": "LayoutModel",
            "justify_items": null,
            "grid_row": null,
            "max_height": null,
            "align_content": null,
            "visibility": null,
            "align_self": null,
            "height": null,
            "min_height": null,
            "padding": null,
            "grid_auto_rows": null,
            "grid_gap": null,
            "max_width": null,
            "order": null,
            "_view_module_version": "1.2.0",
            "grid_template_areas": null,
            "object_position": null,
            "object_fit": null,
            "grid_auto_columns": null,
            "margin": null,
            "display": null,
            "left": null
          }
        }
      }
    }
  },
  "cells": [
    {
      "cell_type": "markdown",
      "metadata": {
        "id": "view-in-github",
        "colab_type": "text"
      },
      "source": [
        "<a href=\"https://colab.research.google.com/github/Alexey1998-ml/example/blob/master/catch_me.ipynb\" target=\"_parent\"><img src=\"https://colab.research.google.com/assets/colab-badge.svg\" alt=\"Open In Colab\"/></a>"
      ]
    },
    {
      "cell_type": "code",
      "metadata": {
        "colab_type": "code",
        "id": "APqRITJb9qDF",
        "colab": {
          "base_uri": "https://localhost:8080/",
          "height": 33
        },
        "outputId": "e300a435-9fc0-42d0-b95f-ce38ef68b5fe"
      },
      "source": [
        "from google.colab import drive\n",
        "drive.mount('/content/drive', force_remount=True)\n",
        "import os"
      ],
      "execution_count": null,
      "outputs": [
        {
          "output_type": "stream",
          "text": [
            "Mounted at /content/drive\n"
          ],
          "name": "stdout"
        }
      ]
    },
    {
      "cell_type": "markdown",
      "metadata": {
        "id": "Zi_1O1XnrAww",
        "colab_type": "text"
      },
      "source": [
        "Описание задания - https://www.kaggle.com/c/catch-me-if-you-can-intruder-detection-through-webpage-session-tracking2/overview"
      ]
    },
    {
      "cell_type": "code",
      "metadata": {
        "colab_type": "code",
        "id": "8HXtJ78p4Jka",
        "colab": {}
      },
      "source": [
        "import numpy as np\n",
        "import pandas as pd\n",
        "from tqdm import tqdm_notebook\n",
        "from sklearn.preprocessing import StandardScaler, MinMaxScaler, MaxAbsScaler \n",
        "from sklearn.metrics import roc_auc_score\n",
        "from sklearn.model_selection import train_test_split, cross_val_score,\\\n",
        "learning_curve, TimeSeriesSplit, GridSearchCV\n",
        "%matplotlib inline\n",
        "from matplotlib import pyplot as plt\n",
        "from sklearn.metrics import roc_auc_score\n",
        "import warnings\n",
        "warnings.filterwarnings('ignore')\n",
        "from collections import Counter\n",
        "import torch\n",
        "import torch.nn as nn\n",
        "from IPython.display import clear_output\n",
        "import re\n",
        "import pickle\n",
        "from gensim.models import FastText\n",
        "from gensim.test.utils import get_tmpfile\n",
        "from sklearn.manifold import TSNE\n",
        "from sklearn.cluster import KMeans, DBSCAN\n",
        "from sklearn.feature_extraction.text import TfidfVectorizer\n",
        "from sklearn.linear_model import LogisticRegression\n",
        "from scipy.sparse import hstack\n",
        "from datetime import datetime\n",
        "import copy\n",
        "from functools import lru_cache\n",
        "import random"
      ],
      "execution_count": null,
      "outputs": []
    },
    {
      "cell_type": "code",
      "metadata": {
        "colab_type": "code",
        "id": "fixb8ixl5k00",
        "colab": {}
      },
      "source": [
        "colab = True\n",
        "if colab:\n",
        "    PATH_TO_TRAIN = 'drive/My Drive/catch_me_test_sessions.csv'\n",
        "    PATH_TO_TEST = 'drive/My Drive/catch_me_train_sessions.csv'\n",
        "    PATH_TO_PICKLE = 'drive/My Drive/site_dic.pkl'\n",
        "    PATH_TO_TF_IDF = 'drive/My Drive/tf_idf_embeddings.csv'\n",
        "else:\n",
        "    PATH_TO_TRAIN = 'catch_me_test_sessions.csv'\n",
        "    PATH_TO_TEST = 'catch_me_train_sessions.csv'\n",
        "    PATH_TO_PICKLE = '../site_dic.pkl'\n",
        "PREDICT_FILENAME = 'catch_me_preds.csv'\n",
        "test = pd.read_csv(PATH_TO_TRAIN)\n",
        "data = pd.read_csv(PATH_TO_TEST)\n",
        "times = ['time%s' % i for i in range(1, 11)]\n",
        "sites = ['site%s' % i for i in range(1, 11)]\n",
        "data = data.drop_duplicates(subset = sites)\n",
        "data = data.reset_index().drop(['session_id', 'index'], axis = 1)\n",
        "data['index'] = [i for i in data.index]"
      ],
      "execution_count": null,
      "outputs": []
    },
    {
      "cell_type": "code",
      "metadata": {
        "id": "UlXOXSQ_P4I-",
        "colab_type": "code",
        "colab": {}
      },
      "source": [
        "with open(PATH_TO_PICKLE, 'rb') as f:\n",
        "    sites_dict = pickle.load(f)"
      ],
      "execution_count": null,
      "outputs": []
    },
    {
      "cell_type": "code",
      "metadata": {
        "id": "Nb9-tk5yP4JC",
        "colab_type": "code",
        "colab": {}
      },
      "source": [
        "sites_dict['padding'] = 0\n",
        "id_sites_dict = {sites_dict[site_name]:site_name for site_name in sites_dict}\n",
        "\n",
        "after_dot = Counter()\n",
        "for site_name in sites_dict:\n",
        "    after_dot.update({site_name.split('.')[-1]})\n",
        "\n",
        "after_dot = set(dict(after_dot.most_common(35)).keys())"
      ],
      "execution_count": null,
      "outputs": []
    },
    {
      "cell_type": "code",
      "metadata": {
        "id": "mq7KJkjIP4JG",
        "colab_type": "code",
        "colab": {}
      },
      "source": [
        "corrected_site_name = []\n",
        "for id_site in id_sites_dict:\n",
        "    array_site_name = id_sites_dict[id_site].split('.')\n",
        "    if array_site_name[0] == 'www':\n",
        "        del array_site_name[0]\n",
        "    if array_site_name[-1] in after_dot:\n",
        "        del array_site_name[-1]\n",
        "    id_sites_dict[id_site] = '.'.join(array_site_name)"
      ],
      "execution_count": null,
      "outputs": []
    },
    {
      "cell_type": "code",
      "metadata": {
        "id": "Ecyeyj4YP4JK",
        "colab_type": "code",
        "colab": {}
      },
      "source": [
        "data.fillna(0, inplace = True)\n",
        "test.fillna(0, inplace = True)\n",
        "data[sites] = data[sites].applymap(lambda id: id_sites_dict[id])\n",
        "test[sites] = test[sites].applymap(lambda id: id_sites_dict[id])"
      ],
      "execution_count": null,
      "outputs": []
    },
    {
      "cell_type": "code",
      "metadata": {
        "id": "G_vR2LobV7x8",
        "colab_type": "code",
        "colab": {}
      },
      "source": [
        "model_ft = FastText.load('drive/My Drive/ft_model.model')\n",
        "clustering_model = None"
      ],
      "execution_count": null,
      "outputs": []
    },
    {
      "cell_type": "code",
      "metadata": {
        "colab_type": "code",
        "id": "fIk-VMGt6GyX",
        "colab": {}
      },
      "source": [
        "class Prepare:\n",
        "    def __init__(self, train, test, target_column : str = 'target', model_ft = model_ft, **kwargs):\n",
        "        self.train = train\n",
        "        self.test = test\n",
        "        self.target_column = target_column\n",
        "        self.target = train[target_column]\n",
        "        self.unknown_idx = -1\n",
        "        self.pad_idx = 0\n",
        "        self.model_ft = model_ft\n",
        "        self.embedding_dim = 128\n",
        "        self.mean_embedding_columns = None\n",
        "        self.clustering_mean = True\n",
        "        self.clustering_tf_idf = False\n",
        "\n",
        "\n",
        "    def _get_vector(self, x):\n",
        "       return self.model_ft[x]\n",
        "\n",
        "\n",
        "    def prepare_df (self):\n",
        "        train = self.train\n",
        "        test = self.test\n",
        "        train[times] = train[times].apply(pd.to_datetime)\n",
        "        test[times] = test[times].apply(pd.to_datetime)\n",
        "        train = train.sort_values('time1')\n",
        "        train = self._create_cat_features(train)\n",
        "        test = self._create_cat_features(test)\n",
        "        if self.clustering_mean:\n",
        "          self.train = self._add_mean_embedding_columns(train)\n",
        "          self.test = self._add_mean_embedding_columns(test)\n",
        "\n",
        "\n",
        "    def _create_cat_features(self, df):\n",
        "        cat = 'cat_'\n",
        "        df[f'{cat}hour'] = df['time1'].apply(lambda time: time.hour)\n",
        "        df[f'{cat}morning'] = ((df[f'{cat}hour'] >= 7) & (df[f'{cat}hour'] <= 11)).astype('int')\n",
        "        df[f'{cat}day'] = ((df[f'{cat}hour'] >= 12) & (df[f'{cat}hour'] <= 18)).astype('int')\n",
        "        df[f'{cat}evening'] = ((df[f'{cat}hour'] >= 19) & (df[f'{cat}hour'] <= 23)).astype('int')\n",
        "        df[f'{cat}day_of_week'] = df['time1'].apply(lambda t: t.weekday()).astype('int')\n",
        "        df[f'{cat}weekend'] = df[f'{cat}day_of_week'].isin([5,6]).astype('int')\n",
        "        cat_columns = list(filter(lambda col: col[:4] == 'cat_', df.columns))\n",
        "        for cat_column in cat_columns:\n",
        "          df = pd.concat([df, pd.get_dummies(df[cat_column], prefix = cat_column)], axis = 1)\n",
        "          df.drop([cat_column], axis = 1, inplace = True)\n",
        "        self.cat_columns = list(filter(lambda col: col[:4] == 'cat_', df.columns))\n",
        "        return df\n",
        "\n",
        "\n",
        "    def _add_mean_embedding_columns(self, df):\n",
        "        if self.mean_embedding_columns is None:\n",
        "          self.mean_embedding_columns = [f'mean_embeding_{idx}' for idx in range(self.embedding_dim)]\n",
        "        mean_embeddings_df = np.array(list(map(self._get_vector,df[sites].values))).mean(axis = 1)\n",
        "        for idx, col in enumerate(self.mean_embedding_columns):\n",
        "          df[col] = mean_embeddings_df[:, idx]\n",
        "        return df\n",
        "\n"
      ],
      "execution_count": null,
      "outputs": []
    },
    {
      "cell_type": "code",
      "metadata": {
        "id": "LVqX1ff4arjH",
        "colab_type": "code",
        "colab": {}
      },
      "source": [
        "class Clastering:\n",
        "\n",
        "  def __init__(self, preparer, clustering_model = clustering_model):\n",
        "    self.train = preparer.train\n",
        "    self.test = preparer.test\n",
        "    self.clustering_mean = preparer.clustering_mean\n",
        "    self.clustering_tf_idf = preparer.clustering_tf_idf\n",
        "    self.clustering_model = clustering_model\n",
        "    self.target = preparer.target\n",
        "    self.test_size = 0.15\n",
        "    self.mean_embedding_columns = preparer.mean_embedding_columns\n",
        "    self.cat_columns = preparer.cat_columns\n",
        "    self.range_clustering = range(5, 10, 5)\n",
        "    self.seed = 42\n",
        "\n",
        "\n",
        "  def add_clustering_columns(self):\n",
        "    if self.clustering_mean:\n",
        "      mode = 'mean'\n",
        "      columns_for_clustering = self.mean_embedding_columns + self.cat_columns\n",
        "      df = pd.concat([self.train[columns_for_clustering],\n",
        "                    self.test[columns_for_clustering]], axis = 0).reset_index()[columns_for_clustering]\n",
        "      if self.clustering_model is None:\n",
        "        self._make_clustering_model(df, columns_for_clustering, mode, KMeans)\n",
        "      df = self._add_clustering_features(df, columns_for_clustering, mode)\n",
        "      cluster_columns = list(filter(lambda col: col[:4] == 'clus', df.columns))\n",
        "      self.train[cluster_columns] = df.loc[:self.train.shape[0]][cluster_columns]\n",
        "      self.test[cluster_columns] = df.loc[self.train.shape[0]:].reset_index()[cluster_columns]\n",
        "\n",
        "    if self.clustering_tf_idf:\n",
        "      self.tf_idf_embedding = list(filter(lambda col: col[:6] == 'tf_idf', self.train.columns))\n",
        "      columns_for_clustering = self.tf_idf_embedding + self.cat_columns\n",
        "      df = pd.concat([self.train[columns_for_clustering],\n",
        "                    self.test[columns_for_clustering]], axis = 0).reset_index()[columns_for_clustering]\n",
        "      mode = 'tfidf'\n",
        "      if self.clustering_model is None:\n",
        "        self._make_clustering_model(df, mode, KMeans)\n",
        "      df = self._add_clustering_features(df, columns_for_clustering, mode)\n",
        "      cluster_columns = list(filter(lambda col: col[:4] == 'clus', df.columns))\n",
        "      self.train[cluster_columns] = df.loc[:self.train.shape[0]][cluster_columns]\n",
        "      self.test[cluster_columns] = df.loc[self.train.shape[0]:].reset_index()[cluster_columns]\n",
        "\n",
        "    self.train_df, self.valid_df, train_target, valid_target = train_test_split(self.train, self.target, random_state = self.seed,\n",
        "                                                                shuffle = False, test_size = self.test_size)\n",
        "    self.clustering_columns = list(filter(lambda col: col[:4] == 'clus', self.train.columns))\n",
        "\n",
        "    return self.clustering_model\n",
        "\n",
        "\n",
        "  def _make_clustering_model(self, df, columns_for_clustering, mode, cur_clustering_model):\n",
        "    if self.clustering_model is None:\n",
        "      self.clustering_model = {}\n",
        "    for idx, num_clusters in enumerate(self.range_clustering):\n",
        "      print(f'number clusters: {num_clusters}')\n",
        "      start_time = datetime.now()\n",
        "      self.clustering_model[f'{mode}_{idx}'] = cur_clustering_model(n_clusters = num_clusters, \n",
        "                                                      random_state = self.seed).fit(df[columns_for_clustering])\n",
        "      print(f'time: {datetime.now() - start_time}')\n",
        "\n",
        "\n",
        "  def _add_clustering_features(self, df, columns_for_clustering,  mode):\n",
        "    for key in list(filter(lambda mode_model: mode_model.split('_')[0] == mode, self.clustering_model.keys())):\n",
        "      idx = key.split('_')[-1]\n",
        "      model = self.clustering_model[key]\n",
        "      df[f'clustering_{mode}_{idx}'] = model.predict(df[columns_for_clustering])\n",
        "      df_dummies = pd.get_dummies(df[f'clustering_{mode}_{idx}'], prefix = f'clustering_{mode}_{idx}')\n",
        "      for col in df_dummies.columns:\n",
        "        df[col] = df_dummies[col]\n",
        "      df.drop(f'clustering_{mode}_{idx}', axis = 1, inplace = True)\n",
        "    return df"
      ],
      "execution_count": null,
      "outputs": []
    },
    {
      "cell_type": "code",
      "metadata": {
        "id": "6VEArG5sEaYv",
        "colab_type": "code",
        "colab": {}
      },
      "source": [
        "class SimpleClassifier:\n",
        "\n",
        "  def __init__(self, preparer, clustering = None):\n",
        "    self.train = preparer.train\n",
        "    self.train_df = clustering.train_df\n",
        "    self.target_column = preparer.target_column\n",
        "    self.cat_columns = preparer.cat_columns\n",
        "    if clustering is not None:\n",
        "      self.clustering_columns = clustering.clustering_columns\n",
        "    else:\n",
        "      self.clustering_columns = []\n",
        "    self.train_columns = self.cat_columns\n",
        "    self._get_tf_idf_vectorizer(self.train)\n",
        "    self.sparse_matrix = self._get_sparse_tf_idf_matrix(self.train_df[sites])\n",
        "    self.param_c = 3.7\n",
        "\n",
        "\n",
        "\n",
        "  def get_model (self, param_c = None):\n",
        "    if param_c is not None:\n",
        "      self.param_c = param_c\n",
        "    matrix_for_train = hstack([self.sparse_matrix, self.train_df[self.train_columns].values])\n",
        "    linear_model = LogisticRegression(C = self.param_c).fit(matrix_for_train, self.train_df[self.target_column])\n",
        "    self.linear_model = linear_model\n",
        "\n",
        "\n",
        "  def find_best_params(self, space = None):\n",
        "    if space is None:\n",
        "     params = {'C' : np.linspace(3, 5, 10)}\n",
        "    else:\n",
        "      params = {'C' : space}\n",
        "    logit = LogisticRegression(random_state = 42)\n",
        "    best_c = GridSearchCV(logit, params, cv = TimeSeriesSplit(n_splits = 3), n_jobs=-1, scoring='roc_auc')\n",
        "    best_c.fit(hstack([self.sparse_matrix, self.train_df[self.train_columns].values]),\n",
        "               self.train_df['target'])\n",
        "    self.param_c = best_c.best_params_['C']\n",
        "    print(f'Best score: {best_c.best_score_}')\n",
        "    print(f'Best C: {self.param_c}')\n",
        "\n",
        "\n",
        "  def _get_corpus_for_tf_idf (self, df):\n",
        "    return list(map(';#'.join, df[sites].values))\n",
        "\n",
        "\n",
        "  def _get_tf_idf_vectorizer (self, df):\n",
        "    corpus = self._get_corpus_for_tf_idf(df)\n",
        "    vectorizer = TfidfVectorizer(tokenizer = lambda s: s.split(';#'),\n",
        "                            analyzer = 'word',\n",
        "                            ngram_range = (1,5),\n",
        "                            max_features = 50000)\n",
        "    vectorizer.fit(corpus)\n",
        "    self.vectorizer = vectorizer\n",
        "\n",
        "\n",
        "  def _get_sparse_tf_idf_matrix (self, df, model = None):\n",
        "    if model == None:\n",
        "      model = self.vectorizer\n",
        "    corpus = self._get_corpus_for_tf_idf(df)\n",
        "    return model.transform(corpus)\n"
      ],
      "execution_count": null,
      "outputs": []
    },
    {
      "cell_type": "code",
      "metadata": {
        "colab_type": "code",
        "id": "7syXo7AsyFpM",
        "colab": {}
      },
      "source": [
        "class TrainNN:\n",
        "    \n",
        "    def __init__(self, preparer, clustering, simple_classifier):\n",
        "      self._get_vector = preparer._get_vector\n",
        "      self.target_column = preparer.target_column\n",
        "      self.cat_columns = preparer.cat_columns\n",
        "      self.clustering_columns = clustering.clustering_columns\n",
        "      self.linear_model = simple_classifier.linear_model\n",
        "      self._get_sparse_tf_idf_matrix = simple_classifier._get_sparse_tf_idf_matrix\n",
        "      self.train_df = clustering.train_df\n",
        "      self.valid_df = clustering.valid_df\n",
        "      self.train_columns = simple_classifier.train_columns\n",
        "      self.batch_size = 2048\n",
        "      self.dropout = 0.5\n",
        "      self.number_sites = 40000\n",
        "      self.test = preparer.test\n",
        "\n",
        "\n",
        "\n",
        "    def make_batch (self, df, dropout = 0, predict = False, **kwargs):\n",
        "            \n",
        "        batch = {}\n",
        "        major_matrix = np.array(list(map(self._get_vector,df[sites].values)))\n",
        "        batch['sites'] = major_matrix\n",
        "        if not predict:\n",
        "            batch[self.target_column] = df[self.target_column].values\n",
        "        batch['cat'] = df[self.cat_columns].values\n",
        "        batch['cluster'] = df[self.clustering_columns].values\n",
        "        batch['linear'] = self.linear_model.predict_proba(hstack([self._get_sparse_tf_idf_matrix(df),\n",
        "                                                                  df[self.train_columns].values]))[:,1]\n",
        "\n",
        "        return batch\n",
        "\n",
        "    def _apply_word_dropout (self, matrix, keep_prop, replace_with = -1, pad_ix = 0):\n",
        "        dropout_mask = np.random.choice(2, matrix.shape, p = [1 - keep_prop, keep_prop])\n",
        "        dropout_mask &= matrix !=  pad_ix\n",
        "        return np.choose (dropout_mask, [matrix, np.full_like(matrix, replace_with)])\n",
        "    \n",
        "    def iterable_minibatches (self, data = None, shuffle = True, **kwargs):\n",
        "        if data is None:\n",
        "          data = self.train_df\n",
        "        indecses = np.arange(len(data))\n",
        "        if shuffle:\n",
        "            indecses = np.random.permutation(indecses)\n",
        "        for start in range(0, len(indecses), self.batch_size):\n",
        "            batch = self.make_batch(data.iloc[indecses[start : start + self.batch_size]], **kwargs)\n",
        "            target = batch.pop(self.target_column)\n",
        "            yield batch, target\n",
        "    \n",
        "\n",
        "    def make_batch_for_valuate(self):\n",
        "      self.train_df_for_roc = self.train_df.sample(int(self.train_df.shape[0] * 0.3))\n",
        "      self.train_batch = self.make_batch(self.train_df_for_roc)\n",
        "      self.valid_batch = self.make_batch(self.valid_df)\n",
        "\n",
        "\n",
        "    def roc_auc (self, model, target = 'target', train = True):\n",
        "      if train is True:\n",
        "        batch =  self.train_batch\n",
        "        data = self.train_df_for_roc\n",
        "      else:\n",
        "        batch = self.valid_batch\n",
        "        data = self.valid_df\n",
        "      model.eval()\n",
        "      roc_auc = roc_auc_score(data[target],\n",
        "                              model(*self._make_tensor_for_model(batch)).cpu().data.numpy())\n",
        "      return roc_auc\n",
        "\n",
        "\n",
        "    def _make_tensor_for_model(self, batch):\n",
        "      return (torch.tensor(batch['sites']).float().cuda(), \n",
        "              torch.tensor(batch['cat']).float().cuda(),\n",
        "              torch.tensor(batch['cluster']).float().cuda(),\n",
        "              torch.tensor(batch['linear']).float().cuda())\n",
        "\n",
        "\n",
        "    def make_predictions_file (self, model):\n",
        "        model.eval()\n",
        "        batch = self.make_batch(self.test, predict = True)\n",
        "        predictions = model(*self._make_tensor_for_model(batch)).cpu().data.numpy()\n",
        "        series_preds = pd.Series(predictions[:,0], index = range (1,predictions[:,0].shape[0] + 1),\n",
        "                  name = 'target')\n",
        "        series_preds.to_csv(f'drive/My Drive/{PREDICT_FILENAME}', header = True, index_label = 'session_id')"
      ],
      "execution_count": null,
      "outputs": []
    },
    {
      "cell_type": "code",
      "metadata": {
        "id": "9pr7XCPxbjMH",
        "colab_type": "code",
        "colab": {}
      },
      "source": [
        "preparer = Prepare(data, test)"
      ],
      "execution_count": null,
      "outputs": []
    },
    {
      "cell_type": "code",
      "metadata": {
        "id": "sXuOwCSDbu4k",
        "colab_type": "code",
        "colab": {}
      },
      "source": [
        "preparer.prepare_df()"
      ],
      "execution_count": null,
      "outputs": []
    },
    {
      "cell_type": "code",
      "metadata": {
        "id": "lpGGCvJrFxU4",
        "colab_type": "code",
        "colab": {}
      },
      "source": [
        "clustering = Clastering(preparer)"
      ],
      "execution_count": null,
      "outputs": []
    },
    {
      "cell_type": "code",
      "metadata": {
        "id": "afXj-SPlJ1RV",
        "colab_type": "code",
        "colab": {
          "base_uri": "https://localhost:8080/",
          "height": 50
        },
        "outputId": "3aee4f80-ca90-49bf-a491-cdec6017c793"
      },
      "source": [
        "clustering_model = clustering.add_clustering_columns()"
      ],
      "execution_count": null,
      "outputs": [
        {
          "output_type": "stream",
          "text": [
            "number clusters: 5\n",
            "time: 0:00:48.077345\n"
          ],
          "name": "stdout"
        }
      ]
    },
    {
      "cell_type": "code",
      "metadata": {
        "id": "vOlDY3K8QEOG",
        "colab_type": "code",
        "colab": {}
      },
      "source": [
        "simple_classifier = SimpleClassifier(preparer, clustering)"
      ],
      "execution_count": null,
      "outputs": []
    },
    {
      "cell_type": "code",
      "metadata": {
        "id": "Y9GdLeUa-d-A",
        "colab_type": "code",
        "colab": {
          "base_uri": "https://localhost:8080/",
          "height": 50
        },
        "outputId": "c3d0026a-a272-4c50-df25-820fb52a96c3"
      },
      "source": [
        "simple_classifier.find_best_params(np.linspace(4, 5, 10))"
      ],
      "execution_count": null,
      "outputs": [
        {
          "output_type": "stream",
          "text": [
            "Best score: 0.9431162036710022\n",
            "Best C: 4.333333333333333\n"
          ],
          "name": "stdout"
        }
      ]
    },
    {
      "cell_type": "code",
      "metadata": {
        "id": "hSoa9qXoQqGh",
        "colab_type": "code",
        "colab": {}
      },
      "source": [
        "simple_classifier.get_model(param_c = 4.333)"
      ],
      "execution_count": null,
      "outputs": []
    },
    {
      "cell_type": "code",
      "metadata": {
        "colab_type": "code",
        "id": "TjsxINZHufkH",
        "colab": {}
      },
      "source": [
        "trainer = TrainNN(preparer, clustering, simple_classifier)"
      ],
      "execution_count": null,
      "outputs": []
    },
    {
      "cell_type": "code",
      "metadata": {
        "id": "Tm_FMltA0rXp",
        "colab_type": "code",
        "colab": {}
      },
      "source": [
        "class MyAttention(nn.Module):\n",
        "    def __init__(self, hid_size):\n",
        "        \n",
        "        super(MyAttention, self).__init__()\n",
        "        self.hid_size = hid_size\n",
        "        self.relu = nn.ReLU()\n",
        "        att_weights = nn.Parameter(torch.Tensor(hid_size, hid_size), requires_grad = True)\n",
        "        std = 1 / np.sqrt(hid_size)\n",
        "        self.att_weights = nn.init.uniform_(att_weights, -std, std)\n",
        "  \n",
        "    def forward (self, input, c):\n",
        "        batch_size = input.size(0)\n",
        "        c = torch.cat((c[0], c[1]), 1)\n",
        "        c = c.unsqueeze(1)      \n",
        "        intermediate = torch.bmm(c,\n",
        "                            self.att_weights\n",
        "                            .repeat(batch_size, 1,1)    # batch_size , hid_size, hid_size\n",
        "                            )\n",
        "        weights = torch.bmm(input,\n",
        "                            intermediate.transpose(2,1))\n",
        "        attention = torch.softmax(self.relu(weights.squeeze()), dim = -1)\n",
        "        weights = torch.mul(input, attention.unsqueeze(-1))\n",
        "        representation = weights.sum(1)\n",
        "        return representation"
      ],
      "execution_count": null,
      "outputs": []
    },
    {
      "cell_type": "code",
      "metadata": {
        "colab_type": "code",
        "id": "xcVmov9A6NtE",
        "colab": {}
      },
      "source": [
        "class NN(nn.Module):\n",
        "    def __init__(self, hid_size = 64, \n",
        "                   len_sequence = 10, len_cat = len(trainer.cat_columns), len_cluster = len(trainer.clustering_columns), \n",
        "                 rnn_dim = 64,\n",
        "                num_direction = 2):\n",
        "        super(NN, self).__init__()\n",
        "        # self.emb = nn.Embedding(n_tokens, hid_size, )\n",
        "        self.lstm = nn.LSTM(input_size = 128, \n",
        "                            hidden_size = rnn_dim,\n",
        "                            bidirectional = True, \n",
        "                            dropout = 0.5\n",
        "                            )\n",
        "        self.att = MyAttention(rnn_dim * num_direction)\n",
        "        self.relu = nn.ReLU()\n",
        "        self.fc1_cat = nn.Linear(len_cat, len_cat)\n",
        "        self.fc1_cluster = nn.Linear(len_cluster, 150)\n",
        "        self.fc2 = nn.Linear(len_cat + 150 , 50)\n",
        "        self.fc3 = nn.Linear(50 + len_cat + 1 + hid_size * num_direction, 50)\n",
        "        self.fc_out = nn.Linear(50, 1)\n",
        "        self.sigmoid = nn.Sigmoid()\n",
        "        self.batchnorm1 = nn.BatchNorm1d(len_cat + 150)\n",
        "        self.batchnorm2 = nn.BatchNorm1d(50 + len_cat + 1 + hid_size * num_direction)\n",
        "        self.batchnorm_finish = nn.BatchNorm1d(50)\n",
        "        self.dropout = nn.Dropout(0.5)\n",
        "\n",
        "    def forward(self, input_site, input_cat, input_cluster, input_linear):\n",
        "        input_site = self.dropout(input_site.transpose(1,0))\n",
        "        output_lstm, (h, c) = self.lstm(input_site)\n",
        "        c = c.squeeze(0)        \n",
        "        att = self.att(output_lstm.transpose(1,0), c)\n",
        "        cat = self.fc1_cat(input_cat)\n",
        "        cat = self.relu(cat)\n",
        "        cluster = self.fc1_cluster(input_cluster)\n",
        "        cluster = self.relu(cluster)\n",
        "        combine = torch.cat([cluster.view(cluster.size(0), -1),\n",
        "                             cat.view(cat.size(0), -1)], dim = 1)\n",
        "        combine = self.batchnorm1(combine)\n",
        "        combine = self.dropout(combine)\n",
        "        combine = self.fc2(combine)\n",
        "        combine = self.relu(combine)\n",
        "        combine = torch.cat([combine.view(combine.size(0), -1),\n",
        "                             att.view(att.size(0), -1),\n",
        "                             cat.view(cat.size(0), -1),\n",
        "                             input_linear.view(input_linear.size(0), -1)], dim = 1)\n",
        "        combine = self.batchnorm2(combine)\n",
        "        combine = self.dropout(combine)\n",
        "        out = self.fc3(combine)\n",
        "        out = self.relu(out)\n",
        "        out = self.batchnorm_finish(out)\n",
        "        out = self.dropout(out)\n",
        "        out = self.fc_out(out)\n",
        "        out = self.sigmoid(out)\n",
        "        return out\n"
      ],
      "execution_count": null,
      "outputs": []
    },
    {
      "cell_type": "code",
      "metadata": {
        "colab_type": "code",
        "id": "XKg_38X568AF",
        "colab": {
          "base_uri": "https://localhost:8080/",
          "height": 301
        },
        "outputId": "d4d73588-9eee-49d1-cbdc-5fe9a2fa256e"
      },
      "source": [
        "model = NN()\n",
        "device = torch.device(\"cuda:0\")\n",
        "model.to(device)"
      ],
      "execution_count": null,
      "outputs": [
        {
          "output_type": "execute_result",
          "data": {
            "text/plain": [
              "NN(\n",
              "  (lstm): LSTM(128, 64, dropout=0.5, bidirectional=True)\n",
              "  (att): MyAttention(\n",
              "    (relu): ReLU()\n",
              "  )\n",
              "  (relu): ReLU()\n",
              "  (fc1_cat): Linear(in_features=32, out_features=32, bias=True)\n",
              "  (fc1_cluster): Linear(in_features=5, out_features=150, bias=True)\n",
              "  (fc2): Linear(in_features=182, out_features=50, bias=True)\n",
              "  (fc3): Linear(in_features=211, out_features=50, bias=True)\n",
              "  (fc_out): Linear(in_features=50, out_features=1, bias=True)\n",
              "  (sigmoid): Sigmoid()\n",
              "  (batchnorm1): BatchNorm1d(182, eps=1e-05, momentum=0.1, affine=True, track_running_stats=True)\n",
              "  (batchnorm2): BatchNorm1d(211, eps=1e-05, momentum=0.1, affine=True, track_running_stats=True)\n",
              "  (batchnorm_finish): BatchNorm1d(50, eps=1e-05, momentum=0.1, affine=True, track_running_stats=True)\n",
              "  (dropout): Dropout(p=0.5, inplace=False)\n",
              ")"
            ]
          },
          "metadata": {
            "tags": []
          },
          "execution_count": 97
        }
      ]
    },
    {
      "cell_type": "code",
      "metadata": {
        "id": "-p_D28EPnn0N",
        "colab_type": "code",
        "colab": {
          "base_uri": "https://localhost:8080/",
          "height": 301
        },
        "outputId": "ca0814b6-d2e6-4420-b11d-770498ee1bf0"
      },
      "source": [
        "def init_weights(m):\n",
        "    for name, param in m.named_parameters():\n",
        "      nn.init.uniform_(param, -0.08, 0.08)\n",
        "model.apply(init_weights)"
      ],
      "execution_count": null,
      "outputs": [
        {
          "output_type": "execute_result",
          "data": {
            "text/plain": [
              "NN(\n",
              "  (lstm): LSTM(128, 64, dropout=0.5, bidirectional=True)\n",
              "  (att): MyAttention(\n",
              "    (relu): ReLU()\n",
              "  )\n",
              "  (relu): ReLU()\n",
              "  (fc1_cat): Linear(in_features=32, out_features=32, bias=True)\n",
              "  (fc1_cluster): Linear(in_features=5, out_features=150, bias=True)\n",
              "  (fc2): Linear(in_features=182, out_features=50, bias=True)\n",
              "  (fc3): Linear(in_features=211, out_features=50, bias=True)\n",
              "  (fc_out): Linear(in_features=50, out_features=1, bias=True)\n",
              "  (sigmoid): Sigmoid()\n",
              "  (batchnorm1): BatchNorm1d(182, eps=1e-05, momentum=0.1, affine=True, track_running_stats=True)\n",
              "  (batchnorm2): BatchNorm1d(211, eps=1e-05, momentum=0.1, affine=True, track_running_stats=True)\n",
              "  (batchnorm_finish): BatchNorm1d(50, eps=1e-05, momentum=0.1, affine=True, track_running_stats=True)\n",
              "  (dropout): Dropout(p=0.5, inplace=False)\n",
              ")"
            ]
          },
          "metadata": {
            "tags": []
          },
          "execution_count": 109
        }
      ]
    },
    {
      "cell_type": "code",
      "metadata": {
        "id": "jipHT7yuTTmy",
        "colab_type": "code",
        "colab": {}
      },
      "source": [
        "class Scheduler:\n",
        "\n",
        "  def __init__(self, optimizer, p = 0.05):\n",
        "    self.optimizer = optimizer\n",
        "    self.p = p\n",
        "  \n",
        "\n",
        "  def step(self, board, threshold = 0.9, k_up = 1.2, k_down = 0.99):\n",
        "    if board < threshold:\n",
        "      k = 1 + (1/ (50 * board))\n",
        "    else:\n",
        "      rnd = random.random()\n",
        "      if rnd < self.p:\n",
        "        k = 1.2\n",
        "      else:\n",
        "        k = 1 - ((1 - board)/5) \n",
        "    for idx_group in range(len(self.optimizer.param_groups)):\n",
        "      self.optimizer.param_groups[0]['lr'] *= k\n",
        "    print(f'k:{k}')\n",
        "    "
      ],
      "execution_count": null,
      "outputs": []
    },
    {
      "cell_type": "code",
      "metadata": {
        "colab_type": "code",
        "id": "8O3YSw9A7N3b",
        "colab": {
          "base_uri": "https://localhost:8080/",
          "height": 332,
          "referenced_widgets": [
            "e2bb01934a31474398015b7171f0c72f",
            "9f9fe040e0ad436f8e5de18aa6e02fb1",
            "13b7be0639b5412189733684d86ba46d",
            "edd1c9723b604a8cacfac747952cc020",
            "8f98cb009add4f9f81492f0e1100a8f8",
            "3076a563b5eb4815943dc7cc26c128e3",
            "e6f8eb81a59246eb878aa5b235d973ed",
            "49da79c084d54659ab0c0f582da010ca",
            "5952c45852a84f23b4722144d9ec77e4",
            "f4e23bcbc718439ebea3eb88e1be2c33",
            "89d8a9bbf1db4e0f81e501d4be2224d1",
            "aa0635bb5dc846009b5da9fbbaf40270",
            "220a3045c8464c228fb5ce469818bae8",
            "08fbcaea2a1343ad90a79be9798beeb9",
            "06cfdceb84124dc19405cc8db44faec9",
            "326131e1d8e74cc597b48c0f4e28b91c",
            "e41bbef46f044647b162a37778b41826",
            "24eb112c7f1b4b7bbb881a3cb88c9cff",
            "1a3404e7a9674bdea21a8a1fc36b25d3",
            "5535c8c50b234b0ba53bfd7ea6810463",
            "8c6addd92d1544c488430fd3a4c4c932",
            "76cbe6db9ee34d3abe9d99b5056b283b",
            "30e1b19ab92047f787b44ee1a086ac3f",
            "6db39d96142a41beb499adbb790568e9",
            "94c5241537d743c5b48681efda64c080",
            "35de96e405a94cb29e8bcd4fbaec5a05",
            "e5397c8268214522a6b534fbe9af01ec",
            "e4379773d4ea497d9a0f1f4e13663d32",
            "cf4b7bfb1fc5428ca86d013ce482f2d9",
            "97010ae9cb124b8d8691a24922a137c5",
            "d11f4ed62c0448429e4cda6128662a86",
            "0b2ca58a7c0146b6a2e2465e121db60b",
            "8494a40f5b4c4781b339298683e1b322",
            "4f60a6900a4042419ab1a06c2e96f2a9",
            "70f539a85ef249aeadb1e366b1e7ef23",
            "fc6c08e07fd74298a4f5a693bf4053f2",
            "9a3812a4edea4cc3b497f6665e3f8214",
            "bb17d47af17b473996e9f3d1b7a5d9a6",
            "41ba1bd4e3ab4bc79ee7c4e8536e60a5",
            "6dc98093263d4f3ba7955e5b1aaa978c"
          ]
        },
        "outputId": "8911b507-2e23-471e-d0e6-4378967d222f"
      },
      "source": [
        "history_train_loss = []\n",
        "history_val = []\n",
        "history_train_roc = []\n",
        "epochs = 5\n",
        "optim = torch.optim.Adam(model.parameters())\n",
        "loss_function = nn.BCELoss().to(device)\n",
        "trainer.make_batch_for_valuate()\n",
        "scheduler = Scheduler(optim)\n",
        "lr = []\n",
        "\n",
        "for epoch in range(epochs):\n",
        "    for idx, (batch, target) in tqdm_notebook(enumerate(trainer.iterable_minibatches())):\n",
        "        model.train()\n",
        "        input_site = torch.FloatTensor(batch['sites']).cuda()\n",
        "        input_cat = torch.tensor(batch['cat'], dtype=torch.long).float().cuda()\n",
        "        input_cluster = torch.tensor(batch['cluster'], dtype=torch.long).float().cuda()\n",
        "        input_linear = torch.tensor(batch['linear'], dtype=torch.long).float().cuda()\n",
        "        target = torch.tensor(target).float().to(device)\n",
        "\n",
        "        predictions = model(input_site, input_cat, input_cluster, input_linear).float()\n",
        "        predictions = predictions.view(predictions.size(0))\n",
        "        loss = loss_function(predictions, target)\n",
        "\n",
        "        loss.backward()\n",
        "        optim.step()\n",
        "        optim.zero_grad()\n",
        "\n",
        "\n",
        "        history_train_loss.append(loss.data.cpu().numpy())\n",
        "        history_val.append(trainer.roc_auc(model, train = False))\n",
        "\n",
        "        scheduler.step(board = history_val[-1])\n",
        "        lr.append(optim.param_groups[0]['lr'])\n",
        "        \n",
        "        history_train_roc.append(trainer.roc_auc(model))\n",
        "        clear_output(True)\n",
        "        plt.plot(history_val,label='val')\n",
        "        plt.plot(history_train_roc, label = 'train')\n",
        "        plt.legend()\n",
        "        plt.show()\n",
        "        if history_val[-1] == np.max(history_val):\n",
        "          best_model = copy.deepcopy(model)\n",
        "        print(f'train {history_train_roc[-1]}')\n",
        "        print(f'val {history_val[-1]}')\n",
        "        print(f'lr {lr[-1]}')"
      ],
      "execution_count": null,
      "outputs": [
        {
          "output_type": "display_data",
          "data": {
            "image/png": "[encoded data removed]",
            "text/plain": [
              "<Figure size 432x288 with 1 Axes>"
            ]
          },
          "metadata": {
            "tags": [],
            "needs_background": "light"
          }
        },
        {
          "output_type": "stream",
          "text": [
            "train 0.9810120045234754\n",
            "val 0.9599184364554705\n",
            "lr 0.0020635499974871008\n",
            "\n"
          ],
          "name": "stdout"
        }
      ]
    },
    {
      "cell_type": "code",
      "metadata": {
        "id": "5i8sr0v4YmUI",
        "colab_type": "code",
        "colab": {
          "base_uri": "https://localhost:8080/",
          "height": 281
        },
        "outputId": "142ee20d-3ba3-4dd2-c4fe-27f3b9a297d8"
      },
      "source": [
        "plt.plot(lr)"
      ],
      "execution_count": null,
      "outputs": [
        {
          "output_type": "execute_result",
          "data": {
            "text/plain": [
              "[<matplotlib.lines.Line2D at 0x7fb5ced6bf60>]"
            ]
          },
          "metadata": {
            "tags": []
          },
          "execution_count": 113
        },
        {
          "output_type": "display_data",
          "data": {
            "image/png": "[encoded data removed]",
            "text/plain": [
              "<Figure size 432x288 with 1 Axes>"
            ]
          },
          "metadata": {
            "tags": [],
            "needs_background": "light"
          }
        }
      ]
    },
    {
      "cell_type": "code",
      "metadata": {
        "id": "4CWu2djna-aZ",
        "colab_type": "code",
        "colab": {
          "base_uri": "https://localhost:8080/",
          "height": 281
        },
        "outputId": "7cdb0929-943d-44b1-f1f4-cfca4f12c78c"
      },
      "source": [
        "plt.plot(history_train_loss, label = 'train')"
      ],
      "execution_count": null,
      "outputs": [
        {
          "output_type": "execute_result",
          "data": {
            "text/plain": [
              "[<matplotlib.lines.Line2D at 0x7fb5c9c6be80>]"
            ]
          },
          "metadata": {
            "tags": []
          },
          "execution_count": 114
        },
        {
          "output_type": "display_data",
          "data": {
            "image/png": "[encoded data removed]",
            "text/plain": [
              "<Figure size 432x288 with 1 Axes>"
            ]
          },
          "metadata": {
            "tags": [],
            "needs_background": "light"
          }
        }
      ]
    },
    {
      "cell_type": "code",
      "metadata": {
        "id": "SQgYika43Xm2",
        "colab_type": "code",
        "colab": {}
      },
      "source": [
        "np.max(history_val)"
      ],
      "execution_count": null,
      "outputs": []
    },
    {
      "cell_type": "code",
      "metadata": {
        "id": "8p9m74SBP4J0",
        "colab_type": "code",
        "colab": {}
      },
      "source": [
        "trainer.make_predictions_file(best_model)"
      ],
      "execution_count": null,
      "outputs": []
    }
  ]
}