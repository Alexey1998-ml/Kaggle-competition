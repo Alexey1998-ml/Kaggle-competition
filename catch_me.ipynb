{
 "cells": [
  {
   "cell_type": "markdown",
   "metadata": {
    "colab_type": "text",
    "id": "view-in-github"
   },
   "source": [
    "<a href=\"https://colab.research.google.com/github/Alexey1998-ml/example/blob/master/catch_me.ipynb\" target=\"_parent\"><img src=\"https://colab.research.google.com/assets/colab-badge.svg\" alt=\"Open In Colab\"/></a>"
   ]
  },
  {
   "cell_type": "code",
   "execution_count": 2,
   "metadata": {
    "colab": {
     "base_uri": "https://localhost:8080/",
     "height": 54
    },
    "colab_type": "code",
    "id": "APqRITJb9qDF",
    "outputId": "9d66a4f9-450b-4a60-858b-40d79e33c9d5"
   },
   "outputs": [
    {
     "ename": "ModuleNotFoundError",
     "evalue": "No module named 'google'",
     "output_type": "error",
     "traceback": [
      "\u001b[1;31m---------------------------------------------------------------------------\u001b[0m",
      "\u001b[1;31mModuleNotFoundError\u001b[0m                       Traceback (most recent call last)",
      "\u001b[1;32m<ipython-input-2-d5df0069828e>\u001b[0m in \u001b[0;36m<module>\u001b[1;34m\u001b[0m\n\u001b[1;32m----> 1\u001b[1;33m \u001b[1;32mfrom\u001b[0m \u001b[0mgoogle\u001b[0m\u001b[1;33m.\u001b[0m\u001b[0mcolab\u001b[0m \u001b[1;32mimport\u001b[0m \u001b[0mdrive\u001b[0m\u001b[1;33m\u001b[0m\u001b[1;33m\u001b[0m\u001b[0m\n\u001b[0m\u001b[0;32m      2\u001b[0m \u001b[0mdrive\u001b[0m\u001b[1;33m.\u001b[0m\u001b[0mmount\u001b[0m\u001b[1;33m(\u001b[0m\u001b[1;34m'/content/drive'\u001b[0m\u001b[1;33m)\u001b[0m\u001b[1;33m\u001b[0m\u001b[1;33m\u001b[0m\u001b[0m\n",
      "\u001b[1;31mModuleNotFoundError\u001b[0m: No module named 'google'"
     ]
    }
   ],
   "source": [
    "from google.colab import drive\n",
    "drive.mount('/content/drive')"
   ]
  },
  {
   "cell_type": "code",
   "execution_count": 0,
   "metadata": {
    "colab": {},
    "colab_type": "code",
    "id": "8HXtJ78p4Jka"
   },
   "outputs": [],
   "source": [
    "import numpy as np\n",
    "import pandas as pd\n",
    "from tqdm import tqdm_notebook\n",
    "from sklearn.preprocessing import StandardScaler, MinMaxScaler, MaxAbsScaler \n",
    "from sklearn.metrics import roc_auc_score\n",
    "from sklearn.model_selection import train_test_split, cross_val_score,\\\n",
    "learning_curve, TimeSeriesSplit\n",
    "%matplotlib inline\n",
    "from matplotlib import pyplot as plt\n",
    "from sklearn.metrics import roc_auc_score\n",
    "import warnings\n",
    "warnings.filterwarnings('ignore')\n",
    "from collections import Counter\n",
    "import torch\n",
    "import torch.nn as nn\n",
    "from IPython.display import clear_output"
   ]
  },
  {
   "cell_type": "code",
   "execution_count": 0,
   "metadata": {
    "colab": {},
    "colab_type": "code",
    "id": "fixb8ixl5k00"
   },
   "outputs": [],
   "source": [
    "test = pd.read_csv('drive/My Drive/catch_me_test_sessions.csv')\n",
    "data = pd.read_csv('drive/My Drive/catch_me_train_sessions.csv')\n",
    "times = ['time%s' % i for i in range(1, 11)]\n",
    "sites = ['site%s' % i for i in range(1, 11)]"
   ]
  },
  {
   "cell_type": "code",
   "execution_count": 0,
   "metadata": {
    "colab": {},
    "colab_type": "code",
    "id": "fIk-VMGt6GyX"
   },
   "outputs": [],
   "source": [
    "class Prepare:\n",
    "  def __init__(self, train, test, target_column : str = 'target', **kwargs):\n",
    "    self.train = train\n",
    "    self.target_column = target_column\n",
    "    self.target = train[target_column]\n",
    "    self.test = test\n",
    "    self.unknown_idx = -1\n",
    "    self.pad_idx = 0\n",
    "    self.test_size = 0.15\n",
    "    self.batch_size = 1024\n",
    "\n",
    "  def prepare_df (self):\n",
    "    train = self.train\n",
    "    test = self.test\n",
    "    train[times] = train[times].apply(pd.to_datetime)\n",
    "    test[times] = test[times].apply(pd.to_datetime)\n",
    "    train[sites] = train[sites].fillna(self.pad_idx).astype(int)\n",
    "    train = train.sort_values('time1')\n",
    "    self.train = train\n",
    "    self.test = test\n",
    "  \n",
    "  def _get_known_sites(self, train, number_sites = 5000):\n",
    "      counter = Counter()\n",
    "      alice_sites = Counter()\n",
    "      for site in sites:\n",
    "        for num_site in train[site]:\n",
    "          counter.update({num_site})\n",
    "      for site in sites:\n",
    "        for num_site in train[train['target'] == 1][site]:\n",
    "          alice_sites.update({num_site})\n",
    "      known_sites = [site for site, counts in dict(counter.most_common(number_sites)).items()]\n",
    "      known_sites += [site for site, counts in alice_sites.items()]\n",
    "      known_sites += [self.pad_idx, self.unknown_idx]\n",
    "      known_sites = set(known_sites)\n",
    "      sites_to_id = {site : inx for inx, site in enumerate(known_sites)}\n",
    "      return sites_to_id\n",
    "\n",
    "  def get_df_for_train(self):\n",
    "    train_df, valid_df, train_target, valid_target = train_test_split(self.train, self.target, random_state = 42,\n",
    "                                                                      shuffle = False, test_size = self.test_size)\n",
    "    sites_to_id = self._get_known_sites(train_df)\n",
    "    self.sites_to_id = sites_to_id\n",
    "    train_df[sites] = train_df[sites].applymap(lambda num_site: sites_to_id[num_site] if num_site in sites_to_id \n",
    "                                               else sites_to_id[self.unknown_idx])\n",
    "    valid_df[sites] = valid_df[sites].applymap(lambda num_site: sites_to_id[num_site] if num_site in sites_to_id \n",
    "                                               else sites_to_id[self.unknown_idx])\n",
    "    return train_df, valid_df\n",
    "  "
   ]
  },
  {
   "cell_type": "code",
   "execution_count": 0,
   "metadata": {
    "colab": {},
    "colab_type": "code",
    "id": "7syXo7AsyFpM"
   },
   "outputs": [],
   "source": [
    "class TrainNN(Prepare):\n",
    "    def make_batch (self, df, dropout = 0, **kwargs):\n",
    "\n",
    "      batch = {}\n",
    "      batch['sites'] = df[sites].values\n",
    "      if dropout > 0:\n",
    "        batch['sites'] = self._apply_word_dropout(batch['sites'], dropout)\n",
    "      batch[self.target_column] = df[self.target_column].values\n",
    "      return batch\n",
    "\n",
    "    def _apply_word_dropout (self, matrix, keep_prop, replace_with = -1, pad_ix = 0):\n",
    "      dropout_mask = np.random.choice(2, matrix.shape, p = [1 - keep_prop, keep_prop])\n",
    "      dropout_mask &= matrix !=  pad_ix\n",
    "      return np.choose (dropout_mask, [matrix, np.full_like(matrix, replace_with)])\n",
    "    \n",
    "    def iterable_minibatches (self, data, shuffle = True, **kwargs):\n",
    "      if 'prob' in kwargs.keys():\n",
    "        prob = kwargs['prob']\n",
    "      else:\n",
    "        prob = 1\n",
    "      indecses = np.arange(len(data))\n",
    "      if shuffle:\n",
    "        indecses = np.random.permutation(indecses)\n",
    "      for start in range(0, len(indecses), self.batch_size):\n",
    "        is_take = np.random.choice(2, size = 1, p = [1 - prob, prob])[0]\n",
    "        if is_take == 0:\n",
    "          yield None, None\n",
    "          continue\n",
    "        batch = self.make_batch(data.iloc[indecses[start : start + self.batch_size]], **kwargs)\n",
    "        target = batch.pop(self.target_column)\n",
    "        yield batch, target"
   ]
  },
  {
   "cell_type": "code",
   "execution_count": 0,
   "metadata": {
    "colab": {},
    "colab_type": "code",
    "id": "TjsxINZHufkH"
   },
   "outputs": [],
   "source": [
    "trainer = TrainNN(data, test)"
   ]
  },
  {
   "cell_type": "code",
   "execution_count": 0,
   "metadata": {
    "colab": {},
    "colab_type": "code",
    "id": "F9dNFt6ay1aC"
   },
   "outputs": [],
   "source": [
    "trainer.prepare_df()"
   ]
  },
  {
   "cell_type": "code",
   "execution_count": 0,
   "metadata": {
    "colab": {},
    "colab_type": "code",
    "id": "v7Snyg7szDVJ"
   },
   "outputs": [],
   "source": [
    "train_df, valid_df = trainer.get_df_for_train()"
   ]
  },
  {
   "cell_type": "code",
   "execution_count": 0,
   "metadata": {
    "colab": {},
    "colab_type": "code",
    "id": "wz7apoKXyMLP"
   },
   "outputs": [],
   "source": [
    "class Reorder(nn.Module):\n",
    "  def forward (self, input):\n",
    "    return input.permute(0, 2, 1)\n",
    "\n",
    "class Flatten (nn.Module):\n",
    "  def forward(self, input):\n",
    "    return input.view(input.size(0),-1)"
   ]
  },
  {
   "cell_type": "code",
   "execution_count": 0,
   "metadata": {
    "colab": {},
    "colab_type": "code",
    "id": "xcVmov9A6NtE"
   },
   "outputs": [],
   "source": [
    "class NN(nn.Module):\n",
    "  def __init__(self, n_tokens = len(trainer.sites_to_id), hid_size = 64, \n",
    "               len_sequence = 10):\n",
    "    super(NN, self).__init__()\n",
    "    self.emb = nn.Embedding(n_tokens, hid_size)\n",
    "    self.reorder = Reorder()\n",
    "    self.cnn1 = nn.Conv1d(in_channels = hid_size,\n",
    "                         out_channels = hid_size,\n",
    "                         kernel_size = 3)\n",
    "    self.cnn2 = nn.Conv1d(in_channels = hid_size,\n",
    "                         out_channels = hid_size,\n",
    "                         kernel_size = 2)\n",
    "    self.cnn3 = nn.Conv1d(in_channels = hid_size,\n",
    "                         out_channels = hid_size,\n",
    "                         kernel_size = 4)\n",
    "    self.relu = nn.ReLU()\n",
    "    self.maxpool = nn.AdaptiveAvgPool1d(1)\n",
    "    self.flatten = Flatten()\n",
    "    self.fc1 = nn.Linear(3*hid_size, hid_size)\n",
    "    self.fc2 = nn.Linear(hid_size, 1)\n",
    "    self.sigmoid = nn.Sigmoid()\n",
    "    self.dropout_emb = nn.Dropout2d(0.4)\n",
    "    self.batchnorm = nn.BatchNorm1d(3*hid_size)\n",
    "    self.dropout = nn.Dropout(0.4)\n",
    "\n",
    "  def forward(self, input):\n",
    "    emb = self.emb(input)\n",
    "    emb = self.dropout_emb(emb)\n",
    "    emb = self.reorder(emb)\n",
    "    cnn1 = self.relu(self.cnn1(emb))\n",
    "    cnn2 = self.relu(self.cnn2(emb))\n",
    "    cnn3 = self.relu(self.cnn3(emb))\n",
    "    pool1 = self.maxpool(cnn1)\n",
    "    pool2 = self.maxpool(cnn2)\n",
    "    pool3 = self.maxpool(cnn3)\n",
    "    flatten1 = self.flatten(pool1)\n",
    "    flatten2 = self.flatten(pool2)\n",
    "    flatten3 = self.flatten(pool3)\n",
    "    flatten = torch.cat([flatten1.view(flatten1.size(0), -1),\n",
    "                         flatten2.view(flatten2.size(0), -1),\n",
    "                         flatten3.view(flatten3.size(0), -1)], dim = 1)\n",
    "    flatten = self.batchnorm(flatten)\n",
    "    flatten = self.dropout(flatten)\n",
    "    out = self.fc1(flatten)\n",
    "    out = self.relu(out)\n",
    "    out = self.fc2(out)\n",
    "    out = self.sigmoid(out)\n",
    "    return out\n"
   ]
  },
  {
   "cell_type": "code",
   "execution_count": 0,
   "metadata": {
    "colab": {
     "base_uri": "https://localhost:8080/",
     "height": 286
    },
    "colab_type": "code",
    "id": "XKg_38X568AF",
    "outputId": "101d3516-e363-4aba-8e7c-472f36524844"
   },
   "outputs": [
    {
     "data": {
      "text/plain": [
       "NN(\n",
       "  (emb): Embedding(5364, 64)\n",
       "  (reorder): Reorder()\n",
       "  (cnn1): Conv1d(64, 64, kernel_size=(3,), stride=(1,))\n",
       "  (cnn2): Conv1d(64, 64, kernel_size=(2,), stride=(1,))\n",
       "  (cnn3): Conv1d(64, 64, kernel_size=(4,), stride=(1,))\n",
       "  (relu): ReLU()\n",
       "  (maxpool): AdaptiveAvgPool1d(output_size=1)\n",
       "  (flatten): Flatten()\n",
       "  (fc1): Linear(in_features=192, out_features=64, bias=True)\n",
       "  (fc2): Linear(in_features=64, out_features=1, bias=True)\n",
       "  (sigmoid): Sigmoid()\n",
       "  (dropout_emb): Dropout2d(p=0.4, inplace=False)\n",
       "  (batchnorm): BatchNorm1d(192, eps=1e-05, momentum=0.1, affine=True, track_running_stats=True)\n",
       "  (dropout): Dropout(p=0.4, inplace=False)\n",
       ")"
      ]
     },
     "execution_count": 61,
     "metadata": {
      "tags": []
     },
     "output_type": "execute_result"
    }
   ],
   "source": [
    "model = NN()\n",
    "device = torch.device(\"cuda:0\")\n",
    "model.to(device)"
   ]
  },
  {
   "cell_type": "code",
   "execution_count": 0,
   "metadata": {
    "colab": {},
    "colab_type": "code",
    "id": "BGlbDX6h-jqt"
   },
   "outputs": [],
   "source": [
    "batch, target = next(trainer.iterable_minibatches(train_df))\n",
    "input = torch.tensor(batch['sites'], dtype=torch.long).cuda()"
   ]
  },
  {
   "cell_type": "code",
   "execution_count": 0,
   "metadata": {
    "colab": {},
    "colab_type": "code",
    "id": "BCWyN9_-Ad2d"
   },
   "outputs": [],
   "source": []
  },
  {
   "cell_type": "code",
   "execution_count": 0,
   "metadata": {
    "colab": {
     "base_uri": "https://localhost:8080/",
     "height": 631
    },
    "colab_type": "code",
    "id": "8O3YSw9A7N3b",
    "outputId": "da67a444-231d-400e-cb32-d2d82ccced1a"
   },
   "outputs": [
    {
     "data": {
      "image/png": "[encoded data removed]",
      "text/plain": [
       "<Figure size 432x288 with 1 Axes>"
      ]
     },
     "metadata": {
      "tags": []
     },
     "output_type": "display_data"
    },
    {
     "name": "stdout",
     "output_type": "stream",
     "text": [
      "val 0.8302932372942893\n",
      "\n"
     ]
    },
    {
     "ename": "KeyboardInterrupt",
     "evalue": "ignored",
     "output_type": "error",
     "traceback": [
      "\u001b[0;31m---------------------------------------------------------------------------\u001b[0m",
      "\u001b[0;31mKeyboardInterrupt\u001b[0m                         Traceback (most recent call last)",
      "\u001b[0;32m<ipython-input-62-5df525fead96>\u001b[0m in \u001b[0;36m<module>\u001b[0;34m()\u001b[0m\n\u001b[1;32m     21\u001b[0m \u001b[0;34m\u001b[0m\u001b[0m\n\u001b[1;32m     22\u001b[0m     \u001b[0mhistory_train\u001b[0m\u001b[0;34m.\u001b[0m\u001b[0mappend\u001b[0m\u001b[0;34m(\u001b[0m\u001b[0mloss\u001b[0m\u001b[0;34m.\u001b[0m\u001b[0mdata\u001b[0m\u001b[0;34m.\u001b[0m\u001b[0mcpu\u001b[0m\u001b[0;34m(\u001b[0m\u001b[0;34m)\u001b[0m\u001b[0;34m.\u001b[0m\u001b[0mnumpy\u001b[0m\u001b[0;34m(\u001b[0m\u001b[0;34m)\u001b[0m\u001b[0;34m)\u001b[0m\u001b[0;34m\u001b[0m\u001b[0;34m\u001b[0m\u001b[0m\n\u001b[0;32m---> 23\u001b[0;31m     \u001b[0mhistory_val\u001b[0m\u001b[0;34m.\u001b[0m\u001b[0mappend\u001b[0m\u001b[0;34m(\u001b[0m\u001b[0mroc_auc\u001b[0m\u001b[0;34m(\u001b[0m\u001b[0mmodel\u001b[0m\u001b[0;34m,\u001b[0m \u001b[0mvalid_df\u001b[0m\u001b[0;34m)\u001b[0m\u001b[0;34m)\u001b[0m\u001b[0;34m\u001b[0m\u001b[0;34m\u001b[0m\u001b[0m\n\u001b[0m\u001b[1;32m     24\u001b[0m     \u001b[0;32mif\u001b[0m \u001b[0;34m(\u001b[0m\u001b[0midx\u001b[0m\u001b[0;34m+\u001b[0m\u001b[0;36m1\u001b[0m\u001b[0;34m)\u001b[0m\u001b[0;34m%\u001b[0m\u001b[0;36m50\u001b[0m\u001b[0;34m==\u001b[0m\u001b[0;36m0\u001b[0m\u001b[0;34m:\u001b[0m\u001b[0;34m\u001b[0m\u001b[0;34m\u001b[0m\u001b[0m\n\u001b[1;32m     25\u001b[0m         \u001b[0mclear_output\u001b[0m\u001b[0;34m(\u001b[0m\u001b[0;32mTrue\u001b[0m\u001b[0;34m)\u001b[0m\u001b[0;34m\u001b[0m\u001b[0;34m\u001b[0m\u001b[0m\n",
      "\u001b[0;32m<ipython-input-14-5d4b99dd327b>\u001b[0m in \u001b[0;36mroc_auc\u001b[0;34m(model, data, target)\u001b[0m\n\u001b[1;32m      1\u001b[0m \u001b[0;32mdef\u001b[0m \u001b[0mroc_auc\u001b[0m \u001b[0;34m(\u001b[0m\u001b[0mmodel\u001b[0m\u001b[0;34m,\u001b[0m \u001b[0mdata\u001b[0m\u001b[0;34m,\u001b[0m \u001b[0mtarget\u001b[0m \u001b[0;34m=\u001b[0m \u001b[0;34m'target'\u001b[0m\u001b[0;34m)\u001b[0m\u001b[0;34m:\u001b[0m\u001b[0;34m\u001b[0m\u001b[0;34m\u001b[0m\u001b[0m\n\u001b[1;32m      2\u001b[0m   roc_auc = roc_auc_score(data[target],\n\u001b[0;32m----> 3\u001b[0;31m                           model(torch.tensor(trainer.make_batch(valid_df)['sites'], dtype=torch.long).cuda()).cpu().data.numpy())\n\u001b[0m\u001b[1;32m      4\u001b[0m   \u001b[0;32mreturn\u001b[0m \u001b[0mroc_auc\u001b[0m\u001b[0;34m\u001b[0m\u001b[0;34m\u001b[0m\u001b[0m\n",
      "\u001b[0;31mKeyboardInterrupt\u001b[0m: "
     ]
    }
   ],
   "source": [
    "history_train = []\n",
    "history_val = []\n",
    "epochs = 300\n",
    "optim = torch.optim.Adam(model.parameters())\n",
    "loss_function = nn.BCELoss().to(device)\n",
    "\n",
    "for epoch in range(epochs):\n",
    "  for idx, (batch, target) in tqdm_notebook(enumerate(trainer.iterable_minibatches(train_df))):\n",
    "    # Preprocessing the batch data and target\n",
    "    input1 = torch.tensor(batch['sites'], dtype=torch.long).cuda()\n",
    "    target = torch.tensor(target).float().to(device)\n",
    "\n",
    "    predictions = model(input1).float()\n",
    "    predictions = predictions.view(predictions.size(0))\n",
    "    loss = loss_function(predictions, target)\n",
    "\n",
    "    loss.backward()\n",
    "    optim.step()\n",
    "    optim.zero_grad()\n",
    "\n",
    "   \n",
    "    history_train.append(loss.data.cpu().numpy())\n",
    "    history_val.append(roc_auc(model, valid_df))\n",
    "    if (idx+1)%50==0:\n",
    "        clear_output(True)\n",
    "        # plt.plot(history_train,label='train loss')\n",
    "        plt.plot(history_val,label='roc_auc')\n",
    "        plt.legend()\n",
    "        plt.show()\n",
    "        # print(f'train {loss}')\n",
    "        print(f'val {history_val[-1]}')"
   ]
  },
  {
   "cell_type": "code",
   "execution_count": 0,
   "metadata": {
    "colab": {},
    "colab_type": "code",
    "id": "rtPO9rAF30Ro"
   },
   "outputs": [],
   "source": [
    "def roc_auc (model, data, target = 'target'):\n",
    "  roc_auc = roc_auc_score(data[target],\n",
    "                          model(torch.tensor(trainer.make_batch(valid_df)['sites'], dtype=torch.long).cuda()).cpu().data.numpy())\n",
    "  return roc_auc"
   ]
  },
  {
   "cell_type": "code",
   "execution_count": 0,
   "metadata": {
    "colab": {},
    "colab_type": "code",
    "id": "a2f8c7s6JGE-"
   },
   "outputs": [],
   "source": []
  }
 ],
 "metadata": {
  "accelerator": "GPU",
  "colab": {
   "authorship_tag": "ABX9TyM9b90ETe5gOdBrOd9mhpam",
   "collapsed_sections": [],
   "include_colab_link": true,
   "mount_file_id": "1q7pI8KwTPJ3fvsxzWbr_O5k-A8TRlvBl",
   "name": "catch_me.ipynb",
   "provenance": []
  },
  "kernelspec": {
   "display_name": "Python 3",
   "language": "python",
   "name": "python3"
  },
  "language_info": {
   "codemirror_mode": {
    "name": "ipython",
    "version": 3
   },
   "file_extension": ".py",
   "mimetype": "text/x-python",
   "name": "python",
   "nbconvert_exporter": "python",
   "pygments_lexer": "ipython3",
   "version": "3.7.4"
  }
 },
 "nbformat": 4,
 "nbformat_minor": 1
}
