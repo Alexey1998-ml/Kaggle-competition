{
  "nbformat": 4,
  "nbformat_minor": 0,
  "metadata": {
    "accelerator": "GPU",
    "colab": {
      "name": "catch_me.ipynb\"",
      "provenance": [],
      "collapsed_sections": []
    },
    "kernelspec": {
      "name": "python3",
      "display_name": "Python 3"
    },
    "language_info": {
      "codemirror_mode": {
        "name": "ipython",
        "version": 3
      },
      "file_extension": ".py",
      "mimetype": "text/x-python",
      "name": "python",
      "nbconvert_exporter": "python",
      "pygments_lexer": "ipython3",
      "version": "3.7.4"
    },
    "widgets": {
      "application/vnd.jupyter.widget-state+json": {
        "88b7d13c8b984c5e91fccf08262e1728": {
          "model_module": "@jupyter-widgets/controls",
          "model_name": "HBoxModel",
          "state": {
            "_view_name": "HBoxView",
            "_dom_classes": [],
            "_model_name": "HBoxModel",
            "_view_module": "@jupyter-widgets/controls",
            "_model_module_version": "1.5.0",
            "_view_count": null,
            "_view_module_version": "1.5.0",
            "box_style": "",
            "layout": "IPY_MODEL_261e7044b33747138996c37beb22f1cd",
            "_model_module": "@jupyter-widgets/controls",
            "children": [
              "IPY_MODEL_d5a7997c971649358b3b5c3dc22e0bbb",
              "IPY_MODEL_b232ca9775d44b6b8d4464c827f8b316"
            ]
          }
        },
        "261e7044b33747138996c37beb22f1cd": {
          "model_module": "@jupyter-widgets/base",
          "model_name": "LayoutModel",
          "state": {
            "_view_name": "LayoutView",
            "grid_template_rows": null,
            "right": null,
            "justify_content": null,
            "_view_module": "@jupyter-widgets/base",
            "overflow": null,
            "_model_module_version": "1.2.0",
            "_view_count": null,
            "flex_flow": null,
            "width": null,
            "min_width": null,
            "border": null,
            "align_items": null,
            "bottom": null,
            "_model_module": "@jupyter-widgets/base",
            "top": null,
            "grid_column": null,
            "overflow_y": null,
            "overflow_x": null,
            "grid_auto_flow": null,
            "grid_area": null,
            "grid_template_columns": null,
            "flex": null,
            "_model_name": "LayoutModel",
            "justify_items": null,
            "grid_row": null,
            "max_height": null,
            "align_content": null,
            "visibility": null,
            "align_self": null,
            "height": null,
            "min_height": null,
            "padding": null,
            "grid_auto_rows": null,
            "grid_gap": null,
            "max_width": null,
            "order": null,
            "_view_module_version": "1.2.0",
            "grid_template_areas": null,
            "object_position": null,
            "object_fit": null,
            "grid_auto_columns": null,
            "margin": null,
            "display": null,
            "left": null
          }
        },
        "d5a7997c971649358b3b5c3dc22e0bbb": {
          "model_module": "@jupyter-widgets/controls",
          "model_name": "FloatProgressModel",
          "state": {
            "_view_name": "ProgressView",
            "style": "IPY_MODEL_7282fc58f3f149568fb6d992d4ed1ef4",
            "_dom_classes": [],
            "description": "",
            "_model_name": "FloatProgressModel",
            "bar_style": "success",
            "max": 1,
            "_view_module": "@jupyter-widgets/controls",
            "_model_module_version": "1.5.0",
            "value": 1,
            "_view_count": null,
            "_view_module_version": "1.5.0",
            "orientation": "horizontal",
            "min": 0,
            "description_tooltip": null,
            "_model_module": "@jupyter-widgets/controls",
            "layout": "IPY_MODEL_1d57cacfc8a243ddac0a061bf87db6f3"
          }
        },
        "b232ca9775d44b6b8d4464c827f8b316": {
          "model_module": "@jupyter-widgets/controls",
          "model_name": "HTMLModel",
          "state": {
            "_view_name": "HTMLView",
            "style": "IPY_MODEL_eb8f2167652e487bbefc2a61e5ccdd3e",
            "_dom_classes": [],
            "description": "",
            "_model_name": "HTMLModel",
            "placeholder": "​",
            "_view_module": "@jupyter-widgets/controls",
            "_model_module_version": "1.5.0",
            "value": " 94/? [01:06&lt;00:00,  1.41it/s]",
            "_view_count": null,
            "_view_module_version": "1.5.0",
            "description_tooltip": null,
            "_model_module": "@jupyter-widgets/controls",
            "layout": "IPY_MODEL_9b2fe3b437c545ddb5ebe4f804fc9745"
          }
        },
        "7282fc58f3f149568fb6d992d4ed1ef4": {
          "model_module": "@jupyter-widgets/controls",
          "model_name": "ProgressStyleModel",
          "state": {
            "_view_name": "StyleView",
            "_model_name": "ProgressStyleModel",
            "description_width": "initial",
            "_view_module": "@jupyter-widgets/base",
            "_model_module_version": "1.5.0",
            "_view_count": null,
            "_view_module_version": "1.2.0",
            "bar_color": null,
            "_model_module": "@jupyter-widgets/controls"
          }
        },
        "1d57cacfc8a243ddac0a061bf87db6f3": {
          "model_module": "@jupyter-widgets/base",
          "model_name": "LayoutModel",
          "state": {
            "_view_name": "LayoutView",
            "grid_template_rows": null,
            "right": null,
            "justify_content": null,
            "_view_module": "@jupyter-widgets/base",
            "overflow": null,
            "_model_module_version": "1.2.0",
            "_view_count": null,
            "flex_flow": null,
            "width": null,
            "min_width": null,
            "border": null,
            "align_items": null,
            "bottom": null,
            "_model_module": "@jupyter-widgets/base",
            "top": null,
            "grid_column": null,
            "overflow_y": null,
            "overflow_x": null,
            "grid_auto_flow": null,
            "grid_area": null,
            "grid_template_columns": null,
            "flex": null,
            "_model_name": "LayoutModel",
            "justify_items": null,
            "grid_row": null,
            "max_height": null,
            "align_content": null,
            "visibility": null,
            "align_self": null,
            "height": null,
            "min_height": null,
            "padding": null,
            "grid_auto_rows": null,
            "grid_gap": null,
            "max_width": null,
            "order": null,
            "_view_module_version": "1.2.0",
            "grid_template_areas": null,
            "object_position": null,
            "object_fit": null,
            "grid_auto_columns": null,
            "margin": null,
            "display": null,
            "left": null
          }
        },
        "eb8f2167652e487bbefc2a61e5ccdd3e": {
          "model_module": "@jupyter-widgets/controls",
          "model_name": "DescriptionStyleModel",
          "state": {
            "_view_name": "StyleView",
            "_model_name": "DescriptionStyleModel",
            "description_width": "",
            "_view_module": "@jupyter-widgets/base",
            "_model_module_version": "1.5.0",
            "_view_count": null,
            "_view_module_version": "1.2.0",
            "_model_module": "@jupyter-widgets/controls"
          }
        },
        "9b2fe3b437c545ddb5ebe4f804fc9745": {
          "model_module": "@jupyter-widgets/base",
          "model_name": "LayoutModel",
          "state": {
            "_view_name": "LayoutView",
            "grid_template_rows": null,
            "right": null,
            "justify_content": null,
            "_view_module": "@jupyter-widgets/base",
            "overflow": null,
            "_model_module_version": "1.2.0",
            "_view_count": null,
            "flex_flow": null,
            "width": null,
            "min_width": null,
            "border": null,
            "align_items": null,
            "bottom": null,
            "_model_module": "@jupyter-widgets/base",
            "top": null,
            "grid_column": null,
            "overflow_y": null,
            "overflow_x": null,
            "grid_auto_flow": null,
            "grid_area": null,
            "grid_template_columns": null,
            "flex": null,
            "_model_name": "LayoutModel",
            "justify_items": null,
            "grid_row": null,
            "max_height": null,
            "align_content": null,
            "visibility": null,
            "align_self": null,
            "height": null,
            "min_height": null,
            "padding": null,
            "grid_auto_rows": null,
            "grid_gap": null,
            "max_width": null,
            "order": null,
            "_view_module_version": "1.2.0",
            "grid_template_areas": null,
            "object_position": null,
            "object_fit": null,
            "grid_auto_columns": null,
            "margin": null,
            "display": null,
            "left": null
          }
        },
        "c2beb338170943e3bd61d981827d60fd": {
          "model_module": "@jupyter-widgets/controls",
          "model_name": "HBoxModel",
          "state": {
            "_view_name": "HBoxView",
            "_dom_classes": [],
            "_model_name": "HBoxModel",
            "_view_module": "@jupyter-widgets/controls",
            "_model_module_version": "1.5.0",
            "_view_count": null,
            "_view_module_version": "1.5.0",
            "box_style": "",
            "layout": "IPY_MODEL_324b95fc92ea436c8db462b6fb00b85c",
            "_model_module": "@jupyter-widgets/controls",
            "children": [
              "IPY_MODEL_6f0abaf5457e4468b73803647c737187",
              "IPY_MODEL_3aaaf7b2d9244bbd94adf31c94676918"
            ]
          }
        },
        "324b95fc92ea436c8db462b6fb00b85c": {
          "model_module": "@jupyter-widgets/base",
          "model_name": "LayoutModel",
          "state": {
            "_view_name": "LayoutView",
            "grid_template_rows": null,
            "right": null,
            "justify_content": null,
            "_view_module": "@jupyter-widgets/base",
            "overflow": null,
            "_model_module_version": "1.2.0",
            "_view_count": null,
            "flex_flow": null,
            "width": null,
            "min_width": null,
            "border": null,
            "align_items": null,
            "bottom": null,
            "_model_module": "@jupyter-widgets/base",
            "top": null,
            "grid_column": null,
            "overflow_y": null,
            "overflow_x": null,
            "grid_auto_flow": null,
            "grid_area": null,
            "grid_template_columns": null,
            "flex": null,
            "_model_name": "LayoutModel",
            "justify_items": null,
            "grid_row": null,
            "max_height": null,
            "align_content": null,
            "visibility": null,
            "align_self": null,
            "height": null,
            "min_height": null,
            "padding": null,
            "grid_auto_rows": null,
            "grid_gap": null,
            "max_width": null,
            "order": null,
            "_view_module_version": "1.2.0",
            "grid_template_areas": null,
            "object_position": null,
            "object_fit": null,
            "grid_auto_columns": null,
            "margin": null,
            "display": null,
            "left": null
          }
        },
        "6f0abaf5457e4468b73803647c737187": {
          "model_module": "@jupyter-widgets/controls",
          "model_name": "FloatProgressModel",
          "state": {
            "_view_name": "ProgressView",
            "style": "IPY_MODEL_cf6a72928a6c44ed98fa535dbbe51aa1",
            "_dom_classes": [],
            "description": "",
            "_model_name": "FloatProgressModel",
            "bar_style": "success",
            "max": 1,
            "_view_module": "@jupyter-widgets/controls",
            "_model_module_version": "1.5.0",
            "value": 1,
            "_view_count": null,
            "_view_module_version": "1.5.0",
            "orientation": "horizontal",
            "min": 0,
            "description_tooltip": null,
            "_model_module": "@jupyter-widgets/controls",
            "layout": "IPY_MODEL_fe65d0a98a13428382ee8643880cdb62"
          }
        },
        "3aaaf7b2d9244bbd94adf31c94676918": {
          "model_module": "@jupyter-widgets/controls",
          "model_name": "HTMLModel",
          "state": {
            "_view_name": "HTMLView",
            "style": "IPY_MODEL_1b82912be3434a0c8ec51971b836e5c6",
            "_dom_classes": [],
            "description": "",
            "_model_name": "HTMLModel",
            "placeholder": "​",
            "_view_module": "@jupyter-widgets/controls",
            "_model_module_version": "1.5.0",
            "value": " 94/? [01:06&lt;00:00,  1.41it/s]",
            "_view_count": null,
            "_view_module_version": "1.5.0",
            "description_tooltip": null,
            "_model_module": "@jupyter-widgets/controls",
            "layout": "IPY_MODEL_e45091f727e04214a820c9df07ed985f"
          }
        },
        "cf6a72928a6c44ed98fa535dbbe51aa1": {
          "model_module": "@jupyter-widgets/controls",
          "model_name": "ProgressStyleModel",
          "state": {
            "_view_name": "StyleView",
            "_model_name": "ProgressStyleModel",
            "description_width": "initial",
            "_view_module": "@jupyter-widgets/base",
            "_model_module_version": "1.5.0",
            "_view_count": null,
            "_view_module_version": "1.2.0",
            "bar_color": null,
            "_model_module": "@jupyter-widgets/controls"
          }
        },
        "fe65d0a98a13428382ee8643880cdb62": {
          "model_module": "@jupyter-widgets/base",
          "model_name": "LayoutModel",
          "state": {
            "_view_name": "LayoutView",
            "grid_template_rows": null,
            "right": null,
            "justify_content": null,
            "_view_module": "@jupyter-widgets/base",
            "overflow": null,
            "_model_module_version": "1.2.0",
            "_view_count": null,
            "flex_flow": null,
            "width": null,
            "min_width": null,
            "border": null,
            "align_items": null,
            "bottom": null,
            "_model_module": "@jupyter-widgets/base",
            "top": null,
            "grid_column": null,
            "overflow_y": null,
            "overflow_x": null,
            "grid_auto_flow": null,
            "grid_area": null,
            "grid_template_columns": null,
            "flex": null,
            "_model_name": "LayoutModel",
            "justify_items": null,
            "grid_row": null,
            "max_height": null,
            "align_content": null,
            "visibility": null,
            "align_self": null,
            "height": null,
            "min_height": null,
            "padding": null,
            "grid_auto_rows": null,
            "grid_gap": null,
            "max_width": null,
            "order": null,
            "_view_module_version": "1.2.0",
            "grid_template_areas": null,
            "object_position": null,
            "object_fit": null,
            "grid_auto_columns": null,
            "margin": null,
            "display": null,
            "left": null
          }
        },
        "1b82912be3434a0c8ec51971b836e5c6": {
          "model_module": "@jupyter-widgets/controls",
          "model_name": "DescriptionStyleModel",
          "state": {
            "_view_name": "StyleView",
            "_model_name": "DescriptionStyleModel",
            "description_width": "",
            "_view_module": "@jupyter-widgets/base",
            "_model_module_version": "1.5.0",
            "_view_count": null,
            "_view_module_version": "1.2.0",
            "_model_module": "@jupyter-widgets/controls"
          }
        },
        "e45091f727e04214a820c9df07ed985f": {
          "model_module": "@jupyter-widgets/base",
          "model_name": "LayoutModel",
          "state": {
            "_view_name": "LayoutView",
            "grid_template_rows": null,
            "right": null,
            "justify_content": null,
            "_view_module": "@jupyter-widgets/base",
            "overflow": null,
            "_model_module_version": "1.2.0",
            "_view_count": null,
            "flex_flow": null,
            "width": null,
            "min_width": null,
            "border": null,
            "align_items": null,
            "bottom": null,
            "_model_module": "@jupyter-widgets/base",
            "top": null,
            "grid_column": null,
            "overflow_y": null,
            "overflow_x": null,
            "grid_auto_flow": null,
            "grid_area": null,
            "grid_template_columns": null,
            "flex": null,
            "_model_name": "LayoutModel",
            "justify_items": null,
            "grid_row": null,
            "max_height": null,
            "align_content": null,
            "visibility": null,
            "align_self": null,
            "height": null,
            "min_height": null,
            "padding": null,
            "grid_auto_rows": null,
            "grid_gap": null,
            "max_width": null,
            "order": null,
            "_view_module_version": "1.2.0",
            "grid_template_areas": null,
            "object_position": null,
            "object_fit": null,
            "grid_auto_columns": null,
            "margin": null,
            "display": null,
            "left": null
          }
        },
        "562a76c6089444c785c0cfafa14b8279": {
          "model_module": "@jupyter-widgets/controls",
          "model_name": "HBoxModel",
          "state": {
            "_view_name": "HBoxView",
            "_dom_classes": [],
            "_model_name": "HBoxModel",
            "_view_module": "@jupyter-widgets/controls",
            "_model_module_version": "1.5.0",
            "_view_count": null,
            "_view_module_version": "1.5.0",
            "box_style": "",
            "layout": "IPY_MODEL_9ccae979bb944e6e8141785443cd608f",
            "_model_module": "@jupyter-widgets/controls",
            "children": [
              "IPY_MODEL_16dabb1029dc40c1af57d30b32286761",
              "IPY_MODEL_b7ad7e35d724476e8d91c706d03dca88"
            ]
          }
        },
        "9ccae979bb944e6e8141785443cd608f": {
          "model_module": "@jupyter-widgets/base",
          "model_name": "LayoutModel",
          "state": {
            "_view_name": "LayoutView",
            "grid_template_rows": null,
            "right": null,
            "justify_content": null,
            "_view_module": "@jupyter-widgets/base",
            "overflow": null,
            "_model_module_version": "1.2.0",
            "_view_count": null,
            "flex_flow": null,
            "width": null,
            "min_width": null,
            "border": null,
            "align_items": null,
            "bottom": null,
            "_model_module": "@jupyter-widgets/base",
            "top": null,
            "grid_column": null,
            "overflow_y": null,
            "overflow_x": null,
            "grid_auto_flow": null,
            "grid_area": null,
            "grid_template_columns": null,
            "flex": null,
            "_model_name": "LayoutModel",
            "justify_items": null,
            "grid_row": null,
            "max_height": null,
            "align_content": null,
            "visibility": null,
            "align_self": null,
            "height": null,
            "min_height": null,
            "padding": null,
            "grid_auto_rows": null,
            "grid_gap": null,
            "max_width": null,
            "order": null,
            "_view_module_version": "1.2.0",
            "grid_template_areas": null,
            "object_position": null,
            "object_fit": null,
            "grid_auto_columns": null,
            "margin": null,
            "display": null,
            "left": null
          }
        },
        "16dabb1029dc40c1af57d30b32286761": {
          "model_module": "@jupyter-widgets/controls",
          "model_name": "FloatProgressModel",
          "state": {
            "_view_name": "ProgressView",
            "style": "IPY_MODEL_2a82f8ca91da4c98a512d42b78c4e6a6",
            "_dom_classes": [],
            "description": "",
            "_model_name": "FloatProgressModel",
            "bar_style": "success",
            "max": 1,
            "_view_module": "@jupyter-widgets/controls",
            "_model_module_version": "1.5.0",
            "value": 1,
            "_view_count": null,
            "_view_module_version": "1.5.0",
            "orientation": "horizontal",
            "min": 0,
            "description_tooltip": null,
            "_model_module": "@jupyter-widgets/controls",
            "layout": "IPY_MODEL_caf69a14989a4ee9a8f4a1dd1fbcdab4"
          }
        },
        "b7ad7e35d724476e8d91c706d03dca88": {
          "model_module": "@jupyter-widgets/controls",
          "model_name": "HTMLModel",
          "state": {
            "_view_name": "HTMLView",
            "style": "IPY_MODEL_3c9f159b36ba4598be614d80d7ea4383",
            "_dom_classes": [],
            "description": "",
            "_model_name": "HTMLModel",
            "placeholder": "​",
            "_view_module": "@jupyter-widgets/controls",
            "_model_module_version": "1.5.0",
            "value": " 94/? [01:11&lt;00:00,  1.32it/s]",
            "_view_count": null,
            "_view_module_version": "1.5.0",
            "description_tooltip": null,
            "_model_module": "@jupyter-widgets/controls",
            "layout": "IPY_MODEL_e6302d905a1e4c76890ca18128032ed6"
          }
        },
        "2a82f8ca91da4c98a512d42b78c4e6a6": {
          "model_module": "@jupyter-widgets/controls",
          "model_name": "ProgressStyleModel",
          "state": {
            "_view_name": "StyleView",
            "_model_name": "ProgressStyleModel",
            "description_width": "initial",
            "_view_module": "@jupyter-widgets/base",
            "_model_module_version": "1.5.0",
            "_view_count": null,
            "_view_module_version": "1.2.0",
            "bar_color": null,
            "_model_module": "@jupyter-widgets/controls"
          }
        },
        "caf69a14989a4ee9a8f4a1dd1fbcdab4": {
          "model_module": "@jupyter-widgets/base",
          "model_name": "LayoutModel",
          "state": {
            "_view_name": "LayoutView",
            "grid_template_rows": null,
            "right": null,
            "justify_content": null,
            "_view_module": "@jupyter-widgets/base",
            "overflow": null,
            "_model_module_version": "1.2.0",
            "_view_count": null,
            "flex_flow": null,
            "width": null,
            "min_width": null,
            "border": null,
            "align_items": null,
            "bottom": null,
            "_model_module": "@jupyter-widgets/base",
            "top": null,
            "grid_column": null,
            "overflow_y": null,
            "overflow_x": null,
            "grid_auto_flow": null,
            "grid_area": null,
            "grid_template_columns": null,
            "flex": null,
            "_model_name": "LayoutModel",
            "justify_items": null,
            "grid_row": null,
            "max_height": null,
            "align_content": null,
            "visibility": null,
            "align_self": null,
            "height": null,
            "min_height": null,
            "padding": null,
            "grid_auto_rows": null,
            "grid_gap": null,
            "max_width": null,
            "order": null,
            "_view_module_version": "1.2.0",
            "grid_template_areas": null,
            "object_position": null,
            "object_fit": null,
            "grid_auto_columns": null,
            "margin": null,
            "display": null,
            "left": null
          }
        },
        "3c9f159b36ba4598be614d80d7ea4383": {
          "model_module": "@jupyter-widgets/controls",
          "model_name": "DescriptionStyleModel",
          "state": {
            "_view_name": "StyleView",
            "_model_name": "DescriptionStyleModel",
            "description_width": "",
            "_view_module": "@jupyter-widgets/base",
            "_model_module_version": "1.5.0",
            "_view_count": null,
            "_view_module_version": "1.2.0",
            "_model_module": "@jupyter-widgets/controls"
          }
        },
        "e6302d905a1e4c76890ca18128032ed6": {
          "model_module": "@jupyter-widgets/base",
          "model_name": "LayoutModel",
          "state": {
            "_view_name": "LayoutView",
            "grid_template_rows": null,
            "right": null,
            "justify_content": null,
            "_view_module": "@jupyter-widgets/base",
            "overflow": null,
            "_model_module_version": "1.2.0",
            "_view_count": null,
            "flex_flow": null,
            "width": null,
            "min_width": null,
            "border": null,
            "align_items": null,
            "bottom": null,
            "_model_module": "@jupyter-widgets/base",
            "top": null,
            "grid_column": null,
            "overflow_y": null,
            "overflow_x": null,
            "grid_auto_flow": null,
            "grid_area": null,
            "grid_template_columns": null,
            "flex": null,
            "_model_name": "LayoutModel",
            "justify_items": null,
            "grid_row": null,
            "max_height": null,
            "align_content": null,
            "visibility": null,
            "align_self": null,
            "height": null,
            "min_height": null,
            "padding": null,
            "grid_auto_rows": null,
            "grid_gap": null,
            "max_width": null,
            "order": null,
            "_view_module_version": "1.2.0",
            "grid_template_areas": null,
            "object_position": null,
            "object_fit": null,
            "grid_auto_columns": null,
            "margin": null,
            "display": null,
            "left": null
          }
        },
        "6fab5f678eeb430bb1679c1527888147": {
          "model_module": "@jupyter-widgets/controls",
          "model_name": "HBoxModel",
          "state": {
            "_view_name": "HBoxView",
            "_dom_classes": [],
            "_model_name": "HBoxModel",
            "_view_module": "@jupyter-widgets/controls",
            "_model_module_version": "1.5.0",
            "_view_count": null,
            "_view_module_version": "1.5.0",
            "box_style": "",
            "layout": "IPY_MODEL_964d7e15e98343adb53f23ad97e6ec79",
            "_model_module": "@jupyter-widgets/controls",
            "children": [
              "IPY_MODEL_508fb1480f4a4792afb947ce54a2aa1b",
              "IPY_MODEL_860ead95389c460a9aaed72458cc12d6"
            ]
          }
        },
        "964d7e15e98343adb53f23ad97e6ec79": {
          "model_module": "@jupyter-widgets/base",
          "model_name": "LayoutModel",
          "state": {
            "_view_name": "LayoutView",
            "grid_template_rows": null,
            "right": null,
            "justify_content": null,
            "_view_module": "@jupyter-widgets/base",
            "overflow": null,
            "_model_module_version": "1.2.0",
            "_view_count": null,
            "flex_flow": null,
            "width": null,
            "min_width": null,
            "border": null,
            "align_items": null,
            "bottom": null,
            "_model_module": "@jupyter-widgets/base",
            "top": null,
            "grid_column": null,
            "overflow_y": null,
            "overflow_x": null,
            "grid_auto_flow": null,
            "grid_area": null,
            "grid_template_columns": null,
            "flex": null,
            "_model_name": "LayoutModel",
            "justify_items": null,
            "grid_row": null,
            "max_height": null,
            "align_content": null,
            "visibility": null,
            "align_self": null,
            "height": null,
            "min_height": null,
            "padding": null,
            "grid_auto_rows": null,
            "grid_gap": null,
            "max_width": null,
            "order": null,
            "_view_module_version": "1.2.0",
            "grid_template_areas": null,
            "object_position": null,
            "object_fit": null,
            "grid_auto_columns": null,
            "margin": null,
            "display": null,
            "left": null
          }
        },
        "508fb1480f4a4792afb947ce54a2aa1b": {
          "model_module": "@jupyter-widgets/controls",
          "model_name": "FloatProgressModel",
          "state": {
            "_view_name": "ProgressView",
            "style": "IPY_MODEL_51768d6e60084d17881a95e199f3f660",
            "_dom_classes": [],
            "description": "",
            "_model_name": "FloatProgressModel",
            "bar_style": "success",
            "max": 1,
            "_view_module": "@jupyter-widgets/controls",
            "_model_module_version": "1.5.0",
            "value": 1,
            "_view_count": null,
            "_view_module_version": "1.5.0",
            "orientation": "horizontal",
            "min": 0,
            "description_tooltip": null,
            "_model_module": "@jupyter-widgets/controls",
            "layout": "IPY_MODEL_2dbff77efac241f38c683e269c1836c6"
          }
        },
        "860ead95389c460a9aaed72458cc12d6": {
          "model_module": "@jupyter-widgets/controls",
          "model_name": "HTMLModel",
          "state": {
            "_view_name": "HTMLView",
            "style": "IPY_MODEL_b5ad6ab44df1411e8f20f2644b78ab71",
            "_dom_classes": [],
            "description": "",
            "_model_name": "HTMLModel",
            "placeholder": "​",
            "_view_module": "@jupyter-widgets/controls",
            "_model_module_version": "1.5.0",
            "value": " 94/? [01:13&lt;00:00,  1.27it/s]",
            "_view_count": null,
            "_view_module_version": "1.5.0",
            "description_tooltip": null,
            "_model_module": "@jupyter-widgets/controls",
            "layout": "IPY_MODEL_1ed191ad414b4343b5f28fdc23351a66"
          }
        },
        "51768d6e60084d17881a95e199f3f660": {
          "model_module": "@jupyter-widgets/controls",
          "model_name": "ProgressStyleModel",
          "state": {
            "_view_name": "StyleView",
            "_model_name": "ProgressStyleModel",
            "description_width": "initial",
            "_view_module": "@jupyter-widgets/base",
            "_model_module_version": "1.5.0",
            "_view_count": null,
            "_view_module_version": "1.2.0",
            "bar_color": null,
            "_model_module": "@jupyter-widgets/controls"
          }
        },
        "2dbff77efac241f38c683e269c1836c6": {
          "model_module": "@jupyter-widgets/base",
          "model_name": "LayoutModel",
          "state": {
            "_view_name": "LayoutView",
            "grid_template_rows": null,
            "right": null,
            "justify_content": null,
            "_view_module": "@jupyter-widgets/base",
            "overflow": null,
            "_model_module_version": "1.2.0",
            "_view_count": null,
            "flex_flow": null,
            "width": null,
            "min_width": null,
            "border": null,
            "align_items": null,
            "bottom": null,
            "_model_module": "@jupyter-widgets/base",
            "top": null,
            "grid_column": null,
            "overflow_y": null,
            "overflow_x": null,
            "grid_auto_flow": null,
            "grid_area": null,
            "grid_template_columns": null,
            "flex": null,
            "_model_name": "LayoutModel",
            "justify_items": null,
            "grid_row": null,
            "max_height": null,
            "align_content": null,
            "visibility": null,
            "align_self": null,
            "height": null,
            "min_height": null,
            "padding": null,
            "grid_auto_rows": null,
            "grid_gap": null,
            "max_width": null,
            "order": null,
            "_view_module_version": "1.2.0",
            "grid_template_areas": null,
            "object_position": null,
            "object_fit": null,
            "grid_auto_columns": null,
            "margin": null,
            "display": null,
            "left": null
          }
        },
        "b5ad6ab44df1411e8f20f2644b78ab71": {
          "model_module": "@jupyter-widgets/controls",
          "model_name": "DescriptionStyleModel",
          "state": {
            "_view_name": "StyleView",
            "_model_name": "DescriptionStyleModel",
            "description_width": "",
            "_view_module": "@jupyter-widgets/base",
            "_model_module_version": "1.5.0",
            "_view_count": null,
            "_view_module_version": "1.2.0",
            "_model_module": "@jupyter-widgets/controls"
          }
        },
        "1ed191ad414b4343b5f28fdc23351a66": {
          "model_module": "@jupyter-widgets/base",
          "model_name": "LayoutModel",
          "state": {
            "_view_name": "LayoutView",
            "grid_template_rows": null,
            "right": null,
            "justify_content": null,
            "_view_module": "@jupyter-widgets/base",
            "overflow": null,
            "_model_module_version": "1.2.0",
            "_view_count": null,
            "flex_flow": null,
            "width": null,
            "min_width": null,
            "border": null,
            "align_items": null,
            "bottom": null,
            "_model_module": "@jupyter-widgets/base",
            "top": null,
            "grid_column": null,
            "overflow_y": null,
            "overflow_x": null,
            "grid_auto_flow": null,
            "grid_area": null,
            "grid_template_columns": null,
            "flex": null,
            "_model_name": "LayoutModel",
            "justify_items": null,
            "grid_row": null,
            "max_height": null,
            "align_content": null,
            "visibility": null,
            "align_self": null,
            "height": null,
            "min_height": null,
            "padding": null,
            "grid_auto_rows": null,
            "grid_gap": null,
            "max_width": null,
            "order": null,
            "_view_module_version": "1.2.0",
            "grid_template_areas": null,
            "object_position": null,
            "object_fit": null,
            "grid_auto_columns": null,
            "margin": null,
            "display": null,
            "left": null
          }
        },
        "ef2dfaa04c634eb28e79a38268ef8fb6": {
          "model_module": "@jupyter-widgets/controls",
          "model_name": "HBoxModel",
          "state": {
            "_view_name": "HBoxView",
            "_dom_classes": [],
            "_model_name": "HBoxModel",
            "_view_module": "@jupyter-widgets/controls",
            "_model_module_version": "1.5.0",
            "_view_count": null,
            "_view_module_version": "1.5.0",
            "box_style": "",
            "layout": "IPY_MODEL_4514ee488aca4e29946cc35bcdeabfe5",
            "_model_module": "@jupyter-widgets/controls",
            "children": [
              "IPY_MODEL_6d89e5fe9bcf42498e644ada5b367385",
              "IPY_MODEL_f1954e8f044b4112877c1fa5c4167ac3"
            ]
          }
        },
        "4514ee488aca4e29946cc35bcdeabfe5": {
          "model_module": "@jupyter-widgets/base",
          "model_name": "LayoutModel",
          "state": {
            "_view_name": "LayoutView",
            "grid_template_rows": null,
            "right": null,
            "justify_content": null,
            "_view_module": "@jupyter-widgets/base",
            "overflow": null,
            "_model_module_version": "1.2.0",
            "_view_count": null,
            "flex_flow": null,
            "width": null,
            "min_width": null,
            "border": null,
            "align_items": null,
            "bottom": null,
            "_model_module": "@jupyter-widgets/base",
            "top": null,
            "grid_column": null,
            "overflow_y": null,
            "overflow_x": null,
            "grid_auto_flow": null,
            "grid_area": null,
            "grid_template_columns": null,
            "flex": null,
            "_model_name": "LayoutModel",
            "justify_items": null,
            "grid_row": null,
            "max_height": null,
            "align_content": null,
            "visibility": null,
            "align_self": null,
            "height": null,
            "min_height": null,
            "padding": null,
            "grid_auto_rows": null,
            "grid_gap": null,
            "max_width": null,
            "order": null,
            "_view_module_version": "1.2.0",
            "grid_template_areas": null,
            "object_position": null,
            "object_fit": null,
            "grid_auto_columns": null,
            "margin": null,
            "display": null,
            "left": null
          }
        },
        "6d89e5fe9bcf42498e644ada5b367385": {
          "model_module": "@jupyter-widgets/controls",
          "model_name": "FloatProgressModel",
          "state": {
            "_view_name": "ProgressView",
            "style": "IPY_MODEL_318b0950dd0045c48c9cabba473e970a",
            "_dom_classes": [],
            "description": "",
            "_model_name": "FloatProgressModel",
            "bar_style": "success",
            "max": 1,
            "_view_module": "@jupyter-widgets/controls",
            "_model_module_version": "1.5.0",
            "value": 1,
            "_view_count": null,
            "_view_module_version": "1.5.0",
            "orientation": "horizontal",
            "min": 0,
            "description_tooltip": null,
            "_model_module": "@jupyter-widgets/controls",
            "layout": "IPY_MODEL_6a42c72e473b44e184b4991e071f0f80"
          }
        },
        "f1954e8f044b4112877c1fa5c4167ac3": {
          "model_module": "@jupyter-widgets/controls",
          "model_name": "HTMLModel",
          "state": {
            "_view_name": "HTMLView",
            "style": "IPY_MODEL_fd5d409b767848f9a14938e738eb10ce",
            "_dom_classes": [],
            "description": "",
            "_model_name": "HTMLModel",
            "placeholder": "​",
            "_view_module": "@jupyter-widgets/controls",
            "_model_module_version": "1.5.0",
            "value": " 94/? [00:59&lt;00:00,  1.58it/s]",
            "_view_count": null,
            "_view_module_version": "1.5.0",
            "description_tooltip": null,
            "_model_module": "@jupyter-widgets/controls",
            "layout": "IPY_MODEL_b42e9ec513bf413cb7d4e4e94d9bbe81"
          }
        },
        "318b0950dd0045c48c9cabba473e970a": {
          "model_module": "@jupyter-widgets/controls",
          "model_name": "ProgressStyleModel",
          "state": {
            "_view_name": "StyleView",
            "_model_name": "ProgressStyleModel",
            "description_width": "initial",
            "_view_module": "@jupyter-widgets/base",
            "_model_module_version": "1.5.0",
            "_view_count": null,
            "_view_module_version": "1.2.0",
            "bar_color": null,
            "_model_module": "@jupyter-widgets/controls"
          }
        },
        "6a42c72e473b44e184b4991e071f0f80": {
          "model_module": "@jupyter-widgets/base",
          "model_name": "LayoutModel",
          "state": {
            "_view_name": "LayoutView",
            "grid_template_rows": null,
            "right": null,
            "justify_content": null,
            "_view_module": "@jupyter-widgets/base",
            "overflow": null,
            "_model_module_version": "1.2.0",
            "_view_count": null,
            "flex_flow": null,
            "width": null,
            "min_width": null,
            "border": null,
            "align_items": null,
            "bottom": null,
            "_model_module": "@jupyter-widgets/base",
            "top": null,
            "grid_column": null,
            "overflow_y": null,
            "overflow_x": null,
            "grid_auto_flow": null,
            "grid_area": null,
            "grid_template_columns": null,
            "flex": null,
            "_model_name": "LayoutModel",
            "justify_items": null,
            "grid_row": null,
            "max_height": null,
            "align_content": null,
            "visibility": null,
            "align_self": null,
            "height": null,
            "min_height": null,
            "padding": null,
            "grid_auto_rows": null,
            "grid_gap": null,
            "max_width": null,
            "order": null,
            "_view_module_version": "1.2.0",
            "grid_template_areas": null,
            "object_position": null,
            "object_fit": null,
            "grid_auto_columns": null,
            "margin": null,
            "display": null,
            "left": null
          }
        },
        "fd5d409b767848f9a14938e738eb10ce": {
          "model_module": "@jupyter-widgets/controls",
          "model_name": "DescriptionStyleModel",
          "state": {
            "_view_name": "StyleView",
            "_model_name": "DescriptionStyleModel",
            "description_width": "",
            "_view_module": "@jupyter-widgets/base",
            "_model_module_version": "1.5.0",
            "_view_count": null,
            "_view_module_version": "1.2.0",
            "_model_module": "@jupyter-widgets/controls"
          }
        },
        "b42e9ec513bf413cb7d4e4e94d9bbe81": {
          "model_module": "@jupyter-widgets/base",
          "model_name": "LayoutModel",
          "state": {
            "_view_name": "LayoutView",
            "grid_template_rows": null,
            "right": null,
            "justify_content": null,
            "_view_module": "@jupyter-widgets/base",
            "overflow": null,
            "_model_module_version": "1.2.0",
            "_view_count": null,
            "flex_flow": null,
            "width": null,
            "min_width": null,
            "border": null,
            "align_items": null,
            "bottom": null,
            "_model_module": "@jupyter-widgets/base",
            "top": null,
            "grid_column": null,
            "overflow_y": null,
            "overflow_x": null,
            "grid_auto_flow": null,
            "grid_area": null,
            "grid_template_columns": null,
            "flex": null,
            "_model_name": "LayoutModel",
            "justify_items": null,
            "grid_row": null,
            "max_height": null,
            "align_content": null,
            "visibility": null,
            "align_self": null,
            "height": null,
            "min_height": null,
            "padding": null,
            "grid_auto_rows": null,
            "grid_gap": null,
            "max_width": null,
            "order": null,
            "_view_module_version": "1.2.0",
            "grid_template_areas": null,
            "object_position": null,
            "object_fit": null,
            "grid_auto_columns": null,
            "margin": null,
            "display": null,
            "left": null
          }
        }
      }
    }
  },
  "cells": [
    {
      "cell_type": "code",
      "metadata": {
        "id": "APqRITJb9qDF",
        "outputId": "90848907-cbf1-4432-86a3-e8b1fddbd28d",
        "colab": {
          "base_uri": "https://localhost:8080/",
          "height": 34
        }
      },
      "source": [
        "from google.colab import drive\n",
        "drive.mount('/content/drive', force_remount=True)\n",
        "import os"
      ],
      "execution_count": null,
      "outputs": [
        {
          "output_type": "stream",
          "text": [
            "Mounted at /content/drive\n"
          ],
          "name": "stdout"
        }
      ]
    },
    {
      "cell_type": "markdown",
      "metadata": {
        "id": "Zi_1O1XnrAww"
      },
      "source": [
        "Описание задания - https://www.kaggle.com/c/catch-me-if-you-can-intruder-detection-through-webpage-session-tracking2/overview"
      ]
    },
    {
      "cell_type": "code",
      "metadata": {
        "id": "8HXtJ78p4Jka"
      },
      "source": [
        "import numpy as np\n",
        "import pandas as pd\n",
        "from tqdm import tqdm_notebook\n",
        "from sklearn.preprocessing import StandardScaler, MinMaxScaler, MaxAbsScaler \n",
        "from sklearn.metrics import roc_auc_score\n",
        "from sklearn.model_selection import train_test_split, cross_val_score,\\\n",
        "learning_curve, TimeSeriesSplit, GridSearchCV\n",
        "%matplotlib inline\n",
        "from matplotlib import pyplot as plt\n",
        "from sklearn.metrics import roc_auc_score\n",
        "import warnings\n",
        "warnings.filterwarnings('ignore')\n",
        "from collections import Counter\n",
        "import torch\n",
        "import torch.nn as nn\n",
        "from IPython.display import clear_output\n",
        "import re\n",
        "import pickle\n",
        "from gensim.models import FastText\n",
        "from gensim.test.utils import get_tmpfile\n",
        "from sklearn.manifold import TSNE\n",
        "from sklearn.cluster import KMeans, DBSCAN\n",
        "from sklearn.feature_extraction.text import TfidfVectorizer\n",
        "from sklearn.linear_model import LogisticRegression\n",
        "from scipy.sparse import hstack\n",
        "from datetime import datetime\n",
        "import copy\n",
        "from functools import lru_cache\n",
        "import random"
      ],
      "execution_count": null,
      "outputs": []
    },
    {
      "cell_type": "code",
      "metadata": {
        "id": "fixb8ixl5k00"
      },
      "source": [
        "colab = True\n",
        "if colab:\n",
        "    PATH_TO_TRAIN = 'drive/My Drive/catch_me_test_sessions.csv'\n",
        "    PATH_TO_TEST = 'drive/My Drive/catch_me_train_sessions.csv'\n",
        "    PATH_TO_PICKLE = 'drive/My Drive/site_dic.pkl'\n",
        "    PATH_TO_TF_IDF = 'drive/My Drive/tf_idf_embeddings.csv'\n",
        "else:\n",
        "    PATH_TO_TRAIN = 'catch_me_test_sessions.csv'\n",
        "    PATH_TO_TEST = 'catch_me_train_sessions.csv'\n",
        "    PATH_TO_PICKLE = '../site_dic.pkl'\n",
        "PREDICT_FILENAME = 'catch_me_preds.csv'\n",
        "test = pd.read_csv(PATH_TO_TRAIN)\n",
        "data = pd.read_csv(PATH_TO_TEST)\n",
        "times = ['time%s' % i for i in range(1, 11)]\n",
        "sites = ['site%s' % i for i in range(1, 11)]\n",
        "data = data.drop_duplicates(subset = sites)\n",
        "data = data.reset_index().drop(['session_id', 'index'], axis = 1)\n",
        "data['index'] = [i for i in data.index]"
      ],
      "execution_count": null,
      "outputs": []
    },
    {
      "cell_type": "code",
      "metadata": {
        "id": "UlXOXSQ_P4I-"
      },
      "source": [
        "with open(PATH_TO_PICKLE, 'rb') as f:\n",
        "    sites_dict = pickle.load(f)"
      ],
      "execution_count": null,
      "outputs": []
    },
    {
      "cell_type": "code",
      "metadata": {
        "id": "Nb9-tk5yP4JC"
      },
      "source": [
        "sites_dict['padding'] = 0\n",
        "id_sites_dict = {sites_dict[site_name]:site_name for site_name in sites_dict}\n",
        "\n",
        "after_dot = Counter()\n",
        "for site_name in sites_dict:\n",
        "    after_dot.update({site_name.split('.')[-1]})\n",
        "\n",
        "after_dot = set(dict(after_dot.most_common(35)).keys())"
      ],
      "execution_count": null,
      "outputs": []
    },
    {
      "cell_type": "code",
      "metadata": {
        "id": "mq7KJkjIP4JG"
      },
      "source": [
        "corrected_site_name = []\n",
        "for id_site in id_sites_dict:\n",
        "    array_site_name = id_sites_dict[id_site].split('.')\n",
        "    if array_site_name[0] == 'www':\n",
        "        del array_site_name[0]\n",
        "    if array_site_name[-1] in after_dot:\n",
        "        del array_site_name[-1]\n",
        "    id_sites_dict[id_site] = '.'.join(array_site_name)"
      ],
      "execution_count": null,
      "outputs": []
    },
    {
      "cell_type": "code",
      "metadata": {
        "id": "Ecyeyj4YP4JK"
      },
      "source": [
        "data.fillna(0, inplace = True)\n",
        "test.fillna(0, inplace = True)\n",
        "data[sites] = data[sites].applymap(lambda id: id_sites_dict[id])\n",
        "test[sites] = test[sites].applymap(lambda id: id_sites_dict[id])"
      ],
      "execution_count": null,
      "outputs": []
    },
    {
      "cell_type": "code",
      "metadata": {
        "id": "G_vR2LobV7x8"
      },
      "source": [
        "model_ft = FastText.load('drive/My Drive/ft_model.model')\n",
        "clustering_model = None"
      ],
      "execution_count": null,
      "outputs": []
    },
    {
      "cell_type": "code",
      "metadata": {
        "id": "fIk-VMGt6GyX"
      },
      "source": [
        "class Prepare:\n",
        "    def __init__(self, train, test, target_column : str = 'target', model_ft = model_ft, **kwargs):\n",
        "        self.train = train\n",
        "        self.test = test\n",
        "        self.target_column = target_column\n",
        "        self.target = train[target_column]\n",
        "        self.unknown_idx = -1\n",
        "        self.pad_idx = 0\n",
        "        self.model_ft = model_ft\n",
        "        self.embedding_dim = 128\n",
        "        self.mean_embedding_columns = None\n",
        "        self.clustering_mean = True\n",
        "        self.clustering_tf_idf = False\n",
        "\n",
        "\n",
        "    def _get_vector(self, x):\n",
        "       return self.model_ft[x]\n",
        "\n",
        "\n",
        "    def prepare_df (self):\n",
        "        train = self.train\n",
        "        test = self.test\n",
        "        train[times] = train[times].apply(pd.to_datetime)\n",
        "        test[times] = test[times].apply(pd.to_datetime)\n",
        "        train = train.sort_values('time1')\n",
        "        train = self._create_cat_features(train)\n",
        "        test = self._create_cat_features(test)\n",
        "        if self.clustering_mean:\n",
        "          self.train = self._add_mean_embedding_columns(train)\n",
        "          self.test = self._add_mean_embedding_columns(test)\n",
        "\n",
        "\n",
        "    def _create_cat_features(self, df):\n",
        "        cat = 'cat_'\n",
        "        df[f'{cat}hour'] = df['time1'].apply(lambda time: time.hour)\n",
        "        df[f'{cat}morning'] = ((df[f'{cat}hour'] >= 7) & (df[f'{cat}hour'] <= 11)).astype('int')\n",
        "        df[f'{cat}day'] = ((df[f'{cat}hour'] >= 12) & (df[f'{cat}hour'] <= 18)).astype('int')\n",
        "        df[f'{cat}evening'] = ((df[f'{cat}hour'] >= 19) & (df[f'{cat}hour'] <= 23)).astype('int')\n",
        "        df[f'{cat}day_of_week'] = df['time1'].apply(lambda t: t.weekday()).astype('int')\n",
        "        df[f'{cat}weekend'] = df[f'{cat}day_of_week'].isin([5,6]).astype('int')\n",
        "        cat_columns = list(filter(lambda col: col[:4] == 'cat_', df.columns))\n",
        "        for cat_column in cat_columns:\n",
        "          df = pd.concat([df, pd.get_dummies(df[cat_column], prefix = cat_column)], axis = 1)\n",
        "          df.drop([cat_column], axis = 1, inplace = True)\n",
        "        self.cat_columns = list(filter(lambda col: col[:4] == 'cat_', df.columns))\n",
        "        return df\n",
        "\n",
        "\n",
        "    def _add_mean_embedding_columns(self, df):\n",
        "        if self.mean_embedding_columns is None:\n",
        "          self.mean_embedding_columns = [f'mean_embeding_{idx}' for idx in range(self.embedding_dim)]\n",
        "        mean_embeddings_df = np.array(list(map(self._get_vector,df[sites].values))).mean(axis = 1)\n",
        "        for idx, col in enumerate(self.mean_embedding_columns):\n",
        "          df[col] = mean_embeddings_df[:, idx]\n",
        "        return df\n",
        "\n"
      ],
      "execution_count": null,
      "outputs": []
    },
    {
      "cell_type": "code",
      "metadata": {
        "id": "LVqX1ff4arjH"
      },
      "source": [
        "class Clastering:\n",
        "\n",
        "  def __init__(self, preparer, clustering_model = clustering_model):\n",
        "    self.train = preparer.train\n",
        "    self.test = preparer.test\n",
        "    self.clustering_mean = preparer.clustering_mean\n",
        "    self.clustering_tf_idf = preparer.clustering_tf_idf\n",
        "    self.clustering_model = clustering_model\n",
        "    self.target = preparer.target\n",
        "    self.test_size = 0.15\n",
        "    self.mean_embedding_columns = preparer.mean_embedding_columns\n",
        "    self.cat_columns = preparer.cat_columns\n",
        "    self.range_clustering = range(5, 30, 5)\n",
        "    self.seed = 42\n",
        "\n",
        "\n",
        "  def add_clustering_columns(self):\n",
        "    if self.clustering_mean:\n",
        "      mode = 'mean'\n",
        "      columns_for_clustering = self.mean_embedding_columns + self.cat_columns\n",
        "      df = pd.concat([self.train[columns_for_clustering],\n",
        "                    self.test[columns_for_clustering]], axis = 0).reset_index()[columns_for_clustering]\n",
        "      if self.clustering_model is None:\n",
        "        self._make_clustering_model(df, columns_for_clustering, mode, KMeans)\n",
        "      df = self._add_clustering_features(df, columns_for_clustering, mode)\n",
        "      cluster_columns = list(filter(lambda col: col[:4] == 'clus', df.columns))\n",
        "      self.train[cluster_columns] = df.loc[:self.train.shape[0]][cluster_columns]\n",
        "      self.test[cluster_columns] = df.loc[self.train.shape[0]:].reset_index()[cluster_columns]\n",
        "\n",
        "    if self.clustering_tf_idf:\n",
        "      self.tf_idf_embedding = list(filter(lambda col: col[:6] == 'tf_idf', self.train.columns))\n",
        "      columns_for_clustering = self.tf_idf_embedding + self.cat_columns\n",
        "      df = pd.concat([self.train[columns_for_clustering],\n",
        "                    self.test[columns_for_clustering]], axis = 0).reset_index()[columns_for_clustering]\n",
        "      mode = 'tfidf'\n",
        "      if self.clustering_model is None:\n",
        "        self._make_clustering_model(df, mode, KMeans)\n",
        "      df = self._add_clustering_features(df, columns_for_clustering, mode)\n",
        "      cluster_columns = list(filter(lambda col: col[:4] == 'clus', df.columns))\n",
        "      self.train[cluster_columns] = df.loc[:self.train.shape[0]][cluster_columns]\n",
        "      self.test[cluster_columns] = df.loc[self.train.shape[0]:].reset_index()[cluster_columns]\n",
        "\n",
        "    self.train_df, self.valid_df, train_target, valid_target = train_test_split(self.train, self.target, random_state = self.seed,\n",
        "                                                                shuffle = False, test_size = self.test_size)\n",
        "    self.clustering_columns = list(filter(lambda col: col[:4] == 'clus', self.train.columns))\n",
        "\n",
        "    return self.clustering_model\n",
        "\n",
        "\n",
        "  def _make_clustering_model(self, df, columns_for_clustering, mode, cur_clustering_model):\n",
        "    if self.clustering_model is None:\n",
        "      self.clustering_model = {}\n",
        "    for idx, num_clusters in enumerate(self.range_clustering):\n",
        "      print(f'number clusters: {num_clusters}')\n",
        "      start_time = datetime.now()\n",
        "      self.clustering_model[f'{mode}_{idx}'] = cur_clustering_model(n_clusters = num_clusters, \n",
        "                                                      random_state = self.seed).fit(df[columns_for_clustering])\n",
        "      print(f'time: {datetime.now() - start_time}')\n",
        "\n",
        "\n",
        "  def _add_clustering_features(self, df, columns_for_clustering,  mode):\n",
        "    for key in list(filter(lambda mode_model: mode_model.split('_')[0] == mode, self.clustering_model.keys())):\n",
        "      idx = key.split('_')[-1]\n",
        "      model = self.clustering_model[key]\n",
        "      df[f'clustering_{mode}_{idx}'] = model.predict(df[columns_for_clustering])\n",
        "      df_dummies = pd.get_dummies(df[f'clustering_{mode}_{idx}'], prefix = f'clustering_{mode}_{idx}')\n",
        "      for col in df_dummies.columns:\n",
        "        df[col] = df_dummies[col]\n",
        "      df.drop(f'clustering_{mode}_{idx}', axis = 1, inplace = True)\n",
        "    return df"
      ],
      "execution_count": null,
      "outputs": []
    },
    {
      "cell_type": "code",
      "metadata": {
        "id": "7syXo7AsyFpM"
      },
      "source": [
        "class TrainNN:\n",
        "    \n",
        "    def __init__(self, preparer, clustering):\n",
        "      self._get_vector = preparer._get_vector\n",
        "      self.target_column = preparer.target_column\n",
        "      self.cat_columns = preparer.cat_columns\n",
        "      self.clustering_columns = clustering.clustering_columns\n",
        "      self.train_df = clustering.train_df\n",
        "      self.valid_df = clustering.valid_df\n",
        "      self.batch_size = 2048\n",
        "      self.dropout = 0.5\n",
        "      self.number_sites = 40000\n",
        "      self.test = preparer.test\n",
        "\n",
        "\n",
        "\n",
        "    def make_batch (self, df, dropout = 0, predict = False, **kwargs):\n",
        "            \n",
        "        batch = {}\n",
        "        major_matrix = np.array(list(map(self._get_vector,df[sites].values)))\n",
        "        batch['sites'] = major_matrix\n",
        "        if not predict:\n",
        "            batch[self.target_column] = df[self.target_column].values\n",
        "        batch['cat'] = df[self.cat_columns].values\n",
        "        batch['cluster'] = df[self.clustering_columns].values\n",
        "\n",
        "        return batch\n",
        "\n",
        "    def _apply_word_dropout (self, matrix, keep_prop, replace_with = -1, pad_ix = 0):\n",
        "        dropout_mask = np.random.choice(2, matrix.shape, p = [1 - keep_prop, keep_prop])\n",
        "        dropout_mask &= matrix !=  pad_ix\n",
        "        return np.choose (dropout_mask, [matrix, np.full_like(matrix, replace_with)])\n",
        "    \n",
        "    def iterable_minibatches (self, data = None, shuffle = True, **kwargs):\n",
        "        if data is None:\n",
        "          data = self.train_df\n",
        "        indecses = np.arange(len(data))\n",
        "        if shuffle:\n",
        "            indecses = np.random.permutation(indecses)\n",
        "        for start in range(0, len(indecses), self.batch_size):\n",
        "            batch = self.make_batch(data.iloc[indecses[start : start + self.batch_size]], **kwargs)\n",
        "            target = batch.pop(self.target_column)\n",
        "            yield batch, target\n",
        "    \n",
        "\n",
        "    def make_batch_for_valuate(self):\n",
        "      self.train_df_for_roc = self.train_df.sample(int(self.train_df.shape[0] * 0.3))\n",
        "      self.train_batch = self.make_batch(self.train_df_for_roc)\n",
        "      self.valid_batch = self.make_batch(self.valid_df)\n",
        "\n",
        "\n",
        "    def roc_auc (self, model, target = 'target', train = True):\n",
        "      if train is True:\n",
        "        batch =  self.train_batch\n",
        "        data = self.train_df_for_roc\n",
        "      else:\n",
        "        batch = self.valid_batch\n",
        "        data = self.valid_df\n",
        "      model.eval()\n",
        "      roc_auc = roc_auc_score(data[target],\n",
        "                              model(*self._make_tensor_for_model(batch)).cpu().data.numpy())\n",
        "      return roc_auc\n",
        "\n",
        "\n",
        "    def _make_tensor_for_model(self, batch):\n",
        "      return (torch.tensor(batch['sites']).float().cuda(), \n",
        "              torch.tensor(batch['cat']).float().cuda(),\n",
        "              torch.tensor(batch['cluster']).float().cuda())\n",
        "\n",
        "\n",
        "    def make_predictions_file (self, model):\n",
        "        model.eval()\n",
        "        batch = self.make_batch(self.test, predict = True)\n",
        "        predictions = model(*self._make_tensor_for_model(batch)).cpu().data.numpy()\n",
        "        series_preds = pd.Series(predictions[:,0], index = range (1,predictions[:,0].shape[0] + 1),\n",
        "                  name = 'target')\n",
        "        series_preds.to_csv(f'drive/My Drive/{PREDICT_FILENAME}', header = True, index_label = 'session_id')"
      ],
      "execution_count": null,
      "outputs": []
    },
    {
      "cell_type": "code",
      "metadata": {
        "id": "9pr7XCPxbjMH"
      },
      "source": [
        "preparer = Prepare(data, test)"
      ],
      "execution_count": null,
      "outputs": []
    },
    {
      "cell_type": "code",
      "metadata": {
        "id": "sXuOwCSDbu4k"
      },
      "source": [
        "preparer.prepare_df()"
      ],
      "execution_count": null,
      "outputs": []
    },
    {
      "cell_type": "code",
      "metadata": {
        "id": "lpGGCvJrFxU4"
      },
      "source": [
        "clustering = Clastering(preparer)"
      ],
      "execution_count": null,
      "outputs": []
    },
    {
      "cell_type": "code",
      "metadata": {
        "id": "afXj-SPlJ1RV",
        "outputId": "37228d16-ba26-4647-d913-fba6639eeef0",
        "colab": {
          "base_uri": "https://localhost:8080/",
          "height": 185
        }
      },
      "source": [
        "clustering_model = clustering.add_clustering_columns()"
      ],
      "execution_count": null,
      "outputs": [
        {
          "output_type": "stream",
          "text": [
            "number clusters: 5\n",
            "time: 0:00:49.087452\n",
            "number clusters: 10\n",
            "time: 0:01:30.979872\n",
            "number clusters: 15\n",
            "time: 0:02:07.132363\n",
            "number clusters: 20\n",
            "time: 0:02:22.204319\n",
            "number clusters: 25\n",
            "time: 0:03:00.600731\n"
          ],
          "name": "stdout"
        }
      ]
    },
    {
      "cell_type": "code",
      "metadata": {
        "id": "TjsxINZHufkH"
      },
      "source": [
        "trainer = TrainNN(preparer, clustering)"
      ],
      "execution_count": null,
      "outputs": []
    },
    {
      "cell_type": "code",
      "metadata": {
        "id": "Tm_FMltA0rXp"
      },
      "source": [
        "class MyAttention(nn.Module):\n",
        "    def __init__(self, hid_size):\n",
        "        \n",
        "        super(MyAttention, self).__init__()\n",
        "        self.hid_size = hid_size\n",
        "        self.relu = nn.ReLU()\n",
        "        att_weights = nn.Parameter(torch.Tensor(hid_size, hid_size), requires_grad = True)\n",
        "        std = 1 / np.sqrt(hid_size)\n",
        "        self.att_weights = nn.init.uniform_(att_weights, -std, std)\n",
        "  \n",
        "    def forward (self, input, c):\n",
        "        batch_size = input.size(0)\n",
        "        c = torch.cat((c[0], c[1]), 1)\n",
        "        c = c.unsqueeze(1)      \n",
        "        intermediate = torch.bmm(c,\n",
        "                            self.att_weights\n",
        "                            .repeat(batch_size, 1,1)    # batch_size , hid_size, hid_size\n",
        "                            )\n",
        "        weights = torch.bmm(input,\n",
        "                            intermediate.transpose(2,1))\n",
        "        attention = torch.softmax(self.relu(weights.squeeze()), dim = -1)\n",
        "        weights = torch.mul(input, attention.unsqueeze(-1))\n",
        "        representation = weights.sum(1)\n",
        "        return representation"
      ],
      "execution_count": null,
      "outputs": []
    },
    {
      "cell_type": "code",
      "metadata": {
        "id": "xcVmov9A6NtE"
      },
      "source": [
        "class NN(nn.Module):\n",
        "    def __init__(self, hid_size = 64, \n",
        "                   len_sequence = 10, len_cat = len(trainer.cat_columns), len_cluster = len(trainer.clustering_columns), \n",
        "                 rnn_dim = 64,\n",
        "                num_direction = 2):\n",
        "        super(NN, self).__init__()\n",
        "        # self.emb = nn.Embedding(n_tokens, hid_size, )\n",
        "        self.lstm = nn.LSTM(input_size = 128, \n",
        "                            hidden_size = rnn_dim,\n",
        "                            bidirectional = True, \n",
        "                            dropout = 0.5\n",
        "                            )\n",
        "        self.att = MyAttention(rnn_dim * num_direction)\n",
        "        self.relu = nn.ReLU()\n",
        "        self.fc1_cat = nn.Linear(len_cat, len_cat)\n",
        "        self.fc1_cluster = nn.Linear(len_cluster, 150)\n",
        "        self.fc2 = nn.Linear(len_cat + 150 , 50)\n",
        "        self.fc3 = nn.Linear(50 + len_cat  + hid_size * num_direction, 50)\n",
        "        self.fc_out = nn.Linear(50, 1)\n",
        "        self.sigmoid = nn.Sigmoid()\n",
        "        self.batchnorm1 = nn.BatchNorm1d(len_cat + 150)\n",
        "        self.batchnorm2 = nn.BatchNorm1d(50 + len_cat  + hid_size * num_direction)\n",
        "        self.batchnorm_finish = nn.BatchNorm1d(50)\n",
        "        self.dropout = nn.Dropout(0.5)\n",
        "\n",
        "    def forward(self, input_site, input_cat, input_cluster):\n",
        "        input_site = self.dropout(input_site.transpose(1,0))\n",
        "        output_lstm, (h, c) = self.lstm(input_site)\n",
        "        c = c.squeeze(0)        \n",
        "        att = self.att(output_lstm.transpose(1,0), c)\n",
        "        cat = self.fc1_cat(input_cat)\n",
        "        cat = self.relu(cat)\n",
        "        cluster = self.fc1_cluster(input_cluster)\n",
        "        cluster = self.relu(cluster)\n",
        "        combine = torch.cat([cluster.view(cluster.size(0), -1),\n",
        "                             cat.view(cat.size(0), -1)], dim = 1)\n",
        "        combine = self.batchnorm1(combine)\n",
        "        combine = self.dropout(combine)\n",
        "        combine = self.fc2(combine)\n",
        "        combine = self.relu(combine)\n",
        "        combine = torch.cat([combine.view(combine.size(0), -1),\n",
        "                             att.view(att.size(0), -1),\n",
        "                             cat.view(cat.size(0), -1)], dim = 1)\n",
        "        combine = self.batchnorm2(combine)\n",
        "        combine = self.dropout(combine)\n",
        "        out = self.fc3(combine)\n",
        "        out = self.relu(out)\n",
        "        out = self.batchnorm_finish(out)\n",
        "        out = self.dropout(out)\n",
        "        out = self.fc_out(out)\n",
        "        out = self.sigmoid(out)\n",
        "        return out\n"
      ],
      "execution_count": null,
      "outputs": []
    },
    {
      "cell_type": "code",
      "metadata": {
        "id": "XKg_38X568AF",
        "outputId": "3669839a-dc8e-4eac-cd99-6f0f46039e0e",
        "colab": {
          "base_uri": "https://localhost:8080/",
          "height": 302
        }
      },
      "source": [
        "model = NN()\n",
        "device = torch.device(\"cuda:0\")\n",
        "model.to(device)"
      ],
      "execution_count": null,
      "outputs": [
        {
          "output_type": "execute_result",
          "data": {
            "text/plain": [
              "NN(\n",
              "  (lstm): LSTM(128, 64, dropout=0.5, bidirectional=True)\n",
              "  (att): MyAttention(\n",
              "    (relu): ReLU()\n",
              "  )\n",
              "  (relu): ReLU()\n",
              "  (fc1_cat): Linear(in_features=32, out_features=32, bias=True)\n",
              "  (fc1_cluster): Linear(in_features=75, out_features=150, bias=True)\n",
              "  (fc2): Linear(in_features=182, out_features=50, bias=True)\n",
              "  (fc3): Linear(in_features=210, out_features=50, bias=True)\n",
              "  (fc_out): Linear(in_features=50, out_features=1, bias=True)\n",
              "  (sigmoid): Sigmoid()\n",
              "  (batchnorm1): BatchNorm1d(182, eps=1e-05, momentum=0.1, affine=True, track_running_stats=True)\n",
              "  (batchnorm2): BatchNorm1d(210, eps=1e-05, momentum=0.1, affine=True, track_running_stats=True)\n",
              "  (batchnorm_finish): BatchNorm1d(50, eps=1e-05, momentum=0.1, affine=True, track_running_stats=True)\n",
              "  (dropout): Dropout(p=0.5, inplace=False)\n",
              ")"
            ]
          },
          "metadata": {
            "tags": []
          },
          "execution_count": 113
        }
      ]
    },
    {
      "cell_type": "code",
      "metadata": {
        "id": "-p_D28EPnn0N",
        "outputId": "fdfc31ee-c2d2-48f0-a7b0-bf2c37d567f4",
        "colab": {
          "base_uri": "https://localhost:8080/",
          "height": 302
        }
      },
      "source": [
        "def init_weights(m):\n",
        "    for name, param in m.named_parameters():\n",
        "      nn.init.uniform_(param, -0.08, 0.08)\n",
        "model.apply(init_weights)"
      ],
      "execution_count": null,
      "outputs": [
        {
          "output_type": "execute_result",
          "data": {
            "text/plain": [
              "NN(\n",
              "  (lstm): LSTM(128, 64, dropout=0.5, bidirectional=True)\n",
              "  (att): MyAttention(\n",
              "    (relu): ReLU()\n",
              "  )\n",
              "  (relu): ReLU()\n",
              "  (fc1_cat): Linear(in_features=32, out_features=32, bias=True)\n",
              "  (fc1_cluster): Linear(in_features=75, out_features=150, bias=True)\n",
              "  (fc2): Linear(in_features=182, out_features=50, bias=True)\n",
              "  (fc3): Linear(in_features=210, out_features=50, bias=True)\n",
              "  (fc_out): Linear(in_features=50, out_features=1, bias=True)\n",
              "  (sigmoid): Sigmoid()\n",
              "  (batchnorm1): BatchNorm1d(182, eps=1e-05, momentum=0.1, affine=True, track_running_stats=True)\n",
              "  (batchnorm2): BatchNorm1d(210, eps=1e-05, momentum=0.1, affine=True, track_running_stats=True)\n",
              "  (batchnorm_finish): BatchNorm1d(50, eps=1e-05, momentum=0.1, affine=True, track_running_stats=True)\n",
              "  (dropout): Dropout(p=0.5, inplace=False)\n",
              ")"
            ]
          },
          "metadata": {
            "tags": []
          },
          "execution_count": 114
        }
      ]
    },
    {
      "cell_type": "code",
      "metadata": {
        "id": "jipHT7yuTTmy"
      },
      "source": [
        "class Scheduler:\n",
        "\n",
        "  def __init__(self, optimizer, p = 0.01):\n",
        "    self.optimizer = optimizer\n",
        "    self.p = p\n",
        "  \n",
        "\n",
        "  def step(self, board, threshold = 0.5, k_up = 1.2, k_down = 0.99):\n",
        "    if board < threshold:\n",
        "      k = 1 + (1/ (50 * board))\n",
        "    else:\n",
        "      rnd = random.random()\n",
        "      if rnd < self.p:\n",
        "        k = 1.2\n",
        "      else:\n",
        "        k = 1 - ((1 - board)/15) \n",
        "    for idx_group in range(len(self.optimizer.param_groups)):\n",
        "      self.optimizer.param_groups[0]['lr'] *= k\n",
        "    print(f'k:{k}')\n",
        "    "
      ],
      "execution_count": null,
      "outputs": []
    },
    {
      "cell_type": "code",
      "metadata": {
        "id": "8O3YSw9A7N3b",
        "outputId": "6f66d61d-72fb-404a-d4fa-9eb39a775efc",
        "colab": {
          "base_uri": "https://localhost:8080/",
          "height": 332,
          "referenced_widgets": [
            "88b7d13c8b984c5e91fccf08262e1728",
            "261e7044b33747138996c37beb22f1cd",
            "d5a7997c971649358b3b5c3dc22e0bbb",
            "b232ca9775d44b6b8d4464c827f8b316",
            "7282fc58f3f149568fb6d992d4ed1ef4",
            "1d57cacfc8a243ddac0a061bf87db6f3",
            "eb8f2167652e487bbefc2a61e5ccdd3e",
            "9b2fe3b437c545ddb5ebe4f804fc9745",
            "c2beb338170943e3bd61d981827d60fd",
            "324b95fc92ea436c8db462b6fb00b85c",
            "6f0abaf5457e4468b73803647c737187",
            "3aaaf7b2d9244bbd94adf31c94676918",
            "cf6a72928a6c44ed98fa535dbbe51aa1",
            "fe65d0a98a13428382ee8643880cdb62",
            "1b82912be3434a0c8ec51971b836e5c6",
            "e45091f727e04214a820c9df07ed985f",
            "562a76c6089444c785c0cfafa14b8279",
            "9ccae979bb944e6e8141785443cd608f",
            "16dabb1029dc40c1af57d30b32286761",
            "b7ad7e35d724476e8d91c706d03dca88",
            "2a82f8ca91da4c98a512d42b78c4e6a6",
            "caf69a14989a4ee9a8f4a1dd1fbcdab4",
            "3c9f159b36ba4598be614d80d7ea4383",
            "e6302d905a1e4c76890ca18128032ed6",
            "6fab5f678eeb430bb1679c1527888147",
            "964d7e15e98343adb53f23ad97e6ec79",
            "508fb1480f4a4792afb947ce54a2aa1b",
            "860ead95389c460a9aaed72458cc12d6",
            "51768d6e60084d17881a95e199f3f660",
            "2dbff77efac241f38c683e269c1836c6",
            "b5ad6ab44df1411e8f20f2644b78ab71",
            "1ed191ad414b4343b5f28fdc23351a66",
            "ef2dfaa04c634eb28e79a38268ef8fb6",
            "4514ee488aca4e29946cc35bcdeabfe5",
            "6d89e5fe9bcf42498e644ada5b367385",
            "f1954e8f044b4112877c1fa5c4167ac3",
            "318b0950dd0045c48c9cabba473e970a",
            "6a42c72e473b44e184b4991e071f0f80",
            "fd5d409b767848f9a14938e738eb10ce",
            "b42e9ec513bf413cb7d4e4e94d9bbe81"
          ]
        }
      },
      "source": [
        "history_train_loss = []\n",
        "history_val = []\n",
        "history_train_roc = []\n",
        "epochs = 5\n",
        "optim = torch.optim.Adam(model.parameters())\n",
        "loss_function = nn.BCELoss().to(device)\n",
        "trainer.make_batch_for_valuate()\n",
        "scheduler = Scheduler(optim)\n",
        "lr = []\n",
        "\n",
        "for epoch in range(epochs):\n",
        "    for idx, (batch, target) in tqdm_notebook(enumerate(trainer.iterable_minibatches())):\n",
        "        model.train()\n",
        "        input_site = torch.FloatTensor(batch['sites']).cuda()\n",
        "        input_cat = torch.tensor(batch['cat'], dtype=torch.long).float().cuda()\n",
        "        input_cluster = torch.tensor(batch['cluster'], dtype=torch.long).float().cuda()\n",
        "        target = torch.tensor(target).float().to(device)\n",
        "\n",
        "        predictions = model(input_site, input_cat, input_cluster).float()\n",
        "        predictions = predictions.view(predictions.size(0))\n",
        "        loss = loss_function(predictions, target)\n",
        "\n",
        "        loss.backward()\n",
        "        optim.step()\n",
        "        optim.zero_grad()\n",
        "\n",
        "\n",
        "        history_train_loss.append(loss.data.cpu().numpy())\n",
        "        history_val.append(trainer.roc_auc(model, train = False))\n",
        "\n",
        "        scheduler.step(board = history_val[-1])\n",
        "        lr.append(optim.param_groups[0]['lr'])\n",
        "        \n",
        "        history_train_roc.append(trainer.roc_auc(model))\n",
        "        clear_output(True)\n",
        "        plt.plot(history_val,label='val')\n",
        "        plt.plot(history_train_roc, label = 'train')\n",
        "        plt.legend()\n",
        "        plt.show()\n",
        "        if history_val[-1] == np.max(history_val):\n",
        "          best_model = copy.deepcopy(model)\n",
        "        print(f'train {history_train_roc[-1]}')\n",
        "        print(f'val {history_val[-1]}')\n",
        "        print(f'lr {lr[-1]}')"
      ],
      "execution_count": null,
      "outputs": [
        {
          "output_type": "display_data",
          "data": {
            "image/png": "[encoded data removed]",
            "text/plain": [
              "<Figure size 432x288 with 1 Axes>"
            ]
          },
          "metadata": {
            "tags": [],
            "needs_background": "light"
          }
        },
        {
          "output_type": "stream",
          "text": [
            "train 0.9584009021552826\n",
            "val 0.9505169845937474\n",
            "lr 0.00032523249517259163\n",
            "\n"
          ],
          "name": "stdout"
        }
      ]
    },
    {
      "cell_type": "code",
      "metadata": {
        "id": "5i8sr0v4YmUI",
        "outputId": "4c33cad2-89c4-4071-e70b-5cac8a9ed8bb",
        "colab": {
          "base_uri": "https://localhost:8080/",
          "height": 282
        }
      },
      "source": [
        "plt.plot(lr)"
      ],
      "execution_count": null,
      "outputs": [
        {
          "output_type": "execute_result",
          "data": {
            "text/plain": [
              "[<matplotlib.lines.Line2D at 0x7fe165018518>]"
            ]
          },
          "metadata": {
            "tags": []
          },
          "execution_count": 117
        },
        {
          "output_type": "display_data",
          "data": {
            "image/png": "[encoded data removed]",
            "text/plain": [
              "<Figure size 432x288 with 1 Axes>"
            ]
          },
          "metadata": {
            "tags": [],
            "needs_background": "light"
          }
        }
      ]
    },
    {
      "cell_type": "code",
      "metadata": {
        "id": "4CWu2djna-aZ",
        "outputId": "1cafdf73-e089-499a-cc62-cf78b43014b2",
        "colab": {
          "base_uri": "https://localhost:8080/",
          "height": 282
        }
      },
      "source": [
        "plt.plot(history_train_loss, label = 'train')"
      ],
      "execution_count": null,
      "outputs": [
        {
          "output_type": "execute_result",
          "data": {
            "text/plain": [
              "[<matplotlib.lines.Line2D at 0x7fdddde8ad68>]"
            ]
          },
          "metadata": {
            "tags": []
          },
          "execution_count": 118
        },
        {
          "output_type": "display_data",
          "data": {
            "image/png": "[encoded data removed]",
            "text/plain": [
              "<Figure size 432x288 with 1 Axes>"
            ]
          },
          "metadata": {
            "tags": [],
            "needs_background": "light"
          }
        }
      ]
    },
    {
      "cell_type": "code",
      "metadata": {
        "id": "8p9m74SBP4J0"
      },
      "source": [
        "trainer.make_predictions_file(best_model)"
      ],
      "execution_count": null,
      "outputs": []
    }
  ]
}