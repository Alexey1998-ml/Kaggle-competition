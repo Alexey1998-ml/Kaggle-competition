{
  "nbformat": 4,
  "nbformat_minor": 0,
  "metadata": {
    "colab": {
      "name": "catch_me.ipynb",
      "provenance": [],
      "collapsed_sections": [],
      "authorship_tag": "ABX9TyMlmPva6Z4Qh7if6vRXPQ5/",
      "include_colab_link": true
    },
    "kernelspec": {
      "name": "python3",
      "display_name": "Python 3"
    }
  },
  "cells": [
    {
      "cell_type": "markdown",
      "metadata": {
        "id": "view-in-github",
        "colab_type": "text"
      },
      "source": [
        "<a href=\"https://colab.research.google.com/github/Alexey1998-ml/example/blob/master/catch_me.ipynb\" target=\"_parent\"><img src=\"https://colab.research.google.com/assets/colab-badge.svg\" alt=\"Open In Colab\"/></a>"
      ]
    },
    {
      "cell_type": "code",
      "metadata": {
        "id": "8HXtJ78p4Jka",
        "colab_type": "code",
        "colab": {}
      },
      "source": [
        "import numpy as np\n",
        "import pandas as pd\n",
        "from tqdm import tqdm_notebook\n",
        "from sklearn.preprocessing import StandardScaler, MinMaxScaler, MaxAbsScaler \n",
        "from sklearn.metrics import roc_auc_score\n",
        "from sklearn.model_selection import train_test_split, cross_val_score,\\\n",
        "learning_curve, TimeSeriesSplit\n",
        "%matplotlib inline\n",
        "from matplotlib import pyplot as plt\n",
        "import warnings\n",
        "warnings.filterwarnings('ignore')\n",
        "from collections import Counter\n",
        "import torch\n",
        "import torch.nn as nn"
      ],
      "execution_count": 0,
      "outputs": []
    },
    {
      "cell_type": "code",
      "metadata": {
        "id": "fixb8ixl5k00",
        "colab_type": "code",
        "colab": {}
      },
      "source": [
        "test = pd.read_csv('sample_data/catch_me_test_sessions.csv')\n",
        "data = pd.read_csv('sample_data/catch_me_train_sessions.csv')\n",
        "times = ['time%s' % i for i in range(1, 11)]\n",
        "sites = ['site%s' % i for i in range(1, 11)]"
      ],
      "execution_count": 0,
      "outputs": []
    },
    {
      "cell_type": "code",
      "metadata": {
        "id": "fIk-VMGt6GyX",
        "colab_type": "code",
        "colab": {}
      },
      "source": [
        "class Prepare:\n",
        "  def __init__(self, train, test, target_column : str = 'target', **kwargs):\n",
        "    self.train = train\n",
        "    self.target_column = target_column\n",
        "    self.target = train[target_column]\n",
        "    self.test = test\n",
        "    self.unknown_idx = -1\n",
        "    self.pad_idx = 0\n",
        "    self.test_size = 0.15\n",
        "    self.batch_size = 3\n",
        "\n",
        "  def prepare_df (self):\n",
        "    train = self.train\n",
        "    test = self.test\n",
        "    train[times] = train[times].apply(pd.to_datetime)\n",
        "    test[times] = test[times].apply(pd.to_datetime)\n",
        "    train[sites] = train[sites].fillna(self.pad_idx).astype(int)\n",
        "    train = train.sort_values('time1')\n",
        "    self.train = train\n",
        "    self.test = test\n",
        "  \n",
        "  def _get_known_sites(self, train, number_sites = 5000):\n",
        "      counter = Counter()\n",
        "      alice_sites = Counter()\n",
        "      for site in sites:\n",
        "        for num_site in train[site]:\n",
        "          counter.update({num_site})\n",
        "      for site in sites:\n",
        "        for num_site in train[train['target'] == 1][site]:\n",
        "          alice_sites.update({num_site})\n",
        "      known_sites = [site for site, counts in dict(counter.most_common(number_sites)).items()]\n",
        "      known_sites += [site for site, counts in alice_sites.items()]\n",
        "      known_sites = set(known_sites)\n",
        "      self.known_sites = known_sites\n",
        "      return known_sites\n",
        "\n",
        "  def get_df_for_train(self):\n",
        "    train_df, valid_df, train_target, valid_target = train_test_split(self.train, self.target, random_state = 42,\n",
        "                                                                      shuffle = False, test_size = self.test_size)\n",
        "    self.a = 'dsdas'\n",
        "    known_sites = self._get_known_sites(train_df)\n",
        "    train_df[sites] = train_df[sites].applymap(lambda num_site: num_site if num_site in known_sites else self.unknown_idx)\n",
        "    valid_df[sites] = valid_df[sites].applymap(lambda num_site: num_site if num_site in known_sites else self.unknown_idx)\n",
        "    return train_df, valid_df\n",
        "  \n",
        "  def make_batch (self, df, batch_size = 256, dropout = 0, **kwargs):\n",
        "    batch = {}\n",
        "    batch['sites'] = df[sites].values\n",
        "    if dropout > 0:\n",
        "      batch['sites'] = apply_word_dropout(batch['sites'], dropout)\n",
        "    batch[self.target_column] = df[self.target_column].values\n",
        "    return batch"
      ],
      "execution_count": 0,
      "outputs": []
    },
    {
      "cell_type": "code",
      "metadata": {
        "id": "7syXo7AsyFpM",
        "colab_type": "code",
        "colab": {}
      },
      "source": [
        "class TrainNN(Prepare):\n",
        "    def make_batch (self, df, dropout = 0, **kwargs):\n",
        "\n",
        "      batch = {}\n",
        "      batch['sites'] = df[sites].values\n",
        "      if dropout > 0:\n",
        "        batch['sites'] = self._apply_word_dropout(batch['sites'], dropout)\n",
        "      batch[self.target_column] = df[self.target_column].values\n",
        "      return batch\n",
        "\n",
        "    def _apply_word_dropout (self, matrix, keep_prop, replace_with = -1, pad_ix = 0):\n",
        "      dropout_mask = np.random.choice(2, matrix.shape, p = [1 - keep_prop, keep_prop])\n",
        "      dropout_mask &= matrix !=  pad_ix\n",
        "      return np.choose (dropout_mask, [matrix, np.full_like(matrix, replace_with)])\n",
        "    \n",
        "    def iterable_minibatches (self, data, shuffle = True, **kwargs):\n",
        "      if 'prob' in kwargs.keys():\n",
        "        prob = kwargs['prob']\n",
        "      else:\n",
        "        prob = 1\n",
        "      indecses = np.arange(len(data))\n",
        "      if shuffle:\n",
        "        indecses = np.random.permutation(indecses)\n",
        "      print(self.target_column)\n",
        "      for start in range(0, len(indecses), self.batch_size):\n",
        "        is_take = np.random.choice(2, size = 1, p = [1 - prob, prob])[0]\n",
        "        if is_take == 0:\n",
        "          yield None, None\n",
        "          continue\n",
        "        batch = self.make_batch(data.iloc[indecses[start : start + self.batch_size]], **kwargs)\n",
        "        target = batch.pop(self.target_column)\n",
        "        yield batch, target"
      ],
      "execution_count": 0,
      "outputs": []
    },
    {
      "cell_type": "code",
      "metadata": {
        "id": "TjsxINZHufkH",
        "colab_type": "code",
        "colab": {}
      },
      "source": [
        "trainer = TrainNN(data, test)"
      ],
      "execution_count": 0,
      "outputs": []
    },
    {
      "cell_type": "code",
      "metadata": {
        "id": "F9dNFt6ay1aC",
        "colab_type": "code",
        "colab": {}
      },
      "source": [
        "trainer.prepare_df()"
      ],
      "execution_count": 0,
      "outputs": []
    },
    {
      "cell_type": "code",
      "metadata": {
        "id": "v7Snyg7szDVJ",
        "colab_type": "code",
        "colab": {}
      },
      "source": [
        "train_df, valid_df = prep.get_df_for_train()"
      ],
      "execution_count": 0,
      "outputs": []
    },
    {
      "cell_type": "code",
      "metadata": {
        "id": "wz7apoKXyMLP",
        "colab_type": "code",
        "colab": {}
      },
      "source": [
        "class Reorder(nn.Module):\n",
        "  def forward (self, input):\n",
        "    return input.permute(0, 2, 1)\n",
        "\n",
        "class Flatten (nn.Module):\n",
        "  def forward(self, input):\n",
        "    return input.view(input.size(0),-1)"
      ],
      "execution_count": 0,
      "outputs": []
    },
    {
      "cell_type": "code",
      "metadata": {
        "id": "xcVmov9A6NtE",
        "colab_type": "code",
        "outputId": "0d3217b9-7d52-45f4-cba4-bd59721d40d9",
        "colab": {
          "base_uri": "https://localhost:8080/",
          "height": 346
        }
      },
      "source": [
        "class NnCnn:\n",
        "  def __init__(self, n_tokens = len(trainer.known_sites), hid_size = 64):\n",
        "    super(NnCnn, self).__init__()\n",
        "    self.emb1 = nn.Embedding(n_tokens, hid_size)\n",
        "    return self.emb1"
      ],
      "execution_count": 0,
      "outputs": [
        {
          "output_type": "error",
          "ename": "AttributeError",
          "evalue": "ignored",
          "traceback": [
            "\u001b[0;31m---------------------------------------------------------------------------\u001b[0m",
            "\u001b[0;31mAttributeError\u001b[0m                            Traceback (most recent call last)",
            "\u001b[0;32m<ipython-input-191-730df1dc6e77>\u001b[0m in \u001b[0;36m<module>\u001b[0;34m()\u001b[0m\n\u001b[0;32m----> 1\u001b[0;31m \u001b[0;32mclass\u001b[0m \u001b[0mNnCnn\u001b[0m\u001b[0;34m:\u001b[0m\u001b[0;34m\u001b[0m\u001b[0;34m\u001b[0m\u001b[0m\n\u001b[0m\u001b[1;32m      2\u001b[0m   \u001b[0;32mdef\u001b[0m \u001b[0m__init__\u001b[0m\u001b[0;34m(\u001b[0m\u001b[0mself\u001b[0m\u001b[0;34m,\u001b[0m \u001b[0mn_tokens\u001b[0m \u001b[0;34m=\u001b[0m \u001b[0mlen\u001b[0m\u001b[0;34m(\u001b[0m\u001b[0mtrainer\u001b[0m\u001b[0;34m.\u001b[0m\u001b[0mknown_sites\u001b[0m\u001b[0;34m)\u001b[0m\u001b[0;34m,\u001b[0m \u001b[0mhid_size\u001b[0m \u001b[0;34m=\u001b[0m \u001b[0;36m64\u001b[0m\u001b[0;34m)\u001b[0m\u001b[0;34m:\u001b[0m\u001b[0;34m\u001b[0m\u001b[0;34m\u001b[0m\u001b[0m\n\u001b[1;32m      3\u001b[0m     \u001b[0msuper\u001b[0m\u001b[0;34m(\u001b[0m\u001b[0mNnCnn\u001b[0m\u001b[0;34m,\u001b[0m \u001b[0mself\u001b[0m\u001b[0;34m)\u001b[0m\u001b[0;34m.\u001b[0m\u001b[0m__init__\u001b[0m\u001b[0;34m(\u001b[0m\u001b[0;34m)\u001b[0m\u001b[0;34m\u001b[0m\u001b[0;34m\u001b[0m\u001b[0m\n\u001b[1;32m      4\u001b[0m     \u001b[0mself\u001b[0m\u001b[0;34m.\u001b[0m\u001b[0memb1\u001b[0m \u001b[0;34m=\u001b[0m \u001b[0mnn\u001b[0m\u001b[0;34m.\u001b[0m\u001b[0mEmbedding\u001b[0m\u001b[0;34m(\u001b[0m\u001b[0mn_tokens\u001b[0m\u001b[0;34m,\u001b[0m \u001b[0mhid_size\u001b[0m\u001b[0;34m)\u001b[0m\u001b[0;34m\u001b[0m\u001b[0;34m\u001b[0m\u001b[0m\n\u001b[1;32m      5\u001b[0m     \u001b[0;32mreturn\u001b[0m \u001b[0mself\u001b[0m\u001b[0;34m.\u001b[0m\u001b[0memb1\u001b[0m\u001b[0;34m\u001b[0m\u001b[0;34m\u001b[0m\u001b[0m\n",
            "\u001b[0;32m<ipython-input-191-730df1dc6e77>\u001b[0m in \u001b[0;36mNnCnn\u001b[0;34m()\u001b[0m\n\u001b[1;32m      1\u001b[0m \u001b[0;32mclass\u001b[0m \u001b[0mNnCnn\u001b[0m\u001b[0;34m:\u001b[0m\u001b[0;34m\u001b[0m\u001b[0;34m\u001b[0m\u001b[0m\n\u001b[0;32m----> 2\u001b[0;31m   \u001b[0;32mdef\u001b[0m \u001b[0m__init__\u001b[0m\u001b[0;34m(\u001b[0m\u001b[0mself\u001b[0m\u001b[0;34m,\u001b[0m \u001b[0mn_tokens\u001b[0m \u001b[0;34m=\u001b[0m \u001b[0mlen\u001b[0m\u001b[0;34m(\u001b[0m\u001b[0mtrainer\u001b[0m\u001b[0;34m.\u001b[0m\u001b[0mknown_sites\u001b[0m\u001b[0;34m)\u001b[0m\u001b[0;34m,\u001b[0m \u001b[0mhid_size\u001b[0m \u001b[0;34m=\u001b[0m \u001b[0;36m64\u001b[0m\u001b[0;34m)\u001b[0m\u001b[0;34m:\u001b[0m\u001b[0;34m\u001b[0m\u001b[0;34m\u001b[0m\u001b[0m\n\u001b[0m\u001b[1;32m      3\u001b[0m     \u001b[0msuper\u001b[0m\u001b[0;34m(\u001b[0m\u001b[0mNnCnn\u001b[0m\u001b[0;34m,\u001b[0m \u001b[0mself\u001b[0m\u001b[0;34m)\u001b[0m\u001b[0;34m.\u001b[0m\u001b[0m__init__\u001b[0m\u001b[0;34m(\u001b[0m\u001b[0;34m)\u001b[0m\u001b[0;34m\u001b[0m\u001b[0;34m\u001b[0m\u001b[0m\n\u001b[1;32m      4\u001b[0m     \u001b[0mself\u001b[0m\u001b[0;34m.\u001b[0m\u001b[0memb1\u001b[0m \u001b[0;34m=\u001b[0m \u001b[0mnn\u001b[0m\u001b[0;34m.\u001b[0m\u001b[0mEmbedding\u001b[0m\u001b[0;34m(\u001b[0m\u001b[0mn_tokens\u001b[0m\u001b[0;34m,\u001b[0m \u001b[0mhid_size\u001b[0m\u001b[0;34m)\u001b[0m\u001b[0;34m\u001b[0m\u001b[0;34m\u001b[0m\u001b[0m\n\u001b[1;32m      5\u001b[0m     \u001b[0;32mreturn\u001b[0m \u001b[0mself\u001b[0m\u001b[0;34m.\u001b[0m\u001b[0memb1\u001b[0m\u001b[0;34m\u001b[0m\u001b[0;34m\u001b[0m\u001b[0m\n",
            "\u001b[0;31mAttributeError\u001b[0m: 'TrainNN' object has no attribute 'known_sites'"
          ]
        }
      ]
    },
    {
      "cell_type": "code",
      "metadata": {
        "id": "XKg_38X568AF",
        "colab_type": "code",
        "colab": {}
      },
      "source": [
        ""
      ],
      "execution_count": 0,
      "outputs": []
    }
  ]
}